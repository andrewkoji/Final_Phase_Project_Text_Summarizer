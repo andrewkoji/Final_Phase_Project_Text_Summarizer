{
 "cells": [
  {
   "cell_type": "markdown",
   "metadata": {},
   "source": [
    "# Phase 5 Project - Fast Tracking Media Intelligence\n",
    "\n",
    "\n",
    "## Natural Language Processing Model for Text Summarization of CNN Daily News articles\n",
    "\n",
    "Name: Andrew Levinton\n",
    "Student Pace: Self Pace\n",
    "Instructor name: Ahbhineet Kukarni"
   ]
  },
  {
   "cell_type": "markdown",
   "metadata": {},
   "source": [
    "# Business Problem\n",
    "\n",
    "In this study, we will be analyzing CNN-Daily Mail News Articles. Many companies want to keep track of the latest news trends and reading full length articles can be incredibly time consuming. With the way news headlines affect major business decisions such as legal matters and stock prices, its important that readers are able to obtain all the information and reasoning behind the purpose of these articles and many of them can have a large number of distractors. It's essential that companies that get this information have the ability to quickly analyze these articles and develop counter intel or reports of their own in order to stay current and relevant with today's media. In this study we take the first steps towards utilizing text summarization to fast track the information gathering and counter-reporting process. \n"
   ]
  },
  {
   "cell_type": "markdown",
   "metadata": {},
   "source": [
    "![daily_mail](./images/dailymail_cover.jpg)"
   ]
  },
  {
   "cell_type": "markdown",
   "metadata": {},
   "source": [
    "# Business Understanding\n",
    "\n",
    "## Description:\n",
    "\n",
    "In today's information age, staying updated with news and information is crucial for both individuals and businesses. However, the sheer volume of news articles published daily can be overwhelming. Reading and processing these articles is time-consuming, especially when trying to gather insights from multiple sources.\n",
    "\n",
    "To address this challenge, we propose the development of a text summarization model using natural language processing (NLP) techniques. This model will automatically generate concise and coherent summaries of news articles. Here's how it can benefit the public and support business decisions:\n",
    "\n",
    "1. `Time Efficiency`: People often struggle to find the time to read lengthy news articles. Automated summarization allows individuals to quickly grasp the key points of an article, saving them time while keeping them informed.\n",
    "\n",
    "2. `Enhanced Understanding`: Summaries provide a condensed version of the article, making complex topics more accessible to a wider audience. This can help people better understand important news and events.\n",
    "\n",
    "3. `Multi-source Insights`: Readers can efficiently scan summaries from multiple sources to get a well-rounded view of a topic, fostering critical thinking and a broader perspective.\n",
    "\n",
    "4. `Competitive Intelligence`: Businesses can use automated summarization to track news and developments in their industry, enabling them to stay ahead of competitors and adapt to market changes more effectively.\n",
    "\n",
    "5. `Market Research`: Summarization can assist in analyzing customer sentiment, emerging trends, and competitor strategies by summarizing customer reviews, news, and social media posts.\n",
    "\n",
    "6. `Content Curation`: Media companies and content aggregators can use summarization to curate content for their audience, improving user engagement and retention.\n",
    "\n",
    "\n",
    "### Goals of this study:\n",
    "\n",
    "1. Streamline and automate the understanding of complex news topics. \n",
    "2. Help track news developments to enhance market research.\n",
    "\n",
    "### Business Questions to consider:\n",
    "\n",
    "- What specific NLP techniques or models can be employed to automate the process of summarizing complex news articles effectively?\n",
    "- How can automation be leveraged to provide real-time updates on important news developments to users or clients?\n",
    "- Are there opportunities to use automation to personalize news content delivery based on individual user preferences and interests?\n",
    "- How can automated summarization and analysis be integrated into other tools or platforms, such as news aggregators or chatbots?\n",
    "- What are the critical news sources, categories, or keywords that have the most significant impact on market trends and consumer sentiment?\n",
    "\n",
    "We will be using the CNN-Daily Mail News dataset to conduct our study. You can download the dataset from [here](https://www.kaggle.com/datasets/gowrishankarp/newspaper-text-summarization-cnn-dailymail)"
   ]
  },
  {
   "cell_type": "code",
   "execution_count": 71,
   "metadata": {},
   "outputs": [],
   "source": [
    "#dataframe manipulation\n",
    "import numpy as np\n",
    "import pandas as pd \n",
    "import warnings\n",
    "\n",
    "#plotting\n",
    "import matplotlib.pyplot as plt\n",
    "import seaborn as sns\n",
    "plt.style.use('ggplot')\n",
    "\n",
    "#text preprocessing \n",
    "import re\n",
    "\n",
    "from bs4 import BeautifulSoup\n",
    "from keras.preprocessing.text import Tokenizer \n",
    "from keras_preprocessing.sequence import pad_sequences\n",
    "from nltk.corpus import stopwords\n",
    "from nltk.tokenize import sent_tokenize\n",
    "from nltk.tokenize import word_tokenize\n",
    "from nltk.corpus import stopwords\n",
    "from nltk.stem import PorterStemmer\n",
    "from gensim.parsing import strip_tags, strip_numeric, strip_multiple_whitespaces, stem_text, strip_punctuation, remove_stopwords\n",
    "from gensim.parsing import preprocess_string\n",
    "from gensim import parsing\n",
    "import math\n",
    "\n",
    "#modeling\n",
    "from tensorflow.keras.layers import Input, LSTM, Embedding, Dense, Concatenate, TimeDistributed\n",
    "from sklearn.feature_extraction.text import CountVectorizer, TfidfVectorizer, TfidfTransformer\n",
    "from tensorflow.keras.models import Model\n",
    "from tensorflow.keras.callbacks import EarlyStopping\n",
    "from tensorflow.keras.layers import Attention\n",
    "import warnings\n",
    "pd.set_option(\"display.max_colwidth\", 200)\n",
    "\n",
    "#model performance\n",
    "from rouge import Rouge\n",
    "from collections import Counter\n",
    "\n",
    "warnings.filterwarnings(\"ignore\")\n",
    "\n"
   ]
  },
  {
   "cell_type": "markdown",
   "metadata": {},
   "source": [
    "# I. Data Understanding\n",
    "The CNN / DailyMail Dataset is an English-language dataset containing just over 300k unique news articles as written by journalists at CNN and the Daily Mail. The current version supports both extractive and abstractive summarization, though the original version was created for machine reading and comprehension and abstractive question answering.\n",
    "\n",
    "The columns of the dataframe are:\n",
    "1. `ID`- Unique ID of the article\n",
    "2. `article` - The raw content of the article\n",
    "3. `Highlights` - A summary of the article"
   ]
  },
  {
   "cell_type": "markdown",
   "metadata": {},
   "source": [
    "# Preview of dataframe"
   ]
  },
  {
   "cell_type": "code",
   "execution_count": 72,
   "metadata": {},
   "outputs": [
    {
     "data": {
      "text/html": [
       "<div>\n",
       "<style scoped>\n",
       "    .dataframe tbody tr th:only-of-type {\n",
       "        vertical-align: middle;\n",
       "    }\n",
       "\n",
       "    .dataframe tbody tr th {\n",
       "        vertical-align: top;\n",
       "    }\n",
       "\n",
       "    .dataframe thead th {\n",
       "        text-align: right;\n",
       "    }\n",
       "</style>\n",
       "<table border=\"1\" class=\"dataframe\">\n",
       "  <thead>\n",
       "    <tr style=\"text-align: right;\">\n",
       "      <th></th>\n",
       "      <th>id</th>\n",
       "      <th>article</th>\n",
       "      <th>highlights</th>\n",
       "    </tr>\n",
       "  </thead>\n",
       "  <tbody>\n",
       "    <tr>\n",
       "      <th>0</th>\n",
       "      <td>92c514c913c0bdfe25341af9fd72b29db544099b</td>\n",
       "      <td>Ever noticed how plane seats appear to be getting smaller and smaller? With increasing numbers of people taking to the skies, some experts are questioning if having such packed out planes is putti...</td>\n",
       "      <td>Experts question if  packed out planes are putting passengers at risk .\\nU.S consumer advisory group says minimum space must be stipulated .\\nSafety tests conducted on planes with more leg room th...</td>\n",
       "    </tr>\n",
       "    <tr>\n",
       "      <th>1</th>\n",
       "      <td>2003841c7dc0e7c5b1a248f9cd536d727f27a45a</td>\n",
       "      <td>A drunk teenage boy had to be rescued by security after jumping into a lions' enclosure at a zoo in western India. Rahul Kumar, 17, clambered over the enclosure fence at the Kamla Nehru Zoological...</td>\n",
       "      <td>Drunk teenage boy climbed into lion enclosure at zoo in west India .\\nRahul Kumar, 17, ran towards animals shouting 'Today I kill a lion!'\\nFortunately he fell into a moat before reaching lions an...</td>\n",
       "    </tr>\n",
       "    <tr>\n",
       "      <th>2</th>\n",
       "      <td>91b7d2311527f5c2b63a65ca98d21d9c92485149</td>\n",
       "      <td>Dougie Freedman is on the verge of agreeing a new two-year deal to remain at Nottingham Forest. Freedman has stabilised Forest since he replaced cult hero Stuart Pearce and the club's owners are p...</td>\n",
       "      <td>Nottingham Forest are close to extending Dougie Freedman's contract .\\nThe Forest boss took over from former manager Stuart Pearce in February .\\nFreedman has since lead the club to ninth in the C...</td>\n",
       "    </tr>\n",
       "  </tbody>\n",
       "</table>\n",
       "</div>"
      ],
      "text/plain": [
       "                                         id  \\\n",
       "0  92c514c913c0bdfe25341af9fd72b29db544099b   \n",
       "1  2003841c7dc0e7c5b1a248f9cd536d727f27a45a   \n",
       "2  91b7d2311527f5c2b63a65ca98d21d9c92485149   \n",
       "\n",
       "                                                                                                                                                                                                   article  \\\n",
       "0  Ever noticed how plane seats appear to be getting smaller and smaller? With increasing numbers of people taking to the skies, some experts are questioning if having such packed out planes is putti...   \n",
       "1  A drunk teenage boy had to be rescued by security after jumping into a lions' enclosure at a zoo in western India. Rahul Kumar, 17, clambered over the enclosure fence at the Kamla Nehru Zoological...   \n",
       "2  Dougie Freedman is on the verge of agreeing a new two-year deal to remain at Nottingham Forest. Freedman has stabilised Forest since he replaced cult hero Stuart Pearce and the club's owners are p...   \n",
       "\n",
       "                                                                                                                                                                                                highlights  \n",
       "0  Experts question if  packed out planes are putting passengers at risk .\\nU.S consumer advisory group says minimum space must be stipulated .\\nSafety tests conducted on planes with more leg room th...  \n",
       "1  Drunk teenage boy climbed into lion enclosure at zoo in west India .\\nRahul Kumar, 17, ran towards animals shouting 'Today I kill a lion!'\\nFortunately he fell into a moat before reaching lions an...  \n",
       "2  Nottingham Forest are close to extending Dougie Freedman's contract .\\nThe Forest boss took over from former manager Stuart Pearce in February .\\nFreedman has since lead the club to ninth in the C...  "
      ]
     },
     "execution_count": 72,
     "metadata": {},
     "output_type": "execute_result"
    }
   ],
   "source": [
    "df = pd.read_csv('test.csv')\n",
    "\n",
    "df.head(3)"
   ]
  },
  {
   "cell_type": "markdown",
   "metadata": {},
   "source": [
    "## Sample Article and reference summary\n",
    "\n",
    "To start, we look at a sample article from the dataframe of CNN articles, as well as its reference summary, labeled \"highlights\".\n",
    "\n",
    "The purpose of the reference summary is to use it in helping determine how well our models perform in generating an effective summary. \n",
    "\n",
    "In this business case, the following objectives are important:\n",
    "\n",
    "- `Content Extraction`: The model should accurately extract and prioritize key information from news articles, such as goal tallies, player performances, club interests, and tournament status, similar to what is done in the reference summary.\n",
    "\n",
    "- `Conciseness`: The generated summaries should be concise, avoiding unnecessary details and providing the most important facts. This is crucial for creating efficient news feed content and trend analysis.\n",
    "\n",
    "- `Relevance`: The model should focus on relevant and impactful information to meet the needs of the business case, ensuring that the summaries provide insights that matter.\n",
    "\n",
    "- `Structure`: The generated summaries should be well-structured, possibly using bullet points or other formatting techniques to enhance readability and quick comprehension.\n",
    "\n",
    "- `Clarity`: The language used in the summaries should be clear and understandable, making the information accessible to a wide audience, including those who may not be experts in the field.\n",
    "\n",
    "- `Performance Measurement`: The success of the model can be measured by comparing the generated summaries to reference summaries, just as in your current approach, to assess how effectively it condenses the content and provides valuable insights.\n",
    "\n",
    "Ultimately, the desired outcome is to have a summarization model that can efficiently and accurately produce news feed content and trend analysis summaries from public news articles, in a manner that aligns with the characteristics and quality of the reference summary you've provided.\n",
    "\n",
    "\n"
   ]
  },
  {
   "cell_type": "code",
   "execution_count": 73,
   "metadata": {},
   "outputs": [
    {
     "data": {
      "text/plain": [
       "\"Cristiano Ronaldo and Lionel Messi will go head-to-head once more in the race to be this season's top scorer in the Champions League – although Luiz Adriano threatens to spoil the party. Both Barcelona and Real Madrid booked their spots in the semi-finals this week with victories over Paris Saint-Germain and Atletico Madrid respectively. The planet's best footballers have scored eight times in Europe this season. But Shakhtar Donetsk’s Adriano, courted by Arsenal and Liverpool, has netted on nine occasions this term. Cristiano Ronaldo, in action against Atletico Madrid on Wednesday evening, has scored eight goals in Europe . Lionel Messi also has eight goals in the Champions League this term; one fewer than Luiz Adriano . Ronaldo and Messi will both play at least two more times after Real Madrid and Barcelona reached the last four . Adriano, who moved to Donetsk in 2007, scored five against BATE Borsiov in the group stages. His performance that night made history, with the 27-year-old becoming only the second player to score five times in a Champions League game. The other was Messi for Barcelona against Bayer Leverkusen in 2012. He also scored the third quickest hat-trick in the competition's history (12 minutes) as the Ukrainian side, knocked out by Bayern Munich in the round of 16, racked up the biggest-ever half-time lead (6-0) in Europe's premier tournament. ‘I am in a good moment of my career and we'll do what will be best for me and for the club,’ said Adriano last month when quizzed over his future. Adriano, who netted five times against BATE Borisov in the group, has scored more goals than any other player in the Champions League... he is out of contract in December and could move to the Premier League . ‘With my contract set to expire and many good performances, it'll be difficult to stay in Ukraine.’ Arsenal have sent scouts to watch Adriano in recent months, while Liverpool are also keen on the Brazilian. His contract with Shakhtar Donetsk runs out at the end of the year. Ronaldo and Messi however, remain in pole-position to top the scoring charts with Barcelona and Real Madrid both in the hat for the two-legged semi-finals to be played next month. Of the teams still in the pot, Neymar and Luis Suarez of Barcelona, Real Madrid's Karim Benzema and former Manchester United and City striker Carlos Tevez, now plying his trade for Juventus, each have six goals. The draw for the last four will take place on Friday.\""
      ]
     },
     "execution_count": 73,
     "metadata": {},
     "output_type": "execute_result"
    }
   ],
   "source": [
    "df['article'][1000]"
   ]
  },
  {
   "cell_type": "markdown",
   "metadata": {},
   "source": [
    "# Sample Highlight"
   ]
  },
  {
   "cell_type": "code",
   "execution_count": 74,
   "metadata": {},
   "outputs": [
    {
     "data": {
      "text/plain": [
       "\"Luiz Adriano scored nine times for Shakhtar Donetsk in Europe this season .\\nThe Brazilian is out of contract at the end of the year... both Arsenal and Liverpool are interested in signing the 27-year-old .\\nCristiano Ronaldo and Lionel Messi have netted eight goals this season .\\nReal Madrid and Barcelona both in the Champions League semi-finals .\\nREAD: Our reporters have their say on who will win the Champions League .\\nCLICK HERE for Sportsmail's guide to the Champions League final four .\""
      ]
     },
     "execution_count": 74,
     "metadata": {},
     "output_type": "execute_result"
    }
   ],
   "source": [
    "df['highlights'][1000]"
   ]
  },
  {
   "cell_type": "markdown",
   "metadata": {},
   "source": [
    "-The reference summary provided for the sample article appears to be a good representation of the article from a business case perspective for a text summarization model **aiming to extract key information from news articles**. Here's why its a good benchmark for achievement of our model:\n",
    "\n",
    "- `Key Information Extraction`: The reference summary effectively extracts and condenses the most important information from the article. It mentions the number of goals scored by Luiz Adriano and the interest from Arsenal and Liverpool. It also highlights the goal tally of Cristiano Ronaldo and Lionel Messi, as well as the fact that both Real Madrid and Barcelona are in the Champions League semi-finals. This information encapsulates the main points of interest in the article.\n",
    "\n",
    "- `Conciseness`: The reference summary is concise and to the point. It does not contain unnecessary details or filler content, which is crucial for generating news feed content and trends analysis where brevity is key.\n",
    "\n",
    "- `Relevance`: The reference summary includes information that is directly relevant to the business case, such as the goals scored, contract status, and the interest of major football clubs. This relevance is essential for providing valuable insights.\n",
    "\n",
    "- `Structure`: The summary is well-structured, with bullet points that make it easy to skim and understand the main points quickly. This is important for generating news feed content that needs to be quickly digestible.\n",
    "\n",
    "- `Clarity`: The language used in the reference summary is clear and easy to understand, ensuring that the extracted information is accessible to a broad audience."
   ]
  },
  {
   "cell_type": "markdown",
   "metadata": {},
   "source": [
    "## Checking for length and nulls\n",
    "\n",
    "Checking the length of a DataFrame is a fundamental step in data analysis and manipulation. It provides valuable information about the data's size, which can be used for data validation, sampling, indexing, transformation, and various analytical tasks. Understanding the length of your data is a crucial aspect of effective data handling and analysis.\n",
    "\n",
    "Checking for nulls in data is crucial for maintaining data quality, ensuring accurate analyses, supporting machine learning models, enabling data imputation, and making informed decisions."
   ]
  },
  {
   "cell_type": "code",
   "execution_count": 75,
   "metadata": {
    "scrolled": true
   },
   "outputs": [
    {
     "data": {
      "text/plain": [
       "11490"
      ]
     },
     "execution_count": 75,
     "metadata": {},
     "output_type": "execute_result"
    }
   ],
   "source": [
    "len(df)"
   ]
  },
  {
   "cell_type": "code",
   "execution_count": 76,
   "metadata": {},
   "outputs": [
    {
     "data": {
      "text/plain": [
       "id            0\n",
       "article       0\n",
       "highlights    0\n",
       "dtype: int64"
      ]
     },
     "execution_count": 76,
     "metadata": {},
     "output_type": "execute_result"
    }
   ],
   "source": [
    "df.isnull().sum()"
   ]
  },
  {
   "cell_type": "code",
   "execution_count": 77,
   "metadata": {},
   "outputs": [],
   "source": [
    "df.info()"
   ]
  },
  {
   "cell_type": "markdown",
   "metadata": {},
   "source": [
    "# Getting the word count\n",
    "The purpose of the code below is to provide a quantitative measure of the word count for each article in the DataFrame. Knowing the word count of each article can be valuable for various natural language processing tasks, such as text summarization, where you might want to generate a concise summary of the content while preserving essential information or meeting a specific length requirement. By having the word count readily available in the 'WordCount' column, you can make informed decisions and apply algorithms or methods that take the length of the text into account during the summarization process, ensuring that the generated summaries are of an appropriate length.\n",
    "\n",
    "\n",
    "After we generate the word count we will:\n",
    "\n",
    "- Look at distribution\n",
    "- Look at general statistics like the mean and median to analyze the general text length"
   ]
  },
  {
   "cell_type": "code",
   "execution_count": 78,
   "metadata": {
    "scrolled": false
   },
   "outputs": [
    {
     "data": {
      "text/html": [
       "<div>\n",
       "<style scoped>\n",
       "    .dataframe tbody tr th:only-of-type {\n",
       "        vertical-align: middle;\n",
       "    }\n",
       "\n",
       "    .dataframe tbody tr th {\n",
       "        vertical-align: top;\n",
       "    }\n",
       "\n",
       "    .dataframe thead th {\n",
       "        text-align: right;\n",
       "    }\n",
       "</style>\n",
       "<table border=\"1\" class=\"dataframe\">\n",
       "  <thead>\n",
       "    <tr style=\"text-align: right;\">\n",
       "      <th></th>\n",
       "      <th>id</th>\n",
       "      <th>article</th>\n",
       "      <th>highlights</th>\n",
       "      <th>articleWordCount</th>\n",
       "      <th>highlightsWordCount</th>\n",
       "    </tr>\n",
       "  </thead>\n",
       "  <tbody>\n",
       "    <tr>\n",
       "      <th>0</th>\n",
       "      <td>92c514c913c0bdfe25341af9fd72b29db544099b</td>\n",
       "      <td>Ever noticed how plane seats appear to be getting smaller and smaller? With increasing numbers of people taking to the skies, some experts are questioning if having such packed out planes is putti...</td>\n",
       "      <td>Experts question if  packed out planes are putting passengers at risk .\\nU.S consumer advisory group says minimum space must be stipulated .\\nSafety tests conducted on planes with more leg room th...</td>\n",
       "      <td>370</td>\n",
       "      <td>36</td>\n",
       "    </tr>\n",
       "    <tr>\n",
       "      <th>1</th>\n",
       "      <td>2003841c7dc0e7c5b1a248f9cd536d727f27a45a</td>\n",
       "      <td>A drunk teenage boy had to be rescued by security after jumping into a lions' enclosure at a zoo in western India. Rahul Kumar, 17, clambered over the enclosure fence at the Kamla Nehru Zoological...</td>\n",
       "      <td>Drunk teenage boy climbed into lion enclosure at zoo in west India .\\nRahul Kumar, 17, ran towards animals shouting 'Today I kill a lion!'\\nFortunately he fell into a moat before reaching lions an...</td>\n",
       "      <td>311</td>\n",
       "      <td>38</td>\n",
       "    </tr>\n",
       "    <tr>\n",
       "      <th>2</th>\n",
       "      <td>91b7d2311527f5c2b63a65ca98d21d9c92485149</td>\n",
       "      <td>Dougie Freedman is on the verge of agreeing a new two-year deal to remain at Nottingham Forest. Freedman has stabilised Forest since he replaced cult hero Stuart Pearce and the club's owners are p...</td>\n",
       "      <td>Nottingham Forest are close to extending Dougie Freedman's contract .\\nThe Forest boss took over from former manager Stuart Pearce in February .\\nFreedman has since lead the club to ninth in the C...</td>\n",
       "      <td>110</td>\n",
       "      <td>35</td>\n",
       "    </tr>\n",
       "    <tr>\n",
       "      <th>3</th>\n",
       "      <td>caabf9cbdf96eb1410295a673e953d304391bfbb</td>\n",
       "      <td>Liverpool target Neto is also wanted by PSG and clubs in Spain as Brendan Rodgers faces stiff competition to land the Fiorentina goalkeeper, according to the Brazilian's agent Stefano Castagna. Th...</td>\n",
       "      <td>Fiorentina goalkeeper Neto has been linked with Liverpool and Arsenal .\\nNeto joined Firoentina from Brazilian outfit Atletico Paranaense in 2011 .\\nHe is also wanted by PSG and Spanish clubs, acc...</td>\n",
       "      <td>308</td>\n",
       "      <td>44</td>\n",
       "    </tr>\n",
       "    <tr>\n",
       "      <th>4</th>\n",
       "      <td>3da746a7d9afcaa659088c8366ef6347fe6b53ea</td>\n",
       "      <td>Bruce Jenner will break his silence in a two-hour interview with Diane Sawyer later this month. The former Olympian and reality TV star, 65, will speak in a 'far-ranging' interview with Sawyer for...</td>\n",
       "      <td>Tell-all interview with the reality TV star, 69, will air on Friday April 24 .\\nIt comes amid continuing speculation about his transition to a woman and following his involvement in a deadly car c...</td>\n",
       "      <td>749</td>\n",
       "      <td>61</td>\n",
       "    </tr>\n",
       "  </tbody>\n",
       "</table>\n",
       "</div>"
      ],
      "text/plain": [
       "                                         id  \\\n",
       "0  92c514c913c0bdfe25341af9fd72b29db544099b   \n",
       "1  2003841c7dc0e7c5b1a248f9cd536d727f27a45a   \n",
       "2  91b7d2311527f5c2b63a65ca98d21d9c92485149   \n",
       "3  caabf9cbdf96eb1410295a673e953d304391bfbb   \n",
       "4  3da746a7d9afcaa659088c8366ef6347fe6b53ea   \n",
       "\n",
       "                                                                                                                                                                                                   article  \\\n",
       "0  Ever noticed how plane seats appear to be getting smaller and smaller? With increasing numbers of people taking to the skies, some experts are questioning if having such packed out planes is putti...   \n",
       "1  A drunk teenage boy had to be rescued by security after jumping into a lions' enclosure at a zoo in western India. Rahul Kumar, 17, clambered over the enclosure fence at the Kamla Nehru Zoological...   \n",
       "2  Dougie Freedman is on the verge of agreeing a new two-year deal to remain at Nottingham Forest. Freedman has stabilised Forest since he replaced cult hero Stuart Pearce and the club's owners are p...   \n",
       "3  Liverpool target Neto is also wanted by PSG and clubs in Spain as Brendan Rodgers faces stiff competition to land the Fiorentina goalkeeper, according to the Brazilian's agent Stefano Castagna. Th...   \n",
       "4  Bruce Jenner will break his silence in a two-hour interview with Diane Sawyer later this month. The former Olympian and reality TV star, 65, will speak in a 'far-ranging' interview with Sawyer for...   \n",
       "\n",
       "                                                                                                                                                                                                highlights  \\\n",
       "0  Experts question if  packed out planes are putting passengers at risk .\\nU.S consumer advisory group says minimum space must be stipulated .\\nSafety tests conducted on planes with more leg room th...   \n",
       "1  Drunk teenage boy climbed into lion enclosure at zoo in west India .\\nRahul Kumar, 17, ran towards animals shouting 'Today I kill a lion!'\\nFortunately he fell into a moat before reaching lions an...   \n",
       "2  Nottingham Forest are close to extending Dougie Freedman's contract .\\nThe Forest boss took over from former manager Stuart Pearce in February .\\nFreedman has since lead the club to ninth in the C...   \n",
       "3  Fiorentina goalkeeper Neto has been linked with Liverpool and Arsenal .\\nNeto joined Firoentina from Brazilian outfit Atletico Paranaense in 2011 .\\nHe is also wanted by PSG and Spanish clubs, acc...   \n",
       "4  Tell-all interview with the reality TV star, 69, will air on Friday April 24 .\\nIt comes amid continuing speculation about his transition to a woman and following his involvement in a deadly car c...   \n",
       "\n",
       "   articleWordCount  highlightsWordCount  \n",
       "0               370                   36  \n",
       "1               311                   38  \n",
       "2               110                   35  \n",
       "3               308                   44  \n",
       "4               749                   61  "
      ]
     },
     "execution_count": 78,
     "metadata": {},
     "output_type": "execute_result"
    }
   ],
   "source": [
    "# Function to count words in a text column\n",
    "def count_words(text):\n",
    "    words = text.split()\n",
    "    return len(words)\n",
    "\n",
    "# Apply the function to the DataFrame column\n",
    "df['articleWordCount'] = df['article'].apply(count_words)\n",
    "df['highlightsWordCount'] = df['highlights'].apply(count_words)\n",
    "df.head()"
   ]
  },
  {
   "cell_type": "code",
   "execution_count": 79,
   "metadata": {},
   "outputs": [
    {
     "data": {
      "text/plain": [
       "683.5115752828547"
      ]
     },
     "execution_count": 79,
     "metadata": {},
     "output_type": "execute_result"
    }
   ],
   "source": [
    "df['articleWordCount'].describe()['mean']"
   ]
  },
  {
   "cell_type": "code",
   "execution_count": 80,
   "metadata": {},
   "outputs": [
    {
     "data": {
      "text/plain": [
       "55.00931244560488"
      ]
     },
     "execution_count": 80,
     "metadata": {},
     "output_type": "execute_result"
    }
   ],
   "source": [
    "df['highlightsWordCount'].describe()['mean']"
   ]
  },
  {
   "cell_type": "markdown",
   "metadata": {},
   "source": [
    "The average token count for the articles and the highlights are provided below:\n",
    "\n",
    "\n",
    "\n",
    "| Feature      | Mean Token Count |\n",
    "|--------------|------------------|\n",
    "| Article      | 683              |\n",
    "| Highlights   | 55               |\n"
   ]
  },
  {
   "cell_type": "markdown",
   "metadata": {},
   "source": [
    "# Understanding the distribution of the sequences\n",
    "Here, we will analyze the length of the reviews and the summary to get an overall idea about the distribution of length of the text. This will help us fix the maximum length of the sequence:"
   ]
  },
  {
   "cell_type": "code",
   "execution_count": 81,
   "metadata": {
    "scrolled": true
   },
   "outputs": [
    {
     "data": {
      "image/png": "[encoded data removed]",
      "text/plain": [
       "<Figure size 1200x400 with 2 Axes>"
      ]
     },
     "metadata": {},
     "output_type": "display_data"
    }
   ],
   "source": [
    "fig, (ax1, ax2) = plt.subplots(1, 2, figsize=(12, 4))\n",
    "\n",
    "\n",
    "ax1.hist(df['articleWordCount'], bins=20, color='blue', alpha=0.7)\n",
    "ax1.set_title('Article Word Count Histogram')\n",
    "ax1.set_xlabel('Word Count')\n",
    "ax1.set_ylabel('Frequency')\n",
    "\n",
    "\n",
    "ax2.hist(df['highlightsWordCount'], bins=20, color='green', alpha=0.7)\n",
    "ax2.set_title('Highlight Word Count Histogram')\n",
    "ax2.set_xlabel('Word Count')\n",
    "ax2.set_ylabel('Frequency')\n",
    "\n",
    "\n",
    "plt.tight_layout()\n",
    "\n",
    "\n",
    "plt.show()"
   ]
  },
  {
   "cell_type": "markdown",
   "metadata": {},
   "source": [
    "# III. Data Preparation\n",
    "\n",
    "Performing basic preprocessing steps is very important before we get to the model building part. Using messy and uncleaned text data is a potentially disastrous move. So in this step, we will drop all the unwanted symbols, characters, etc. from the text that do not affect the objective of our problem.\n",
    "\n",
    "Here is the dictionary that we will use for expanding the contractions:"
   ]
  },
  {
   "cell_type": "markdown",
   "metadata": {},
   "source": [
    "## Contraction Mapping\n",
    "A contraction mapping, also known as a \"contraction operator\" or \"contraction function,\" is a concept from mathematics, specifically in the field of functional analysis. In the context of text summarization, it's not directly used, but related concepts and techniques from mathematics and natural language processing can be applied to improve the quality of text summarization models.\n",
    "\n",
    "Contraction Mapping was utilized in our **2nd Iteration** of the modeling process, but not in this notebook. The concept of contraction mapping was used here just as a demonstration of how it was used in the actual model. "
   ]
  },
  {
   "cell_type": "code",
   "execution_count": 82,
   "metadata": {},
   "outputs": [],
   "source": [
    "contraction_mapping = {\"ain't\": \"is not\", \"aren't\": \"are not\",\"can't\": \"cannot\", \"'cause\": \"because\", \"could've\": \"could have\", \"couldn't\": \"could not\",\n",
    "                           \"didn't\": \"did not\",  \"doesn't\": \"does not\", \"don't\": \"do not\", \"hadn't\": \"had not\", \"hasn't\": \"has not\", \"haven't\": \"have not\",\n",
    "                           \"he'd\": \"he would\",\"he'll\": \"he will\", \"he's\": \"he is\", \"how'd\": \"how did\", \"how'd'y\": \"how do you\", \"how'll\": \"how will\", \"how's\": \"how is\",\n",
    "                           \"I'd\": \"I would\", \"I'd've\": \"I would have\", \"I'll\": \"I will\", \"I'll've\": \"I will have\",\"I'm\": \"I am\", \"I've\": \"I have\", \"i'd\": \"i would\",\n",
    "                           \"i'd've\": \"i would have\", \"i'll\": \"i will\",  \"i'll've\": \"i will have\",\"i'm\": \"i am\", \"i've\": \"i have\", \"isn't\": \"is not\", \"it'd\": \"it would\",\n",
    "                           \"it'd've\": \"it would have\", \"it'll\": \"it will\", \"it'll've\": \"it will have\",\"it's\": \"it is\", \"let's\": \"let us\", \"ma'am\": \"madam\",\n",
    "                           \"mayn't\": \"may not\", \"might've\": \"might have\",\"mightn't\": \"might not\",\"mightn't've\": \"might not have\", \"must've\": \"must have\",\n",
    "                           \"mustn't\": \"must not\", \"mustn't've\": \"must not have\", \"needn't\": \"need not\", \"needn't've\": \"need not have\",\"o'clock\": \"of the clock\",\n",
    "                           \"oughtn't\": \"ought not\", \"oughtn't've\": \"ought not have\", \"shan't\": \"shall not\", \"sha'n't\": \"shall not\", \"shan't've\": \"shall not have\",\n",
    "                           \"she'd\": \"she would\", \"she'd've\": \"she would have\", \"she'll\": \"she will\", \"she'll've\": \"she will have\", \"she's\": \"she is\",\n",
    "                           \"should've\": \"should have\", \"shouldn't\": \"should not\", \"shouldn't've\": \"should not have\", \"so've\": \"so have\",\"so's\": \"so as\",\n",
    "                           \"this's\": \"this is\",\"that'd\": \"that would\", \"that'd've\": \"that would have\", \"that's\": \"that is\", \"there'd\": \"there would\",\n",
    "                           \"there'd've\": \"there would have\", \"there's\": \"there is\", \"here's\": \"here is\",\"they'd\": \"they would\", \"they'd've\": \"they would have\",\n",
    "                           \"they'll\": \"they will\", \"they'll've\": \"they will have\", \"they're\": \"they are\", \"they've\": \"they have\", \"to've\": \"to have\",\n",
    "                           \"wasn't\": \"was not\", \"we'd\": \"we would\", \"we'd've\": \"we would have\", \"we'll\": \"we will\", \"we'll've\": \"we will have\", \"we're\": \"we are\",\n",
    "                           \"we've\": \"we have\", \"weren't\": \"were not\", \"what'll\": \"what will\", \"what'll've\": \"what will have\", \"what're\": \"what are\",\n",
    "                           \"what's\": \"what is\", \"what've\": \"what have\", \"when's\": \"when is\", \"when've\": \"when have\", \"where'd\": \"where did\", \"where's\": \"where is\",\n",
    "                           \"where've\": \"where have\", \"who'll\": \"who will\", \"who'll've\": \"who will have\", \"who's\": \"who is\", \"who've\": \"who have\",\n",
    "                           \"why's\": \"why is\", \"why've\": \"why have\", \"will've\": \"will have\", \"won't\": \"will not\", \"won't've\": \"will not have\",\n",
    "                           \"would've\": \"would have\", \"wouldn't\": \"would not\", \"wouldn't've\": \"would not have\", \"y'all\": \"you all\",\n",
    "                           \"y'all'd\": \"you all would\",\"y'all'd've\": \"you all would have\",\"y'all're\": \"you all are\",\"y'all've\": \"you all have\",\n",
    "                           \"you'd\": \"you would\", \"you'd've\": \"you would have\", \"you'll\": \"you will\", \"you'll've\": \"you will have\",\n",
    "                           \"you're\": \"you are\", \"you've\": \"you have\"}"
   ]
  },
  {
   "cell_type": "markdown",
   "metadata": {},
   "source": [
    "We will perform the below preprocessing tasks for our data:\n",
    "\n",
    "1.Convert everything to lowercase\n",
    "\n",
    "2.Remove HTML tags\n",
    "\n",
    "3.Contraction mapping\n",
    "\n",
    "4.Remove (‘s)\n",
    "\n",
    "5.Remove any text inside the parenthesis ( )\n",
    "\n",
    "6.Eliminate punctuations and special characters\n",
    "\n",
    "7.Remove stopwords\n",
    "\n",
    "8.Remove short words\n",
    "\n",
    "Let’s define the function:"
   ]
  },
  {
   "cell_type": "markdown",
   "metadata": {},
   "source": [
    "#### Text Cleaner\n",
    "This code block performs text preprocessing tasks such as lowercasing, HTML tag removal, parentheses and quotation marks removal, contraction expansion, possessive form removal, and non-alphabetic character removal. It also offers the option to remove common stopwords and short words, resulting in cleaner and more structured text data for analysis."
   ]
  },
  {
   "cell_type": "code",
   "execution_count": 83,
   "metadata": {},
   "outputs": [],
   "source": [
    "stop_words = set(stopwords.words('english')) \n",
    "stop_words.update(['daily', 'news', 'mail'])\n",
    "def text_cleaner(text,num):\n",
    "    newString = text.lower()\n",
    "    newString = BeautifulSoup(newString, \"lxml\").text\n",
    "    newString = re.sub(r'\\([^)]*\\)', '', newString)\n",
    "    newString = re.sub('\"','', newString)\n",
    "    newString = ' '.join([contraction_mapping[t] if t in contraction_mapping else t for t in newString.split(\" \")])    \n",
    "    newString = re.sub(r\"'s\\b\",\"\",newString)\n",
    "    newString = re.sub(\"[^a-zA-Z]\", \" \", newString) \n",
    "    newString = re.sub('[m]{2,}', 'mm', newString)\n",
    "    if(num==0):\n",
    "        tokens = [w for w in newString.split() if not w in stop_words]\n",
    "    else:\n",
    "        tokens=newString.split()\n",
    "    long_words=[]\n",
    "    for i in tokens:\n",
    "        if len(i)>1:                                                 #removing short word\n",
    "            long_words.append(i)   \n",
    "    return (\" \".join(long_words)).strip()"
   ]
  },
  {
   "cell_type": "markdown",
   "metadata": {},
   "source": [
    "## Applying the function to the dataframe articles"
   ]
  },
  {
   "cell_type": "code",
   "execution_count": 84,
   "metadata": {},
   "outputs": [],
   "source": [
    "#call the function\n",
    "cleaned_text = []\n",
    "for t in df['article']:\n",
    "    cleaned_text.append(text_cleaner(t,0)) "
   ]
  },
  {
   "cell_type": "markdown",
   "metadata": {},
   "source": [
    "## Sample cleaned articles"
   ]
  },
  {
   "cell_type": "code",
   "execution_count": 85,
   "metadata": {},
   "outputs": [],
   "source": [
    "print('Here is a sample of what the articles look like after cleaning:')\n",
    "print('\\n')\n",
    "print('Article 1: ')\n",
    "print(cleaned_text[0])\n",
    "print('\\n')\n",
    "print('Article 2: ')\n",
    "print(cleaned_text[1])"
   ]
  },
  {
   "cell_type": "markdown",
   "metadata": {},
   "source": [
    "## Applying the same function to the dataframe highlights:"
   ]
  },
  {
   "cell_type": "code",
   "execution_count": 86,
   "metadata": {},
   "outputs": [],
   "source": [
    "#call the function\n",
    "cleaned_summary = []\n",
    "for t in df['highlights']:\n",
    "    cleaned_summary.append(text_cleaner(t,1))"
   ]
  },
  {
   "cell_type": "code",
   "execution_count": 87,
   "metadata": {},
   "outputs": [],
   "source": [
    "print('Here is a sample of what the summaries look like after cleaning:')\n",
    "print('\\n')\n",
    "print('Highlight 1: ')\n",
    "print(cleaned_summary[0])\n",
    "print('\\n')\n",
    "print('Highlight 2: ')\n",
    "print(cleaned_summary[1])"
   ]
  },
  {
   "cell_type": "code",
   "execution_count": 88,
   "metadata": {},
   "outputs": [],
   "source": [
    "df['cleaned_text']=cleaned_text\n",
    "df['cleaned_summary']=cleaned_summary"
   ]
  },
  {
   "cell_type": "markdown",
   "metadata": {},
   "source": [
    "# Drop empty rows"
   ]
  },
  {
   "cell_type": "code",
   "execution_count": 89,
   "metadata": {},
   "outputs": [],
   "source": [
    "df.replace('', np.nan, inplace=True)\n",
    "df.dropna(axis=0,inplace=True)"
   ]
  },
  {
   "cell_type": "markdown",
   "metadata": {},
   "source": [
    "## Analyzing the length of the highlights\n",
    "The purpose the code below is to analyze and gain insights into the distribution of summary lengths within a dataset. By iterating through the 'cleaned_summary' column of the DataFrame and checking the number of words in each cleaned summary, the code helps identify how many of these summaries are concise, containing 75 words or less. This analysis is valuable in various natural language processing and text analysis tasks, such as text summarization or information retrieval, as it provides an understanding of the dataset's summarization patterns. Furthermore, it allows data practitioners to assess the suitability of the dataset for specific applications that may have constraints on summary length."
   ]
  },
  {
   "cell_type": "code",
   "execution_count": 90,
   "metadata": {},
   "outputs": [],
   "source": [
    "cnt=0\n",
    "for i in df['cleaned_summary']:\n",
    "    if(len(i.split())<=75):\n",
    "        cnt=cnt+1\n",
    "print(cnt/len(df['cleaned_summary']))"
   ]
  },
  {
   "cell_type": "markdown",
   "metadata": {},
   "source": [
    "We observe that 91% of the highlights have length below 75. So, we can fix maximum length of summary to 75.\n",
    "\n",
    "Let us fix the maximum length of an article to 750"
   ]
  },
  {
   "cell_type": "code",
   "execution_count": 91,
   "metadata": {},
   "outputs": [],
   "source": [
    "cnt=0\n",
    "for i in df['cleaned_text']:\n",
    "    if(len(i.split())<=750):\n",
    "        cnt=cnt+1\n",
    "print(cnt/len(df['cleaned_text']))"
   ]
  },
  {
   "cell_type": "markdown",
   "metadata": {},
   "source": [
    "We observe that 95% of the articles have length below 750. So, we can fix maximum length of summary to 750."
   ]
  },
  {
   "cell_type": "code",
   "execution_count": 92,
   "metadata": {},
   "outputs": [],
   "source": [
    "max_text_len=750\n",
    "max_summary_len=75"
   ]
  },
  {
   "cell_type": "markdown",
   "metadata": {},
   "source": [
    "The purpose of the code below is to filter and create a new dataset (data) that contains text and summary pairs where both the text and summary have lengths within certain limits (max_summary_len and max_text_len). This can be useful when working with text summarization tasks or other natural language processing applications where controlling the length of input and output sequences is important. The resulting data DataFrame can be used for training, validation, or testing in machine learning models or other text analysis tasks."
   ]
  },
  {
   "cell_type": "code",
   "execution_count": 93,
   "metadata": {},
   "outputs": [],
   "source": [
    "cleaned_text =np.array(df['cleaned_text'])\n",
    "cleaned_summary=np.array(df['cleaned_summary'])\n",
    "\n",
    "short_text=[]\n",
    "short_summary=[]\n",
    "\n",
    "for i in range(len(cleaned_text)):\n",
    "    if(len(cleaned_summary[i].split())<=max_summary_len and len(cleaned_text[i].split())<=max_text_len):\n",
    "        short_text.append(cleaned_text[i])\n",
    "        short_summary.append(cleaned_summary[i])\n",
    "        \n",
    "data=pd.DataFrame({'article':short_text,'highlights':short_summary})"
   ]
  },
  {
   "cell_type": "code",
   "execution_count": 94,
   "metadata": {},
   "outputs": [
    {
     "data": {
      "text/html": [
       "<div>\n",
       "<style scoped>\n",
       "    .dataframe tbody tr th:only-of-type {\n",
       "        vertical-align: middle;\n",
       "    }\n",
       "\n",
       "    .dataframe tbody tr th {\n",
       "        vertical-align: top;\n",
       "    }\n",
       "\n",
       "    .dataframe thead th {\n",
       "        text-align: right;\n",
       "    }\n",
       "</style>\n",
       "<table border=\"1\" class=\"dataframe\">\n",
       "  <thead>\n",
       "    <tr style=\"text-align: right;\">\n",
       "      <th></th>\n",
       "      <th>article</th>\n",
       "      <th>highlights</th>\n",
       "    </tr>\n",
       "  </thead>\n",
       "  <tbody>\n",
       "    <tr>\n",
       "      <th>0</th>\n",
       "      <td>ever noticed plane seats appear getting smaller smaller increasing numbers people taking skies experts questioning packed planes putting passengers risk say shrinking space aeroplanes uncomfortabl...</td>\n",
       "      <td>experts question if packed out planes are putting passengers at risk consumer advisory group says minimum space must be stipulated safety tests conducted on planes with more leg room than airlines...</td>\n",
       "    </tr>\n",
       "    <tr>\n",
       "      <th>1</th>\n",
       "      <td>drunk teenage boy rescued security jumping lions enclosure zoo western india rahul kumar clambered enclosure fence kamla nehru zoological park ahmedabad began running towards animals shouting woul...</td>\n",
       "      <td>drunk teenage boy climbed into lion enclosure at zoo in west india rahul kumar ran towards animals shouting today kill lion fortunately he fell into moat before reaching lions and was rescued</td>\n",
       "    </tr>\n",
       "    <tr>\n",
       "      <th>2</th>\n",
       "      <td>dougie freedman verge agreeing new two year deal remain nottingham forest freedman stabilised forest since replaced cult hero stuart pearce club owners pleased job done city ground dougie freedman...</td>\n",
       "      <td>nottingham forest are close to extending dougie freedman contract the forest boss took over from former manager stuart pearce in february freedman has since lead the club to ninth in the championship</td>\n",
       "    </tr>\n",
       "    <tr>\n",
       "      <th>3</th>\n",
       "      <td>liverpool target neto also wanted psg clubs spain brendan rodgers faces stiff competition land fiorentina goalkeeper according brazilian agent stefano castagna reds linked move year old whose cont...</td>\n",
       "      <td>fiorentina goalkeeper neto has been linked with liverpool and arsenal neto joined firoentina from brazilian outfit atletico paranaense in he is also wanted by psg and spanish clubs according to hi...</td>\n",
       "    </tr>\n",
       "    <tr>\n",
       "      <th>4</th>\n",
       "      <td>bruce jenner break silence two hour interview diane sawyer later month former olympian reality tv star speak far ranging interview sawyer special edition friday april abc announced monday intervie...</td>\n",
       "      <td>tell all interview with the reality tv star will air on friday april it comes amid continuing speculation about his transition to woman and following his involvement in deadly car crash in februar...</td>\n",
       "    </tr>\n",
       "  </tbody>\n",
       "</table>\n",
       "</div>"
      ],
      "text/plain": [
       "                                                                                                                                                                                                   article  \\\n",
       "0  ever noticed plane seats appear getting smaller smaller increasing numbers people taking skies experts questioning packed planes putting passengers risk say shrinking space aeroplanes uncomfortabl...   \n",
       "1  drunk teenage boy rescued security jumping lions enclosure zoo western india rahul kumar clambered enclosure fence kamla nehru zoological park ahmedabad began running towards animals shouting woul...   \n",
       "2  dougie freedman verge agreeing new two year deal remain nottingham forest freedman stabilised forest since replaced cult hero stuart pearce club owners pleased job done city ground dougie freedman...   \n",
       "3  liverpool target neto also wanted psg clubs spain brendan rodgers faces stiff competition land fiorentina goalkeeper according brazilian agent stefano castagna reds linked move year old whose cont...   \n",
       "4  bruce jenner break silence two hour interview diane sawyer later month former olympian reality tv star speak far ranging interview sawyer special edition friday april abc announced monday intervie...   \n",
       "\n",
       "                                                                                                                                                                                                highlights  \n",
       "0  experts question if packed out planes are putting passengers at risk consumer advisory group says minimum space must be stipulated safety tests conducted on planes with more leg room than airlines...  \n",
       "1          drunk teenage boy climbed into lion enclosure at zoo in west india rahul kumar ran towards animals shouting today kill lion fortunately he fell into moat before reaching lions and was rescued  \n",
       "2  nottingham forest are close to extending dougie freedman contract the forest boss took over from former manager stuart pearce in february freedman has since lead the club to ninth in the championship  \n",
       "3  fiorentina goalkeeper neto has been linked with liverpool and arsenal neto joined firoentina from brazilian outfit atletico paranaense in he is also wanted by psg and spanish clubs according to hi...  \n",
       "4  tell all interview with the reality tv star will air on friday april it comes amid continuing speculation about his transition to woman and following his involvement in deadly car crash in februar...  "
      ]
     },
     "execution_count": 94,
     "metadata": {},
     "output_type": "execute_result"
    }
   ],
   "source": [
    "data.head()"
   ]
  },
  {
   "cell_type": "code",
   "execution_count": 95,
   "metadata": {},
   "outputs": [
    {
     "data": {
      "text/plain": [
       "'panama city handshake shook western hemisphere president obama briefly met cuban counterpart raul castro friday night dinner dozens latin american leaders convening panama city summit americas historic two nations barely speaking terms officially years meeting important bernadette meehan national security council spokesperson issued statement summit americas evening president obama president castro greeted shook hands cuba united states endured half century enmity tension worsened two nations miles apart key events years include traumatic modern history cuban missile crisis bay pigs mariel boatlift two leaders building historic face face obama spoke phone wednesday cuban leader heading panama met friday dinner expected spend lot time together saturday summit begins earnest obama arrived panama late thursday conference years past tinged animosity cuba exclusion moments marine one obama helicopter touched panama city castro plane landed tarmac panamanian television carried arrivals live phone call wednesday obama castro discussed ongoing process normalizing relations united states cuba according deputy national security adviser ben rhodes said made sense two leaders communicate anticipated interactions friday saturday run ins represent highest level talks united states cuba since meeting vice president richard nixon prime minister fidel castro new territory rhodes said friday reason president strongly believes approach focused totally isolation focused totally seeking cut cuban people united states america failed obama expecting warm welcome dozens countries represented conference announcing december seeking engage havana talks reopening embassies removing barriers commerce travel panama obama expected announce removing cuba united states list countries sponsor terrorism major advance building diplomatic ties two countries state department delivered report designation white house wednesday obama said thursday panel experts reviewing makes final determination white house ruling final decision obama leaves panama late saturday night remarks brief stopover jamaica thursday obama strongly hinted ready remove cuba list also includes iran sudan syria throughout process emphasis facts obama said want make sure given powerful tool isolate countries genuinely support terrorism make designations got strong evidence fact case circumstances change list change well said inside cuba expressed dissatisfaction pace diplomatic thaw officials say pleased progress toward establishing diplomatic ties white house argues helped improve relations countries region obama said jamaica never foresaw immediately overnight everything would transform overtures cuba universally popular united states lawmakers irate obama seeking engage regard corrupt government even obama landed panama long standing tensions pro anti castro activists full display dissidents opposed castro regime violently accosted earlier week supporters cuban government rhodes said white house expressed serious concerns violence would continue speak support human rights reforms island'"
      ]
     },
     "execution_count": 95,
     "metadata": {},
     "output_type": "execute_result"
    }
   ],
   "source": [
    "data['article'][1000]"
   ]
  },
  {
   "cell_type": "code",
   "execution_count": 96,
   "metadata": {},
   "outputs": [
    {
     "data": {
      "text/plain": [
       "'president obama cuban president raul castro meet in panama city the two nations only miles apart have been at odds for more than years'"
      ]
     },
     "execution_count": 96,
     "metadata": {},
     "output_type": "execute_result"
    }
   ],
   "source": [
    "data['highlights'][1000]"
   ]
  },
  {
   "cell_type": "markdown",
   "metadata": {},
   "source": [
    "# Analyzing n-grams - Articles"
   ]
  },
  {
   "cell_type": "code",
   "execution_count": 105,
   "metadata": {},
   "outputs": [],
   "source": [
    "X = df['cleaned_text']\n",
    "y = df.drop('cleaned_text', axis=1)"
   ]
  },
  {
   "cell_type": "code",
   "execution_count": 106,
   "metadata": {},
   "outputs": [],
   "source": [
    "cv = CountVectorizer(ngram_range = (3,3))\n",
    "X_count = cv.fit_transform(X)\n",
    "X_count  = pd.DataFrame.sparse.from_spmatrix(X_count)\n",
    "X_count.columns = sorted(cv.vocabulary_)\n",
    "X_count.set_index(y.index, inplace=True)\n",
    "\n",
    "all_tri_labels = X_count.sum().sort_values(ascending = False)[0:10]"
   ]
  },
  {
   "cell_type": "code",
   "execution_count": 107,
   "metadata": {},
   "outputs": [
    {
     "data": {
      "image/png": "[encoded data removed]",
      "text/plain": [
       "<Figure size 1000x600 with 1 Axes>"
      ]
     },
     "metadata": {},
     "output_type": "display_data"
    }
   ],
   "source": [
    "# Create a bar plot\n",
    "plt.figure(figsize=(10, 6))\n",
    "sns.barplot(x=all_tri_labels.values, y=all_tri_labels.index, palette='viridis')\n",
    "\n",
    "# Set plot labels and title\n",
    "plt.xlabel('Frequency')\n",
    "plt.ylabel('Trigram')\n",
    "plt.title('Top 10 Trigrams: Articles')\n",
    "\n",
    "# Display the plot\n",
    "plt.show()"
   ]
  },
  {
   "cell_type": "markdown",
   "metadata": {},
   "source": [
    "# Analyzing n-grams - Highlights"
   ]
  },
  {
   "cell_type": "code",
   "execution_count": 108,
   "metadata": {},
   "outputs": [],
   "source": [
    "X = df['cleaned_summary']\n",
    "y = df.drop('cleaned_summary', axis=1)"
   ]
  },
  {
   "cell_type": "code",
   "execution_count": 109,
   "metadata": {},
   "outputs": [],
   "source": [
    "cv = CountVectorizer(ngram_range = (3,3))\n",
    "X_count = cv.fit_transform(X)\n",
    "X_count  = pd.DataFrame.sparse.from_spmatrix(X_count)\n",
    "X_count.columns = sorted(cv.vocabulary_)\n",
    "X_count.set_index(y.index, inplace=True)\n",
    "\n",
    "all_tri_labels = X_count.sum().sort_values(ascending = False)[0:10]"
   ]
  },
  {
   "cell_type": "code",
   "execution_count": 111,
   "metadata": {},
   "outputs": [
    {
     "data": {
      "image/png": "[encoded data removed]",
      "text/plain": [
       "<Figure size 1000x600 with 1 Axes>"
      ]
     },
     "metadata": {},
     "output_type": "display_data"
    }
   ],
   "source": [
    "# Create a bar plot\n",
    "plt.figure(figsize=(10, 6))\n",
    "sns.barplot(x=all_tri_labels.values, y=all_tri_labels.index, palette='viridis')\n",
    "\n",
    "# Set plot labels and title\n",
    "plt.xlabel('Frequency')\n",
    "plt.ylabel('Trigram')\n",
    "plt.title('Top 10 Trigrams: highlights')\n",
    "\n",
    "# Display the plot\n",
    "plt.show()"
   ]
  },
  {
   "cell_type": "markdown",
   "metadata": {},
   "source": [
    "# IV. Model building"
   ]
  },
  {
   "cell_type": "markdown",
   "metadata": {},
   "source": [
    "# Baseline - TFIDF Vectorizer \n",
    "\n",
    "[TFIDF](https://medium.com/@ashins1997/text-summarization-f2542bc6a167#:~:text=Sentence%20scoring%20using%20tf%2Didf,word%20occurs%20in%20the%20document.)\n",
    "\n",
    "### Sentence scoring using tf-idf is one of the extractive approaches for text summarization.\n",
    "\n",
    "`In TF-IDF (Term Frequency-Inverse Document Frequency)` text summarization, sentence scoring involves evaluating the importance of each sentence in a document. It does this by considering the frequency of words in the sentence (Term Frequency) and the uniqueness of those words across the entire document collection (Inverse Document Frequency). Sentences containing rare and important terms receive higher scores, making them more likely to be included in the summary. This aids in text summarization by selecting sentences that capture the key concepts and information, resulting in a concise and informative summary.\n",
    "- **TF-IDF stands for Term Frequency** — Inverse Document Frequency. It is the product of two statistics.\n",
    "\n",
    "- **Term Frequency (TF)** : It is the number of times the word occurs in the document.\n",
    "- **Inverse Document Frequency (IDF)** : It is the measure of how much information the word provides, i.e., if it’s common or rare across all documents.\n",
    "\n",
    "# Functions for steps in model building\n",
    "\n",
    "1. Covert text to sentences : Converting a single text to list of sentences.\n",
    "2. Pre-process text : Clean the sentences by removing unnecessary words, stopwords, punctuations, etc.\n",
    "3. Create term frequency (tf) matrix : It shows the frequency of words in each sentence. We will calculate relative frequency to represent the tf instead of using actual frequency. \n",
    ">It is calculated as t / T where,\n",
    "> - t = Number of times the term appears in the document,\n",
    "> - T = Total number of terms in the document\n",
    "4. Create idf matrix : It shows the importance of words in each sentence with respect to the whole document. \n",
    "> It is calculated as log_e(D/d) where,\n",
    "> - D = Total number of documents,\n",
    "> - d = Number of documents with term t in it\n",
    "5. Calculate sentence tf-idf : It is the product of tf and idf for each word in the sentence and shows the importance of each word in the sentence.\n",
    "6. Calculate sentence scores : Here score of the sentences are calculated as the average of the tf-idf value of words in the sentence. It is calculated as\n",
    "> T / n where,\n",
    "> - T = Total tf-idf of words in the sentence,\n",
    "> - n = Number of distinct words in the sentence\n",
    "7. Determine threshold : Threshold is the average value of the scores of the sentences. \n",
    "> It is calculated as S / s where,\n",
    "> - S = Total sum of scores of sentences,\n",
    "> - s = Number of sentences\n",
    "8. Generate summary : Generate a summary by extracting the sentences having scores greater than the threshold value."
   ]
  },
  {
   "cell_type": "code",
   "execution_count": 32,
   "metadata": {},
   "outputs": [],
   "source": [
    "# 1.Convert text to sentences\n",
    "text = df['article'][1000]\n",
    "sentences = sent_tokenize(text)\n",
    "\n",
    "# Preprocess Text\n",
    "ps = PorterStemmer()\n",
    "def text_preprocessing(sentences):\n",
    "    \"\"\"\n",
    "    Pre processing text to removeunnecessary words.\n",
    "    \"\"\"    \n",
    "#     print('Preprocessing text')    \n",
    "    stop_words = set(stopwords.words('english'))\n",
    "    clean_words = []\n",
    "    for sent in sentences:\n",
    "        words = word_tokenize(sent)\n",
    "        words = [ps.stem(word.lower()) for word in words if word.isalnum()]\n",
    "        clean_words += [word for word in words if word not in stop_words]\n",
    "    return clean_words\n",
    "\n",
    "# 3.Create term frequency (tf) matrix\n",
    "\n",
    "def create_tf_matrix(sentences: list) -> dict:\n",
    "    \"\"\"\n",
    "    Here document refers to a sentence.\n",
    "    TF(t) = (Number of times the term t appears in a document) /         (Total number of terms in the document)\n",
    "    \"\"\"\n",
    "#     print('Creating tf matrix.')\n",
    "    tf_matrix = {}\n",
    "    for sentence in sentences:\n",
    "        tf_table = {}\n",
    "        words_count = len(word_tokenize(sentence))\n",
    "        clean_words = text_preprocessing([sentence])\n",
    "        # Determining frequency of words in the sentence\n",
    "        word_freq = {}\n",
    "        for word in clean_words:\n",
    "            word_freq[word] = (word_freq[word] + 1) if word in  word_freq else 1\n",
    "        # Calculating tf of the words in the sentence\n",
    "        for word, count in word_freq.items():\n",
    "            tf_table[word] = count / words_count\n",
    "        tf_matrix[sentence[:15]] = tf_table\n",
    "    return tf_matrix\n",
    "\n",
    "# 4.Create idf matrix\n",
    "\n",
    "def create_idf_matrix(sentences: list) -> dict:\n",
    "    \"\"\"\n",
    "    IDF(t) = log_e(Total number of documents / Number of documents     with term t in it)\n",
    "    \"\"\"\n",
    "#     print('Creating idf matrix.')\n",
    "\n",
    "    idf_matrix = {}\n",
    "\n",
    "    documents_count = len(sentences)\n",
    "    sentence_word_table = {}\n",
    "\n",
    "    # Getting words in the sentence\n",
    "    for sentence in sentences:\n",
    "        clean_words = text_preprocessing([sentence])\n",
    "        sentence_word_table[sentence[:15]] = clean_words\n",
    "\n",
    "    # Determining word count table with the count of sentences which contains the word.\n",
    "    word_in_docs = {}\n",
    "    for sent, words in sentence_word_table.items():\n",
    "        for word in words:\n",
    "            word_in_docs[word] = (word_in_docs[word] + 1) if word in word_in_docs else 1\n",
    "\n",
    "    # Determining idf of the words in the sentence.\n",
    "    for sent, words in sentence_word_table.items():\n",
    "        idf_table = {}\n",
    "        for word in words:\n",
    "            idf_table[word] = math.log10(documents_count / float(word_in_docs[word]))\n",
    "\n",
    "        idf_matrix[sent] = idf_table\n",
    "\n",
    "    return idf_matrix\n",
    "\n",
    "# 5.Calculate sentence tf-idf\n",
    "\n",
    "def create_tf_idf_matrix(tf_matrix, idf_matrix) -> dict:\n",
    "    \"\"\"\n",
    "    Create a tf-idf matrix which is multiplication of tf * idf individual words\n",
    "    \"\"\"\n",
    "#     print('Calculating tf-idf of sentences.')\n",
    "\n",
    "    tf_idf_matrix = {}\n",
    "\n",
    "    for (sent1, f_table1), (sent2, f_table2) in zip(tf_matrix.items(), idf_matrix.items()):\n",
    "        tf_idf_table = {}\n",
    "\n",
    "        for (word1, value1), (word2, value2) in zip(f_table1.items(), f_table2.items()):\n",
    "            tf_idf_table[word1] = float(value1 * value2)\n",
    "\n",
    "        tf_idf_matrix[sent1] = tf_idf_table\n",
    "\n",
    "    return tf_idf_matrix\n",
    "\n",
    "# 6.Calculate sentence scores\n",
    "\n",
    "def create_sentence_score_table(tf_idf_matrix) -> dict:\n",
    "    \"\"\"\n",
    "    Determining average score of words of the sentence with its words tf-idf value.\n",
    "    \"\"\"\n",
    "#     print('Creating sentence score table.')\n",
    "\n",
    "    sentence_value = {}\n",
    "\n",
    "    for sent, f_table in tf_idf_matrix.items():\n",
    "        total_score_per_sentence = 0\n",
    "\n",
    "        count_words_in_sentence = len(f_table)\n",
    "        \n",
    "        # Check if count_words_in_sentence is not zero\n",
    "        if count_words_in_sentence != 0:\n",
    "            for word, score in f_table.items():\n",
    "                total_score_per_sentence += score\n",
    "\n",
    "            sentence_value[sent] = total_score_per_sentence / count_words_in_sentence\n",
    "        else:\n",
    "            sentence_value[sent] = 0  # Set the score to 0 for empty sentences\n",
    "\n",
    "    return sentence_value\n",
    "\n",
    "# 7.Determine threshold\n",
    "def find_average_score(sentence_value):\n",
    "    \"\"\"\n",
    "    Calculate average value of a sentence form the sentence score table.\n",
    "    \"\"\"\n",
    "#     print('Finding average score')\n",
    "\n",
    "    sum = 0\n",
    "    for val in sentence_value:\n",
    "        sum += sentence_value[val]\n",
    "\n",
    "    average = sum / len(sentence_value)\n",
    "\n",
    "    return average\n",
    "\n",
    "\n",
    "# 8.Generate summary\n",
    "\n",
    "def generate_summary(sentences, sentence_value, threshold):\n",
    "    \"\"\"\n",
    "    Generate a sentence for sentence score greater than average.\n",
    "    \"\"\"\n",
    "#     print('Generating summary')\n",
    "\n",
    "    sentence_count = 0\n",
    "    summary = ''\n",
    "\n",
    "    for sentence in sentences:\n",
    "        if sentence[:15] in sentence_value and sentence_value[sentence[:15]] >= threshold:\n",
    "            summary += sentence + \" \"\n",
    "            sentence_count += 1\n",
    "\n",
    "    return summary\n",
    "\n",
    "# rouge score\n",
    "def get_rouge_score(summary, abstract):\n",
    "    scores = rouge.get_scores(summary, abstract)\n",
    "    return scores"
   ]
  },
  {
   "cell_type": "markdown",
   "metadata": {},
   "source": [
    "# Sample Summary\n",
    "Here we will test our tfidf summarizer as proof of concept. This cell will complete all the steps listed above and display the article as well as the reference summary and the newly generated one. "
   ]
  },
  {
   "cell_type": "code",
   "execution_count": 33,
   "metadata": {
    "scrolled": false
   },
   "outputs": [
    {
     "name": "stdout",
     "output_type": "stream",
     "text": [
      "\n",
      "\n",
      "\n",
      "Original Article: \n",
      "Cristiano Ronaldo and Lionel Messi will go head-to-head once more in the race to be this season's top scorer in the Champions League – although Luiz Adriano threatens to spoil the party. Both Barcelona and Real Madrid booked their spots in the semi-finals this week with victories over Paris Saint-Germain and Atletico Madrid respectively. The planet's best footballers have scored eight times in Europe this season. But Shakhtar Donetsk’s Adriano, courted by Arsenal and Liverpool, has netted on nine occasions this term. Cristiano Ronaldo, in action against Atletico Madrid on Wednesday evening, has scored eight goals in Europe . Lionel Messi also has eight goals in the Champions League this term; one fewer than Luiz Adriano . Ronaldo and Messi will both play at least two more times after Real Madrid and Barcelona reached the last four . Adriano, who moved to Donetsk in 2007, scored five against BATE Borsiov in the group stages. His performance that night made history, with the 27-year-old becoming only the second player to score five times in a Champions League game. The other was Messi for Barcelona against Bayer Leverkusen in 2012. He also scored the third quickest hat-trick in the competition's history (12 minutes) as the Ukrainian side, knocked out by Bayern Munich in the round of 16, racked up the biggest-ever half-time lead (6-0) in Europe's premier tournament. ‘I am in a good moment of my career and we'll do what will be best for me and for the club,’ said Adriano last month when quizzed over his future. Adriano, who netted five times against BATE Borisov in the group, has scored more goals than any other player in the Champions League... he is out of contract in December and could move to the Premier League . ‘With my contract set to expire and many good performances, it'll be difficult to stay in Ukraine.’ Arsenal have sent scouts to watch Adriano in recent months, while Liverpool are also keen on the Brazilian. His contract with Shakhtar Donetsk runs out at the end of the year. Ronaldo and Messi however, remain in pole-position to top the scoring charts with Barcelona and Real Madrid both in the hat for the two-legged semi-finals to be played next month. Of the teams still in the pot, Neymar and Luis Suarez of Barcelona, Real Madrid's Karim Benzema and former Manchester United and City striker Carlos Tevez, now plying his trade for Juventus, each have six goals. The draw for the last four will take place on Friday.\n",
      "\n",
      "\n",
      "\n",
      "Predicted Summary: \n",
      "Cristiano Ronaldo and Lionel Messi will go head-to-head once more in the race to be this season's top scorer in the Champions League – although Luiz Adriano threatens to spoil the party. The planet's best footballers have scored eight times in Europe this season. Cristiano Ronaldo, in action against Atletico Madrid on Wednesday evening, has scored eight goals in Europe . Adriano, who moved to Donetsk in 2007, scored five against BATE Borsiov in the group stages. The other was Messi for Barcelona against Bayer Leverkusen in 2012. His contract with Shakhtar Donetsk runs out at the end of the year. The draw for the last four will take place on Friday. \n",
      "\n",
      "\n",
      "\n",
      "Original Summary: \n",
      "Luiz Adriano scored nine times for Shakhtar Donetsk in Europe this season .\n",
      "The Brazilian is out of contract at the end of the year... both Arsenal and Liverpool are interested in signing the 27-year-old .\n",
      "Cristiano Ronaldo and Lionel Messi have netted eight goals this season .\n",
      "Real Madrid and Barcelona both in the Champions League semi-finals .\n",
      "READ: Our reporters have their say on who will win the Champions League .\n",
      "CLICK HERE for Sportsmail's guide to the Champions League final four .\n"
     ]
    }
   ],
   "source": [
    "tf_matrix = create_tf_matrix(sentences)\n",
    "# print('TF matrix', tf_matrix)\n",
    "\n",
    "tf = tf_matrix\n",
    "idf_matrix = create_idf_matrix(sentences)\n",
    "# print('IDF matrix',idf_matrix)\n",
    "\n",
    "idf = idf_matrix\n",
    "tf_idf_matrix = create_tf_idf_matrix(tf_matrix, idf_matrix)\n",
    "# print('TF-IDF matrix', tf_idf_matrix)\n",
    "# print('First document tfidf',tf_idf_matrix[list(tf_idf_matrix.keys())[0]])\n",
    "\n",
    "tf_idf = tf_idf_matrix\n",
    "sentence_value = create_sentence_score_table(tf_idf_matrix)\n",
    "# print('Sentence Scores', sentence_value)\n",
    "\n",
    "threshold = find_average_score(sentence_value)\n",
    "# print('Threshold', threshold)\n",
    "\n",
    "summary = generate_summary(sentences, sentence_value, threshold)\n",
    "\n",
    "print('\\n\\n')\n",
    "print('Original Article: ')\n",
    "print(df['article'][1000])\n",
    "\n",
    "print('\\n\\n')\n",
    "print('Predicted Summary: ')\n",
    "print(summary)\n",
    "\n",
    "print('\\n\\n')\n",
    "print('Original Summary: ')\n",
    "print(df['highlights'][1000])"
   ]
  },
  {
   "cell_type": "code",
   "execution_count": 34,
   "metadata": {},
   "outputs": [
    {
     "name": "stdout",
     "output_type": "stream",
     "text": [
      "Original 18 sentences, Summarized 7 sentences\n"
     ]
    }
   ],
   "source": [
    "print(f'Original {len(sent_tokenize(text))} sentences, Summarized {len(sent_tokenize(summary))} sentences')"
   ]
  },
  {
   "cell_type": "markdown",
   "metadata": {},
   "source": [
    "## Quick Analysis\n",
    "\n",
    "Here the tfidf model was able to create a small summary based on the sentence scores, summarizing the article from 18 sentences down to 7. "
   ]
  },
  {
   "cell_type": "markdown",
   "metadata": {},
   "source": [
    "## Applying to all articles - removal of outliers\n",
    "\n",
    "Here we will run our tfidf model on all the articles in the dataframe, in an attempt to get an overall evaluation of the summaries generated by the tfidf model. In order to obtain consistent model results, we will limit the length of the articles to be 750 words since the length of 750 still covers over 94% of the data."
   ]
  },
  {
   "cell_type": "code",
   "execution_count": 35,
   "metadata": {},
   "outputs": [],
   "source": [
    "df = df[df['articleWordCount']<=750]"
   ]
  },
  {
   "cell_type": "code",
   "execution_count": 36,
   "metadata": {},
   "outputs": [
    {
     "data": {
      "text/plain": [
       "7434"
      ]
     },
     "execution_count": 36,
     "metadata": {},
     "output_type": "execute_result"
    }
   ],
   "source": [
    "len(df)"
   ]
  },
  {
   "cell_type": "markdown",
   "metadata": {},
   "source": [
    "## Processing DataFrame of articles and their highlights\n",
    "Here for every article in the dataframe, this code tokenizes the articles into sentences, calculates the importance of each sentence using TF-IDF, and generates summaries by selecting the most important sentences based on a threshold. The generated summaries are stored in one list, while the original highlights are stored in another list for further analysis or comparison."
   ]
  },
  {
   "cell_type": "code",
   "execution_count": 37,
   "metadata": {
    "scrolled": true
   },
   "outputs": [],
   "source": [
    "abstract_tfidf = []\n",
    "introduction_tfidf = []\n",
    "\n",
    "\n",
    "for i, row in df.iterrows():\n",
    "    \n",
    "    text = row['article']\n",
    "    sentences = sent_tokenize(text)\n",
    "    \n",
    "    # Step 3: Create term frequency (tf) matrix for the current article\n",
    "    tf_matrix = create_tf_matrix(sentences)\n",
    "    \n",
    "    # Step 4: Create idf matrix for the current article\n",
    "    idf_matrix = create_idf_matrix(sentences)\n",
    "    \n",
    "    # Step 5: Calculate sentence tf-idf for the current article\n",
    "    tf_idf_matrix = create_tf_idf_matrix(tf_matrix, idf_matrix)\n",
    "    \n",
    "    # Step 6: Calculate sentence scores for the current article\n",
    "    sentence_value = create_sentence_score_table(tf_idf_matrix)\n",
    "    \n",
    "    # Step 7: Determine threshold for the current article\n",
    "    threshold = find_average_score(sentence_value)\n",
    "    \n",
    "    # Step 8: Generate summary for the current article\n",
    "    summary = generate_summary(sentences, sentence_value, threshold)\n",
    "    \n",
    "    abstract_tfidf.append(summary)\n",
    "    introduction_tfidf.append(row['highlights'])\n",
    "\n",
    "\n",
    "    "
   ]
  },
  {
   "cell_type": "markdown",
   "metadata": {},
   "source": [
    "### Printing the first 6 articles and summaries"
   ]
  },
  {
   "cell_type": "code",
   "execution_count": 38,
   "metadata": {
    "scrolled": true
   },
   "outputs": [
    {
     "data": {
      "text/plain": [
       "[\"Ever noticed how plane seats appear to be getting smaller and smaller? With increasing numbers of people taking to the skies, some experts are questioning if having such packed out planes is putting passengers at risk. They say that the shrinking space on aeroplanes is not only uncomfortable - it's putting our health and safety in danger. More than squabbling over the arm rest, shrinking space on planes putting our health and safety in danger? 'It is time that the DOT and FAA take a stand for humane treatment of passengers.' But could crowding on planes lead to more serious issues than fighting for space in the overhead lockers, crashing elbows and seat back kicking? The distance between two seats from one point on a seat to the same point on the seat behind it is known as the pitch. While most airlines stick to a pitch of 31 inches or above, some fall below this. \",\n",
       " \"'We then handed him over to the police.' 'I was drunk and thought I'd stand a good chance.' A police spokesman said: 'He has been cautioned and will be sent for psychiatric evaluation. \",\n",
       " 'Dougie Freedman is on the verge of agreeing a new two-year deal to remain at Nottingham Forest. Dougie Freedman is set to sign a new deal at Nottingham Forest . ',\n",
       " \"Real Madrid? We'll see. \",\n",
       " \"Scroll down for video . She filed for divorce in September 2014, citing 'irreconcilable differences'. Reports also emerged over the past week that he has received a breast enhancement. 'Bruce had silicone breast implants put in a few weeks ago,' a source told RadarOnline. 'He went with a smaller implant because he didn't want to look ridiculous.' 'I will say that I think Bruce should tell his story his way. She died at the scene . Kris filed for divorce from him last year . The Lexus was carrying 69-year-old Kim Howe, who died from chest trauma at the scene. \"]"
      ]
     },
     "execution_count": 38,
     "metadata": {},
     "output_type": "execute_result"
    }
   ],
   "source": [
    "abstract_tfidf[:5]"
   ]
  },
  {
   "cell_type": "code",
   "execution_count": 39,
   "metadata": {},
   "outputs": [
    {
     "data": {
      "text/plain": [
       "['Experts question if  packed out planes are putting passengers at risk .\\nU.S consumer advisory group says minimum space must be stipulated .\\nSafety tests conducted on planes with more leg room than airlines offer .',\n",
       " \"Drunk teenage boy climbed into lion enclosure at zoo in west India .\\nRahul Kumar, 17, ran towards animals shouting 'Today I kill a lion!'\\nFortunately he fell into a moat before reaching lions and was rescued .\",\n",
       " \"Nottingham Forest are close to extending Dougie Freedman's contract .\\nThe Forest boss took over from former manager Stuart Pearce in February .\\nFreedman has since lead the club to ninth in the Championship .\",\n",
       " 'Fiorentina goalkeeper Neto has been linked with Liverpool and Arsenal .\\nNeto joined Firoentina\\xa0from Brazilian outfit Atletico Paranaense in 2011 .\\nHe is also wanted by PSG and Spanish clubs, according to his agent .\\nCLICK HERE for the latest Liverpool news .',\n",
       " \"Tell-all interview with the reality TV star, 69, will air on Friday April 24 .\\nIt comes amid continuing speculation about his transition to a woman and following his involvement in a deadly car crash in February .\\nThe interview will also be one of Diane Sawyer's first appearances on television following the sudden death of her husband last year .\"]"
      ]
     },
     "execution_count": 39,
     "metadata": {},
     "output_type": "execute_result"
    }
   ],
   "source": [
    "introduction_tfidf[:5]"
   ]
  },
  {
   "cell_type": "markdown",
   "metadata": {},
   "source": [
    "## Model Evaluation - Rouge Score\n",
    "\n",
    "ROUGE (Recall-Oriented Understudy for Gisting Evaluation) is a set of metrics used for evaluating the quality of text summarization and machine translation. These metrics assess the similarity between the generated summary and one or more reference summaries (human-written) to measure the performance of automatic summarization systems. The primary focus of ROUGE metrics is on content overlap and the ability of a system to capture the essential information from the source text.\n",
    "\n"
   ]
  },
  {
   "cell_type": "code",
   "execution_count": 40,
   "metadata": {},
   "outputs": [],
   "source": [
    "# Initializing rouge metric\n",
    "rouge = Rouge()"
   ]
  },
  {
   "cell_type": "markdown",
   "metadata": {},
   "source": [
    "This code evaluates the quality of generated text summaries in a DataFrame (df_tfidf) by calculating ROUGE scores, specifically ROUGE-1 and ROUGE-L. ROUGE is a set of metrics for text summarization assessment.\n",
    "\n",
    "It iterates through each row, comparing the generated summary ('summaries') with the original summary ('original_summaries'). The code calculates precision, recall, and F1 score for both ROUGE-1 and ROUGE-L.\n",
    "\n",
    "The computed ROUGE scores are then added as new columns in the DataFrame for further analysis and comparison. This allows for a quantitative assessment of how well the generated summaries match the original highlights."
   ]
  },
  {
   "cell_type": "code",
   "execution_count": 41,
   "metadata": {},
   "outputs": [
    {
     "data": {
      "text/html": [
       "<div>\n",
       "<style scoped>\n",
       "    .dataframe tbody tr th:only-of-type {\n",
       "        vertical-align: middle;\n",
       "    }\n",
       "\n",
       "    .dataframe tbody tr th {\n",
       "        vertical-align: top;\n",
       "    }\n",
       "\n",
       "    .dataframe thead th {\n",
       "        text-align: right;\n",
       "    }\n",
       "</style>\n",
       "<table border=\"1\" class=\"dataframe\">\n",
       "  <thead>\n",
       "    <tr style=\"text-align: right;\">\n",
       "      <th></th>\n",
       "      <th>summaries</th>\n",
       "      <th>original_summaries</th>\n",
       "      <th>rouge_1_p</th>\n",
       "      <th>rouge_1_r</th>\n",
       "      <th>rouge_1_f</th>\n",
       "      <th>rouge_L_p</th>\n",
       "      <th>rouge_L_r</th>\n",
       "      <th>rouge_L_f</th>\n",
       "    </tr>\n",
       "  </thead>\n",
       "  <tbody>\n",
       "    <tr>\n",
       "      <th>0</th>\n",
       "      <td>Ever noticed how plane seats appear to be getting smaller and smaller? With increasing numbers of people taking to the skies, some experts are questioning if having such packed out planes is putti...</td>\n",
       "      <td>Experts question if  packed out planes are putting passengers at risk .\\nU.S consumer advisory group says minimum space must be stipulated .\\nSafety tests conducted on planes with more leg room th...</td>\n",
       "      <td>0.136364</td>\n",
       "      <td>0.454545</td>\n",
       "      <td>0.209790</td>\n",
       "      <td>0.127273</td>\n",
       "      <td>0.424242</td>\n",
       "      <td>0.195804</td>\n",
       "    </tr>\n",
       "    <tr>\n",
       "      <th>1</th>\n",
       "      <td>'We then handed him over to the police.' 'I was drunk and thought I'd stand a good chance.' A police spokesman said: 'He has been cautioned and will be sent for psychiatric evaluation.</td>\n",
       "      <td>Drunk teenage boy climbed into lion enclosure at zoo in west India .\\nRahul Kumar, 17, ran towards animals shouting 'Today I kill a lion!'\\nFortunately he fell into a moat before reaching lions an...</td>\n",
       "      <td>0.090909</td>\n",
       "      <td>0.088235</td>\n",
       "      <td>0.089552</td>\n",
       "      <td>0.060606</td>\n",
       "      <td>0.058824</td>\n",
       "      <td>0.059701</td>\n",
       "    </tr>\n",
       "    <tr>\n",
       "      <th>2</th>\n",
       "      <td>Dougie Freedman is on the verge of agreeing a new two-year deal to remain at Nottingham Forest. Dougie Freedman is set to sign a new deal at Nottingham Forest .</td>\n",
       "      <td>Nottingham Forest are close to extending Dougie Freedman's contract .\\nThe Forest boss took over from former manager Stuart Pearce in February .\\nFreedman has since lead the club to ninth in the C...</td>\n",
       "      <td>0.300000</td>\n",
       "      <td>0.214286</td>\n",
       "      <td>0.250000</td>\n",
       "      <td>0.250000</td>\n",
       "      <td>0.178571</td>\n",
       "      <td>0.208333</td>\n",
       "    </tr>\n",
       "    <tr>\n",
       "      <th>3</th>\n",
       "      <td>Real Madrid? We'll see.</td>\n",
       "      <td>Fiorentina goalkeeper Neto has been linked with Liverpool and Arsenal .\\nNeto joined Firoentina from Brazilian outfit Atletico Paranaense in 2011 .\\nHe is also wanted by PSG and Spanish clubs, acc...</td>\n",
       "      <td>0.000000</td>\n",
       "      <td>0.000000</td>\n",
       "      <td>0.000000</td>\n",
       "      <td>0.000000</td>\n",
       "      <td>0.000000</td>\n",
       "      <td>0.000000</td>\n",
       "    </tr>\n",
       "    <tr>\n",
       "      <th>4</th>\n",
       "      <td>Scroll down for video . She filed for divorce in September 2014, citing 'irreconcilable differences'. Reports also emerged over the past week that he has received a breast enhancement. 'Bruce had ...</td>\n",
       "      <td>Tell-all interview with the reality TV star, 69, will air on Friday April 24 .\\nIt comes amid continuing speculation about his transition to a woman and following his involvement in a deadly car c...</td>\n",
       "      <td>0.137500</td>\n",
       "      <td>0.224490</td>\n",
       "      <td>0.170543</td>\n",
       "      <td>0.125000</td>\n",
       "      <td>0.204082</td>\n",
       "      <td>0.155039</td>\n",
       "    </tr>\n",
       "  </tbody>\n",
       "</table>\n",
       "</div>"
      ],
      "text/plain": [
       "                                                                                                                                                                                                 summaries  \\\n",
       "0  Ever noticed how plane seats appear to be getting smaller and smaller? With increasing numbers of people taking to the skies, some experts are questioning if having such packed out planes is putti...   \n",
       "1                'We then handed him over to the police.' 'I was drunk and thought I'd stand a good chance.' A police spokesman said: 'He has been cautioned and will be sent for psychiatric evaluation.    \n",
       "2                                        Dougie Freedman is on the verge of agreeing a new two-year deal to remain at Nottingham Forest. Dougie Freedman is set to sign a new deal at Nottingham Forest .    \n",
       "3                                                                                                                                                                                 Real Madrid? We'll see.    \n",
       "4  Scroll down for video . She filed for divorce in September 2014, citing 'irreconcilable differences'. Reports also emerged over the past week that he has received a breast enhancement. 'Bruce had ...   \n",
       "\n",
       "                                                                                                                                                                                        original_summaries  \\\n",
       "0  Experts question if  packed out planes are putting passengers at risk .\\nU.S consumer advisory group says minimum space must be stipulated .\\nSafety tests conducted on planes with more leg room th...   \n",
       "1  Drunk teenage boy climbed into lion enclosure at zoo in west India .\\nRahul Kumar, 17, ran towards animals shouting 'Today I kill a lion!'\\nFortunately he fell into a moat before reaching lions an...   \n",
       "2  Nottingham Forest are close to extending Dougie Freedman's contract .\\nThe Forest boss took over from former manager Stuart Pearce in February .\\nFreedman has since lead the club to ninth in the C...   \n",
       "3  Fiorentina goalkeeper Neto has been linked with Liverpool and Arsenal .\\nNeto joined Firoentina from Brazilian outfit Atletico Paranaense in 2011 .\\nHe is also wanted by PSG and Spanish clubs, acc...   \n",
       "4  Tell-all interview with the reality TV star, 69, will air on Friday April 24 .\\nIt comes amid continuing speculation about his transition to a woman and following his involvement in a deadly car c...   \n",
       "\n",
       "   rouge_1_p  rouge_1_r  rouge_1_f  rouge_L_p  rouge_L_r  rouge_L_f  \n",
       "0   0.136364   0.454545   0.209790   0.127273   0.424242   0.195804  \n",
       "1   0.090909   0.088235   0.089552   0.060606   0.058824   0.059701  \n",
       "2   0.300000   0.214286   0.250000   0.250000   0.178571   0.208333  \n",
       "3   0.000000   0.000000   0.000000   0.000000   0.000000   0.000000  \n",
       "4   0.137500   0.224490   0.170543   0.125000   0.204082   0.155039  "
      ]
     },
     "execution_count": 41,
     "metadata": {},
     "output_type": "execute_result"
    }
   ],
   "source": [
    "df_tfidf = pd.DataFrame()\n",
    "\n",
    "df_tfidf['summaries'] = abstract_tfidf\n",
    "\n",
    "df_tfidf['original_summaries'] = introduction_tfidf\n",
    "\n",
    "# Initialize the ROUGE scorer\n",
    "rouge = Rouge()\n",
    "\n",
    "# Initialize lists to store results\n",
    "\n",
    "rouge_1_p = []  # ROUGE-1 Precision\n",
    "rouge_1_r = []  # ROUGE-1 Recall\n",
    "rouge_1_f = []  # ROUGE-1 F1\n",
    "rouge_l_p = []  # ROUGE-L Precision\n",
    "rouge_l_r = []  # ROUGE-L Recall\n",
    "rouge_l_f = []  # ROUGE-L F1\n",
    "\n",
    "for i, row in df_tfidf.iterrows():\n",
    "    scores = get_rouge_score(row['summaries'], row['original_summaries'])\n",
    "    rouge_1_p.append(scores[0]['rouge-1']['p'])\n",
    "    rouge_1_r.append(scores[0]['rouge-1']['r'])\n",
    "    rouge_1_f.append(scores[0]['rouge-1']['f'])\n",
    "    rouge_l_p.append(scores[0]['rouge-l']['p'])\n",
    "    rouge_l_r.append(scores[0]['rouge-l']['r'])\n",
    "    rouge_l_f.append(scores[0]['rouge-l']['f'])\n",
    "\n",
    "\n",
    "df_tfidf['rouge_1_p'] = rouge_1_p\n",
    "df_tfidf['rouge_1_r'] = rouge_1_r\n",
    "df_tfidf['rouge_1_f'] = rouge_1_f\n",
    "df_tfidf['rouge_L_p'] = rouge_l_p\n",
    "df_tfidf['rouge_L_r'] = rouge_l_r\n",
    "df_tfidf['rouge_L_f'] = rouge_l_f\n",
    "\n",
    "\n",
    "df_tfidf.head()"
   ]
  },
  {
   "cell_type": "markdown",
   "metadata": {},
   "source": [
    "# Rouge-l Recall\n",
    "ROUGE-L recall is a critical metric in text summarization evaluation because it places a strong emphasis on capturing the longest common subsequence between the generated summary and the reference summary. This is particularly valuable because it:\n",
    "\n",
    "- Assesses Content Overlap: ROUGE-L recall evaluates how well the generated summary captures the most important content from the reference summary. It ensures that the key information in the original text is retained in the summary.\n",
    "\n",
    "- Considers Sequencing: It takes into account the order in which words appear in the summaries. This means that not only should the same words be present, but they should also be arranged in a coherent and logical sequence.\n",
    "\n",
    "- Emphasizes Quality: ROUGE-L recall prioritizes the quality of the summary over its length. It encourages the generation of concise summaries that faithfully represent the source text's essential information.\n",
    "\n",
    "- Sensitive to Substantial Content: Longer common subsequences are more likely to represent significant content. ROUGE-L recall ensures that the most vital parts of the text are included in the summary, helping to maintain its informativeness.\n",
    "\n",
    "- Performance Assessment: In the context of summarization, evaluating recall is crucial because it measures how well the system remembers and includes critical information. This is a fundamental aspect of evaluating the overall effectiveness of a summary.\n",
    "\n",
    "In essence, ROUGE-L recall is a vital metric in text summarization as it assesses content fidelity, structure, and the ability to capture essential information, aligning well with the objectives of text summarization."
   ]
  },
  {
   "cell_type": "code",
   "execution_count": 43,
   "metadata": {},
   "outputs": [
    {
     "data": {
      "text/html": [
       "<div>\n",
       "<style scoped>\n",
       "    .dataframe tbody tr th:only-of-type {\n",
       "        vertical-align: middle;\n",
       "    }\n",
       "\n",
       "    .dataframe tbody tr th {\n",
       "        vertical-align: top;\n",
       "    }\n",
       "\n",
       "    .dataframe thead th {\n",
       "        text-align: right;\n",
       "    }\n",
       "</style>\n",
       "<table border=\"1\" class=\"dataframe\">\n",
       "  <thead>\n",
       "    <tr style=\"text-align: right;\">\n",
       "      <th></th>\n",
       "      <th>summaries</th>\n",
       "      <th>original_summaries</th>\n",
       "      <th>rouge_1_p</th>\n",
       "      <th>rouge_1_r</th>\n",
       "      <th>rouge_1_f</th>\n",
       "      <th>rouge_L_p</th>\n",
       "      <th>rouge_L_r</th>\n",
       "      <th>rouge_L_f</th>\n",
       "    </tr>\n",
       "  </thead>\n",
       "  <tbody>\n",
       "    <tr>\n",
       "      <th>6981</th>\n",
       "      <td>This incredible video shows the moment a world freediving champion jumped into the world’s second deepest underwater sink hole. French free diver jumped into Dean's Blue Hole in the Bahamas. Guill...</td>\n",
       "      <td>French free diver  jumped into Dean's Blue Hole in the Bahamas .\\nGuillame Néry is seen at the edge before taking the plunge .\\nThe hole is 660ft (200 metres) deep, although he doesn't go to the b...</td>\n",
       "      <td>0.360656</td>\n",
       "      <td>1.00000</td>\n",
       "      <td>0.530120</td>\n",
       "      <td>0.360656</td>\n",
       "      <td>1.00000</td>\n",
       "      <td>0.530120</td>\n",
       "    </tr>\n",
       "    <tr>\n",
       "      <th>2563</th>\n",
       "      <td>Bangladesh beat fellow World Cup quarter-finalists Pakistan by 79 runs in the first one-day international in Dhaka. Tamim Iqbal and Mushfiqur Rahim scored centuries as Bangladesh made 329 for six ...</td>\n",
       "      <td>Bangladesh beat fellow World Cup quarter-finalists Pakistan by 79 runs .\\nTamim Iqbal and Mushfiqur Rahim scored centuries for Bangladesh .\\nBangladesh made 329 for six and Pakistan could only mus...</td>\n",
       "      <td>0.389474</td>\n",
       "      <td>1.00000</td>\n",
       "      <td>0.560606</td>\n",
       "      <td>0.389474</td>\n",
       "      <td>1.00000</td>\n",
       "      <td>0.560606</td>\n",
       "    </tr>\n",
       "    <tr>\n",
       "      <th>6449</th>\n",
       "      <td>Spanish researchers say climate change impacted human migration. Until 1.4 million years ago it was too cold to inhabit southeast Spain. But then the climate warmed to 13°C (55°F) and became more ...</td>\n",
       "      <td>Spanish researchers say climate change impacted human migration .\\nUntil 1.4 million years ago it was too cold to inhabit southeast Spain .\\nBut then the climate warmed to 13°C (55°F) and became m...</td>\n",
       "      <td>0.352941</td>\n",
       "      <td>1.00000</td>\n",
       "      <td>0.521739</td>\n",
       "      <td>0.352941</td>\n",
       "      <td>1.00000</td>\n",
       "      <td>0.521739</td>\n",
       "    </tr>\n",
       "    <tr>\n",
       "      <th>5013</th>\n",
       "      <td>Genetically engineering plants and crops to change their DNA has been a cause of much controversy in recent years. Scientists in Belgium say all sweet potatoes (stock image shown) contain 'foreign...</td>\n",
       "      <td>Scientists in Belgium say all sweet potatoes contain 'foreign DNA'\\nAgrobacterium bacteria in the crop exchanges genes between species .\\nThis makes sweet potatoes a 'natural genetically modified ...</td>\n",
       "      <td>0.364583</td>\n",
       "      <td>1.00000</td>\n",
       "      <td>0.534351</td>\n",
       "      <td>0.364583</td>\n",
       "      <td>1.00000</td>\n",
       "      <td>0.534351</td>\n",
       "    </tr>\n",
       "    <tr>\n",
       "      <th>663</th>\n",
       "      <td>The common ancestor of humans may have had tentacles, a scientist has claimed. It seemingly puts to bed another theory that suggests our ancestors were much more simple, worm-like creatures. A Rus...</td>\n",
       "      <td>Russian scientist says distant ancestor of humans had tentacles .\\nThey lived more than 540 million years ago and used them for food .\\nIt's likely they also had a complex nervous system like we d...</td>\n",
       "      <td>0.282759</td>\n",
       "      <td>0.97619</td>\n",
       "      <td>0.438503</td>\n",
       "      <td>0.282759</td>\n",
       "      <td>0.97619</td>\n",
       "      <td>0.438503</td>\n",
       "    </tr>\n",
       "  </tbody>\n",
       "</table>\n",
       "</div>"
      ],
      "text/plain": [
       "                                                                                                                                                                                                    summaries  \\\n",
       "6981  This incredible video shows the moment a world freediving champion jumped into the world’s second deepest underwater sink hole. French free diver jumped into Dean's Blue Hole in the Bahamas. Guill...   \n",
       "2563  Bangladesh beat fellow World Cup quarter-finalists Pakistan by 79 runs in the first one-day international in Dhaka. Tamim Iqbal and Mushfiqur Rahim scored centuries as Bangladesh made 329 for six ...   \n",
       "6449  Spanish researchers say climate change impacted human migration. Until 1.4 million years ago it was too cold to inhabit southeast Spain. But then the climate warmed to 13°C (55°F) and became more ...   \n",
       "5013  Genetically engineering plants and crops to change their DNA has been a cause of much controversy in recent years. Scientists in Belgium say all sweet potatoes (stock image shown) contain 'foreign...   \n",
       "663   The common ancestor of humans may have had tentacles, a scientist has claimed. It seemingly puts to bed another theory that suggests our ancestors were much more simple, worm-like creatures. A Rus...   \n",
       "\n",
       "                                                                                                                                                                                           original_summaries  \\\n",
       "6981  French free diver  jumped into Dean's Blue Hole in the Bahamas .\\nGuillame Néry is seen at the edge before taking the plunge .\\nThe hole is 660ft (200 metres) deep, although he doesn't go to the b...   \n",
       "2563  Bangladesh beat fellow World Cup quarter-finalists Pakistan by 79 runs .\\nTamim Iqbal and Mushfiqur Rahim scored centuries for Bangladesh .\\nBangladesh made 329 for six and Pakistan could only mus...   \n",
       "6449  Spanish researchers say climate change impacted human migration .\\nUntil 1.4 million years ago it was too cold to inhabit southeast Spain .\\nBut then the climate warmed to 13°C (55°F) and became m...   \n",
       "5013  Scientists in Belgium say all sweet potatoes contain 'foreign DNA'\\nAgrobacterium bacteria in the crop exchanges genes between species .\\nThis makes sweet potatoes a 'natural genetically modified ...   \n",
       "663   Russian scientist says distant ancestor of humans had tentacles .\\nThey lived more than 540 million years ago and used them for food .\\nIt's likely they also had a complex nervous system like we d...   \n",
       "\n",
       "      rouge_1_p  rouge_1_r  rouge_1_f  rouge_L_p  rouge_L_r  rouge_L_f  \n",
       "6981   0.360656    1.00000   0.530120   0.360656    1.00000   0.530120  \n",
       "2563   0.389474    1.00000   0.560606   0.389474    1.00000   0.560606  \n",
       "6449   0.352941    1.00000   0.521739   0.352941    1.00000   0.521739  \n",
       "5013   0.364583    1.00000   0.534351   0.364583    1.00000   0.534351  \n",
       "663    0.282759    0.97619   0.438503   0.282759    0.97619   0.438503  "
      ]
     },
     "execution_count": 43,
     "metadata": {},
     "output_type": "execute_result"
    }
   ],
   "source": [
    "sorted_df = df_tfidf.sort_values(by=['rouge_1_r'], ascending=False)\n",
    "sorted_df.reset_index(drop=True)\n",
    "\n",
    "top_5_rows = sorted_df.head(5)\n",
    "\n",
    "top_5_rows"
   ]
  },
  {
   "cell_type": "markdown",
   "metadata": {},
   "source": [
    "# Getting average rouge score"
   ]
  },
  {
   "cell_type": "code",
   "execution_count": 44,
   "metadata": {},
   "outputs": [],
   "source": [
    "avg_precision = df_tfidf['rouge_1_p'].mean()\n",
    "avg_recall = df_tfidf['rouge_1_r'].mean()\n",
    "avg_f1 = df_tfidf['rouge_1_f'].mean()\n",
    "avg_l_precision = df_tfidf['rouge_L_p'].mean()\n",
    "avg_l_recall = df_tfidf['rouge_L_r'].mean()\n",
    "avg_l_f1 = df_tfidf['rouge_L_f'].mean()"
   ]
  },
  {
   "cell_type": "code",
   "execution_count": 45,
   "metadata": {},
   "outputs": [
    {
     "name": "stdout",
     "output_type": "stream",
     "text": [
      "Average ROUGE-1 Precision:  0.1843339164898426\n",
      "Average ROUGE-1 Recall:  0.3177265870616042\n",
      "Average ROUGE-1 F1:  0.21824338563616905\n",
      "Average ROUGE-L Precision:  0.1741664523212486\n",
      "Average ROUGE-L Recall:  0.3004502518561328\n",
      "Average ROUGE-L F1:  0.20621636978713345\n"
     ]
    }
   ],
   "source": [
    "# Print the results\n",
    "print(\"Average ROUGE-1 Precision: \", avg_precision)\n",
    "print(\"Average ROUGE-1 Recall: \", avg_recall)\n",
    "print(\"Average ROUGE-1 F1: \", avg_f1)\n",
    "print(\"Average ROUGE-L Precision: \", avg_l_precision)\n",
    "print(\"Average ROUGE-L Recall: \", avg_l_recall)\n",
    "print(\"Average ROUGE-L F1: \", avg_l_f1)"
   ]
  },
  {
   "cell_type": "markdown",
   "metadata": {},
   "source": [
    "## Analysis - Recall\n",
    "\n",
    "**Recall** measures the proportion of relevant information that our summarization model successfully captures from the source articles and presents in the generated summaries. In our business case, a higher recall score indicates that our model is effective at retrieving and including important content from news articles in the summaries. This is crucial as it ensures that readers and businesses are well-informed and that the generated summaries are a valuable source of information.\n",
    "Interpretation:\n",
    "\n",
    "- ROUGE-L Recall Score (0.3002): The ROUGE-L Recall score of 0.3002 indicates that our summarization model captures approximately 30.02% of the content present in the reference \"highlights.\" This signifies that TFIDF model is fairly effective at recalling important content from the reference summaries.\n",
    "\n",
    "- Information Retrieval: A higher ROUGE-L Recall score suggests that our summarization model is successful at retrieving critical information and core concepts from the source CNN/DailyMail articles. It aligns with our goal of efficiently summarizing news content.\n",
    "\n",
    "- Enhanced Understanding: The ROUGE-L Recall score suggests that the summaries generated by our model provide a substantial amount of information that is present in the reference \"highlights.\" This is valuable for enhancing the understanding of complex news topics.\n",
    "\n",
    "- Supporting Market Research: For our goal of enhancing market research, a higher ROUGE-L Recall score is beneficial. It implies that our model is adept at capturing market-relevant information from the source articles, which is essential for tracking news developments and gaining insights into the business environment.\n",
    "\n",
    "#### Implications:\n",
    "\n",
    "- Information Access and Time Efficiency: The high ROUGE-L Recall score indicates that our summarization model efficiently retrieves essential information. This can save time for individuals and businesses as they quickly grasp key points from news articles.\n",
    "\n",
    "- Improved Understanding: The model's ability to capture content from the \"highlights\" enhances the accessibility of complex topics. This is beneficial for individuals looking to better understand important news and events.\n",
    "\n",
    "- Critical Thinking and Broader Perspective: Readers can efficiently scan summaries from multiple sources to gain a well-rounded view of a topic. This promotes critical thinking and a broader perspective, aligning with our business case's goal.\n",
    "\n",
    "- Market Intelligence and Adaptation: The high ROUGE-L Recall score indicates that businesses can effectively use the generated summaries for competitive intelligence and market research. Staying updated on industry developments and adapting to market changes becomes more feasible.\n",
    "\n",
    "- Market Research and Content Curation: Summarization supports market research by summarizing customer sentiment, emerging trends, and competitor strategies. Additionally, it facilitates content curation for media companies and content aggregators, ultimately improving user engagement and retention.\n",
    "\n"
   ]
  },
  {
   "cell_type": "markdown",
   "metadata": {},
   "source": [
    "# Iteration 2 - Seq2Seq (Run in Google Colab)\n",
    "The next iteration of modeling that was deployed was an RNN Seq2Seq Model using google colab. The use of google colab was necessary due to the high RAM needs of running the model itself. Here is a description of the modeling process that was used in the notebook:\n",
    "\n",
    "### Attention Layer\n",
    "An attention layer is a critical component in modern neural network architectures, particularly in sequence-to-sequence models, and it plays a fundamental role in enhancing the model's ability to focus on specific parts of input data. Here's an explanation of the concept of an attention layer:\n",
    "\n",
    "1. Purpose of Attention: The primary purpose of an attention layer is to enable a neural network to \"pay attention\" to different parts of the input sequence when making predictions. It allows the model to assign varying degrees of importance or relevance to different elements in the input sequence.\n",
    "\n",
    "2. Sequences and Alignment: Attention layers are commonly used in tasks involving sequences, such as machine translation, text summarization, and speech recognition. When processing sequences, it's important to consider the alignment between the elements of the input and output sequences. The attention mechanism helps in aligning these sequences.\n",
    "\n",
    "3. Mechanism: The attention mechanism works by computing a weighted sum of the elements in the input sequence, where the weights are dynamically determined based on the context of the current decoding step. In other words, it identifies which parts of the input sequence are most relevant for generating the current output.\n",
    "\n",
    "4. Calculation of Attention Weights: Attention weights are calculated by comparing the current state of the model (decoder) to each element in the input sequence. These comparisons are often performed using a similarity function, such as dot product or cosine similarity. The results are then transformed into probabilities using a softmax function, making them sum to 1.\n",
    "\n",
    "### Benefits:\n",
    "\n",
    "- Enhanced Performance: Attention mechanisms have significantly improved the performance of sequence-to-sequence models in various NLP tasks.\n",
    "- Handling Variable-Length Sequences: Attention allows the model to handle input sequences of variable length and generate output sequences of varying length.\n",
    "- Improved Interpretability: Attention mechanisms provide insights into which parts of the input data are influential in making specific predictions.\n",
    "\n",
    "\n",
    "A Seq2Seq (Sequence-to-Sequence) model is a type of neural network architecture designed for various natural language processing (NLP) tasks, including text summarization. The primary purpose of a Seq2Seq model is to transform input sequences into output sequences of varying lengths. In the context of text summarization, it's used to convert long articles or documents into shorter, coherent summaries. \n",
    "\n",
    "Here's an overview of the steps involved in preparing, building, and deploying a Seq2Seq model for encoder-decoder text summarization:\n",
    "\n",
    "\n",
    "###  Building the Seq2Seq Model - 3 Stacked LSTM\n",
    "\n",
    "Lets first have a look at a visual of how an LSTM model looks:\n",
    "\n",
    "![encoder_decoder](./images/enncoder_decoder.png)\n",
    "\n",
    "Some important terminologies\n",
    "\n",
    "- `Return Sequences = True`: When the return sequences parameter is set to True, LSTM produces the hidden state and cell state for every timestep\n",
    "- `Return State = True`: When return state = True, LSTM produces the hidden state and cell state of the last timestep only\n",
    "- `Initial State`: This is used to initialize the internal states of the LSTM for the first timestep\n",
    "- `latent_dim`: It denotes the number of hidden units.\n",
    "\n",
    "The model took over 2 hours to run and was done in google colab due to the high RAM demand. Here is a snapshot of the model summary:\n",
    "\n",
    "![model_summary_lstm](./images/seq2seq_model_summary.png)\n",
    "\n",
    "\n",
    "And here is a snapshot of the model being compiled:\n",
    "\n",
    "![model_compilation](./images/model_compilation.png)\n",
    "\n",
    "\n",
    "## Epoch vs Val Loss\n",
    "![loss_function](./images/loss_function.png)\n"
   ]
  },
  {
   "cell_type": "markdown",
   "metadata": {},
   "source": [
    "# Accessing the Notebook"
   ]
  },
  {
   "cell_type": "markdown",
   "metadata": {},
   "source": [
    "- Due to the absurdly high GPU demand, the RNN model was run in google colab with the help of GPU runtime. \n",
    "\n",
    "Access the notebook [here](https://colab.research.google.com/drive/11kJO7o52TKAnjS2fnDLYp4TWvwXJLRQ_?usp=sharing) and make a copy if you wish to use the notebook. \n",
    "\n",
    "***WARNING*** this notebook requires a high demand of RAM to run and likely will crash if you do not have RAM up to 40GB. Please just view the notebook if you do not have the processing power to do so.\n",
    "\n",
    "[This is the link](https://github.com/andrewkoji/Capstone_Text_Summarization_Model/blob/main/Seq2Seq_Model_Attn_Layer_text_summarizer.ipynb) to the notebook in the github repository if you would like to just view the notebook and its results. "
   ]
  },
  {
   "cell_type": "markdown",
   "metadata": {},
   "source": [
    "# Results\n",
    "Review: least migrants trying reach europe libya killed boat capsized emerged tonight also claimed body one migrant died another boat making perilous trip north africa italy tossed overboard trafficker circling sharks stories emerged migrants took advantage calm weather cross mediterranean past weekend scroll video rescued italian coast guard involved operation rescue migrants coast sicily april treatment refugee stretchered italian coast guard vessel palermo harbour italy april pregnant woman helped boat sicilian porto empedocle harbor monday italy coast guard helped save migrants monday capsized boat waters libya red cross volunteer carries baby wrapped blanket migrants disembarked sicilian porto empedocle harbor italy monday charity save children said capsized boat carrying people flipped around hours leaving libyan coast survivors mostly sub saharan africa rescued brought italian port monday weekend migrants already died crossing mediterranean far year number sharp rise period said geneva based international organisation migration migrants arrived italy last year packed boats people smugglers yesterday alleged trafficker one boat threw migrant overboard died asphyxiation hold vessel witnesses said body attacked sharks following boat suspected people smuggler guinea arrested sicily rescued along passengers thought also face manslaughter charges february people drowned attempting crossing cold weather rough seas saved rescued migrants onboard italian finance guard boat porto empedocle sicily april migrants arrived italy last year packed boats people smugglers calm weather migrants coast guard boat arrive sicilian porto empedocle harbor italy monday italian coast guard taking part rescue operation coast sicily april migrants took advantage calm weather cross mediterranean past weekend number migrant boats trying reach eu africa risen recent weeks fine weather makes route safer total rescued since friday reached boats italian coast guard navy ships merchant vessels delivered migrants rescued boats italian ports throughout yesterday pregnant woman board one italian navy ship died journey shore another pregnant migrant eritrea gave birth meanwhile eu frontex border agency said traffickers trying recover boat fired shots air warn away coastguard sparking concerns safety rescue workers migrants save children humanitarian groups called eu bolster rescue operations number boats soars summer usually italian coast guard said monday recovered nine bodies boat carrying migrants sank coast libya number migrant boats trying reach eu africa risen recent weeks fine weather makes route safer total rescued since friday reached boats migrants arrive sicilian porto empedocle harbor italy monday total rescued since friday reached boats migrant wheeled hospital malta flown island woman believed somali italy handles largest number migrant arrivals eu become increasingly alarmed breakdown law order libya home two rival governments loosely aligned militia forces growing militant islamist movement giovanna di save children official assisted new arrivals told times year old nigerian whose brother killed muslim fundamentalists told tortured electric shocks traffickers money travel many talking fleeing fundamentalists dimitris eu commissioner migration said europe must adapt deal rising numbers migrants unprecedented influx migrants borders particular refugees unfortunately new norm said brussels people entered eu illegally last year many travelled syria eritrea somalia libya made perilous journey across sea italy \n",
    "\n",
    "Original summary: around migrants trying to reach europe died when their boat capsized body of one migrant on another vessel was thrown to sharks stories emerged after more than crossed mediterranean at weekend \n",
    "\n",
    "Predicted summary: the and to the in the in the the the the the the the the the the the the the the the the the the the the the the the the\n",
    "\n",
    "Rouge Score-l recall: 0.0\n",
    "\n",
    "As you can see above, the model performed poorly, producing incoherent text that failed to provide any sort of summary to the article. The Rouge score indicates that there is virtually no overlap to the article. \n",
    "\n",
    "\n",
    "## Why the model failed...\n",
    "\n",
    "The failure of this model is likely due to its complexity. This model would likely perform better on smaller size text but on larger paragraphs it fails to extract key information. \n"
   ]
  },
  {
   "cell_type": "markdown",
   "metadata": {},
   "source": [
    "# Iteration 3 - BART out of the box model\n",
    "\n",
    "Click [here](https://huggingface.co/facebook/bart-large-cnn) for the link to the BART model\n",
    "\n",
    "## BART (large-sized model), fine-tuned on CNN Daily Mail\n",
    "BART model pre-trained on English language, and fine-tuned on CNN Daily Mail. It was introduced in the paper BART: Denoising Sequence-to-Sequence Pre-training for Natural Language Generation, Translation, and Comprehension by Lewis et al. and first released in [this repository](https://github.com/pytorch/fairseq/tree/master/examples/bart).\n",
    "\n",
    "## Model description\n",
    "- BART is a transformer encoder-encoder (seq2seq) model with a bidirectional (BERT-like) encoder and an autoregressive (GPT-like) decoder. BART is pre-trained by \n",
    "- (1) corrupting text with an arbitrary noising function\n",
    "- (2) learning a model to reconstruct the original text.\n",
    "\n",
    "- BART is particularly effective when fine-tuned for text generation (e.g. summarization, translation) but also works well for comprehension tasks (e.g. text classification, question answering). This particular checkpoint has been fine-tuned on CNN Daily Mail, a large collection of text-summary pairs.\n"
   ]
  },
  {
   "cell_type": "code",
   "execution_count": 2,
   "metadata": {},
   "outputs": [],
   "source": [
    "from transformers import pipeline"
   ]
  },
  {
   "cell_type": "code",
   "execution_count": 49,
   "metadata": {
    "scrolled": true
   },
   "outputs": [
    {
     "name": "stdout",
     "output_type": "stream",
     "text": [
      "[{'summary_text': \"Cristiano Ronaldo and Lionel Messi have both scored eight Champions League goals this season. But Shakhtar Donetsk's Luiz Adriano has netted on nine occasions. Arsenal and Liverpool are interested in signing the Brazilian. Adriano is out of contract in December and could move to the Premier League. Barcelona and Real Madrid will play in the semi-finals next month. The draw for the last four will take place on Friday.\"}]\n"
     ]
    }
   ],
   "source": [
    "summarizer = pipeline(\"summarization\", model=\"facebook/bart-large-cnn\")\n",
    "\n",
    "ARTICLE = \"\"\"Cristiano Ronaldo and Lionel Messi will go head-to-head once more in the race to be this season's top scorer in the Champions League – although Luiz Adriano threatens to spoil the party. \n",
    "            Both Barcelona and Real Madrid booked their spots in the semi-finals this week with victories over Paris Saint-Germain and Atletico Madrid respectively. \n",
    "            The planet's best footballers have scored eight times in Europe this season. But Shakhtar Donetsk’s Adriano, courted by Arsenal and Liverpool, has netted on nine occasions this term. \n",
    "            Cristiano Ronaldo, in action against Atletico Madrid on Wednesday evening, has scored eight goals in Europe . \n",
    "            Lionel Messi also has eight goals in the Champions League this term; one fewer than Luiz Adriano . \n",
    "            Ronaldo and Messi will both play at least two more times after Real Madrid and Barcelona reached the last four . \n",
    "            Adriano, who moved to Donetsk in 2007, scored five against BATE Borsiov in the group stages. \n",
    "            His performance that night made history, with the 27-year-old becoming only the second player to score five times in a Champions League game. \n",
    "            The other was Messi for Barcelona against Bayer Leverkusen in 2012. He also scored the third quickest hat-trick in the competition's history (12 minutes) as the Ukrainian side, knocked out by Bayern Munich in the round of 16, racked up the biggest-ever half-time lead (6-0) in Europe's premier tournament. \n",
    "            ‘I am in a good moment of my career and we'll do what will be best for me and for the club,’ said Adriano last month when quizzed over his future. \n",
    "            Adriano, who netted five times against BATE Borisov in the group, has scored more goals than any other player in the Champions League... he is out of contract in December and could move to the Premier League . \n",
    "            ‘With my contract set to expire and many good performances, it'll be difficult to stay in Ukraine.’ Arsenal have sent scouts to watch Adriano in recent months, while Liverpool are also keen on the Brazilian. \n",
    "            His contract with Shakhtar Donetsk runs out at the end of the year. Ronaldo and Messi however, remain in pole-position to top the scoring charts with Barcelona and Real Madrid both in the hat for the two-legged semi-finals to be played next month. \n",
    "            Of the teams still in the pot, Neymar and Luis Suarez of Barcelona, Real Madrid's Karim Benzema and former Manchester United and City striker Carlos Tevez, now plying his trade for Juventus, each have six goals. \n",
    "            The draw for the last four will take place on Friday.\"\"\"\n",
    "print(summarizer(ARTICLE, max_length=130, min_length=75, do_sample=False))\n"
   ]
  },
  {
   "cell_type": "code",
   "execution_count": 50,
   "metadata": {},
   "outputs": [
    {
     "data": {
      "text/plain": [
       "\"Luiz Adriano scored nine times for Shakhtar Donetsk in Europe this season .\\nThe Brazilian is out of contract at the end of the year... both Arsenal and Liverpool are interested in signing the 27-year-old .\\nCristiano Ronaldo and Lionel Messi have netted eight goals this season .\\nReal Madrid and Barcelona both in the Champions League semi-finals .\\nREAD: Our reporters have their say on who will win the Champions League .\\nCLICK HERE for Sportsmail's guide to the Champions League final four .\""
      ]
     },
     "execution_count": 50,
     "metadata": {},
     "output_type": "execute_result"
    }
   ],
   "source": [
    "df['highlights'][1000]"
   ]
  },
  {
   "cell_type": "code",
   "execution_count": 51,
   "metadata": {
    "scrolled": true
   },
   "outputs": [],
   "source": [
    "df_bart = df[df['articleWordCount'] <= 750]"
   ]
  },
  {
   "cell_type": "code",
   "execution_count": 52,
   "metadata": {},
   "outputs": [],
   "source": [
    "import textwrap"
   ]
  },
  {
   "cell_type": "code",
   "execution_count": 53,
   "metadata": {},
   "outputs": [],
   "source": [
    "def wrap(x):\n",
    "    return textwrap.fill(x,replace_whitespace=False,fix_sentence_endings=True)"
   ]
  },
  {
   "cell_type": "code",
   "execution_count": 54,
   "metadata": {},
   "outputs": [],
   "source": [
    "def summary_trf(num):\n",
    "    print('Original Article\\n')\n",
    "    print(wrap(df_bart['article'][num]))\n",
    "    print('\\nSummary')\n",
    "    result = summarizer(df_bart['article'][num])\n",
    "    return result[0]['summary_text']"
   ]
  },
  {
   "cell_type": "code",
   "execution_count": 55,
   "metadata": {},
   "outputs": [
    {
     "name": "stdout",
     "output_type": "stream",
     "text": [
      "Original Article\n",
      "\n",
      "A drunk teenage boy had to be rescued by security after jumping into a\n",
      "lions' enclosure at a zoo in western India.  Rahul Kumar, 17,\n",
      "clambered over the enclosure fence at the Kamla Nehru Zoological Park\n",
      "in Ahmedabad, and began running towards the animals, shouting he would\n",
      "'kill them'. Mr Kumar explained afterwards that he was drunk and\n",
      "'thought I'd stand a good chance' against the predators.  Next level\n",
      "drunk: Intoxicated Rahul Kumar, 17, climbed into the lions' enclosure\n",
      "at a zoo in Ahmedabad and began running towards the animals shouting\n",
      "'Today I kill a lion!'  Mr Kumar had been sitting near the enclosure\n",
      "when he suddenly made a dash for the lions, surprising zoo security.\n",
      "The intoxicated teenager ran towards the lions, shouting: 'Today I\n",
      "kill a lion or a lion kills me!'  A zoo spokesman said: 'Guards had\n",
      "earlier spotted him close to the enclosure but had no idea he was\n",
      "planing to enter it.  'Fortunately, there are eight moats to cross\n",
      "before getting to where the lions usually are and he fell into the\n",
      "second one, allowing guards to catch up with him and take him out.\n",
      "'We then handed him over to the police.'  Brave fool: Fortunately, Mr\n",
      "Kumar  fell into a moat as he ran towards the lions and could be\n",
      "rescued by zoo security staff before reaching the animals (stock\n",
      "image) Kumar later explained: 'I don't really know why I did it.  'I\n",
      "was drunk and thought I'd stand a good chance.'  A police spokesman\n",
      "said: 'He has been cautioned and will be sent for psychiatric\n",
      "evaluation.  'Fortunately for him, the lions were asleep and the zoo\n",
      "guards acted quickly enough to prevent a tragedy similar to that in\n",
      "Delhi.'  Last year a 20-year-old man was mauled to death by a tiger in\n",
      "the Indian capital after climbing into its enclosure at the city zoo.\n",
      "\n",
      "Summary\n"
     ]
    },
    {
     "data": {
      "text/plain": [
       "\"Rahul Kumar, 17, clambered over enclosure fence at\\xa0Kamla Nehru Zoological Park. He ran towards the animals shouting 'Today I kill a lion or a lion kills me!' Fortunately, Mr Kumar fell into a moat and was rescued by zoo security. He has been cautioned and will be sent for psychiatric evaluation.\""
      ]
     },
     "execution_count": 55,
     "metadata": {},
     "output_type": "execute_result"
    }
   ],
   "source": [
    "summary_trf(1)"
   ]
  },
  {
   "cell_type": "code",
   "execution_count": 56,
   "metadata": {},
   "outputs": [],
   "source": [
    "result = summarizer(df_bart['article'][1])[0]['summary_text']"
   ]
  },
  {
   "cell_type": "code",
   "execution_count": 57,
   "metadata": {
    "scrolled": true
   },
   "outputs": [
    {
     "data": {
      "text/plain": [
       "\"Rahul Kumar, 17, clambered over enclosure fence at\\xa0Kamla Nehru Zoological Park. He ran towards the animals shouting 'Today I kill a lion or a lion kills me!' Fortunately, Mr Kumar fell into a moat and was rescued by zoo security. He has been cautioned and will be sent for psychiatric evaluation.\""
      ]
     },
     "execution_count": 57,
     "metadata": {},
     "output_type": "execute_result"
    }
   ],
   "source": [
    "result"
   ]
  },
  {
   "cell_type": "code",
   "execution_count": 59,
   "metadata": {},
   "outputs": [
    {
     "data": {
      "text/plain": [
       "0.6176470588235294"
      ]
     },
     "execution_count": 59,
     "metadata": {},
     "output_type": "execute_result"
    }
   ],
   "source": [
    "get_rouge_score(result,df_bart['highlights'][1])[0]['rouge-l']['r']"
   ]
  },
  {
   "cell_type": "code",
   "execution_count": 60,
   "metadata": {},
   "outputs": [],
   "source": [
    "articles_org = []\n",
    "highlights_org = []\n",
    "for i, row in df_bart.iterrows():\n",
    "    articles_org.append(row['article'])\n",
    "    highlights_org.append(row['highlights'])\n",
    "    if i ==5:\n",
    "        break\n"
   ]
  },
  {
   "cell_type": "code",
   "execution_count": 61,
   "metadata": {
    "scrolled": false
   },
   "outputs": [
    {
     "name": "stdout",
     "output_type": "stream",
     "text": [
      "Predicted Summary: \n",
      "U.S consumer advisory group set up by the Department of Transportation said that while the government is happy to set standards for animals flying on planes, it doesn't stipulate a minimum amount of space for humans. Tests conducted by the FAA use planes with a 31 inch pitch, a standard which on some airlines has decreased. Many economy seats on United Airlines have 30 inches of room, while some airlines offer as little as 28 inches.\n",
      "\n",
      "\n",
      "Reference Summary: \n",
      "Experts question if  packed out planes are putting passengers at risk .\n",
      "U.S consumer advisory group says minimum space must be stipulated .\n",
      "Safety tests conducted on planes with more leg room than airlines offer .\n",
      "\n",
      "\n",
      "Rouge-l Score Recall: \n",
      "0.3939393939393939\n",
      "\n",
      "\n",
      "Predicted Summary: \n",
      "Rahul Kumar, 17, clambered over enclosure fence at Kamla Nehru Zoological Park. He ran towards the animals shouting 'Today I kill a lion or a lion kills me!' Fortunately, Mr Kumar fell into a moat and was rescued by zoo security. He has been cautioned and will be sent for psychiatric evaluation. Last year a 20-year-old man was mauled to death by a tiger in Delhi.\n",
      "\n",
      "\n",
      "Reference Summary: \n",
      "Drunk teenage boy climbed into lion enclosure at zoo in west India .\n",
      "Rahul Kumar, 17, ran towards animals shouting 'Today I kill a lion!'\n",
      "Fortunately he fell into a moat before reaching lions and was rescued .\n",
      "\n",
      "\n",
      "Rouge-l Score Recall: \n",
      "0.6470588235294118\n",
      "\n",
      "\n",
      "Predicted Summary: \n",
      "Dougie Freedman is on the verge of agreeing a new two-year deal. Freedman has stabilised Forest since he replaced Stuart Pearce. Forest made an audacious attempt on the play-off places when Freedman replaced Pearce but have tailed off in recent weeks. That has not prevented Forest's ownership making moves to secure Freedman on a contract for the next two seasons.\n",
      "\n",
      "\n",
      "Reference Summary: \n",
      "Nottingham Forest are close to extending Dougie Freedman's contract .\n",
      "The Forest boss took over from former manager Stuart Pearce in February .\n",
      "Freedman has since lead the club to ninth in the Championship .\n",
      "\n",
      "\n",
      "Rouge-l Score Recall: \n",
      "0.39285714285714285\n",
      "\n",
      "\n",
      "Predicted Summary: \n",
      "Fiorentina goalkeeper Neto is wanted by a number of top European clubs, according to his agent Stefano Castagna. Liverpool were linked with a move for the 25-year-old earlier in the season when Simon Mignolet was dropped from the side. A January move for Neto never materialised but the former Atletico Paranaense keeper looks certain to leave the Florence-based club in the summer.\n",
      "\n",
      "\n",
      "Reference Summary: \n",
      "Fiorentina goalkeeper Neto has been linked with Liverpool and Arsenal .\n",
      "Neto joined Firoentina from Brazilian outfit Atletico Paranaense in 2011 .\n",
      "He is also wanted by PSG and Spanish clubs, according to his agent .\n",
      "CLICK HERE for the latest Liverpool news .\n",
      "\n",
      "\n",
      "Rouge-l Score Recall: \n",
      "0.4864864864864865\n",
      "\n",
      "\n",
      "Predicted Summary: \n",
      "The former Olympian and reality TV star, 65, will speak in a 'far-ranging' interview with Sawyer for a special edition of '20/20' on Friday April 24. The interview comes amid growing speculation about the father-of-six's transition to a woman, and follows closely behind his involvement in a deadly car crash in California in February. Rumors started swirling around Jenner's gender identity last year, when he emerged from a Beverly Hills clinic with his Adam's apple shaved down. His behavior over the past year also fueled speculation as he began embracing an increasingly female appearance.\n",
      "\n",
      "\n",
      "Reference Summary: \n",
      "Tell-all interview with the reality TV star, 69, will air on Friday April 24 .\n",
      "It comes amid continuing speculation about his transition to a woman and following his involvement in a deadly car crash in February .\n",
      "The interview will also be one of Diane Sawyer's first appearances on television following the sudden death of her husband last year .\n",
      "\n",
      "\n",
      "Rouge-l Score Recall: \n",
      "0.6122448979591837\n",
      "\n",
      "\n",
      "Predicted Summary: \n",
      "The prize porker, known as Pigwig, had fallen into the pool in Ringwood, Hampshire. His owners had been taking him for a walk around the garden when the animal plunged into the water and was unable to get out. Two fire crews and a specialist animal rescue team had to use slide boards and strops to haul the huge black pig from the small pool. Firefighters were also called out to rescue a horse which fell into a pool in West Sussex.\n",
      "\n",
      "\n",
      "Reference Summary: \n",
      "Giant pig fell into the swimming pool at his home in Ringwood, Hampshire .\n",
      "It took the efforts of a team of firefighters to winch him out of the water .\n",
      "A wayward horse also had to be rescued from a swimming pool in Sussex .\n",
      "\n",
      "\n",
      "Rouge-l Score Recall: \n",
      "0.5294117647058824\n",
      "\n",
      "\n"
     ]
    }
   ],
   "source": [
    "bart_summaries = []\n",
    "for highlight, article in zip(highlights_org, articles_org):\n",
    "    print(\"Predicted Summary: \")\n",
    "    summary = summarizer(article,max_length=130, min_length=75, do_sample=False)[0]['summary_text']\n",
    "    print(summarizer(article,max_length=130, min_length=75, do_sample=False)[0]['summary_text'])\n",
    "    bart_summaries.append(summary)\n",
    "    print('\\n')\n",
    "    print(\"Reference Summary: \")\n",
    "    print(highlight)\n",
    "    print('\\n')\n",
    "    result = get_rouge_score(summary, highlight)\n",
    "    print(\"Rouge-l Score Recall: \")\n",
    "    print(result[0]['rouge-l']['r'])\n",
    "    print('\\n')"
   ]
  },
  {
   "cell_type": "markdown",
   "metadata": {},
   "source": [
    "## Analysis\n",
    "\n",
    "### Predicted Summary 1:\n",
    "\n",
    "- ROUGE-L Score: 0.3939\n",
    "This summary does not closely match the reference summary in terms of content and structure. It provides some information about a U.S. consumer advisory group and issues with seat space on planes, but it lacks key details present in the reference summary. The ROUGE-L score is relatively low, indicating poor recall and overlap with the reference summary.\n",
    "\n",
    "### Predicted Summary 2:\n",
    "\n",
    "- ROUGE-L Score: 0.6471\n",
    "This summary is a better match to the reference summary, capturing the main incident involving a teenager at a zoo. The ROUGE-L score is relatively high, indicating good recall and overlap with the reference summary.\n",
    "\n",
    "### Predicted Summary 3:\n",
    "\n",
    "- ROUGE-L Score: 0.3929\n",
    "This summary provides information about Dougie Freedman's contract extension but lacks some of the key details from the reference summary. The ROUGE-L score is relatively low, indicating poor recall and overlap with the reference summary.\n",
    "\n",
    "### Predicted Summary 4:\n",
    "\n",
    "- ROUGE-L Score: 0.4865\n",
    "This summary captures the main idea of Fiorentina goalkeeper Neto being wanted by European clubs but is slightly different from the reference summary. The ROUGE-L score suggests reasonable recall and overlap with the reference summary.\n",
    "In summary, the model's performance varies across different examples. It performs reasonably well in some cases, closely matching the reference summary, but less accurately in others, leading to lower ROUGE-L scores. \n",
    "\n",
    "### Predicted Summary 5:\n",
    "\n",
    "- ROUGE-L Score: 0.6122\n",
    "This summary discusses an upcoming interview with a reality TV star amid speculation about their transition to a woman. It also mentions their involvement in a deadly car crash. While the summary captures the main points, there are some differences from the reference summary, such as the age of the TV star. The ROUGE-L score suggests a reasonably good recall and overlap with the reference summary.\n",
    "\n",
    "### Predicted Summary 6:\n",
    "\n",
    "- ROUGE-L Score: 0.5294\n",
    "This summary describes the rescue of a giant pig named Pigwig that fell into a swimming pool in Ringwood, Hampshire. It mentions the involvement of firefighters in rescuing both the pig and a horse that fell into a pool in Sussex. The summary provides a general overview of the events but lacks some details present in the reference summary. The ROUGE-L score suggests moderate recall and overlap with the reference summary\n",
    "\n",
    "\n",
    "### Moving Forward\n",
    "The model may benefit from further training or fine-tuning to improve its summarization quality, especially for complex or nuanced content. Additionally, it's important to note that ROUGE scores are just one way to evaluate summarization quality, and human evaluation and context-specific criteria are often necessary for a comprehensive assessment of the model's performance."
   ]
  },
  {
   "cell_type": "code",
   "execution_count": null,
   "metadata": {},
   "outputs": [],
   "source": []
  }
 ],
 "metadata": {
  "kernelspec": {
   "display_name": "Python 3 (ipykernel)",
   "language": "python",
   "name": "python3"
  },
  "language_info": {
   "codemirror_mode": {
    "name": "ipython",
    "version": 3
   },
   "file_extension": ".py",
   "mimetype": "text/x-python",
   "name": "python",
   "nbconvert_exporter": "python",
   "pygments_lexer": "ipython3",
   "version": "3.10.9"
  }
 },
 "nbformat": 4,
 "nbformat_minor": 4
}
