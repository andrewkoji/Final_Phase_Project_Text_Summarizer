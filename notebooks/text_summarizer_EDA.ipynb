{
 "cells": [
  {
   "cell_type": "markdown",
   "metadata": {},
   "source": [
    "# Phase 5 Project - \n",
    "## Natural Language Processing Model for Text Summarization of CNN Daily News articles\n",
    "\n",
    "Name: Andrew Levinton\n",
    "Student Pace: Self Pace\n",
    "Instructor name: Ahbhineet Kukarni"
   ]
  },
  {
   "cell_type": "markdown",
   "metadata": {},
   "source": [
    "## Understanding the Problem Statement\n",
    "\n",
    "Customer reviews can often be long and descriptive. Analyzing these reviews manually, as you can imagine, is really time-consuming. This is where the brilliance of Natural Language Processing can be applied to generate a summary for long reviews.\n",
    "\n",
    "We will be working on a really cool dataset. Our objective here is to generate a summary for the Amazon Fine Food reviews using the abstraction-based approach we learned about above. You can download the dataset from [here](https://www.kaggle.com/datasets/gowrishankarp/newspaper-text-summarization-cnn-dailymail)\n",
    "\n",
    "It’s time to fire up our Jupyter notebooks! Let’s dive into the implementation details right away."
   ]
  },
  {
   "cell_type": "code",
   "execution_count": 1,
   "metadata": {},
   "outputs": [],
   "source": [
    "import numpy as np\n",
    "import pandas as pd \n",
    "import matplotlib.pyplot as plt\n",
    "plt.style.use('ggplot')\n",
    "import re\n",
    "from bs4 import BeautifulSoup\n",
    "from keras.preprocessing.text import Tokenizer \n",
    "from keras_preprocessing.sequence import pad_sequences\n",
    "from nltk.corpus import stopwords\n",
    "from tensorflow.keras.layers import Input, LSTM, Embedding, Dense, Concatenate, TimeDistributed\n",
    "from tensorflow.keras.models import Model\n",
    "from tensorflow.keras.callbacks import EarlyStopping\n",
    "from tensorflow.keras.layers import Attention\n",
    "import warnings\n",
    "pd.set_option(\"display.max_colwidth\", 200)\n",
    "\n",
    "warnings.filterwarnings(\"ignore\")"
   ]
  },
  {
   "cell_type": "code",
   "execution_count": 2,
   "metadata": {},
   "outputs": [],
   "source": [
    "from attention import AttentionLayer"
   ]
  },
  {
   "cell_type": "markdown",
   "metadata": {},
   "source": [
    "# Business Problem\n",
    "\n",
    "## Problem Statement:\n",
    "The increasing volume of news articles and information available on the internet has made it challenging for individuals and businesses to efficiently consume and extract meaningful insights from this vast amount of text data. There is a growing need for an automated text summarization solution that can provide concise and informative summaries of news articles to aid decision-making and save time for readers.\n",
    "\n",
    "## Description:\n",
    "\n",
    "In today's information age, staying updated with news and information is crucial for both individuals and businesses. However, the sheer volume of news articles published daily can be overwhelming. Reading and processing these articles is time-consuming, especially when trying to gather insights from multiple sources.\n",
    "\n",
    "To address this challenge, we propose the development of a text summarization model using natural language processing (NLP) techniques. This model will automatically generate concise and coherent summaries of news articles. Here's how it can benefit the public and support business decisions:\n",
    "\n",
    "## Public Benefit:\n",
    "\n",
    "1. `Time Efficiency`: People often struggle to find the time to read lengthy news articles. Automated summarization allows individuals to quickly grasp the key points of an article, saving them time while keeping them informed.\n",
    "\n",
    "2. `Enhanced Understanding`: Summaries provide a condensed version of the article, making complex topics more accessible to a wider audience. This can help people better understand important news and events.\n",
    "\n",
    "3. `Multi-source Insights`: Readers can efficiently scan summaries from multiple sources to get a well-rounded view of a topic, fostering critical thinking and a broader perspective.\n",
    "\n",
    "## Business Benefit:\n",
    "\n",
    "1. `Competitive Intelligence`: Businesses can use automated summarization to track news and developments in their industry, enabling them to stay ahead of competitors and adapt to market changes more effectively.\n",
    "\n",
    "2. `Market Research`: Summarization can assist in analyzing customer sentiment, emerging trends, and competitor strategies by summarizing customer reviews, news, and social media posts.\n",
    "\n",
    "3. `Content Curation`: Media companies and content aggregators can use summarization to curate content for their audience, improving user engagement and retention.\n",
    "\n",
    "4. `Risk Assessment`: Summarizing financial news and reports can help financial institutions and investment firms quickly assess risks and opportunities in the market.\n",
    "\n",
    "Project Goals:\n",
    "\n",
    "To address this business problem and realize the benefits, the project should aim to accomplish the following goals:\n",
    "\n",
    "1. `Data Collection`: Gather a diverse and comprehensive dataset of news articles across various domains and sources.\n",
    "\n",
    "2. `Data Preprocessing`: Implement the preprocessing steps outlined, including lowercasing, HTML tag removal, contraction mapping, punctuation removal, stopword removal, and short word removal, to clean and prepare the text data.\n",
    "\n",
    "3. `Model Development`: Build a text summarization model using LSTM (Long Short-Term Memory) networks with the specified parameters, including return sequences, return state, and stacked LSTM layers.\n",
    "\n",
    "4. `Evaluation`: Assess the model's performance using appropriate evaluation metrics such as ROUGE (Recall-Oriented Understudy for Gisting Evaluation) scores or human evaluations to ensure the quality of the generated summaries.\n",
    "\n",
    "5. `Deployment`: Develop a user-friendly interface or API to allow users to input news articles and receive automated summaries.\n",
    "\n",
    "6. `Testing and Optimization`: Continuously test and optimize the model to improve the quality of the summaries and the user experience.\n",
    "\n",
    "7. `Scalability`: Ensure that the solution can handle a large volume of articles and users, scaling infrastructure as needed.\n",
    "\n",
    "8. `Monitoring and Maintenance`: Implement monitoring systems to track model performance over time and provide regular maintenance to keep the summarization service up-to-date and accurate."
   ]
  },
  {
   "cell_type": "markdown",
   "metadata": {},
   "source": [
    "# Dataset Dummary\n",
    "The CNN / DailyMail Dataset is an English-language dataset containing just over 300k unique news articles as written by journalists at CNN and the Daily Mail. The current version supports both extractive and abstractive summarization, though the original version was created for machine reading and comprehension and abstractive question answering.\n",
    "\n",
    "The columns of the dataframe are:\n",
    "1. `ID`- Unique ID of the article\n",
    "2. `article` - The raw content of the article\n",
    "3. `Highlights` - A summary of the article"
   ]
  },
  {
   "cell_type": "markdown",
   "metadata": {},
   "source": [
    "# Preview of dataframe"
   ]
  },
  {
   "cell_type": "code",
   "execution_count": 3,
   "metadata": {},
   "outputs": [
    {
     "data": {
      "text/html": [
       "<div>\n",
       "<style scoped>\n",
       "    .dataframe tbody tr th:only-of-type {\n",
       "        vertical-align: middle;\n",
       "    }\n",
       "\n",
       "    .dataframe tbody tr th {\n",
       "        vertical-align: top;\n",
       "    }\n",
       "\n",
       "    .dataframe thead th {\n",
       "        text-align: right;\n",
       "    }\n",
       "</style>\n",
       "<table border=\"1\" class=\"dataframe\">\n",
       "  <thead>\n",
       "    <tr style=\"text-align: right;\">\n",
       "      <th></th>\n",
       "      <th>id</th>\n",
       "      <th>article</th>\n",
       "      <th>highlights</th>\n",
       "    </tr>\n",
       "  </thead>\n",
       "  <tbody>\n",
       "    <tr>\n",
       "      <th>0</th>\n",
       "      <td>92c514c913c0bdfe25341af9fd72b29db544099b</td>\n",
       "      <td>Ever noticed how plane seats appear to be getting smaller and smaller? With increasing numbers of people taking to the skies, some experts are questioning if having such packed out planes is putti...</td>\n",
       "      <td>Experts question if  packed out planes are putting passengers at risk .\\nU.S consumer advisory group says minimum space must be stipulated .\\nSafety tests conducted on planes with more leg room th...</td>\n",
       "    </tr>\n",
       "    <tr>\n",
       "      <th>1</th>\n",
       "      <td>2003841c7dc0e7c5b1a248f9cd536d727f27a45a</td>\n",
       "      <td>A drunk teenage boy had to be rescued by security after jumping into a lions' enclosure at a zoo in western India. Rahul Kumar, 17, clambered over the enclosure fence at the Kamla Nehru Zoological...</td>\n",
       "      <td>Drunk teenage boy climbed into lion enclosure at zoo in west India .\\nRahul Kumar, 17, ran towards animals shouting 'Today I kill a lion!'\\nFortunately he fell into a moat before reaching lions an...</td>\n",
       "    </tr>\n",
       "    <tr>\n",
       "      <th>2</th>\n",
       "      <td>91b7d2311527f5c2b63a65ca98d21d9c92485149</td>\n",
       "      <td>Dougie Freedman is on the verge of agreeing a new two-year deal to remain at Nottingham Forest. Freedman has stabilised Forest since he replaced cult hero Stuart Pearce and the club's owners are p...</td>\n",
       "      <td>Nottingham Forest are close to extending Dougie Freedman's contract .\\nThe Forest boss took over from former manager Stuart Pearce in February .\\nFreedman has since lead the club to ninth in the C...</td>\n",
       "    </tr>\n",
       "    <tr>\n",
       "      <th>3</th>\n",
       "      <td>caabf9cbdf96eb1410295a673e953d304391bfbb</td>\n",
       "      <td>Liverpool target Neto is also wanted by PSG and clubs in Spain as Brendan Rodgers faces stiff competition to land the Fiorentina goalkeeper, according to the Brazilian's agent Stefano Castagna. Th...</td>\n",
       "      <td>Fiorentina goalkeeper Neto has been linked with Liverpool and Arsenal .\\nNeto joined Firoentina from Brazilian outfit Atletico Paranaense in 2011 .\\nHe is also wanted by PSG and Spanish clubs, acc...</td>\n",
       "    </tr>\n",
       "    <tr>\n",
       "      <th>4</th>\n",
       "      <td>3da746a7d9afcaa659088c8366ef6347fe6b53ea</td>\n",
       "      <td>Bruce Jenner will break his silence in a two-hour interview with Diane Sawyer later this month. The former Olympian and reality TV star, 65, will speak in a 'far-ranging' interview with Sawyer for...</td>\n",
       "      <td>Tell-all interview with the reality TV star, 69, will air on Friday April 24 .\\nIt comes amid continuing speculation about his transition to a woman and following his involvement in a deadly car c...</td>\n",
       "    </tr>\n",
       "  </tbody>\n",
       "</table>\n",
       "</div>"
      ],
      "text/plain": [
       "                                         id  \\\n",
       "0  92c514c913c0bdfe25341af9fd72b29db544099b   \n",
       "1  2003841c7dc0e7c5b1a248f9cd536d727f27a45a   \n",
       "2  91b7d2311527f5c2b63a65ca98d21d9c92485149   \n",
       "3  caabf9cbdf96eb1410295a673e953d304391bfbb   \n",
       "4  3da746a7d9afcaa659088c8366ef6347fe6b53ea   \n",
       "\n",
       "                                                                                                                                                                                                   article  \\\n",
       "0  Ever noticed how plane seats appear to be getting smaller and smaller? With increasing numbers of people taking to the skies, some experts are questioning if having such packed out planes is putti...   \n",
       "1  A drunk teenage boy had to be rescued by security after jumping into a lions' enclosure at a zoo in western India. Rahul Kumar, 17, clambered over the enclosure fence at the Kamla Nehru Zoological...   \n",
       "2  Dougie Freedman is on the verge of agreeing a new two-year deal to remain at Nottingham Forest. Freedman has stabilised Forest since he replaced cult hero Stuart Pearce and the club's owners are p...   \n",
       "3  Liverpool target Neto is also wanted by PSG and clubs in Spain as Brendan Rodgers faces stiff competition to land the Fiorentina goalkeeper, according to the Brazilian's agent Stefano Castagna. Th...   \n",
       "4  Bruce Jenner will break his silence in a two-hour interview with Diane Sawyer later this month. The former Olympian and reality TV star, 65, will speak in a 'far-ranging' interview with Sawyer for...   \n",
       "\n",
       "                                                                                                                                                                                                highlights  \n",
       "0  Experts question if  packed out planes are putting passengers at risk .\\nU.S consumer advisory group says minimum space must be stipulated .\\nSafety tests conducted on planes with more leg room th...  \n",
       "1  Drunk teenage boy climbed into lion enclosure at zoo in west India .\\nRahul Kumar, 17, ran towards animals shouting 'Today I kill a lion!'\\nFortunately he fell into a moat before reaching lions an...  \n",
       "2  Nottingham Forest are close to extending Dougie Freedman's contract .\\nThe Forest boss took over from former manager Stuart Pearce in February .\\nFreedman has since lead the club to ninth in the C...  \n",
       "3  Fiorentina goalkeeper Neto has been linked with Liverpool and Arsenal .\\nNeto joined Firoentina from Brazilian outfit Atletico Paranaense in 2011 .\\nHe is also wanted by PSG and Spanish clubs, acc...  \n",
       "4  Tell-all interview with the reality TV star, 69, will air on Friday April 24 .\\nIt comes amid continuing speculation about his transition to a woman and following his involvement in a deadly car c...  "
      ]
     },
     "execution_count": 3,
     "metadata": {},
     "output_type": "execute_result"
    }
   ],
   "source": [
    "df = pd.read_csv('test.csv')\n",
    "\n",
    "df.head()"
   ]
  },
  {
   "cell_type": "markdown",
   "metadata": {},
   "source": [
    "## Sample Article"
   ]
  },
  {
   "cell_type": "code",
   "execution_count": 4,
   "metadata": {},
   "outputs": [
    {
     "data": {
      "text/plain": [
       "\"Cristiano Ronaldo and Lionel Messi will go head-to-head once more in the race to be this season's top scorer in the Champions League – although Luiz Adriano threatens to spoil the party. Both Barcelona and Real Madrid booked their spots in the semi-finals this week with victories over Paris Saint-Germain and Atletico Madrid respectively. The planet's best footballers have scored eight times in Europe this season. But Shakhtar Donetsk’s Adriano, courted by Arsenal and Liverpool, has netted on nine occasions this term. Cristiano Ronaldo, in action against Atletico Madrid on Wednesday evening, has scored eight goals in Europe . Lionel Messi also has eight goals in the Champions League this term; one fewer than Luiz Adriano . Ronaldo and Messi will both play at least two more times after Real Madrid and Barcelona reached the last four . Adriano, who moved to Donetsk in 2007, scored five against BATE Borsiov in the group stages. His performance that night made history, with the 27-year-old becoming only the second player to score five times in a Champions League game. The other was Messi for Barcelona against Bayer Leverkusen in 2012. He also scored the third quickest hat-trick in the competition's history (12 minutes) as the Ukrainian side, knocked out by Bayern Munich in the round of 16, racked up the biggest-ever half-time lead (6-0) in Europe's premier tournament. ‘I am in a good moment of my career and we'll do what will be best for me and for the club,’ said Adriano last month when quizzed over his future. Adriano, who netted five times against BATE Borisov in the group, has scored more goals than any other player in the Champions League... he is out of contract in December and could move to the Premier League . ‘With my contract set to expire and many good performances, it'll be difficult to stay in Ukraine.’ Arsenal have sent scouts to watch Adriano in recent months, while Liverpool are also keen on the Brazilian. His contract with Shakhtar Donetsk runs out at the end of the year. Ronaldo and Messi however, remain in pole-position to top the scoring charts with Barcelona and Real Madrid both in the hat for the two-legged semi-finals to be played next month. Of the teams still in the pot, Neymar and Luis Suarez of Barcelona, Real Madrid's Karim Benzema and former Manchester United and City striker Carlos Tevez, now plying his trade for Juventus, each have six goals. The draw for the last four will take place on Friday.\""
      ]
     },
     "execution_count": 4,
     "metadata": {},
     "output_type": "execute_result"
    }
   ],
   "source": [
    "df['article'][1000]"
   ]
  },
  {
   "cell_type": "code",
   "execution_count": 5,
   "metadata": {},
   "outputs": [
    {
     "data": {
      "text/plain": [
       "\"Luiz Adriano scored nine times for Shakhtar Donetsk in Europe this season .\\nThe Brazilian is out of contract at the end of the year... both Arsenal and Liverpool are interested in signing the 27-year-old .\\nCristiano Ronaldo and Lionel Messi have netted eight goals this season .\\nReal Madrid and Barcelona both in the Champions League semi-finals .\\nREAD: Our reporters have their say on who will win the Champions League .\\nCLICK HERE for Sportsmail's guide to the Champions League final four .\""
      ]
     },
     "execution_count": 5,
     "metadata": {},
     "output_type": "execute_result"
    }
   ],
   "source": [
    "df['highlights'][1000]"
   ]
  },
  {
   "cell_type": "markdown",
   "metadata": {},
   "source": [
    "# Sample Highlight"
   ]
  },
  {
   "cell_type": "markdown",
   "metadata": {},
   "source": [
    "## Checking for length and nulls\n",
    "\n",
    "Checking the length of a DataFrame is a fundamental step in data analysis and manipulation. It provides valuable information about the data's size, which can be used for data validation, sampling, indexing, transformation, and various analytical tasks. Understanding the length of your data is a crucial aspect of effective data handling and analysis.\n",
    "\n",
    "Checking for nulls in data is crucial for maintaining data quality, ensuring accurate analyses, supporting machine learning models, enabling data imputation, and making informed decisions."
   ]
  },
  {
   "cell_type": "code",
   "execution_count": 6,
   "metadata": {
    "scrolled": true
   },
   "outputs": [
    {
     "data": {
      "text/plain": [
       "11490"
      ]
     },
     "execution_count": 6,
     "metadata": {},
     "output_type": "execute_result"
    }
   ],
   "source": [
    "len(df)"
   ]
  },
  {
   "cell_type": "code",
   "execution_count": 7,
   "metadata": {},
   "outputs": [
    {
     "data": {
      "text/plain": [
       "id            0\n",
       "article       0\n",
       "highlights    0\n",
       "dtype: int64"
      ]
     },
     "execution_count": 7,
     "metadata": {},
     "output_type": "execute_result"
    }
   ],
   "source": [
    "df.isnull().sum()"
   ]
  },
  {
   "cell_type": "code",
   "execution_count": 8,
   "metadata": {},
   "outputs": [
    {
     "name": "stdout",
     "output_type": "stream",
     "text": [
      "<class 'pandas.core.frame.DataFrame'>\n",
      "RangeIndex: 11490 entries, 0 to 11489\n",
      "Data columns (total 3 columns):\n",
      " #   Column      Non-Null Count  Dtype \n",
      "---  ------      --------------  ----- \n",
      " 0   id          11490 non-null  object\n",
      " 1   article     11490 non-null  object\n",
      " 2   highlights  11490 non-null  object\n",
      "dtypes: object(3)\n",
      "memory usage: 269.4+ KB\n"
     ]
    }
   ],
   "source": [
    "df.info()"
   ]
  },
  {
   "cell_type": "markdown",
   "metadata": {},
   "source": [
    "# Getting the word count\n",
    "The purpose of the code below is to provide a quantitative measure of the word count for each article in the DataFrame. Knowing the word count of each article can be valuable for various natural language processing tasks, such as text summarization, where you might want to generate a concise summary of the content while preserving essential information or meeting a specific length requirement. By having the word count readily available in the 'WordCount' column, you can make informed decisions and apply algorithms or methods that take the length of the text into account during the summarization process, ensuring that the generated summaries are of an appropriate length.\n",
    "\n",
    "\n",
    "After we generate the word count we will:\n",
    "\n",
    "- Look at distribution\n",
    "- Look at general statistics like the mean and median to analyze the general text length"
   ]
  },
  {
   "cell_type": "code",
   "execution_count": 9,
   "metadata": {
    "scrolled": false
   },
   "outputs": [
    {
     "data": {
      "text/html": [
       "<div>\n",
       "<style scoped>\n",
       "    .dataframe tbody tr th:only-of-type {\n",
       "        vertical-align: middle;\n",
       "    }\n",
       "\n",
       "    .dataframe tbody tr th {\n",
       "        vertical-align: top;\n",
       "    }\n",
       "\n",
       "    .dataframe thead th {\n",
       "        text-align: right;\n",
       "    }\n",
       "</style>\n",
       "<table border=\"1\" class=\"dataframe\">\n",
       "  <thead>\n",
       "    <tr style=\"text-align: right;\">\n",
       "      <th></th>\n",
       "      <th>id</th>\n",
       "      <th>article</th>\n",
       "      <th>highlights</th>\n",
       "      <th>articleWordCount</th>\n",
       "      <th>highlightsWordCount</th>\n",
       "    </tr>\n",
       "  </thead>\n",
       "  <tbody>\n",
       "    <tr>\n",
       "      <th>0</th>\n",
       "      <td>92c514c913c0bdfe25341af9fd72b29db544099b</td>\n",
       "      <td>Ever noticed how plane seats appear to be getting smaller and smaller? With increasing numbers of people taking to the skies, some experts are questioning if having such packed out planes is putti...</td>\n",
       "      <td>Experts question if  packed out planes are putting passengers at risk .\\nU.S consumer advisory group says minimum space must be stipulated .\\nSafety tests conducted on planes with more leg room th...</td>\n",
       "      <td>370</td>\n",
       "      <td>36</td>\n",
       "    </tr>\n",
       "    <tr>\n",
       "      <th>1</th>\n",
       "      <td>2003841c7dc0e7c5b1a248f9cd536d727f27a45a</td>\n",
       "      <td>A drunk teenage boy had to be rescued by security after jumping into a lions' enclosure at a zoo in western India. Rahul Kumar, 17, clambered over the enclosure fence at the Kamla Nehru Zoological...</td>\n",
       "      <td>Drunk teenage boy climbed into lion enclosure at zoo in west India .\\nRahul Kumar, 17, ran towards animals shouting 'Today I kill a lion!'\\nFortunately he fell into a moat before reaching lions an...</td>\n",
       "      <td>311</td>\n",
       "      <td>38</td>\n",
       "    </tr>\n",
       "    <tr>\n",
       "      <th>2</th>\n",
       "      <td>91b7d2311527f5c2b63a65ca98d21d9c92485149</td>\n",
       "      <td>Dougie Freedman is on the verge of agreeing a new two-year deal to remain at Nottingham Forest. Freedman has stabilised Forest since he replaced cult hero Stuart Pearce and the club's owners are p...</td>\n",
       "      <td>Nottingham Forest are close to extending Dougie Freedman's contract .\\nThe Forest boss took over from former manager Stuart Pearce in February .\\nFreedman has since lead the club to ninth in the C...</td>\n",
       "      <td>110</td>\n",
       "      <td>35</td>\n",
       "    </tr>\n",
       "    <tr>\n",
       "      <th>3</th>\n",
       "      <td>caabf9cbdf96eb1410295a673e953d304391bfbb</td>\n",
       "      <td>Liverpool target Neto is also wanted by PSG and clubs in Spain as Brendan Rodgers faces stiff competition to land the Fiorentina goalkeeper, according to the Brazilian's agent Stefano Castagna. Th...</td>\n",
       "      <td>Fiorentina goalkeeper Neto has been linked with Liverpool and Arsenal .\\nNeto joined Firoentina from Brazilian outfit Atletico Paranaense in 2011 .\\nHe is also wanted by PSG and Spanish clubs, acc...</td>\n",
       "      <td>308</td>\n",
       "      <td>44</td>\n",
       "    </tr>\n",
       "    <tr>\n",
       "      <th>4</th>\n",
       "      <td>3da746a7d9afcaa659088c8366ef6347fe6b53ea</td>\n",
       "      <td>Bruce Jenner will break his silence in a two-hour interview with Diane Sawyer later this month. The former Olympian and reality TV star, 65, will speak in a 'far-ranging' interview with Sawyer for...</td>\n",
       "      <td>Tell-all interview with the reality TV star, 69, will air on Friday April 24 .\\nIt comes amid continuing speculation about his transition to a woman and following his involvement in a deadly car c...</td>\n",
       "      <td>749</td>\n",
       "      <td>61</td>\n",
       "    </tr>\n",
       "  </tbody>\n",
       "</table>\n",
       "</div>"
      ],
      "text/plain": [
       "                                         id  \\\n",
       "0  92c514c913c0bdfe25341af9fd72b29db544099b   \n",
       "1  2003841c7dc0e7c5b1a248f9cd536d727f27a45a   \n",
       "2  91b7d2311527f5c2b63a65ca98d21d9c92485149   \n",
       "3  caabf9cbdf96eb1410295a673e953d304391bfbb   \n",
       "4  3da746a7d9afcaa659088c8366ef6347fe6b53ea   \n",
       "\n",
       "                                                                                                                                                                                                   article  \\\n",
       "0  Ever noticed how plane seats appear to be getting smaller and smaller? With increasing numbers of people taking to the skies, some experts are questioning if having such packed out planes is putti...   \n",
       "1  A drunk teenage boy had to be rescued by security after jumping into a lions' enclosure at a zoo in western India. Rahul Kumar, 17, clambered over the enclosure fence at the Kamla Nehru Zoological...   \n",
       "2  Dougie Freedman is on the verge of agreeing a new two-year deal to remain at Nottingham Forest. Freedman has stabilised Forest since he replaced cult hero Stuart Pearce and the club's owners are p...   \n",
       "3  Liverpool target Neto is also wanted by PSG and clubs in Spain as Brendan Rodgers faces stiff competition to land the Fiorentina goalkeeper, according to the Brazilian's agent Stefano Castagna. Th...   \n",
       "4  Bruce Jenner will break his silence in a two-hour interview with Diane Sawyer later this month. The former Olympian and reality TV star, 65, will speak in a 'far-ranging' interview with Sawyer for...   \n",
       "\n",
       "                                                                                                                                                                                                highlights  \\\n",
       "0  Experts question if  packed out planes are putting passengers at risk .\\nU.S consumer advisory group says minimum space must be stipulated .\\nSafety tests conducted on planes with more leg room th...   \n",
       "1  Drunk teenage boy climbed into lion enclosure at zoo in west India .\\nRahul Kumar, 17, ran towards animals shouting 'Today I kill a lion!'\\nFortunately he fell into a moat before reaching lions an...   \n",
       "2  Nottingham Forest are close to extending Dougie Freedman's contract .\\nThe Forest boss took over from former manager Stuart Pearce in February .\\nFreedman has since lead the club to ninth in the C...   \n",
       "3  Fiorentina goalkeeper Neto has been linked with Liverpool and Arsenal .\\nNeto joined Firoentina from Brazilian outfit Atletico Paranaense in 2011 .\\nHe is also wanted by PSG and Spanish clubs, acc...   \n",
       "4  Tell-all interview with the reality TV star, 69, will air on Friday April 24 .\\nIt comes amid continuing speculation about his transition to a woman and following his involvement in a deadly car c...   \n",
       "\n",
       "   articleWordCount  highlightsWordCount  \n",
       "0               370                   36  \n",
       "1               311                   38  \n",
       "2               110                   35  \n",
       "3               308                   44  \n",
       "4               749                   61  "
      ]
     },
     "execution_count": 9,
     "metadata": {},
     "output_type": "execute_result"
    }
   ],
   "source": [
    "# Function to count words in a text column\n",
    "def count_words(text):\n",
    "    words = text.split()\n",
    "    return len(words)\n",
    "\n",
    "# Apply the function to the DataFrame column\n",
    "df['articleWordCount'] = df['article'].apply(count_words)\n",
    "df['highlightsWordCount'] = df['highlights'].apply(count_words)\n",
    "df.head()"
   ]
  },
  {
   "cell_type": "code",
   "execution_count": 10,
   "metadata": {},
   "outputs": [
    {
     "data": {
      "text/plain": [
       "count    11490.000000\n",
       "mean       683.511575\n",
       "std        348.402755\n",
       "min         55.000000\n",
       "25%        419.000000\n",
       "50%        613.000000\n",
       "75%        876.000000\n",
       "max       1954.000000\n",
       "Name: articleWordCount, dtype: float64"
      ]
     },
     "execution_count": 10,
     "metadata": {},
     "output_type": "execute_result"
    }
   ],
   "source": [
    "df['articleWordCount'].describe()"
   ]
  },
  {
   "cell_type": "code",
   "execution_count": 11,
   "metadata": {},
   "outputs": [
    {
     "data": {
      "text/plain": [
       "count    11490.000000\n",
       "mean        55.009312\n",
       "std         22.517857\n",
       "min          9.000000\n",
       "25%         40.000000\n",
       "50%         51.000000\n",
       "75%         64.000000\n",
       "max        564.000000\n",
       "Name: highlightsWordCount, dtype: float64"
      ]
     },
     "execution_count": 11,
     "metadata": {},
     "output_type": "execute_result"
    }
   ],
   "source": [
    "df['highlightsWordCount'].describe()"
   ]
  },
  {
   "cell_type": "markdown",
   "metadata": {},
   "source": [
    "The average token count for the articles and the highlights are provided below:\n",
    "\n",
    "\n",
    "\n",
    "| Feature      | Mean Token Count |\n",
    "|--------------|------------------|\n",
    "| Article      | 683              |\n",
    "| Highlights   | 56               |\n"
   ]
  },
  {
   "cell_type": "markdown",
   "metadata": {},
   "source": [
    "# Data Preparation\n",
    "\n",
    "Performing basic preprocessing steps is very important before we get to the model building part. Using messy and uncleaned text data is a potentially disastrous move. So in this step, we will drop all the unwanted symbols, characters, etc. from the text that do not affect the objective of our problem.\n",
    "\n",
    "Here is the dictionary that we will use for expanding the contractions:"
   ]
  },
  {
   "cell_type": "markdown",
   "metadata": {},
   "source": [
    "### Contraction Mapping\n",
    "A contraction mapping, also known as a \"contraction operator\" or \"contraction function,\" is a concept from mathematics, specifically in the field of functional analysis. In the context of text summarization, it's not directly used, but related concepts and techniques from mathematics and natural language processing can be applied to improve the quality of text summarization models."
   ]
  },
  {
   "cell_type": "code",
   "execution_count": 12,
   "metadata": {},
   "outputs": [],
   "source": [
    "contraction_mapping = {\"ain't\": \"is not\", \"aren't\": \"are not\",\"can't\": \"cannot\", \"'cause\": \"because\", \"could've\": \"could have\", \"couldn't\": \"could not\",\n",
    "                           \"didn't\": \"did not\",  \"doesn't\": \"does not\", \"don't\": \"do not\", \"hadn't\": \"had not\", \"hasn't\": \"has not\", \"haven't\": \"have not\",\n",
    "                           \"he'd\": \"he would\",\"he'll\": \"he will\", \"he's\": \"he is\", \"how'd\": \"how did\", \"how'd'y\": \"how do you\", \"how'll\": \"how will\", \"how's\": \"how is\",\n",
    "                           \"I'd\": \"I would\", \"I'd've\": \"I would have\", \"I'll\": \"I will\", \"I'll've\": \"I will have\",\"I'm\": \"I am\", \"I've\": \"I have\", \"i'd\": \"i would\",\n",
    "                           \"i'd've\": \"i would have\", \"i'll\": \"i will\",  \"i'll've\": \"i will have\",\"i'm\": \"i am\", \"i've\": \"i have\", \"isn't\": \"is not\", \"it'd\": \"it would\",\n",
    "                           \"it'd've\": \"it would have\", \"it'll\": \"it will\", \"it'll've\": \"it will have\",\"it's\": \"it is\", \"let's\": \"let us\", \"ma'am\": \"madam\",\n",
    "                           \"mayn't\": \"may not\", \"might've\": \"might have\",\"mightn't\": \"might not\",\"mightn't've\": \"might not have\", \"must've\": \"must have\",\n",
    "                           \"mustn't\": \"must not\", \"mustn't've\": \"must not have\", \"needn't\": \"need not\", \"needn't've\": \"need not have\",\"o'clock\": \"of the clock\",\n",
    "                           \"oughtn't\": \"ought not\", \"oughtn't've\": \"ought not have\", \"shan't\": \"shall not\", \"sha'n't\": \"shall not\", \"shan't've\": \"shall not have\",\n",
    "                           \"she'd\": \"she would\", \"she'd've\": \"she would have\", \"she'll\": \"she will\", \"she'll've\": \"she will have\", \"she's\": \"she is\",\n",
    "                           \"should've\": \"should have\", \"shouldn't\": \"should not\", \"shouldn't've\": \"should not have\", \"so've\": \"so have\",\"so's\": \"so as\",\n",
    "                           \"this's\": \"this is\",\"that'd\": \"that would\", \"that'd've\": \"that would have\", \"that's\": \"that is\", \"there'd\": \"there would\",\n",
    "                           \"there'd've\": \"there would have\", \"there's\": \"there is\", \"here's\": \"here is\",\"they'd\": \"they would\", \"they'd've\": \"they would have\",\n",
    "                           \"they'll\": \"they will\", \"they'll've\": \"they will have\", \"they're\": \"they are\", \"they've\": \"they have\", \"to've\": \"to have\",\n",
    "                           \"wasn't\": \"was not\", \"we'd\": \"we would\", \"we'd've\": \"we would have\", \"we'll\": \"we will\", \"we'll've\": \"we will have\", \"we're\": \"we are\",\n",
    "                           \"we've\": \"we have\", \"weren't\": \"were not\", \"what'll\": \"what will\", \"what'll've\": \"what will have\", \"what're\": \"what are\",\n",
    "                           \"what's\": \"what is\", \"what've\": \"what have\", \"when's\": \"when is\", \"when've\": \"when have\", \"where'd\": \"where did\", \"where's\": \"where is\",\n",
    "                           \"where've\": \"where have\", \"who'll\": \"who will\", \"who'll've\": \"who will have\", \"who's\": \"who is\", \"who've\": \"who have\",\n",
    "                           \"why's\": \"why is\", \"why've\": \"why have\", \"will've\": \"will have\", \"won't\": \"will not\", \"won't've\": \"will not have\",\n",
    "                           \"would've\": \"would have\", \"wouldn't\": \"would not\", \"wouldn't've\": \"would not have\", \"y'all\": \"you all\",\n",
    "                           \"y'all'd\": \"you all would\",\"y'all'd've\": \"you all would have\",\"y'all're\": \"you all are\",\"y'all've\": \"you all have\",\n",
    "                           \"you'd\": \"you would\", \"you'd've\": \"you would have\", \"you'll\": \"you will\", \"you'll've\": \"you will have\",\n",
    "                           \"you're\": \"you are\", \"you've\": \"you have\"}"
   ]
  },
  {
   "cell_type": "markdown",
   "metadata": {},
   "source": [
    "We will perform the below preprocessing tasks for our data:\n",
    "\n",
    "1.Convert everything to lowercase\n",
    "\n",
    "2.Remove HTML tags\n",
    "\n",
    "3.Contraction mapping\n",
    "\n",
    "4.Remove (‘s)\n",
    "\n",
    "5.Remove any text inside the parenthesis ( )\n",
    "\n",
    "6.Eliminate punctuations and special characters\n",
    "\n",
    "7.Remove stopwords\n",
    "\n",
    "8.Remove short words\n",
    "\n",
    "Let’s define the function:"
   ]
  },
  {
   "cell_type": "code",
   "execution_count": 13,
   "metadata": {},
   "outputs": [],
   "source": [
    "stop_words = set(stopwords.words('english')) \n",
    "\n",
    "def text_cleaner(text,num):\n",
    "    newString = text.lower()\n",
    "    newString = BeautifulSoup(newString, \"lxml\").text\n",
    "    newString = re.sub(r'\\([^)]*\\)', '', newString)\n",
    "    newString = re.sub('\"','', newString)\n",
    "    newString = ' '.join([contraction_mapping[t] if t in contraction_mapping else t for t in newString.split(\" \")])    \n",
    "    newString = re.sub(r\"'s\\b\",\"\",newString)\n",
    "    newString = re.sub(\"[^a-zA-Z]\", \" \", newString) \n",
    "    newString = re.sub('[m]{2,}', 'mm', newString)\n",
    "    if(num==0):\n",
    "        tokens = [w for w in newString.split() if not w in stop_words]\n",
    "    else:\n",
    "        tokens=newString.split()\n",
    "    long_words=[]\n",
    "    for i in tokens:\n",
    "        if len(i)>1:                                                 #removing short word\n",
    "            long_words.append(i)   \n",
    "    return (\" \".join(long_words)).strip()"
   ]
  },
  {
   "cell_type": "code",
   "execution_count": 14,
   "metadata": {},
   "outputs": [],
   "source": [
    "#call the function\n",
    "cleaned_text = []\n",
    "for t in df['article']:\n",
    "    cleaned_text.append(text_cleaner(t,0)) "
   ]
  },
  {
   "cell_type": "code",
   "execution_count": 15,
   "metadata": {},
   "outputs": [
    {
     "data": {
      "text/plain": [
       "['ever noticed plane seats appear getting smaller smaller increasing numbers people taking skies experts questioning packed planes putting passengers risk say shrinking space aeroplanes uncomfortable putting health safety danger squabbling arm rest shrinking space planes putting health safety danger week consumer advisory group set department transportation said public hearing government happy set standards animals flying planes stipulate minimum amount space humans world animals rights space food humans said charlie leocha consumer representative committee time dot faa take stand humane treatment passengers could crowding planes lead serious issues fighting space overhead lockers crashing elbows seat back kicking tests conducted faa use planes inch pitch standard airlines decreased many economy seats united airlines inches room airlines offer little inches cynthia corbertt human factors researcher federal aviation administration conducts tests quickly passengers leave plane tests conducted using planes inches row seats standard airlines decreased reported detroit news distance two seats one point seat point seat behind known pitch airlines stick pitch inches fall united airlines inches space gulf air economy seats inches air asia offers inches spirit airlines offers inches british airways seat pitch inches easyjet inches thomson short haul seat pitch inches virgin atlantic',\n",
       " 'drunk teenage boy rescued security jumping lions enclosure zoo western india rahul kumar clambered enclosure fence kamla nehru zoological park ahmedabad began running towards animals shouting would kill mr kumar explained afterwards drunk thought would stand good chance predators next level drunk intoxicated rahul kumar climbed lions enclosure zoo ahmedabad began running towards animals shouting today kill lion mr kumar sitting near enclosure suddenly made dash lions surprising zoo security intoxicated teenager ran towards lions shouting today kill lion lion kills zoo spokesman said guards earlier spotted close enclosure idea planing enter fortunately eight moats cross getting lions usually fell second one allowing guards catch take handed police brave fool fortunately mr kumar fell moat ran towards lions could rescued zoo security staff reaching animals kumar later explained really know drunk thought would stand good chance police spokesman said cautioned sent psychiatric evaluation fortunately lions asleep zoo guards acted quickly enough prevent tragedy similar delhi last year year old man mauled death tiger indian capital climbing enclosure city zoo',\n",
       " 'dougie freedman verge agreeing new two year deal remain nottingham forest freedman stabilised forest since replaced cult hero stuart pearce club owners pleased job done city ground dougie freedman set sign new deal nottingham forest freedman impressed city ground since replacing stuart pearce february made audacious attempt play places freedman replaced pearce tailed recent weeks prevented forest ownership making moves secure freedman contract next two seasons',\n",
       " 'liverpool target neto also wanted psg clubs spain brendan rodgers faces stiff competition land fiorentina goalkeeper according brazilian agent stefano castagna reds linked move year old whose contract expires june earlier season simon mignolet dropped side january move neto never materialised former atletico paranaense keeper looks certain leave florence based club summer neto rushes goal juan iturbe bears fiorentina clash roma march neto wanted number top european clubs including liverpool psg according agent reported neto verbal agreement join serie champions juventus end season agent revealed decision future made yet castagna claims neto pick top european clubs transfer window opens summer including brendan rodgers side many european clubs interested neto example liverpool paris saint germain stefano castagna quoted saying gazzetta tv firoentina goalkeeper neto saves feet tottenham midfielder nacer chadli europa league spain clubs top level tracking real madrid see made definitive decision case accept another loan move elsewhere neto represented brazil london olympics featured senior side warned joining club national coach dunga neto joined fiorentina atletico paranaense established last two seasons',\n",
       " 'bruce jenner break silence two hour interview diane sawyer later month former olympian reality tv star speak far ranging interview sawyer special edition friday april abc news announced monday interview comes amid growing speculation father six transition woman follows closely behind involvement deadly car crash california february kardashian women known enjoying center stage stealing bruce spotlight armenia interview airs according tmz scroll video speaking bruce jenner pictured keeping kardashians speak far ranging interview diane sawyer later month abc news announced monday return diane sawyer recently mourned loss husband return abc interview rumors started swirling around jenner gender identity last year emerged beverly hills clinic adam apple shaved behavior past year also fueled speculation began embracing increasingly female appearance including growing hair shaving legs painting nails reportedly undergoing hormone therapy also split wife two decades kris jenner two daughters kyle kendall filed divorce september citing irreconcilable differences reports also emerged past week received breast enhancement bruce silicone breast implants put weeks ago source told radaronline went smaller implant want look ridiculous sunday seen walking car malibu hid body beneath bulky sweatshirt jenner pictured walking back car malibu weekend hiding beneath large sweatshirt sunday days reports undergone breast enhancement hiding also apparently painted nails red seen walking sunday according radar jenner wants surgeries completed time make screen debut woman fall season dancing stars jenner also rumored filming spin docu series transition although reps refused confirm claims jenner remained silent reported transition relatives including step daughter kim kardashian spoken journey guess kind let everyone curious feel like journey talk kim recently told entertainment tonight say think bruce tell story way think everyone goes things life think story bruce going think share whenever time right jenner gold decathlon olympics also made headlines earlier year involvement deadly car crash malibu deadly february jenner vehicle pulling trailer atv rear ended woman car pushed lane oncoming hummer died scene side bruce pictured ex wife kris jenner four step children rob kim kourtney khloe received support family kris filed divorce last year cadillac escalade pulling trailer road vehicle plowed back lexus pushed path oncoming hummer february lexus carrying year old kim howe died chest trauma scene police sources say jenner unlikely prosecuted drinking speeding texting time fatal crash tell interview also one sawyer first forays back tv news following death husband acclaimed director mike nichols following heart attack last november last september left anchor chair abc world news announced planned focus specials february presented nation women behind bars went prisons across country speak female inmates']"
      ]
     },
     "execution_count": 15,
     "metadata": {},
     "output_type": "execute_result"
    }
   ],
   "source": [
    "cleaned_text[:5]  "
   ]
  },
  {
   "cell_type": "code",
   "execution_count": 16,
   "metadata": {},
   "outputs": [],
   "source": [
    "#call the function\n",
    "cleaned_summary = []\n",
    "for t in df['highlights']:\n",
    "    cleaned_summary.append(text_cleaner(t,1))"
   ]
  },
  {
   "cell_type": "code",
   "execution_count": 17,
   "metadata": {},
   "outputs": [
    {
     "data": {
      "text/plain": [
       "['experts question if packed out planes are putting passengers at risk consumer advisory group says minimum space must be stipulated safety tests conducted on planes with more leg room than airlines offer',\n",
       " 'drunk teenage boy climbed into lion enclosure at zoo in west india rahul kumar ran towards animals shouting today kill lion fortunately he fell into moat before reaching lions and was rescued',\n",
       " 'nottingham forest are close to extending dougie freedman contract the forest boss took over from former manager stuart pearce in february freedman has since lead the club to ninth in the championship',\n",
       " 'fiorentina goalkeeper neto has been linked with liverpool and arsenal neto joined firoentina from brazilian outfit atletico paranaense in he is also wanted by psg and spanish clubs according to his agent click here for the latest liverpool news',\n",
       " 'tell all interview with the reality tv star will air on friday april it comes amid continuing speculation about his transition to woman and following his involvement in deadly car crash in february the interview will also be one of diane sawyer first appearances on television following the sudden death of her husband last year',\n",
       " 'giant pig fell into the swimming pool at his home in ringwood hampshire it took the efforts of team of firefighters to winch him out of the water wayward horse also had to be rescued from swimming pool in sussex',\n",
       " 'figures show that while millions still tune in they listen for shorter bursts average listener spent ten hours week tuning in last three months of this was down on decade earlier when people tuned in for hours the bbc trust has cleared the way for firms to buy their way into lifestyle programmes on the world news channel in product placement experiment for example publishers could pay to have their books reviewed on talking books the bbc trust will review the scheme in year',\n",
       " 'show will return with one hour special followed by spinoff star john stamos says he announced the show monday night on jimmy kimmel live',\n",
       " 'reanne evans faced ken doherty in world championship qualifier doherty won the world championship in evans lost the first frame against doherty but the dudley native fought back to lead ken doherty however managed to close out an enthralling contest',\n",
       " 'gang have been jailed for total of years for sexually abusing children offences happened in cars woods or at the defendants homes in banbury lured victims to parties organised on social media and then abused them girls aged between and were exploited by the gang from to']"
      ]
     },
     "execution_count": 17,
     "metadata": {},
     "output_type": "execute_result"
    }
   ],
   "source": [
    "cleaned_summary[:10]"
   ]
  },
  {
   "cell_type": "code",
   "execution_count": 18,
   "metadata": {},
   "outputs": [],
   "source": [
    "df['cleaned_text']=cleaned_text\n",
    "df['cleaned_summary']=cleaned_summary"
   ]
  },
  {
   "cell_type": "markdown",
   "metadata": {},
   "source": [
    "# Drop empty rows"
   ]
  },
  {
   "cell_type": "code",
   "execution_count": 19,
   "metadata": {},
   "outputs": [],
   "source": [
    "df.replace('', np.nan, inplace=True)\n",
    "df.dropna(axis=0,inplace=True)"
   ]
  },
  {
   "cell_type": "markdown",
   "metadata": {},
   "source": [
    "# Understanding the distribution of the sequences\n",
    "Here, we will analyze the length of the reviews and the summary to get an overall idea about the distribution of length of the text. This will help us fix the maximum length of the sequence:"
   ]
  },
  {
   "cell_type": "code",
   "execution_count": 20,
   "metadata": {},
   "outputs": [
    {
     "data": {
      "image/png": "[encoded data removed]",
      "text/plain": [
       "<Figure size 864x288 with 2 Axes>"
      ]
     },
     "metadata": {},
     "output_type": "display_data"
    }
   ],
   "source": [
    "fig, (ax1, ax2) = plt.subplots(1, 2, figsize=(12, 4))\n",
    "\n",
    "\n",
    "ax1.hist(df['articleWordCount'], bins=20, color='blue', alpha=0.7)\n",
    "ax1.set_title('Article Word Count Histogram')\n",
    "ax1.set_xlabel('Word Count')\n",
    "ax1.set_ylabel('Frequency')\n",
    "\n",
    "\n",
    "ax2.hist(df['highlightsWordCount'], bins=20, color='green', alpha=0.7)\n",
    "ax2.set_title('Highlight Word Count Histogram')\n",
    "ax2.set_xlabel('Word Count')\n",
    "ax2.set_ylabel('Frequency')\n",
    "\n",
    "\n",
    "plt.tight_layout()\n",
    "\n",
    "\n",
    "plt.show()"
   ]
  },
  {
   "cell_type": "markdown",
   "metadata": {},
   "source": [
    "## Analyzing the length of the highlights\n",
    "The purpose the code below is to analyze and gain insights into the distribution of summary lengths within a dataset. By iterating through the 'cleaned_summary' column of the DataFrame and checking the number of words in each cleaned summary, the code helps identify how many of these summaries are concise, containing 75 words or less. This analysis is valuable in various natural language processing and text analysis tasks, such as text summarization or information retrieval, as it provides an understanding of the dataset's summarization patterns. Furthermore, it allows data practitioners to assess the suitability of the dataset for specific applications that may have constraints on summary length."
   ]
  },
  {
   "cell_type": "code",
   "execution_count": 21,
   "metadata": {},
   "outputs": [
    {
     "name": "stdout",
     "output_type": "stream",
     "text": [
      "0.9079199303742385\n"
     ]
    }
   ],
   "source": [
    "cnt=0\n",
    "for i in df['cleaned_summary']:\n",
    "    if(len(i.split())<=75):\n",
    "        cnt=cnt+1\n",
    "print(cnt/len(df['cleaned_summary']))"
   ]
  },
  {
   "cell_type": "markdown",
   "metadata": {},
   "source": [
    "We observe that 91% of the highlights have length below 75. So, we can fix maximum length of summary to 75.\n",
    "\n",
    "Let us fix the maximum length of an article to 750"
   ]
  },
  {
   "cell_type": "code",
   "execution_count": 22,
   "metadata": {},
   "outputs": [
    {
     "name": "stdout",
     "output_type": "stream",
     "text": [
      "0.4194952132288947\n"
     ]
    }
   ],
   "source": [
    "cnt=0\n",
    "for i in df['cleaned_text']:\n",
    "    if(len(i.split())<=300):\n",
    "        cnt=cnt+1\n",
    "print(cnt/len(df['cleaned_text']))"
   ]
  },
  {
   "cell_type": "markdown",
   "metadata": {},
   "source": [
    "We observe that 95% of the articles have length below 750. So, we can fix maximum length of summary to 750."
   ]
  },
  {
   "cell_type": "code",
   "execution_count": 23,
   "metadata": {},
   "outputs": [],
   "source": [
    "max_text_len=300\n",
    "max_summary_len=75"
   ]
  },
  {
   "cell_type": "markdown",
   "metadata": {},
   "source": [
    "The purpose of the code below is to filter and create a new dataset (data) that contains text and summary pairs where both the text and summary have lengths within certain limits (max_summary_len and max_text_len). This can be useful when working with text summarization tasks or other natural language processing applications where controlling the length of input and output sequences is important. The resulting data DataFrame can be used for training, validation, or testing in machine learning models or other text analysis tasks."
   ]
  },
  {
   "cell_type": "code",
   "execution_count": 24,
   "metadata": {},
   "outputs": [],
   "source": [
    "cleaned_text =np.array(df['cleaned_text'])\n",
    "cleaned_summary=np.array(df['cleaned_summary'])\n",
    "\n",
    "short_text=[]\n",
    "short_summary=[]\n",
    "\n",
    "for i in range(len(cleaned_text)):\n",
    "    if(len(cleaned_summary[i].split())<=max_summary_len and len(cleaned_text[i].split())<=max_text_len):\n",
    "        short_text.append(cleaned_text[i])\n",
    "        short_summary.append(cleaned_summary[i])\n",
    "        \n",
    "data=pd.DataFrame({'article':short_text,'highlights':short_summary})"
   ]
  },
  {
   "cell_type": "code",
   "execution_count": 25,
   "metadata": {},
   "outputs": [
    {
     "data": {
      "text/html": [
       "<div>\n",
       "<style scoped>\n",
       "    .dataframe tbody tr th:only-of-type {\n",
       "        vertical-align: middle;\n",
       "    }\n",
       "\n",
       "    .dataframe tbody tr th {\n",
       "        vertical-align: top;\n",
       "    }\n",
       "\n",
       "    .dataframe thead th {\n",
       "        text-align: right;\n",
       "    }\n",
       "</style>\n",
       "<table border=\"1\" class=\"dataframe\">\n",
       "  <thead>\n",
       "    <tr style=\"text-align: right;\">\n",
       "      <th></th>\n",
       "      <th>article</th>\n",
       "      <th>highlights</th>\n",
       "    </tr>\n",
       "  </thead>\n",
       "  <tbody>\n",
       "    <tr>\n",
       "      <th>0</th>\n",
       "      <td>ever noticed plane seats appear getting smaller smaller increasing numbers people taking skies experts questioning packed planes putting passengers risk say shrinking space aeroplanes uncomfortabl...</td>\n",
       "      <td>experts question if packed out planes are putting passengers at risk consumer advisory group says minimum space must be stipulated safety tests conducted on planes with more leg room than airlines...</td>\n",
       "    </tr>\n",
       "    <tr>\n",
       "      <th>1</th>\n",
       "      <td>drunk teenage boy rescued security jumping lions enclosure zoo western india rahul kumar clambered enclosure fence kamla nehru zoological park ahmedabad began running towards animals shouting woul...</td>\n",
       "      <td>drunk teenage boy climbed into lion enclosure at zoo in west india rahul kumar ran towards animals shouting today kill lion fortunately he fell into moat before reaching lions and was rescued</td>\n",
       "    </tr>\n",
       "    <tr>\n",
       "      <th>2</th>\n",
       "      <td>dougie freedman verge agreeing new two year deal remain nottingham forest freedman stabilised forest since replaced cult hero stuart pearce club owners pleased job done city ground dougie freedman...</td>\n",
       "      <td>nottingham forest are close to extending dougie freedman contract the forest boss took over from former manager stuart pearce in february freedman has since lead the club to ninth in the championship</td>\n",
       "    </tr>\n",
       "    <tr>\n",
       "      <th>3</th>\n",
       "      <td>liverpool target neto also wanted psg clubs spain brendan rodgers faces stiff competition land fiorentina goalkeeper according brazilian agent stefano castagna reds linked move year old whose cont...</td>\n",
       "      <td>fiorentina goalkeeper neto has been linked with liverpool and arsenal neto joined firoentina from brazilian outfit atletico paranaense in he is also wanted by psg and spanish clubs according to hi...</td>\n",
       "    </tr>\n",
       "    <tr>\n",
       "      <th>4</th>\n",
       "      <td>moment crew firefighters struggled haul giant pig garden swimming pool prize porker known pigwig fallen pool upmarket neighbourhood ringwood hampshire owners taking walk around garden animal plung...</td>\n",
       "      <td>giant pig fell into the swimming pool at his home in ringwood hampshire it took the efforts of team of firefighters to winch him out of the water wayward horse also had to be rescued from swimming...</td>\n",
       "    </tr>\n",
       "  </tbody>\n",
       "</table>\n",
       "</div>"
      ],
      "text/plain": [
       "                                                                                                                                                                                                   article  \\\n",
       "0  ever noticed plane seats appear getting smaller smaller increasing numbers people taking skies experts questioning packed planes putting passengers risk say shrinking space aeroplanes uncomfortabl...   \n",
       "1  drunk teenage boy rescued security jumping lions enclosure zoo western india rahul kumar clambered enclosure fence kamla nehru zoological park ahmedabad began running towards animals shouting woul...   \n",
       "2  dougie freedman verge agreeing new two year deal remain nottingham forest freedman stabilised forest since replaced cult hero stuart pearce club owners pleased job done city ground dougie freedman...   \n",
       "3  liverpool target neto also wanted psg clubs spain brendan rodgers faces stiff competition land fiorentina goalkeeper according brazilian agent stefano castagna reds linked move year old whose cont...   \n",
       "4  moment crew firefighters struggled haul giant pig garden swimming pool prize porker known pigwig fallen pool upmarket neighbourhood ringwood hampshire owners taking walk around garden animal plung...   \n",
       "\n",
       "                                                                                                                                                                                                highlights  \n",
       "0  experts question if packed out planes are putting passengers at risk consumer advisory group says minimum space must be stipulated safety tests conducted on planes with more leg room than airlines...  \n",
       "1          drunk teenage boy climbed into lion enclosure at zoo in west india rahul kumar ran towards animals shouting today kill lion fortunately he fell into moat before reaching lions and was rescued  \n",
       "2  nottingham forest are close to extending dougie freedman contract the forest boss took over from former manager stuart pearce in february freedman has since lead the club to ninth in the championship  \n",
       "3  fiorentina goalkeeper neto has been linked with liverpool and arsenal neto joined firoentina from brazilian outfit atletico paranaense in he is also wanted by psg and spanish clubs according to hi...  \n",
       "4  giant pig fell into the swimming pool at his home in ringwood hampshire it took the efforts of team of firefighters to winch him out of the water wayward horse also had to be rescued from swimming...  "
      ]
     },
     "execution_count": 25,
     "metadata": {},
     "output_type": "execute_result"
    }
   ],
   "source": [
    "data.head()"
   ]
  },
  {
   "cell_type": "code",
   "execution_count": 26,
   "metadata": {},
   "outputs": [
    {
     "data": {
      "text/plain": [
       "'may best photo bomb ever adorable green sea turtle made quite unexpected appearance tourist diovani de jesus group photo posing apo island sea turtle surfaced breathe photo bombed de jesus wrote blog adorable green sea turtle pulled ultimate photo bomb crashing group photo philippines shallow water apo island negros oriental philippines feeding ground sea turtles spottings uncommon however rare one endangered animals would come close look intently camera posting photo earth day de jesus adds like friend genesis said reminder humans creatures like gentle pawikan co exist particular island one world best known community managed marine protected areas turtles traditionally found tropical subtropical waters travelling long distances feeding areas beaches hatched traveller diovani de jesus posted hilarious photo earth day reminder co exist'"
      ]
     },
     "execution_count": 26,
     "metadata": {},
     "output_type": "execute_result"
    }
   ],
   "source": [
    "data['article'][1000]"
   ]
  },
  {
   "cell_type": "code",
   "execution_count": 27,
   "metadata": {},
   "outputs": [
    {
     "data": {
      "text/plain": [
       "'at apo island this green sea turtle unexpected appeared in group photo as the snorkellers posed the turtle surfaced to breathe and photo bombed the area is feeding ground and well known marine protection site'"
      ]
     },
     "execution_count": 27,
     "metadata": {},
     "output_type": "execute_result"
    }
   ],
   "source": [
    "data['highlights'][1000]"
   ]
  },
  {
   "cell_type": "markdown",
   "metadata": {},
   "source": [
    "## Seq2Seq Prep\n",
    "Now we want to prepare the 'highlights' column of the DataFrame data for sequence-to-sequence (seq2seq) model training, specifically for text summarization tasks. This code applies a lambda function to each element in the 'highlights' column, which typically contains the summary or the target sequence.\n",
    "\n",
    "'sostok ' is added to the beginning of each summary. 'sostok' is a special token that represents the start of a sequence in the context of sequence-to-sequence models.\n",
    "'eostok' is added to the end of each summary. 'eostok' is a special token that represents the end of a sequence in the context of sequence-to-sequence models.\n",
    "\n",
    "The result of this operation is that each summary in the 'highlights' column is enclosed with 'sostok' at the beginning and 'eostok' at the end. This formatting is commonly used in seq2seq models for tasks like text summarization to indicate the start and end points of the target sequence.\n",
    "\n",
    "By adding these special tokens, the code prepares the 'highlights' column for training a seq2seq model to generate summaries from the input text data. These tokens help the model learn where the summary should start and end when generating output sequences during training and inference."
   ]
  },
  {
   "cell_type": "code",
   "execution_count": 28,
   "metadata": {},
   "outputs": [],
   "source": [
    "data['highlights'] = data['highlights'].apply(lambda x : 'sostok '+ x + ' eostok')"
   ]
  },
  {
   "cell_type": "code",
   "execution_count": 29,
   "metadata": {},
   "outputs": [],
   "source": [
    "from sklearn.model_selection import train_test_split\n",
    "x_tr,x_val,y_tr,y_val=train_test_split(np.array(data['article']),np.array(data['highlights']),test_size=0.1,random_state=0,shuffle=True) "
   ]
  },
  {
   "cell_type": "code",
   "execution_count": 30,
   "metadata": {},
   "outputs": [],
   "source": [
    "from keras.preprocessing.text import Tokenizer \n",
    "\n",
    "#prepare a tokenizer for reviews on training data\n",
    "x_tokenizer = Tokenizer() \n",
    "x_tokenizer.fit_on_texts(list(x_tr))"
   ]
  },
  {
   "cell_type": "code",
   "execution_count": 31,
   "metadata": {},
   "outputs": [
    {
     "name": "stdout",
     "output_type": "stream",
     "text": [
      "% of rare words in vocabulary: 55.22254212488791\n",
      "Total Coverage of rare words: 4.228957866412188\n"
     ]
    }
   ],
   "source": [
    "thresh=4\n",
    "\n",
    "cnt=0\n",
    "tot_cnt=0\n",
    "freq=0\n",
    "tot_freq=0\n",
    "\n",
    "for key,value in x_tokenizer.word_counts.items():\n",
    "    tot_cnt=tot_cnt+1\n",
    "    tot_freq=tot_freq+value\n",
    "    if(value<thresh):\n",
    "        cnt=cnt+1\n",
    "        freq=freq+value\n",
    "    \n",
    "print(\"% of rare words in vocabulary:\",(cnt/tot_cnt)*100)\n",
    "print(\"Total Coverage of rare words:\",(freq/tot_freq)*100)"
   ]
  },
  {
   "cell_type": "markdown",
   "metadata": {},
   "source": [
    "Remember:\n",
    "\n",
    "- **tot_cnt** gives the size of vocabulary (which means every unique words in the text)\n",
    "\n",
    "- **cnt** gives me the no. of rare words whose count falls below threshold\n",
    "\n",
    "- **tot_cnt** - cnt gives me the top most common words\n",
    "\n",
    "Let us define the tokenizer with top most common words for reviews."
   ]
  },
  {
   "cell_type": "markdown",
   "metadata": {},
   "source": [
    "This code prepares text data for NLP tasks by tokenizing the text, converting it into integer sequences, and ensuring that the sequences have the same length through padding. It also calculates the size of the vocabulary that will be used in subsequent NLP model training."
   ]
  },
  {
   "cell_type": "code",
   "execution_count": 32,
   "metadata": {},
   "outputs": [],
   "source": [
    "#prepare a tokenizer for reviews on training data\n",
    "x_tokenizer = Tokenizer(num_words=tot_cnt-cnt) \n",
    "x_tokenizer.fit_on_texts(list(x_tr))\n",
    "\n",
    "#convert text sequences into integer sequences\n",
    "x_tr_seq    =   x_tokenizer.texts_to_sequences(x_tr) \n",
    "x_val_seq   =   x_tokenizer.texts_to_sequences(x_val)\n",
    "\n",
    "#padding zero upto maximum length\n",
    "x_tr    =   pad_sequences(x_tr_seq,  maxlen=max_text_len, padding='post')\n",
    "x_val   =   pad_sequences(x_val_seq, maxlen=max_text_len, padding='post')\n",
    "\n",
    "#size of vocabulary ( +1 for padding token)\n",
    "x_voc   =  x_tokenizer.num_words + 1"
   ]
  },
  {
   "cell_type": "code",
   "execution_count": 33,
   "metadata": {},
   "outputs": [
    {
     "data": {
      "text/plain": [
       "18975"
      ]
     },
     "execution_count": 33,
     "metadata": {},
     "output_type": "execute_result"
    }
   ],
   "source": [
    "x_voc"
   ]
  },
  {
   "cell_type": "markdown",
   "metadata": {},
   "source": [
    "# Summary Tokenizer"
   ]
  },
  {
   "cell_type": "code",
   "execution_count": 34,
   "metadata": {},
   "outputs": [],
   "source": [
    "#prepare a tokenizer for reviews on training data\n",
    "y_tokenizer = Tokenizer()   \n",
    "y_tokenizer.fit_on_texts(list(y_tr))"
   ]
  },
  {
   "cell_type": "markdown",
   "metadata": {},
   "source": [
    "# Rarewords and its Coverage\n",
    "Let us look at the proportion rare words and its total coverage in the entire summary\n",
    "\n",
    "Here, I am defining the threshold to be 6 which means word whose count is below 6 is considered as a rare word"
   ]
  },
  {
   "cell_type": "code",
   "execution_count": 35,
   "metadata": {},
   "outputs": [
    {
     "name": "stdout",
     "output_type": "stream",
     "text": [
      "% of rare words in vocabulary: 79.2510775862069\n",
      "Total Coverage of rare words: 13.976228520466934\n"
     ]
    }
   ],
   "source": [
    "thresh=6\n",
    "\n",
    "cnt=0\n",
    "tot_cnt=0\n",
    "freq=0\n",
    "tot_freq=0\n",
    "\n",
    "for key,value in y_tokenizer.word_counts.items():\n",
    "    tot_cnt=tot_cnt+1\n",
    "    tot_freq=tot_freq+value\n",
    "    if(value<thresh):\n",
    "        cnt=cnt+1\n",
    "        freq=freq+value\n",
    "        \n",
    "    \n",
    "print(\"% of rare words in vocabulary:\",(cnt/tot_cnt)*100)\n",
    "print(\"Total Coverage of rare words:\",(freq/tot_freq)*100)"
   ]
  },
  {
   "cell_type": "code",
   "execution_count": 36,
   "metadata": {},
   "outputs": [],
   "source": [
    "#prepare a tokenizer for reviews on training data\n",
    "y_tokenizer = Tokenizer(num_words=tot_cnt-cnt) \n",
    "y_tokenizer.fit_on_texts(list(y_tr))\n",
    "\n",
    "#convert text sequences into integer sequences\n",
    "y_tr_seq    =   y_tokenizer.texts_to_sequences(y_tr) \n",
    "y_val_seq   =   y_tokenizer.texts_to_sequences(y_val) \n",
    "\n",
    "#padding zero upto maximum length\n",
    "y_tr    =   pad_sequences(y_tr_seq, maxlen=max_summary_len, padding='post')\n",
    "y_val   =   pad_sequences(y_val_seq, maxlen=max_summary_len, padding='post')\n",
    "\n",
    "#size of vocabulary\n",
    "y_voc  =   y_tokenizer.num_words +1"
   ]
  },
  {
   "cell_type": "code",
   "execution_count": 37,
   "metadata": {},
   "outputs": [
    {
     "data": {
      "text/plain": [
       "3852"
      ]
     },
     "execution_count": 37,
     "metadata": {},
     "output_type": "execute_result"
    }
   ],
   "source": [
    "y_voc"
   ]
  },
  {
   "cell_type": "markdown",
   "metadata": {},
   "source": [
    "Let us check whether word count of start token is equal to length of the training data"
   ]
  },
  {
   "cell_type": "code",
   "execution_count": 38,
   "metadata": {},
   "outputs": [
    {
     "data": {
      "text/plain": [
       "(4180, 4180)"
      ]
     },
     "execution_count": 38,
     "metadata": {},
     "output_type": "execute_result"
    }
   ],
   "source": [
    "y_tokenizer.word_counts['sostok'],len(y_tr)   "
   ]
  },
  {
   "cell_type": "markdown",
   "metadata": {},
   "source": [
    "Here, I am deleting the rows that contain only START and END tokens"
   ]
  },
  {
   "cell_type": "code",
   "execution_count": 39,
   "metadata": {},
   "outputs": [],
   "source": [
    "ind=[]\n",
    "for i in range(len(y_tr)):\n",
    "    cnt=0\n",
    "    for j in y_tr[i]:\n",
    "        if j!=0:\n",
    "            cnt=cnt+1\n",
    "    if(cnt==2):\n",
    "        ind.append(i)\n",
    "\n",
    "y_tr=np.delete(y_tr,ind, axis=0)\n",
    "x_tr=np.delete(x_tr,ind, axis=0)"
   ]
  },
  {
   "cell_type": "code",
   "execution_count": 40,
   "metadata": {},
   "outputs": [],
   "source": [
    "ind=[]\n",
    "for i in range(len(y_val)):\n",
    "    cnt=0\n",
    "    for j in y_val[i]:\n",
    "        if j!=0:\n",
    "            cnt=cnt+1\n",
    "    if(cnt==2):\n",
    "        ind.append(i)\n",
    "\n",
    "y_val=np.delete(y_val,ind, axis=0)\n",
    "x_val=np.delete(x_val,ind, axis=0)"
   ]
  },
  {
   "cell_type": "markdown",
   "metadata": {},
   "source": [
    "# Model building"
   ]
  },
  {
   "cell_type": "markdown",
   "metadata": {},
   "source": [
    "# Baseline - TFIDF Vectorizer \n",
    "\n",
    "[TFIDF](https://medium.com/@ashins1997/text-summarization-f2542bc6a167#:~:text=Sentence%20scoring%20using%20tf%2Didf,word%20occurs%20in%20the%20document.)\n",
    "\n",
    "- **Sentence scoring using tf-idf is one of the extractive approaches for text summarization.** \n",
    "- **TF-IDF stands for Term Frequency** — Inverse Document Frequency. It is the product of two statistics.\n",
    "\n",
    "- **Term Frequency (TF)** : It is the number of times the word occurs in the document.\n",
    "Inverse Document Frequency (IDF) : It is the measure of how much information the word provides, i.e., if it’s common or rare across all documents.\n",
    "\n",
    "Steps\n",
    "\n",
    "1. Covert text to sentences : Converting a single text to list of sentences.\n",
    "2. Pre-process text : Clean the sentences by removing unnecessary words, stopwords, punctuations, etc.\n",
    "3. Create term frequency (tf) matrix : It shows the frequency of words in each sentence. We will calculate relative frequency to represent the tf instead of using actual frequency. \n",
    ">It is calculated as t / T where,\n",
    "> - t = Number of times the term appears in the document,\n",
    "> - T = Total number of terms in the document\n",
    "4. Create idf matrix : It shows the importance of words in each sentence with respect to the whole document. \n",
    "> It is calculated as log_e(D/d) where,\n",
    "> - D = Total number of documents,\n",
    "> - d = Number of documents with term t in it\n",
    "5. Calculate sentence tf-idf : It is the product of tf and idf for each word in the sentence and shows the importance of each word in the sentence.\n",
    "6. Calculate sentence scores : Here score of the sentences are calculated as the average of the tf-idf value of words in the sentence. It is calculated as\n",
    "> T / n where,\n",
    "> - T = Total tf-idf of words in the sentence,\n",
    "> - n = Number of distinct words in the sentence\n",
    "7. Determine threshold : Threshold is the average value of the scores of the sentences. \n",
    "> It is calculated as S / s where,\n",
    "> - S = Total sum of scores of sentences,\n",
    "> - s = Number of sentences\n",
    "8. Generate summary : Generate a summary by extracting the sentences having scores greater than the threshold value."
   ]
  },
  {
   "cell_type": "markdown",
   "metadata": {},
   "source": [
    "# Sample Article"
   ]
  },
  {
   "cell_type": "code",
   "execution_count": 41,
   "metadata": {},
   "outputs": [
    {
     "data": {
      "text/plain": [
       "\"Cristiano Ronaldo and Lionel Messi will go head-to-head once more in the race to be this season's top scorer in the Champions League – although Luiz Adriano threatens to spoil the party. Both Barcelona and Real Madrid booked their spots in the semi-finals this week with victories over Paris Saint-Germain and Atletico Madrid respectively. The planet's best footballers have scored eight times in Europe this season. But Shakhtar Donetsk’s Adriano, courted by Arsenal and Liverpool, has netted on nine occasions this term. Cristiano Ronaldo, in action against Atletico Madrid on Wednesday evening, has scored eight goals in Europe . Lionel Messi also has eight goals in the Champions League this term; one fewer than Luiz Adriano . Ronaldo and Messi will both play at least two more times after Real Madrid and Barcelona reached the last four . Adriano, who moved to Donetsk in 2007, scored five against BATE Borsiov in the group stages. His performance that night made history, with the 27-year-old becoming only the second player to score five times in a Champions League game. The other was Messi for Barcelona against Bayer Leverkusen in 2012. He also scored the third quickest hat-trick in the competition's history (12 minutes) as the Ukrainian side, knocked out by Bayern Munich in the round of 16, racked up the biggest-ever half-time lead (6-0) in Europe's premier tournament. ‘I am in a good moment of my career and we'll do what will be best for me and for the club,’ said Adriano last month when quizzed over his future. Adriano, who netted five times against BATE Borisov in the group, has scored more goals than any other player in the Champions League... he is out of contract in December and could move to the Premier League . ‘With my contract set to expire and many good performances, it'll be difficult to stay in Ukraine.’ Arsenal have sent scouts to watch Adriano in recent months, while Liverpool are also keen on the Brazilian. His contract with Shakhtar Donetsk runs out at the end of the year. Ronaldo and Messi however, remain in pole-position to top the scoring charts with Barcelona and Real Madrid both in the hat for the two-legged semi-finals to be played next month. Of the teams still in the pot, Neymar and Luis Suarez of Barcelona, Real Madrid's Karim Benzema and former Manchester United and City striker Carlos Tevez, now plying his trade for Juventus, each have six goals. The draw for the last four will take place on Friday.\""
      ]
     },
     "execution_count": 41,
     "metadata": {},
     "output_type": "execute_result"
    }
   ],
   "source": [
    "df['article'][1000]"
   ]
  },
  {
   "cell_type": "markdown",
   "metadata": {},
   "source": [
    "## 1.Convert text to sentences"
   ]
  },
  {
   "cell_type": "code",
   "execution_count": 42,
   "metadata": {},
   "outputs": [],
   "source": [
    "from nltk.tokenize import sent_tokenize\n",
    "text = df['article'][1000]\n",
    "sentences = sent_tokenize(text)"
   ]
  },
  {
   "cell_type": "markdown",
   "metadata": {},
   "source": [
    "## Preprocess Text"
   ]
  },
  {
   "cell_type": "code",
   "execution_count": 43,
   "metadata": {},
   "outputs": [],
   "source": [
    "from nltk.tokenize import word_tokenize\n",
    "from nltk.corpus import stopwords\n",
    "from nltk.stem import PorterStemmer\n",
    "ps = PorterStemmer()\n",
    "def text_preprocessing(sentences):\n",
    "    \"\"\"\n",
    "    Pre processing text to removeunnecessary words.\n",
    "    \"\"\"    \n",
    "    print('Preprocessing text')    \n",
    "    stop_words = set(stopwords.words('english'))\n",
    "    clean_words = []\n",
    "    for sent in sentences:\n",
    "        words = word_tokenize(sent)\n",
    "        words = [ps.stem(word.lower()) for word in words if word.isalnum()]\n",
    "        clean_words += [word for word in words if word not in stop_words]\n",
    "    return clean_words"
   ]
  },
  {
   "cell_type": "markdown",
   "metadata": {},
   "source": [
    "# 3.Create term frequency (tf) matrix"
   ]
  },
  {
   "cell_type": "code",
   "execution_count": 44,
   "metadata": {},
   "outputs": [],
   "source": [
    "def create_tf_matrix(sentences: list) -> dict:\n",
    "    \"\"\"\n",
    "    Here document refers to a sentence.\n",
    "    TF(t) = (Number of times the term t appears in a document) /         (Total number of terms in the document)\n",
    "    \"\"\"\n",
    "    print('Creating tf matrix.')\n",
    "    tf_matrix = {}\n",
    "    for sentence in sentences:\n",
    "        tf_table = {}\n",
    "        words_count = len(word_tokenize(sentence))\n",
    "        clean_words = text_preprocessing([sentence])\n",
    "        # Determining frequency of words in the sentence\n",
    "        word_freq = {}\n",
    "        for word in clean_words:\n",
    "            word_freq[word] = (word_freq[word] + 1) if word in  word_freq else 1\n",
    "        # Calculating tf of the words in the sentence\n",
    "        for word, count in word_freq.items():\n",
    "            tf_table[word] = count / words_count\n",
    "        tf_matrix[sentence[:15]] = tf_table\n",
    "    return tf_matrix"
   ]
  },
  {
   "cell_type": "markdown",
   "metadata": {},
   "source": [
    "# 4.Create idf matrix"
   ]
  },
  {
   "cell_type": "code",
   "execution_count": 45,
   "metadata": {},
   "outputs": [],
   "source": [
    "import math\n",
    "def create_idf_matrix(sentences: list) -> dict:\n",
    "    \"\"\"\n",
    "    IDF(t) = log_e(Total number of documents / Number of documents     with term t in it)\n",
    "    \"\"\"\n",
    "    print('Creating idf matrix.')\n",
    "\n",
    "    idf_matrix = {}\n",
    "\n",
    "    documents_count = len(sentences)\n",
    "    sentence_word_table = {}\n",
    "\n",
    "    # Getting words in the sentence\n",
    "    for sentence in sentences:\n",
    "        clean_words = text_preprocessing([sentence])\n",
    "        sentence_word_table[sentence[:15]] = clean_words\n",
    "\n",
    "    # Determining word count table with the count of sentences which contains the word.\n",
    "    word_in_docs = {}\n",
    "    for sent, words in sentence_word_table.items():\n",
    "        for word in words:\n",
    "            word_in_docs[word] = (word_in_docs[word] + 1) if word in word_in_docs else 1\n",
    "\n",
    "    # Determining idf of the words in the sentence.\n",
    "    for sent, words in sentence_word_table.items():\n",
    "        idf_table = {}\n",
    "        for word in words:\n",
    "            idf_table[word] = math.log10(documents_count / float(word_in_docs[word]))\n",
    "\n",
    "        idf_matrix[sent] = idf_table\n",
    "\n",
    "    return idf_matrix"
   ]
  },
  {
   "cell_type": "markdown",
   "metadata": {},
   "source": [
    "## 5.Calculate sentence tf-idf"
   ]
  },
  {
   "cell_type": "code",
   "execution_count": 46,
   "metadata": {},
   "outputs": [],
   "source": [
    "def create_tf_idf_matrix(tf_matrix, idf_matrix) -> dict:\n",
    "    \"\"\"\n",
    "    Create a tf-idf matrix which is multiplication of tf * idf individual words\n",
    "    \"\"\"\n",
    "    print('Calculating tf-idf of sentences.')\n",
    "\n",
    "    tf_idf_matrix = {}\n",
    "\n",
    "    for (sent1, f_table1), (sent2, f_table2) in zip(tf_matrix.items(), idf_matrix.items()):\n",
    "        tf_idf_table = {}\n",
    "\n",
    "        for (word1, value1), (word2, value2) in zip(f_table1.items(), f_table2.items()):\n",
    "            tf_idf_table[word1] = float(value1 * value2)\n",
    "\n",
    "        tf_idf_matrix[sent1] = tf_idf_table\n",
    "\n",
    "    return tf_idf_matrix"
   ]
  },
  {
   "cell_type": "markdown",
   "metadata": {},
   "source": [
    "## 6.Calculate sentence scores"
   ]
  },
  {
   "cell_type": "code",
   "execution_count": 47,
   "metadata": {},
   "outputs": [],
   "source": [
    "def create_sentence_score_table(tf_idf_matrix) -> dict:\n",
    "    \"\"\"\n",
    "    Determining average score of words of the sentence with its words tf-idf value.\n",
    "    \"\"\"\n",
    "    print('Creating sentence score table.')\n",
    "\n",
    "    sentence_value = {}\n",
    "\n",
    "    for sent, f_table in tf_idf_matrix.items():\n",
    "        total_score_per_sentence = 0\n",
    "\n",
    "        count_words_in_sentence = len(f_table)\n",
    "        for word, score in f_table.items():\n",
    "            total_score_per_sentence += score\n",
    "\n",
    "        sentence_value[sent] = total_score_per_sentence / count_words_in_sentence\n",
    "\n",
    "    return sentence_value"
   ]
  },
  {
   "cell_type": "markdown",
   "metadata": {},
   "source": [
    "## 7.Determine threshold"
   ]
  },
  {
   "cell_type": "code",
   "execution_count": 48,
   "metadata": {},
   "outputs": [],
   "source": [
    "def find_average_score(sentence_value):\n",
    "    \"\"\"\n",
    "    Calculate average value of a sentence form the sentence score table.\n",
    "    \"\"\"\n",
    "    print('Finding average score')\n",
    "\n",
    "    sum = 0\n",
    "    for val in sentence_value:\n",
    "        sum += sentence_value[val]\n",
    "\n",
    "    average = sum / len(sentence_value)\n",
    "\n",
    "    return average"
   ]
  },
  {
   "cell_type": "markdown",
   "metadata": {},
   "source": [
    "## 8.Generate summary"
   ]
  },
  {
   "cell_type": "code",
   "execution_count": 49,
   "metadata": {},
   "outputs": [],
   "source": [
    "def generate_summary(sentences, sentence_value, threshold):\n",
    "    \"\"\"\n",
    "    Generate a sentence for sentence score greater than average.\n",
    "    \"\"\"\n",
    "    print('Generating summary')\n",
    "\n",
    "    sentence_count = 0\n",
    "    summary = ''\n",
    "\n",
    "    for sentence in sentences:\n",
    "        if sentence[:15] in sentence_value and sentence_value[sentence[:15]] >= threshold:\n",
    "            summary += sentence + \" \"\n",
    "            sentence_count += 1\n",
    "\n",
    "    return summary"
   ]
  },
  {
   "cell_type": "code",
   "execution_count": 50,
   "metadata": {},
   "outputs": [
    {
     "name": "stdout",
     "output_type": "stream",
     "text": [
      "Creating tf matrix.\n",
      "Preprocessing text\n",
      "Preprocessing text\n",
      "Preprocessing text\n",
      "Preprocessing text\n",
      "Preprocessing text\n",
      "Preprocessing text\n",
      "Preprocessing text\n",
      "Preprocessing text\n",
      "Preprocessing text\n",
      "Preprocessing text\n",
      "Preprocessing text\n",
      "Preprocessing text\n",
      "Preprocessing text\n",
      "Preprocessing text\n",
      "Preprocessing text\n",
      "Preprocessing text\n",
      "Preprocessing text\n",
      "Preprocessing text\n",
      "Creating idf matrix.\n",
      "Preprocessing text\n",
      "Preprocessing text\n",
      "Preprocessing text\n",
      "Preprocessing text\n",
      "Preprocessing text\n",
      "Preprocessing text\n",
      "Preprocessing text\n",
      "Preprocessing text\n",
      "Preprocessing text\n",
      "Preprocessing text\n",
      "Preprocessing text\n",
      "Preprocessing text\n",
      "Preprocessing text\n",
      "Preprocessing text\n",
      "Preprocessing text\n",
      "Preprocessing text\n",
      "Preprocessing text\n",
      "Preprocessing text\n",
      "Calculating tf-idf of sentences.\n",
      "Creating sentence score table.\n",
      "Sentence Scores {'Cristiano Ronal': 0.04718762953274642, 'Both Barcelona ': 0.04617809810090145, \"The planet's be\": 0.06442778376797274, 'But Shakhtar Do': 0.04404256982206562, 'Lionel Messi al': 0.04578161218499309, 'Ronaldo and Mes': 0.030569851062377414, 'Adriano, who mo': 0.04774812244317837, 'His performance': 0.038521108807275946, 'The other was M': 0.08961741367461402, 'He also scored ': 0.024153244214132518, '‘I am in a good': 0.028478813837538103, 'Adriano, who ne': 0.02228407683375332, '‘With my contra': 0.02623432939635977, 'His contract wi': 0.07070994938052932, 'Of the teams st': 0.026928838183968032, 'The draw for th': 0.10042506992994242}\n",
      "Finding average score\n",
      "Generating summary\n"
     ]
    }
   ],
   "source": [
    "tf_matrix = create_tf_matrix(sentences)\n",
    "# print('TF matrix', tf_matrix)\n",
    "\n",
    "idf_matrix = create_idf_matrix(sentences)\n",
    "# print('IDF matrix',idf_matrix)\n",
    "\n",
    "tf_idf_matrix = create_tf_idf_matrix(tf_matrix, idf_matrix)\n",
    "# print('TF-IDF matrix', tf_idf_matrix)\n",
    "# print('First document tfidf',tf_idf_matrix[list(tf_idf_matrix.keys())[0]])\n",
    "\n",
    "sentence_value = create_sentence_score_table(tf_idf_matrix)\n",
    "print('Sentence Scores', sentence_value)\n",
    "\n",
    "threshold = find_average_score(sentence_value)\n",
    "# print('Threshold', threshold)\n",
    "\n",
    "summary = generate_summary(sentences, sentence_value, threshold)"
   ]
  },
  {
   "cell_type": "code",
   "execution_count": 51,
   "metadata": {},
   "outputs": [
    {
     "data": {
      "text/plain": [
       "\"Cristiano Ronaldo and Lionel Messi will go head-to-head once more in the race to be this season's top scorer in the Champions League – although Luiz Adriano threatens to spoil the party. Both Barcelona and Real Madrid booked their spots in the semi-finals this week with victories over Paris Saint-Germain and Atletico Madrid respectively. The planet's best footballers have scored eight times in Europe this season. But Shakhtar Donetsk’s Adriano, courted by Arsenal and Liverpool, has netted on nine occasions this term. Cristiano Ronaldo, in action against Atletico Madrid on Wednesday evening, has scored eight goals in Europe . Lionel Messi also has eight goals in the Champions League this term; one fewer than Luiz Adriano . Ronaldo and Messi will both play at least two more times after Real Madrid and Barcelona reached the last four . Adriano, who moved to Donetsk in 2007, scored five against BATE Borsiov in the group stages. His performance that night made history, with the 27-year-old becoming only the second player to score five times in a Champions League game. The other was Messi for Barcelona against Bayer Leverkusen in 2012. He also scored the third quickest hat-trick in the competition's history (12 minutes) as the Ukrainian side, knocked out by Bayern Munich in the round of 16, racked up the biggest-ever half-time lead (6-0) in Europe's premier tournament. ‘I am in a good moment of my career and we'll do what will be best for me and for the club,’ said Adriano last month when quizzed over his future. Adriano, who netted five times against BATE Borisov in the group, has scored more goals than any other player in the Champions League... he is out of contract in December and could move to the Premier League . ‘With my contract set to expire and many good performances, it'll be difficult to stay in Ukraine.’ Arsenal have sent scouts to watch Adriano in recent months, while Liverpool are also keen on the Brazilian. His contract with Shakhtar Donetsk runs out at the end of the year. Ronaldo and Messi however, remain in pole-position to top the scoring charts with Barcelona and Real Madrid both in the hat for the two-legged semi-finals to be played next month. Of the teams still in the pot, Neymar and Luis Suarez of Barcelona, Real Madrid's Karim Benzema and former Manchester United and City striker Carlos Tevez, now plying his trade for Juventus, each have six goals. The draw for the last four will take place on Friday.\""
      ]
     },
     "execution_count": 51,
     "metadata": {},
     "output_type": "execute_result"
    }
   ],
   "source": [
    "df['article'][1000]"
   ]
  },
  {
   "cell_type": "code",
   "execution_count": 97,
   "metadata": {},
   "outputs": [],
   "source": [
    "df = pd.read_csv('test.csv')"
   ]
  },
  {
   "cell_type": "code",
   "execution_count": 98,
   "metadata": {},
   "outputs": [
    {
     "data": {
      "text/plain": [
       "\"Luiz Adriano scored nine times for Shakhtar Donetsk in Europe this season .\\nThe Brazilian is out of contract at the end of the year... both Arsenal and Liverpool are interested in signing the 27-year-old .\\nCristiano Ronaldo and Lionel Messi have netted eight goals this season .\\nReal Madrid and Barcelona both in the Champions League semi-finals .\\nREAD: Our reporters have their say on who will win the Champions League .\\nCLICK HERE for Sportsmail's guide to the Champions League final four .\""
      ]
     },
     "execution_count": 98,
     "metadata": {},
     "output_type": "execute_result"
    }
   ],
   "source": [
    "df['highlights'][1000]"
   ]
  },
  {
   "cell_type": "code",
   "execution_count": 52,
   "metadata": {},
   "outputs": [
    {
     "name": "stdout",
     "output_type": "stream",
     "text": [
      "Summary\n",
      " Cristiano Ronaldo and Lionel Messi will go head-to-head once more in the race to be this season's top scorer in the Champions League – although Luiz Adriano threatens to spoil the party. The planet's best footballers have scored eight times in Europe this season. Cristiano Ronaldo, in action against Atletico Madrid on Wednesday evening, has scored eight goals in Europe . Adriano, who moved to Donetsk in 2007, scored five against BATE Borsiov in the group stages. The other was Messi for Barcelona against Bayer Leverkusen in 2012. His contract with Shakhtar Donetsk runs out at the end of the year. The draw for the last four will take place on Friday. \n"
     ]
    }
   ],
   "source": [
    "print('Summary\\n', summary)"
   ]
  },
  {
   "cell_type": "code",
   "execution_count": 53,
   "metadata": {},
   "outputs": [
    {
     "name": "stdout",
     "output_type": "stream",
     "text": [
      "Original 18 sentences, Summarized 7 sentences\n"
     ]
    }
   ],
   "source": [
    "print(f'Original {len(sent_tokenize(text))} sentences, Summarized {len(sent_tokenize(summary))} sentences')"
   ]
  },
  {
   "cell_type": "markdown",
   "metadata": {},
   "source": [
    "# Iteration 2 - KL Model\n",
    "\n",
    "`KL (Kullback-Leibler)` divergence is a measure of how one probability distribution differs from a second, reference probability distribution. In the context of text summarization and natural language processing, KL divergence can be used to measure the difference between two probability distributions of words or terms, typically with the goal of assessing the relevance of a sentence or document to a particular topic or reference distribution.\n",
    "\n",
    "\n",
    "\n",
    "**Mathematical Definition:\n",
    "KL divergence between two probability distributions P and Q is defined as:\n",
    "\n",
    "**KL(P || Q) = Σ (P(x) * log(P(x) / Q(x)))**\n",
    "\n",
    "Where:\n",
    "\n",
    "- P(x) is the probability of an event x occurring according to distribution P.\n",
    "- Q(x) is the probability of the same event x occurring according to distribution Q.\n",
    "- The sum is taken over all possible events x.\n",
    "\n",
    "### Interpretation:\n",
    "\n",
    "- KL divergence measures the \"divergence\" or \"difference\" between two distributions. It quantifies how much one distribution (P) differs from the other (Q).\n",
    "- KL divergence is not symmetric, meaning KL(P || Q) is not the same as KL(Q || P). The order of the distributions matters.\n",
    "- When KL divergence is zero, it indicates that the two distributions are identical.\n",
    "\n",
    "\n",
    "\n",
    "### KL Divergence in Text Summarization:\n",
    "\n",
    "In the context of text summarization, you often have two distributions:\n",
    "- P represents the probability distribution of words in a sentence or document you want to evaluate (e.g., a sentence in the source text).\n",
    "- Q represents the reference distribution, which is typically derived from the entire source document or corpus.\n",
    "\n",
    "\n",
    "The goal is to measure how well the words in the sentence (P) align with the overall word distribution in the document (Q).\n",
    "\n",
    "### KL Divergence as a Score:\n",
    "\n",
    "You can use KL divergence as a scoring mechanism to assess the informativeness or relevance of a sentence to the main topics or themes in the document.\n",
    "- A higher KL divergence score implies that the sentence's word distribution significantly differs from the reference distribution, suggesting potential importance or uniqueness.\n",
    "\n",
    "### Practical Use Cases:\n",
    "\n",
    "KL divergence is often used in information retrieval, document summarization, and topic modeling to identify relevant documents or sentences.\n",
    "In text summarization, you might calculate KL divergence for each sentence in the document compared to the document's word distribution. Sentences with higher KL divergence scores are considered more relevant for summarization.\n",
    "\n",
    "### Limitations:\n",
    "\n",
    "KL divergence can be sensitive to the size of the text data and can produce noisy results with small amounts of data.\n",
    "It assumes that the two distributions have the same support (i.e., the same set of possible events)."
   ]
  },
  {
   "cell_type": "code",
   "execution_count": 54,
   "metadata": {},
   "outputs": [],
   "source": [
    "import pandas as pd\n",
    "import numpy as np\n",
    "from gensim.parsing import strip_tags, strip_numeric, strip_multiple_whitespaces, stem_text, strip_punctuation, remove_stopwords\n",
    "from gensim.parsing import preprocess_string\n",
    "from gensim import parsing\n",
    "import re"
   ]
  },
  {
   "cell_type": "code",
   "execution_count": 55,
   "metadata": {},
   "outputs": [
    {
     "name": "stdout",
     "output_type": "stream",
     "text": [
      "Requirement already satisfied: rouge in c:\\users\\alevi\\anaconda3\\envs\\learn-env\\lib\\site-packages (1.0.1)\n",
      "Requirement already satisfied: six in c:\\users\\alevi\\anaconda3\\envs\\learn-env\\lib\\site-packages (from rouge) (1.15.0)\n"
     ]
    }
   ],
   "source": [
    "!pip install rouge\n",
    "from rouge import Rouge\n",
    "rouge = Rouge()\n",
    "\n",
    "from collections import Counter"
   ]
  },
  {
   "cell_type": "code",
   "execution_count": 56,
   "metadata": {},
   "outputs": [
    {
     "data": {
      "text/html": [
       "<div>\n",
       "<style scoped>\n",
       "    .dataframe tbody tr th:only-of-type {\n",
       "        vertical-align: middle;\n",
       "    }\n",
       "\n",
       "    .dataframe tbody tr th {\n",
       "        vertical-align: top;\n",
       "    }\n",
       "\n",
       "    .dataframe thead th {\n",
       "        text-align: right;\n",
       "    }\n",
       "</style>\n",
       "<table border=\"1\" class=\"dataframe\">\n",
       "  <thead>\n",
       "    <tr style=\"text-align: right;\">\n",
       "      <th></th>\n",
       "      <th>id</th>\n",
       "      <th>article</th>\n",
       "      <th>highlights</th>\n",
       "    </tr>\n",
       "  </thead>\n",
       "  <tbody>\n",
       "    <tr>\n",
       "      <th>0</th>\n",
       "      <td>0001d1afc246a7964130f43ae940af6bc6c57f01</td>\n",
       "      <td>By . Associated Press . PUBLISHED: . 14:11 EST, 25 October 2013 . | . UPDATED: . 15:36 EST, 25 October 2013 . The bishop of the Fargo Catholic Diocese in North Dakota has exposed potentially hundr...</td>\n",
       "      <td>Bishop John Folda, of North Dakota, is taking time off after being diagnosed .\\nHe contracted the infection through contaminated food in Italy .\\nChurch members in Fargo, Grand Forks and Jamestown...</td>\n",
       "    </tr>\n",
       "    <tr>\n",
       "      <th>1</th>\n",
       "      <td>0002095e55fcbd3a2f366d9bf92a95433dc305ef</td>\n",
       "      <td>(CNN) -- Ralph Mata was an internal affairs lieutenant for the Miami-Dade Police Department, working in the division that investigates allegations of wrongdoing by cops. Outside the office, author...</td>\n",
       "      <td>Criminal complaint: Cop used his role to help cocaine traffickers .\\nRalph Mata, an internal affairs lieutenant, allegedly helped group get guns .\\nHe also arranged to pay two assassins in a murde...</td>\n",
       "    </tr>\n",
       "    <tr>\n",
       "      <th>2</th>\n",
       "      <td>00027e965c8264c35cc1bc55556db388da82b07f</td>\n",
       "      <td>A drunk driver who killed a young woman in a head-on crash while checking his mobile phone has been jailed for six years. Craig Eccleston-Todd, 27, was driving home from a night at a pub when he r...</td>\n",
       "      <td>Craig Eccleston-Todd, 27, had drunk at least three pints before driving car .\\nWas using phone when he veered across road in Yarmouth, Isle of Wight .\\nCrashed head-on into 28-year-old Rachel Titl...</td>\n",
       "    </tr>\n",
       "    <tr>\n",
       "      <th>3</th>\n",
       "      <td>0002c17436637c4fe1837c935c04de47adb18e9a</td>\n",
       "      <td>(CNN) -- With a breezy sweep of his pen President Vladimir Putin wrote a new chapter into Crimea's turbulent history, committing the region to a future returned to Russian domain. Sixty years prio...</td>\n",
       "      <td>Nina dos Santos says Europe must be ready to accept sanctions will hurt both sides .\\nTargeting Russia's business community would be one way of sapping their support for President Putin, she says ...</td>\n",
       "    </tr>\n",
       "    <tr>\n",
       "      <th>4</th>\n",
       "      <td>0003ad6ef0c37534f80b55b4235108024b407f0b</td>\n",
       "      <td>Fleetwood are the only team still to have a 100% record in Sky Bet League One as a 2-0 win over Scunthorpe sent Graham Alexander’s men top of the table. The Cod Army are playing in the third tier ...</td>\n",
       "      <td>Fleetwood top of League One after 2-0 win at Scunthorpe .\\nPeterborough, Bristol City, Chesterfield and Crawley all drop first points of the season .\\nStand-in striker Matt Done scores a hat-trick...</td>\n",
       "    </tr>\n",
       "    <tr>\n",
       "      <th>...</th>\n",
       "      <td>...</td>\n",
       "      <td>...</td>\n",
       "      <td>...</td>\n",
       "    </tr>\n",
       "    <tr>\n",
       "      <th>287108</th>\n",
       "      <td>fffdfb56fdf1a12d364562cc2b9b1d4de7481dee</td>\n",
       "      <td>By . James Rush . Former first daughter Chelsea Clinton has indicated she could one day be open to running for office. The only child of former U.S. President Bill Clinton has said she is no longe...</td>\n",
       "      <td>Chelsea Clinton said question of running for office is no longer 'visceral no'\\nSays she has been asked about running for office ever since being a child .\\nBut she no longer completely rules out ...</td>\n",
       "    </tr>\n",
       "    <tr>\n",
       "      <th>287109</th>\n",
       "      <td>fffeecb8690b85de8c3faed80adbc7a978f9ae2a</td>\n",
       "      <td>An apologetic Vanilla Ice has given his first proper interview following his arrest this week, saying he is struggling to eat and sleep and that he has never felt worse. The rapper turned renovati...</td>\n",
       "      <td>Vanilla Ice, 47 - real name Robert Van Winkle - was arrested in Lantana, Florida, on Wednesday and charged with burglary and grand theft .\\nCops say he took furniture, a pool heater and bicycles f...</td>\n",
       "    </tr>\n",
       "    <tr>\n",
       "      <th>287110</th>\n",
       "      <td>ffff5231e4c71544bc6c97015cdb16c60e42b3f4</td>\n",
       "      <td>America's most lethal sniper claimed he wished he'd 'killed more' Iraqis despite accumulating 160 confirmed kills - with the true number estimated to be as high as 255. Speaking just months before...</td>\n",
       "      <td>America's most lethal sniper made comment in interview three years ago .\\nSaid only regret was that US lives were lost because he killed too few .\\nFilm based on his book has been a box office hit...</td>\n",
       "    </tr>\n",
       "    <tr>\n",
       "      <th>287111</th>\n",
       "      <td>ffff924b14a8d82058b6c1c5368ff1113c1632af</td>\n",
       "      <td>By . Sara Malm . PUBLISHED: . 12:19 EST, 8 March 2013 . | . UPDATED: . 13:05 EST, 8 March 2013 . Israel has been invaded by a swarm of more than one million locusts, sending the nation into panic ...</td>\n",
       "      <td>A swarm of more than one million has crossed border from Egypt to Israel .\\nLocal chefs are cheering at the prospect of 'wild' locusts - which are kosher .\\nMimicking one of the ten plagues of the...</td>\n",
       "    </tr>\n",
       "    <tr>\n",
       "      <th>287112</th>\n",
       "      <td>ffffd563a96104f5cf4493cfa701a65f31b06abf</td>\n",
       "      <td>(CNN)Former Florida Gov. Jeb Bush has decided to \"actively explore\" a presidential bid after conversations with his family over Thanksgiving, he said in a Facebook post Tuesday. While Bush had bee...</td>\n",
       "      <td>Other 2016 hopefuls maintain that Bush's announcement wouldn't prevent them from running .\\nBush posted Tuesday on his social media accounts that he's exploring a presidential bid .\\nBush has been...</td>\n",
       "    </tr>\n",
       "  </tbody>\n",
       "</table>\n",
       "<p>287113 rows × 3 columns</p>\n",
       "</div>"
      ],
      "text/plain": [
       "                                              id  \\\n",
       "0       0001d1afc246a7964130f43ae940af6bc6c57f01   \n",
       "1       0002095e55fcbd3a2f366d9bf92a95433dc305ef   \n",
       "2       00027e965c8264c35cc1bc55556db388da82b07f   \n",
       "3       0002c17436637c4fe1837c935c04de47adb18e9a   \n",
       "4       0003ad6ef0c37534f80b55b4235108024b407f0b   \n",
       "...                                          ...   \n",
       "287108  fffdfb56fdf1a12d364562cc2b9b1d4de7481dee   \n",
       "287109  fffeecb8690b85de8c3faed80adbc7a978f9ae2a   \n",
       "287110  ffff5231e4c71544bc6c97015cdb16c60e42b3f4   \n",
       "287111  ffff924b14a8d82058b6c1c5368ff1113c1632af   \n",
       "287112  ffffd563a96104f5cf4493cfa701a65f31b06abf   \n",
       "\n",
       "                                                                                                                                                                                                        article  \\\n",
       "0       By . Associated Press . PUBLISHED: . 14:11 EST, 25 October 2013 . | . UPDATED: . 15:36 EST, 25 October 2013 . The bishop of the Fargo Catholic Diocese in North Dakota has exposed potentially hundr...   \n",
       "1       (CNN) -- Ralph Mata was an internal affairs lieutenant for the Miami-Dade Police Department, working in the division that investigates allegations of wrongdoing by cops. Outside the office, author...   \n",
       "2       A drunk driver who killed a young woman in a head-on crash while checking his mobile phone has been jailed for six years. Craig Eccleston-Todd, 27, was driving home from a night at a pub when he r...   \n",
       "3       (CNN) -- With a breezy sweep of his pen President Vladimir Putin wrote a new chapter into Crimea's turbulent history, committing the region to a future returned to Russian domain. Sixty years prio...   \n",
       "4       Fleetwood are the only team still to have a 100% record in Sky Bet League One as a 2-0 win over Scunthorpe sent Graham Alexander’s men top of the table. The Cod Army are playing in the third tier ...   \n",
       "...                                                                                                                                                                                                         ...   \n",
       "287108  By . James Rush . Former first daughter Chelsea Clinton has indicated she could one day be open to running for office. The only child of former U.S. President Bill Clinton has said she is no longe...   \n",
       "287109  An apologetic Vanilla Ice has given his first proper interview following his arrest this week, saying he is struggling to eat and sleep and that he has never felt worse. The rapper turned renovati...   \n",
       "287110  America's most lethal sniper claimed he wished he'd 'killed more' Iraqis despite accumulating 160 confirmed kills - with the true number estimated to be as high as 255. Speaking just months before...   \n",
       "287111  By . Sara Malm . PUBLISHED: . 12:19 EST, 8 March 2013 . | . UPDATED: . 13:05 EST, 8 March 2013 . Israel has been invaded by a swarm of more than one million locusts, sending the nation into panic ...   \n",
       "287112  (CNN)Former Florida Gov. Jeb Bush has decided to \"actively explore\" a presidential bid after conversations with his family over Thanksgiving, he said in a Facebook post Tuesday. While Bush had bee...   \n",
       "\n",
       "                                                                                                                                                                                                     highlights  \n",
       "0       Bishop John Folda, of North Dakota, is taking time off after being diagnosed .\\nHe contracted the infection through contaminated food in Italy .\\nChurch members in Fargo, Grand Forks and Jamestown...  \n",
       "1       Criminal complaint: Cop used his role to help cocaine traffickers .\\nRalph Mata, an internal affairs lieutenant, allegedly helped group get guns .\\nHe also arranged to pay two assassins in a murde...  \n",
       "2       Craig Eccleston-Todd, 27, had drunk at least three pints before driving car .\\nWas using phone when he veered across road in Yarmouth, Isle of Wight .\\nCrashed head-on into 28-year-old Rachel Titl...  \n",
       "3       Nina dos Santos says Europe must be ready to accept sanctions will hurt both sides .\\nTargeting Russia's business community would be one way of sapping their support for President Putin, she says ...  \n",
       "4       Fleetwood top of League One after 2-0 win at Scunthorpe .\\nPeterborough, Bristol City, Chesterfield and Crawley all drop first points of the season .\\nStand-in striker Matt Done scores a hat-trick...  \n",
       "...                                                                                                                                                                                                         ...  \n",
       "287108  Chelsea Clinton said question of running for office is no longer 'visceral no'\\nSays she has been asked about running for office ever since being a child .\\nBut she no longer completely rules out ...  \n",
       "287109  Vanilla Ice, 47 - real name Robert Van Winkle - was arrested in Lantana, Florida, on Wednesday and charged with burglary and grand theft .\\nCops say he took furniture, a pool heater and bicycles f...  \n",
       "287110  America's most lethal sniper made comment in interview three years ago .\\nSaid only regret was that US lives were lost because he killed too few .\\nFilm based on his book has been a box office hit...  \n",
       "287111  A swarm of more than one million has crossed border from Egypt to Israel .\\nLocal chefs are cheering at the prospect of 'wild' locusts - which are kosher .\\nMimicking one of the ten plagues of the...  \n",
       "287112  Other 2016 hopefuls maintain that Bush's announcement wouldn't prevent them from running .\\nBush posted Tuesday on his social media accounts that he's exploring a presidential bid .\\nBush has been...  \n",
       "\n",
       "[287113 rows x 3 columns]"
      ]
     },
     "execution_count": 56,
     "metadata": {},
     "output_type": "execute_result"
    }
   ],
   "source": [
    "df_train = pd.read_csv(\"train.csv\")\n",
    "\n",
    "df_train"
   ]
  },
  {
   "cell_type": "code",
   "execution_count": 57,
   "metadata": {},
   "outputs": [],
   "source": [
    "number_doc = 30000\n",
    "abstract = []\n",
    "introduction = []\n",
    "cnt = 0\n",
    "\n",
    "for index, row in df_train.iterrows():\n",
    "    cnt += 1\n",
    "    abstract.append(row['highlights'])\n",
    "    introduction.append(row['article'])\n",
    "    if cnt == number_doc:\n",
    "        break\n",
    "\n",
    "abstract = np.array(abstract)\n",
    "introduction = np.array(introduction)"
   ]
  },
  {
   "cell_type": "code",
   "execution_count": 58,
   "metadata": {},
   "outputs": [
    {
     "data": {
      "text/plain": [
       "'Heidi and Maryellen Olson conceived first daughter using donor sperm .\\nHeidi gave birth to Sequoia on Nov 7, Maryellen wanted to breastfeed too .\\nMaryellen followed a program of birth control pills and a milk-enhancing drug for three months before the birth at home in Santa Cruz, California .\\nNow, both mothers nurse their daughter, claim it enhances their closeness .'"
      ]
     },
     "execution_count": 58,
     "metadata": {},
     "output_type": "execute_result"
    }
   ],
   "source": [
    "abstract[43]"
   ]
  },
  {
   "cell_type": "code",
   "execution_count": 59,
   "metadata": {},
   "outputs": [
    {
     "data": {
      "text/plain": [
       "'It is one of the key bonding experiences for a mother and child: breastfeeding. So lesbian partners Heidi and Maryellen Olson wanted to share that with their first-born Sequoia. They both nurse their one-month-old daughter. Phenomenon: Maryellen Olson, 25, nurses her daughter Sequoia despite not giving birth . Both breastfeeding: Her wife Heidi, 26, naturally lactates meaning they can both nurse their first-born . Dubbed \\'co-nursing\\', the little-known practice requires Maryellen, who didn\\'t give birth, to induce lactation and take a natural drug to boost breastmilk. According to the new parents, it has changed everything. \\'It is so worth it for the closeness I feel with Sequoia, and also for the sanity-saving it provides both of us,\\' graduate student Maryellen, 25, told MailOnline from the family\\'s home in Santa Cruz, California. \\'We both feel pretty amazed. \\'It\\'s amazing to see what our bodies can do, and we felt lucky to have this additional bonding experience available for both of us.\\' The couple, who married in 2012, discovered the treatment - more common among adoptive families - in a group for lesbians trying to conceive and immediately agreed to pursue it. Maryellen followed a program named the Newman-Goldfarb protocol, which made her body simulate pregnancy. Starting four months before the birth, she took birth control pills and a breastmilk-enhancing drug called Domperidone. The drug does not yet have FDA approval but is prevalent in Europe, some US states, and Canada, where Heidi and Maryellen eventually bought their dosage. Experience: The couple from Santa Cruz, California, said it has made them stronger as a family . Journey: Maryellen (right) started taking birth control pills and a drug called Domperidone four months before Heidi (left) gave birth to Sequoia on November 7. They conceived using artificially inseminated donor sperm . Maryellen stopped the birth control pills six weeks before Heidi\\'s due date, to make her body believe she had given birth, and started \\'pumping\\' up to six times a day. The pump is designed to make a woman\\'s body produce more milk. By the time Sequoia was born on November 7, Maryellen was ready to nurse. She will continue with Domperidone and herbal tablets called \\'More Milk Special Blend\\' until Sequioa is no longer breastfeeding. \\'Our friends are fascinated by the fact that my wife and I both breastfeed our daughter,\\' Heidi, a 26-year-old nurse, said. \\'We get a lot of: \"Wow, that\\'s amazing!\" and \"I didn\\'t know that was possible!\"\\' It came after a long battle to conceive. Heidi endured a year-long battle with endometriosis and ovarian cysts that threatened to affect her fertility. In spring this year, she was finally able to undergo an intrauterine insemination (IUI) to implant a donor\\'s sperm in her uterus. But it took ten cycles before the pregnancy test flashed pink. \\'It was a heart wrenching time and very hard on us both,\\' Heidi said. \\'Every cycle and negative test was harder than the last, and the doctors were less and less hopeful. Birth: Having followed the meticulous program, Maryellen was able to nurse Sequoia as soon as she was born . Joy: They celebrated the birth at their family home and say they are already easing into their nursing routine . \\'Our positive pregnancy test came just in the nick of time, and we were so glad.\\' Now, four weeks after their home birth, photographed by Santa Cruz Birth Photography, Heidi, Maryellen and Sequoia are easing into their unconventional routine. For Sequoia, it means she doesn\\'t have to wait around - even though she is sometimes stubborn (\\'she really makes us work for it!\\'). \\'We don\\'t really have a set schedule or rotation,\\' Maryellen said. \\'Whoever is near the baby or holding her will feed her, and the other will try to pump then or shortly after.\\' \\'We are able to sleep in longer chunks due to this, since it\\'s not all on one mama to have to feed her and stay awake. We switch whenever the awake mama feels like she needs help or sleep.\\' Makes everything easier! Both nursing, it means either can respond to Sequoia\\'s cries if the other is busy . But the crucial benefit is their connection. Maryellen said: \\'For me, I am able to feel even closer to her. \\'I am absolutely in love with her and feel incredibly connected to her ever since she was in utero, but since she\\'s been out of the womb and I\\'m breastfeeding, I feel even more connected. \\'I know other non-carrying lesbian mothers who feel like they are not as close to their child as the mom who carried the baby, and I know that breastfeeding has helped me feel incredibly bonded to her. \\'When she is breastfeeding and falls asleep on me or lays her hand on me, I feel an overwhelming amount of love for her that I wouldn\\'t have were I not breastfeeding.\\''"
      ]
     },
     "execution_count": 59,
     "metadata": {},
     "output_type": "execute_result"
    }
   ],
   "source": [
    "introduction[43]"
   ]
  },
  {
   "cell_type": "code",
   "execution_count": 60,
   "metadata": {},
   "outputs": [
    {
     "name": "stderr",
     "output_type": "stream",
     "text": [
      "[nltk_data] Downloading package punkt to\n",
      "[nltk_data]     C:\\Users\\alevi\\AppData\\Roaming\\nltk_data...\n",
      "[nltk_data]   Package punkt is already up-to-date!\n",
      "[nltk_data] Downloading package stopwords to\n",
      "[nltk_data]     C:\\Users\\alevi\\AppData\\Roaming\\nltk_data...\n",
      "[nltk_data]   Package stopwords is already up-to-date!\n",
      "[nltk_data] Downloading package wordnet to\n",
      "[nltk_data]     C:\\Users\\alevi\\AppData\\Roaming\\nltk_data...\n",
      "[nltk_data]   Package wordnet is already up-to-date!\n"
     ]
    }
   ],
   "source": [
    "import nltk\n",
    "from nltk.corpus import stopwords\n",
    "from nltk.tokenize import sent_tokenize, word_tokenize\n",
    "nltk.download('punkt')\n",
    "nltk.download('stopwords')\n",
    "nltk.download('wordnet')\n",
    "import string"
   ]
  },
  {
   "cell_type": "code",
   "execution_count": 61,
   "metadata": {},
   "outputs": [],
   "source": [
    "def get_Sentences(introduction):\n",
    "    sentences = sent_tokenize(introduction.lower())\n",
    "    sentences = [s for s in sentences if len(s.strip()) > 1]\n",
    "    return sentences"
   ]
  },
  {
   "cell_type": "code",
   "execution_count": 62,
   "metadata": {},
   "outputs": [],
   "source": [
    "def preprocessing(sentences):\n",
    "\n",
    "    # remove_emails = lambda s: re.sub(r'^[a-zA-Z0-9+_.-]+@[a-zA-Z0-9.-]+$', '', s)\n",
    "    # remove_single_char = lambda s: re.sub(r'\\s+\\w{1}\\s+', '', s)\n",
    "\n",
    "    CLEAN_FILTERS = [\n",
    "                    #remove_emails,\n",
    "                    strip_tags,\n",
    "                    strip_numeric, \n",
    "                    strip_multiple_whitespaces]\n",
    "\n",
    "    processed_words = preprocess_string(sentences, CLEAN_FILTERS)\n",
    "    text = ' '.join(processed_words)\n",
    "    tokens = word_tokenize(text.lower())\n",
    "    \n",
    "    stop_words = set(stopwords.words('english'))\n",
    "    stop_words.add('\\x1a')\n",
    "    punctuations = set(string.punctuation)\n",
    "    filtered_tokens = [token for token in tokens if token.lower() not in stop_words]\n",
    "    \n",
    "    return filtered_tokens"
   ]
  },
  {
   "cell_type": "code",
   "execution_count": 63,
   "metadata": {},
   "outputs": [],
   "source": [
    "def get_word_freq(tokens):\n",
    "    word_freq = Counter(tokens)\n",
    "    #print(word_freq)\n",
    "    total_words = sum(word_freq.values())\n",
    "    #print(total_words)\n",
    "    return word_freq, total_words"
   ]
  },
  {
   "cell_type": "code",
   "execution_count": 64,
   "metadata": {},
   "outputs": [],
   "source": [
    "def get_word_pd(word_freq,total_words):\n",
    "    word_pd = {word: count / total_words for word, count in word_freq.items()}\n",
    "    #print(word_pd)\n",
    "    return word_pd"
   ]
  },
  {
   "cell_type": "markdown",
   "metadata": {},
   "source": [
    "### Using Kullback-Leibler to generate summaries\n",
    "The two functions, KL and get_Summary, work together to generate a summary from given text using a KL (Kullback-Leibler) divergence-based approach. Here's an explanation of what each function does:\n",
    "\n",
    "- KL(sentences, word_pd): This function calculates the sentence scores based on KL divergence. It takes two arguments:\n",
    "\n",
    "> - sentences: a list of sentences from the input text.\n",
    "> - word_pd: a probability distribution of words in the entire document.\n",
    "\n",
    "For each sentence in the sentences list, it first preprocesses the sentence by converting it to lowercase and tokenizing it into words (using preprocessing(sentence.lower())).\n",
    "It then calculates the word frequency of each word in the sentence using a Counter.\n",
    "Next, it computes the probability distribution of words (sent_ps) within the sentence by dividing the word frequency by the total number of words in the sentence.\n",
    "It iterates over each word in the sentence and calculates the KL divergence score for that word with respect to the document-level word probability distribution (word_pd).\n",
    "The KL divergence score for the sentence is calculated as the sum of these word-wise KL divergence scores.\n",
    "The function returns a dictionary (sentence_scores) where the keys are the indices of the sentences in the original sentences list, and the values are the computed KL divergence scores for each sentence.\n",
    "\n",
    "- get_Summary(sentence_scores, no_sentences): This function takes the sentence scores generated by the KL function and the desired number of sentences for the summary (no_sentences) as input. It returns the summary text as a string.\n",
    "\n",
    "> It sorts the sentences in descending order of their KL divergence scores, selecting the top no_sentences sentences with the highest scores. These sentences are considered the most informative for the summary.\n",
    "It then sorts the selected sentences based on their original order in the input text to maintain the original sequence.\n",
    "Finally, it joins these selected sentences into a single summary string and returns it."
   ]
  },
  {
   "cell_type": "code",
   "execution_count": 65,
   "metadata": {},
   "outputs": [],
   "source": [
    "# Calculate the sentence scores based on KL divergence\n",
    "# doc * log (doc/sentences)\n",
    "def KL(sentences,word_pd):\n",
    "    sentence_scores = {}\n",
    "    for i, sentence in enumerate(sentences):\n",
    "        sentence_words = preprocessing(sentence.lower())\n",
    "        sentence_word_freq = Counter(sentence_words)\n",
    "        sent_ps = {word: count/len(sentence_words) for word, count in sentence_word_freq.items()}\n",
    "\n",
    "        #check kl divergence value for each sentence and store it in an array\n",
    "        score = 0\n",
    "        for word in sentence_words:\n",
    "            if word in word_pd and word in sent_ps:\n",
    "                score += word_pd[word] * np.log(word_pd[word]/sent_ps[word])\n",
    "\n",
    "        sentence_scores[i] = score\n",
    "    return sentence_scores"
   ]
  },
  {
   "cell_type": "code",
   "execution_count": 66,
   "metadata": {},
   "outputs": [],
   "source": [
    "def get_Summary(sentence_scores,no_sentences):\n",
    "  # all_sentences = sorted(sentence_scores, key=sentence_scores.get, reverse=True)\n",
    "  # print(all_sentences)\n",
    "  # Sort the sentences in descending order of scores and select the top summary_size sentences\n",
    "    summary_sentences = sorted(sentence_scores, key=sentence_scores.get, reverse=True)[:no_sentences]\n",
    "    summary_sentences = sorted(summary_sentences)\n",
    "    # print(summary_sentences)\n",
    "    summary = ' '.join([sentences[i] for i in summary_sentences])\n",
    "    return summary"
   ]
  },
  {
   "cell_type": "markdown",
   "metadata": {},
   "source": [
    "The get_rouge_score function calculates and returns ROUGE (Recall-Oriented Understudy for Gisting Evaluation) scores between a generated summary and a reference abstract. ROUGE is a set of metrics used to evaluate the quality of automatic text summarization and machine translation outputs by comparing them to reference texts.\n",
    "\n",
    "Here's an explanation of what this function does:\n",
    "\n",
    "Input:\n",
    "\n",
    "summary: This parameter represents the generated summary that you want to evaluate. It is a string containing the text of the summary.\n",
    "\n",
    "abstract: This parameter represents the reference abstract or ground truth summary against which you want to compare the generated summary. It is also a string containing the text of the reference summary.\n",
    "\n",
    "Calculation of ROUGE Scores:\n",
    "\n",
    "Inside the function, the rouge.get_scores method is called with the summary and abstract as arguments. This method computes several ROUGE scores, including ROUGE-N (precision, recall, and F1 score for n-grams) and ROUGE-L (longest common subsequence-based metrics).\n",
    "\n",
    "The scores variable stores the computed ROUGE scores as a dictionary.\n",
    "\n",
    "Output:\n",
    "\n",
    "The function returns the computed ROUGE scores as a dictionary. The dictionary contains various ROUGE metrics, such as ROUGE-1 precision, ROUGE-1 recall, ROUGE-1 F1 score, ROUGE-2 precision, ROUGE-2 recall, ROUGE-2 F1 score, and so on."
   ]
  },
  {
   "cell_type": "code",
   "execution_count": 67,
   "metadata": {},
   "outputs": [],
   "source": [
    "def get_rouge_score(summary, abstract):\n",
    "    scores = rouge.get_scores(summary, abstract)\n",
    "    return scores"
   ]
  },
  {
   "cell_type": "code",
   "execution_count": 68,
   "metadata": {},
   "outputs": [],
   "source": [
    "def preprocessing_summaries(sentences):\n",
    "\n",
    "    # remove_emails = lambda s: re.sub(r'^[a-zA-Z0-9+_.-]+@[a-zA-Z0-9.-]+$', '', s)\n",
    "    # remove_single_char = lambda s: re.sub(r'\\s+\\w{1}\\s+', '', s)\n",
    "\n",
    "    CLEAN_FILTERS = [\n",
    "                    #remove_emails,\n",
    "                    strip_tags,\n",
    "                    strip_numeric, \n",
    "                    strip_multiple_whitespaces]\n",
    "\n",
    "    processed_words = preprocess_string(sentences, CLEAN_FILTERS)\n",
    "    text = ' '.join(processed_words)\n",
    "    tokens = word_tokenize(text.lower())\n",
    "    \n",
    "    stop_words = set(stopwords.words('english'))\n",
    "    stop_words.add('\\x1a')\n",
    "    punctuations = set(string.punctuation)\n",
    "    filtered_tokens = ' '.join(token for token in tokens if token.lower() not in stop_words)\n",
    "    \n",
    "    return filtered_tokens"
   ]
  },
  {
   "cell_type": "code",
   "execution_count": 69,
   "metadata": {},
   "outputs": [],
   "source": [
    "import warnings\n",
    "import pandas as pd  # Make sure to import pandas\n",
    "\n",
    "warnings.filterwarnings('ignore')\n",
    "\n",
    "columns = ['summary', 'gold_summary', 'ROUGE-1 Precision', 'ROUGE-1 Recall', 'ROUGE-1 F1', 'ROUGE-L Precision', 'ROUGE-L Recall', 'ROUGE-L F1']\n",
    "df = pd.DataFrame(columns=columns)\n",
    "\n",
    "for i in range(len(abstract)):\n",
    "\n",
    "    sentences = get_Sentences(introduction[i])\n",
    "    tokens = preprocessing(introduction[i])\n",
    "    word_freq, total_words = get_word_freq(tokens)\n",
    "    word_pd = get_word_pd(word_freq, total_words)\n",
    "    sentence_scores = KL(sentences, word_pd)\n",
    "    summary = get_Summary(sentence_scores, 6)\n",
    "    # print(summary)\n",
    "    gold_summary = abstract[i].lower()\n",
    "    # print(i)\n",
    "    scores = get_rouge_score(preprocessing_summaries(summary), preprocessing_summaries(gold_summary))\n",
    "    all_scores = {\n",
    "        'summary': summary,\n",
    "        'gold_summary': gold_summary,\n",
    "        'ROUGE-1 Precision': scores[0]['rouge-1']['p'],\n",
    "        'ROUGE-1 Recall': scores[0]['rouge-1']['r'],\n",
    "        'ROUGE-1 F1': scores[0]['rouge-1']['f'],\n",
    "        'ROUGE-L Precision': scores[0]['rouge-l']['p'],\n",
    "        'ROUGE-L Recall': scores[0]['rouge-l']['r'],\n",
    "        'ROUGE-L F1': scores[0]['rouge-l']['f']}\n",
    "    new_row = pd.DataFrame(all_scores, index=[0])\n",
    "    df = pd.concat([df, new_row], ignore_index=True)\n"
   ]
  },
  {
   "cell_type": "code",
   "execution_count": 70,
   "metadata": {},
   "outputs": [
    {
     "data": {
      "text/html": [
       "<div>\n",
       "<style scoped>\n",
       "    .dataframe tbody tr th:only-of-type {\n",
       "        vertical-align: middle;\n",
       "    }\n",
       "\n",
       "    .dataframe tbody tr th {\n",
       "        vertical-align: top;\n",
       "    }\n",
       "\n",
       "    .dataframe thead th {\n",
       "        text-align: right;\n",
       "    }\n",
       "</style>\n",
       "<table border=\"1\" class=\"dataframe\">\n",
       "  <thead>\n",
       "    <tr style=\"text-align: right;\">\n",
       "      <th></th>\n",
       "      <th>summary</th>\n",
       "      <th>gold_summary</th>\n",
       "      <th>ROUGE-1 Precision</th>\n",
       "      <th>ROUGE-1 Recall</th>\n",
       "      <th>ROUGE-1 F1</th>\n",
       "      <th>ROUGE-L Precision</th>\n",
       "      <th>ROUGE-L Recall</th>\n",
       "      <th>ROUGE-L F1</th>\n",
       "    </tr>\n",
       "  </thead>\n",
       "  <tbody>\n",
       "    <tr>\n",
       "      <th>17285</th>\n",
       "      <td>police say a maryland teenager eating a pot brownie in class panicked when his teacher asked him for a piece of the treat, and that he is now charged for obliging. anne arundel county police said ...</td>\n",
       "      <td>student gave teacher a piece when asked for a bite of the treat .\\nanne arundel county police said tuesday that the 17-year-old didn't tell the teacher that the brownie contained marijuana .\\nteac...</td>\n",
       "      <td>0.632653</td>\n",
       "      <td>0.911765</td>\n",
       "      <td>0.746988</td>\n",
       "      <td>0.612245</td>\n",
       "      <td>0.882353</td>\n",
       "      <td>0.722892</td>\n",
       "    </tr>\n",
       "    <tr>\n",
       "      <th>4361</th>\n",
       "      <td>scroll down for video . the baby died at its home in fort plains on tuesday and when it was found unresponsive it was taken to the hospital and pronounced dead. abc reports that police say the dea...</td>\n",
       "      <td>the baby died at its home in fort plains on tuesday and when it was found unresponsive it was taken to the hospital and pronounced dead .\\npolice say the death was a 'tragic accident' and that no ...</td>\n",
       "      <td>0.557377</td>\n",
       "      <td>0.971429</td>\n",
       "      <td>0.708333</td>\n",
       "      <td>0.557377</td>\n",
       "      <td>0.971429</td>\n",
       "      <td>0.708333</td>\n",
       "    </tr>\n",
       "    <tr>\n",
       "      <th>19765</th>\n",
       "      <td>it shows a ‘worryingly vast variation’ in access to advanced mri scanning and the latest radiotherapy techniques. four out of five radiation centres in england do not offer brachytherapy – which u...</td>\n",
       "      <td>reports shows a ‘worryingly vast variation’ in access to advanced mri scanning and the latest radiotherapy techniques .\\nfour out of five radiation centres in england do not offer brachytherapy .\\...</td>\n",
       "      <td>0.561404</td>\n",
       "      <td>0.941176</td>\n",
       "      <td>0.703297</td>\n",
       "      <td>0.561404</td>\n",
       "      <td>0.941176</td>\n",
       "      <td>0.703297</td>\n",
       "    </tr>\n",
       "    <tr>\n",
       "      <th>7028</th>\n",
       "      <td>a french physician who treated michael schumacher for nearly six months after the formula one champion struck his head in a ski accident says he is no longer in a coma and predicted a possible rec...</td>\n",
       "      <td>michael schumacher is no longer in a coma, says french physician who treated him for nearly six months .\\nschumacher was with his 14-year-old son in the french alps when he fell, hitting the side ...</td>\n",
       "      <td>0.592593</td>\n",
       "      <td>0.864865</td>\n",
       "      <td>0.703297</td>\n",
       "      <td>0.537037</td>\n",
       "      <td>0.783784</td>\n",
       "      <td>0.637363</td>\n",
       "    </tr>\n",
       "    <tr>\n",
       "      <th>13039</th>\n",
       "      <td>ex-nba star michael jordan advised  tom watson on his approach to team usa's afternoon foursomes at gleneagles. watson compared the morning of the opening day to the first quarter of a basketball ...</td>\n",
       "      <td>the chicago bulls star has been supporting team usa in scotland .\\nthe six-time nba champion gave his advice to tom watson .\\nthe team usa captain compared the morning fourballs to the first quart...</td>\n",
       "      <td>0.568182</td>\n",
       "      <td>0.806452</td>\n",
       "      <td>0.666667</td>\n",
       "      <td>0.568182</td>\n",
       "      <td>0.806452</td>\n",
       "      <td>0.666667</td>\n",
       "    </tr>\n",
       "  </tbody>\n",
       "</table>\n",
       "</div>"
      ],
      "text/plain": [
       "                                                                                                                                                                                                       summary  \\\n",
       "17285  police say a maryland teenager eating a pot brownie in class panicked when his teacher asked him for a piece of the treat, and that he is now charged for obliging. anne arundel county police said ...   \n",
       "4361   scroll down for video . the baby died at its home in fort plains on tuesday and when it was found unresponsive it was taken to the hospital and pronounced dead. abc reports that police say the dea...   \n",
       "19765  it shows a ‘worryingly vast variation’ in access to advanced mri scanning and the latest radiotherapy techniques. four out of five radiation centres in england do not offer brachytherapy – which u...   \n",
       "7028   a french physician who treated michael schumacher for nearly six months after the formula one champion struck his head in a ski accident says he is no longer in a coma and predicted a possible rec...   \n",
       "13039  ex-nba star michael jordan advised  tom watson on his approach to team usa's afternoon foursomes at gleneagles. watson compared the morning of the opening day to the first quarter of a basketball ...   \n",
       "\n",
       "                                                                                                                                                                                                  gold_summary  \\\n",
       "17285  student gave teacher a piece when asked for a bite of the treat .\\nanne arundel county police said tuesday that the 17-year-old didn't tell the teacher that the brownie contained marijuana .\\nteac...   \n",
       "4361   the baby died at its home in fort plains on tuesday and when it was found unresponsive it was taken to the hospital and pronounced dead .\\npolice say the death was a 'tragic accident' and that no ...   \n",
       "19765  reports shows a ‘worryingly vast variation’ in access to advanced mri scanning and the latest radiotherapy techniques .\\nfour out of five radiation centres in england do not offer brachytherapy .\\...   \n",
       "7028   michael schumacher is no longer in a coma, says french physician who treated him for nearly six months .\\nschumacher was with his 14-year-old son in the french alps when he fell, hitting the side ...   \n",
       "13039  the chicago bulls star has been supporting team usa in scotland .\\nthe six-time nba champion gave his advice to tom watson .\\nthe team usa captain compared the morning fourballs to the first quart...   \n",
       "\n",
       "       ROUGE-1 Precision  ROUGE-1 Recall  ROUGE-1 F1  ROUGE-L Precision  \\\n",
       "17285           0.632653        0.911765    0.746988           0.612245   \n",
       "4361            0.557377        0.971429    0.708333           0.557377   \n",
       "19765           0.561404        0.941176    0.703297           0.561404   \n",
       "7028            0.592593        0.864865    0.703297           0.537037   \n",
       "13039           0.568182        0.806452    0.666667           0.568182   \n",
       "\n",
       "       ROUGE-L Recall  ROUGE-L F1  \n",
       "17285        0.882353    0.722892  \n",
       "4361         0.971429    0.708333  \n",
       "19765        0.941176    0.703297  \n",
       "7028         0.783784    0.637363  \n",
       "13039        0.806452    0.666667  "
      ]
     },
     "execution_count": 70,
     "metadata": {},
     "output_type": "execute_result"
    }
   ],
   "source": [
    "sorted_df = df.sort_values(by=['ROUGE-1 F1'], ascending=False)\n",
    "sorted_df.reset_index(drop=True)\n",
    "\n",
    "top_5_rows = sorted_df.head(5)\n",
    "\n",
    "top_5_rows"
   ]
  },
  {
   "cell_type": "code",
   "execution_count": 71,
   "metadata": {},
   "outputs": [],
   "source": [
    "df_train = pd.read_csv(\"train.csv\")"
   ]
  },
  {
   "cell_type": "code",
   "execution_count": 72,
   "metadata": {},
   "outputs": [
    {
     "data": {
      "text/plain": [
       "\"Student gave teacher a piece when asked for a bite of the treat .\\nAnne Arundel County police said Tuesday that the 17-year-old didn't tell the teacher that the brownie contained marijuana .\\nTeacher began feeling ill and acting disoriented, and was brought to the nurse's office at Broadneck High School in Annapolis on Monday .\""
      ]
     },
     "execution_count": 72,
     "metadata": {},
     "output_type": "execute_result"
    }
   ],
   "source": [
    "df_train['highlights'][17285]"
   ]
  },
  {
   "cell_type": "code",
   "execution_count": 73,
   "metadata": {},
   "outputs": [
    {
     "data": {
      "text/plain": [
       "\"Police say a Maryland teenager eating a pot brownie in class panicked when his teacher asked him for a piece of the treat, and that he is now charged for obliging. Anne Arundel County police said Tuesday that the 17-year-old didn't tell the teacher that the brownie contained marijuana. She began feeling ill and acting disoriented, and was brought to the nurse's office at Broadneck High School in Annapolis on Monday. Police say a Maryland teenager eating a pot brownie in class at Broadneck High School panicked when his teacher asked him for a piece of the treat, and that he is now charged for obliging . The teacher told police that the student had given her the brownie during third period and that she suspected it contained marijuana. The student, from nearby Arnold, was charged with juvenile counts of administering a dangerous substance, assault and reckless endangerment. Police did not release his name, and they say he was released to a guardian. The school is taking action through its own Code of Conduct separately. 'Possession and use of drugs can have very, very serious consequences,' schools spokesman Bob Mosier told The Capital Gazette.\\xa0'The very thought that a student would give a teacher something laced with drugs is, quite frankly, appalling.'\""
      ]
     },
     "execution_count": 73,
     "metadata": {},
     "output_type": "execute_result"
    }
   ],
   "source": [
    "df_train['article'][17285]"
   ]
  },
  {
   "cell_type": "code",
   "execution_count": 74,
   "metadata": {},
   "outputs": [],
   "source": [
    "avg_precision = df['ROUGE-1 Precision'].mean()\n",
    "avg_recall = df['ROUGE-1 Recall'].mean()\n",
    "avg_f1 = df['ROUGE-1 F1'].mean()\n",
    "avg_l_precision = df['ROUGE-L Precision'].mean()\n",
    "avg_l_recall = df['ROUGE-L Recall'].mean()\n",
    "avg_l_f1 = df['ROUGE-L F1'].mean()"
   ]
  },
  {
   "cell_type": "code",
   "execution_count": 75,
   "metadata": {},
   "outputs": [
    {
     "name": "stdout",
     "output_type": "stream",
     "text": [
      "Average ROUGE-1 Precision:  0.12669262565910583\n",
      "Average ROUGE-1 Recall:  0.28255943973188136\n",
      "Average ROUGE-1 F1:  0.16890732459726168\n",
      "Average ROUGE-L Precision:  0.11899136619421562\n",
      "Average ROUGE-L Recall:  0.2651460122346853\n",
      "Average ROUGE-L F1:  0.1585721431085248\n"
     ]
    }
   ],
   "source": [
    "# Print the results\n",
    "print(\"Average ROUGE-1 Precision: \", avg_precision)\n",
    "print(\"Average ROUGE-1 Recall: \", avg_recall)\n",
    "print(\"Average ROUGE-1 F1: \", avg_f1)\n",
    "print(\"Average ROUGE-L Precision: \", avg_l_precision)\n",
    "print(\"Average ROUGE-L Recall: \", avg_l_recall)\n",
    "print(\"Average ROUGE-L F1: \", avg_l_f1)"
   ]
  },
  {
   "cell_type": "code",
   "execution_count": 93,
   "metadata": {},
   "outputs": [
    {
     "data": {
      "text/plain": [
       "\"a qantas jet bound for perth was forced to turn back to sydney airport after a safety light turned on mid-air. the airbus a330 took off soon after 11am but was back on the tarmac by 12.30pm after an indicator light showed a possible issue with the rear cargo doors, a qantas spokesman said. 'engineers are inspecting the aircraft. there is no evidence at this stage of a problem,' he said. passengers will be moved to another flight due to depart sunday afternoon, he said. a qantas jet bound for perth has been forced to return to sydney airport after a safety light turned on mid-air .\""
      ]
     },
     "execution_count": 93,
     "metadata": {},
     "output_type": "execute_result"
    }
   ],
   "source": [
    "top_5_rows['summary'][8472]"
   ]
  },
  {
   "cell_type": "code",
   "execution_count": 94,
   "metadata": {},
   "outputs": [
    {
     "data": {
      "text/plain": [
       "'a qantas jet bound for perth has been forced to return to sydney airport after a safety light turned on mid-air .\\nairbus a330 took off soon after 11am but was back on tarmac by 12.30pm .\\nafter an indicator light showed a possible issue with the rear cargo doors .\\nengineers are inspecting aircraft but no evidence at this stage of a problem .'"
      ]
     },
     "execution_count": 94,
     "metadata": {},
     "output_type": "execute_result"
    }
   ],
   "source": [
    "top_5_rows['gold_summary'][8472]"
   ]
  },
  {
   "cell_type": "code",
   "execution_count": 95,
   "metadata": {},
   "outputs": [
    {
     "data": {
      "text/plain": [
       "[{'rouge-1': {'r': 0.9433962264150944,\n",
       "   'p': 0.7246376811594203,\n",
       "   'f': 0.8196721262335395},\n",
       "  'rouge-2': {'r': 0.8524590163934426,\n",
       "   'p': 0.5842696629213483,\n",
       "   'f': 0.6933333285075556},\n",
       "  'rouge-l': {'r': 0.9433962264150944,\n",
       "   'p': 0.7246376811594203,\n",
       "   'f': 0.8196721262335395}}]"
      ]
     },
     "execution_count": 95,
     "metadata": {},
     "output_type": "execute_result"
    }
   ],
   "source": [
    "get_rouge_score(top_5_rows['summary'][8472], top_5_rows['gold_summary'][8472])"
   ]
  },
  {
   "cell_type": "code",
   "execution_count": 78,
   "metadata": {},
   "outputs": [
    {
     "data": {
      "text/plain": [
       "\"Police say a Maryland teenager eating a pot brownie in class panicked when his teacher asked him for a piece of the treat, and that he is now charged for obliging. Anne Arundel County police said Tuesday that the 17-year-old didn't tell the teacher that the brownie contained marijuana. She began feeling ill and acting disoriented, and was brought to the nurse's office at Broadneck High School in Annapolis on Monday. Police say a Maryland teenager eating a pot brownie in class at Broadneck High School panicked when his teacher asked him for a piece of the treat, and that he is now charged for obliging . The teacher told police that the student had given her the brownie during third period and that she suspected it contained marijuana. The student, from nearby Arnold, was charged with juvenile counts of administering a dangerous substance, assault and reckless endangerment. Police did not release his name, and they say he was released to a guardian. The school is taking action through its own Code of Conduct separately. 'Possession and use of drugs can have very, very serious consequences,' schools spokesman Bob Mosier told The Capital Gazette.\\xa0'The very thought that a student would give a teacher something laced with drugs is, quite frankly, appalling.'\""
      ]
     },
     "execution_count": 78,
     "metadata": {},
     "output_type": "execute_result"
    }
   ],
   "source": [
    "introduction[17285]"
   ]
  },
  {
   "cell_type": "markdown",
   "metadata": {},
   "source": [
    "## Test Data"
   ]
  },
  {
   "cell_type": "code",
   "execution_count": 79,
   "metadata": {},
   "outputs": [
    {
     "data": {
      "text/html": [
       "<div>\n",
       "<style scoped>\n",
       "    .dataframe tbody tr th:only-of-type {\n",
       "        vertical-align: middle;\n",
       "    }\n",
       "\n",
       "    .dataframe tbody tr th {\n",
       "        vertical-align: top;\n",
       "    }\n",
       "\n",
       "    .dataframe thead th {\n",
       "        text-align: right;\n",
       "    }\n",
       "</style>\n",
       "<table border=\"1\" class=\"dataframe\">\n",
       "  <thead>\n",
       "    <tr style=\"text-align: right;\">\n",
       "      <th></th>\n",
       "      <th>id</th>\n",
       "      <th>article</th>\n",
       "      <th>highlights</th>\n",
       "    </tr>\n",
       "  </thead>\n",
       "  <tbody>\n",
       "    <tr>\n",
       "      <th>0</th>\n",
       "      <td>92c514c913c0bdfe25341af9fd72b29db544099b</td>\n",
       "      <td>Ever noticed how plane seats appear to be getting smaller and smaller? With increasing numbers of people taking to the skies, some experts are questioning if having such packed out planes is putti...</td>\n",
       "      <td>Experts question if  packed out planes are putting passengers at risk .\\nU.S consumer advisory group says minimum space must be stipulated .\\nSafety tests conducted on planes with more leg room th...</td>\n",
       "    </tr>\n",
       "    <tr>\n",
       "      <th>1</th>\n",
       "      <td>2003841c7dc0e7c5b1a248f9cd536d727f27a45a</td>\n",
       "      <td>A drunk teenage boy had to be rescued by security after jumping into a lions' enclosure at a zoo in western India. Rahul Kumar, 17, clambered over the enclosure fence at the Kamla Nehru Zoological...</td>\n",
       "      <td>Drunk teenage boy climbed into lion enclosure at zoo in west India .\\nRahul Kumar, 17, ran towards animals shouting 'Today I kill a lion!'\\nFortunately he fell into a moat before reaching lions an...</td>\n",
       "    </tr>\n",
       "    <tr>\n",
       "      <th>2</th>\n",
       "      <td>91b7d2311527f5c2b63a65ca98d21d9c92485149</td>\n",
       "      <td>Dougie Freedman is on the verge of agreeing a new two-year deal to remain at Nottingham Forest. Freedman has stabilised Forest since he replaced cult hero Stuart Pearce and the club's owners are p...</td>\n",
       "      <td>Nottingham Forest are close to extending Dougie Freedman's contract .\\nThe Forest boss took over from former manager Stuart Pearce in February .\\nFreedman has since lead the club to ninth in the C...</td>\n",
       "    </tr>\n",
       "    <tr>\n",
       "      <th>3</th>\n",
       "      <td>caabf9cbdf96eb1410295a673e953d304391bfbb</td>\n",
       "      <td>Liverpool target Neto is also wanted by PSG and clubs in Spain as Brendan Rodgers faces stiff competition to land the Fiorentina goalkeeper, according to the Brazilian's agent Stefano Castagna. Th...</td>\n",
       "      <td>Fiorentina goalkeeper Neto has been linked with Liverpool and Arsenal .\\nNeto joined Firoentina from Brazilian outfit Atletico Paranaense in 2011 .\\nHe is also wanted by PSG and Spanish clubs, acc...</td>\n",
       "    </tr>\n",
       "    <tr>\n",
       "      <th>4</th>\n",
       "      <td>3da746a7d9afcaa659088c8366ef6347fe6b53ea</td>\n",
       "      <td>Bruce Jenner will break his silence in a two-hour interview with Diane Sawyer later this month. The former Olympian and reality TV star, 65, will speak in a 'far-ranging' interview with Sawyer for...</td>\n",
       "      <td>Tell-all interview with the reality TV star, 69, will air on Friday April 24 .\\nIt comes amid continuing speculation about his transition to a woman and following his involvement in a deadly car c...</td>\n",
       "    </tr>\n",
       "    <tr>\n",
       "      <th>...</th>\n",
       "      <td>...</td>\n",
       "      <td>...</td>\n",
       "      <td>...</td>\n",
       "    </tr>\n",
       "    <tr>\n",
       "      <th>11485</th>\n",
       "      <td>ed8674cc15b29a87d8df8de1efee353d71122272</td>\n",
       "      <td>Our young Earth may have collided with a body similar to the planet Mercury, says a new paper. The dramatic event could explain why our planet has a hot core that gives it its magnetic field. And ...</td>\n",
       "      <td>Oxford scientists say a Mercury-like body struck the young Earth .\\nThe Mars-sized object would have been the heat source for our planet .\\nThe same object could have been responsible for creating...</td>\n",
       "    </tr>\n",
       "    <tr>\n",
       "      <th>11486</th>\n",
       "      <td>2f58d1a99e9c47914e4b1c31613e3a041cd9011e</td>\n",
       "      <td>A man facing trial for helping his former lover strangle a woman during a sexual encounter, told the court his former flame had a 'twisted desire to kill' and that he had only dug the victim's cru...</td>\n",
       "      <td>Man accused of helping former lover kill woman during a sexual encounter .\\nMicheal John Duffy pleaded not guilty to murdering Colleen Deborah Ayers .\\nThe court heard he  strangled Ms Ayers, 33, ...</td>\n",
       "    </tr>\n",
       "    <tr>\n",
       "      <th>11487</th>\n",
       "      <td>411f6d57825161c3a037b4742baccd6cd227c0c3</td>\n",
       "      <td>A dozen or more metal implements are arranged in neat rows on the table next to the bed. They look like something Frankenstein might have had applied to his monster's neck. I begin to feel nervous...</td>\n",
       "      <td>Marianne Power tried the tuning fork facial at Hale Clinic in London .\\nUtilises tuning forks that make different pitched sounds when struck .\\nSays afterwards her skin looks plumper and pink, rat...</td>\n",
       "    </tr>\n",
       "    <tr>\n",
       "      <th>11488</th>\n",
       "      <td>b5683ef8342056b17b068e0d59bdbe87e3fe44ea</td>\n",
       "      <td>Brook Lopez dominated twin brother Robin with 32 points and nine rebounds as the Brooklyn Nets beat a weakened Portland Trail Blazers on Monday in the only game on the NBA schedule. The Trail Blaz...</td>\n",
       "      <td>Brooklyn Nets beat the Portland Trail Blazers 106-96 in New York .\\nBrook Lopez scored 32 points for the Nets as they moved into seventh .\\nTrail Blazers were without LaMarcus Aldridge and a numbe...</td>\n",
       "    </tr>\n",
       "    <tr>\n",
       "      <th>11489</th>\n",
       "      <td>a6a5491edb0c96c4391b6a8c4504416b3572b3a1</td>\n",
       "      <td>A Chinese hospital is being painstakingly moved just eight metres a day on 1,000 metal rollers  to prevent it from being demolished to make way for a new road. The building, which was built in the...</td>\n",
       "      <td>Chinese hospital marked for demolition because of road expansion project .\\nBosses asked team of engineers to put two-storey building on 'wheels'\\nMore than 1,000 rollers have been placed under th...</td>\n",
       "    </tr>\n",
       "  </tbody>\n",
       "</table>\n",
       "<p>11490 rows × 3 columns</p>\n",
       "</div>"
      ],
      "text/plain": [
       "                                             id  \\\n",
       "0      92c514c913c0bdfe25341af9fd72b29db544099b   \n",
       "1      2003841c7dc0e7c5b1a248f9cd536d727f27a45a   \n",
       "2      91b7d2311527f5c2b63a65ca98d21d9c92485149   \n",
       "3      caabf9cbdf96eb1410295a673e953d304391bfbb   \n",
       "4      3da746a7d9afcaa659088c8366ef6347fe6b53ea   \n",
       "...                                         ...   \n",
       "11485  ed8674cc15b29a87d8df8de1efee353d71122272   \n",
       "11486  2f58d1a99e9c47914e4b1c31613e3a041cd9011e   \n",
       "11487  411f6d57825161c3a037b4742baccd6cd227c0c3   \n",
       "11488  b5683ef8342056b17b068e0d59bdbe87e3fe44ea   \n",
       "11489  a6a5491edb0c96c4391b6a8c4504416b3572b3a1   \n",
       "\n",
       "                                                                                                                                                                                                       article  \\\n",
       "0      Ever noticed how plane seats appear to be getting smaller and smaller? With increasing numbers of people taking to the skies, some experts are questioning if having such packed out planes is putti...   \n",
       "1      A drunk teenage boy had to be rescued by security after jumping into a lions' enclosure at a zoo in western India. Rahul Kumar, 17, clambered over the enclosure fence at the Kamla Nehru Zoological...   \n",
       "2      Dougie Freedman is on the verge of agreeing a new two-year deal to remain at Nottingham Forest. Freedman has stabilised Forest since he replaced cult hero Stuart Pearce and the club's owners are p...   \n",
       "3      Liverpool target Neto is also wanted by PSG and clubs in Spain as Brendan Rodgers faces stiff competition to land the Fiorentina goalkeeper, according to the Brazilian's agent Stefano Castagna. Th...   \n",
       "4      Bruce Jenner will break his silence in a two-hour interview with Diane Sawyer later this month. The former Olympian and reality TV star, 65, will speak in a 'far-ranging' interview with Sawyer for...   \n",
       "...                                                                                                                                                                                                        ...   \n",
       "11485  Our young Earth may have collided with a body similar to the planet Mercury, says a new paper. The dramatic event could explain why our planet has a hot core that gives it its magnetic field. And ...   \n",
       "11486  A man facing trial for helping his former lover strangle a woman during a sexual encounter, told the court his former flame had a 'twisted desire to kill' and that he had only dug the victim's cru...   \n",
       "11487  A dozen or more metal implements are arranged in neat rows on the table next to the bed. They look like something Frankenstein might have had applied to his monster's neck. I begin to feel nervous...   \n",
       "11488  Brook Lopez dominated twin brother Robin with 32 points and nine rebounds as the Brooklyn Nets beat a weakened Portland Trail Blazers on Monday in the only game on the NBA schedule. The Trail Blaz...   \n",
       "11489  A Chinese hospital is being painstakingly moved just eight metres a day on 1,000 metal rollers  to prevent it from being demolished to make way for a new road. The building, which was built in the...   \n",
       "\n",
       "                                                                                                                                                                                                    highlights  \n",
       "0      Experts question if  packed out planes are putting passengers at risk .\\nU.S consumer advisory group says minimum space must be stipulated .\\nSafety tests conducted on planes with more leg room th...  \n",
       "1      Drunk teenage boy climbed into lion enclosure at zoo in west India .\\nRahul Kumar, 17, ran towards animals shouting 'Today I kill a lion!'\\nFortunately he fell into a moat before reaching lions an...  \n",
       "2      Nottingham Forest are close to extending Dougie Freedman's contract .\\nThe Forest boss took over from former manager Stuart Pearce in February .\\nFreedman has since lead the club to ninth in the C...  \n",
       "3      Fiorentina goalkeeper Neto has been linked with Liverpool and Arsenal .\\nNeto joined Firoentina from Brazilian outfit Atletico Paranaense in 2011 .\\nHe is also wanted by PSG and Spanish clubs, acc...  \n",
       "4      Tell-all interview with the reality TV star, 69, will air on Friday April 24 .\\nIt comes amid continuing speculation about his transition to a woman and following his involvement in a deadly car c...  \n",
       "...                                                                                                                                                                                                        ...  \n",
       "11485  Oxford scientists say a Mercury-like body struck the young Earth .\\nThe Mars-sized object would have been the heat source for our planet .\\nThe same object could have been responsible for creating...  \n",
       "11486  Man accused of helping former lover kill woman during a sexual encounter .\\nMicheal John Duffy pleaded not guilty to murdering Colleen Deborah Ayers .\\nThe court heard he  strangled Ms Ayers, 33, ...  \n",
       "11487  Marianne Power tried the tuning fork facial at Hale Clinic in London .\\nUtilises tuning forks that make different pitched sounds when struck .\\nSays afterwards her skin looks plumper and pink, rat...  \n",
       "11488  Brooklyn Nets beat the Portland Trail Blazers 106-96 in New York .\\nBrook Lopez scored 32 points for the Nets as they moved into seventh .\\nTrail Blazers were without LaMarcus Aldridge and a numbe...  \n",
       "11489  Chinese hospital marked for demolition because of road expansion project .\\nBosses asked team of engineers to put two-storey building on 'wheels'\\nMore than 1,000 rollers have been placed under th...  \n",
       "\n",
       "[11490 rows x 3 columns]"
      ]
     },
     "execution_count": 79,
     "metadata": {},
     "output_type": "execute_result"
    }
   ],
   "source": [
    "df_test = pd.read_csv(\"test.csv\")\n",
    "\n",
    "df_test"
   ]
  },
  {
   "cell_type": "code",
   "execution_count": 80,
   "metadata": {},
   "outputs": [
    {
     "data": {
      "text/plain": [
       "\"Cristiano Ronaldo and Lionel Messi will go head-to-head once more in the race to be this season's top scorer in the Champions League – although Luiz Adriano threatens to spoil the party. Both Barcelona and Real Madrid booked their spots in the semi-finals this week with victories over Paris Saint-Germain and Atletico Madrid respectively. The planet's best footballers have scored eight times in Europe this season. But Shakhtar Donetsk’s Adriano, courted by Arsenal and Liverpool, has netted on nine occasions this term. Cristiano Ronaldo, in action against Atletico Madrid on Wednesday evening, has scored eight goals in Europe . Lionel Messi also has eight goals in the Champions League this term; one fewer than Luiz Adriano . Ronaldo and Messi will both play at least two more times after Real Madrid and Barcelona reached the last four . Adriano, who moved to Donetsk in 2007, scored five against BATE Borsiov in the group stages. His performance that night made history, with the 27-year-old becoming only the second player to score five times in a Champions League game. The other was Messi for Barcelona against Bayer Leverkusen in 2012. He also scored the third quickest hat-trick in the competition's history (12 minutes) as the Ukrainian side, knocked out by Bayern Munich in the round of 16, racked up the biggest-ever half-time lead (6-0) in Europe's premier tournament. ‘I am in a good moment of my career and we'll do what will be best for me and for the club,’ said Adriano last month when quizzed over his future. Adriano, who netted five times against BATE Borisov in the group, has scored more goals than any other player in the Champions League... he is out of contract in December and could move to the Premier League . ‘With my contract set to expire and many good performances, it'll be difficult to stay in Ukraine.’ Arsenal have sent scouts to watch Adriano in recent months, while Liverpool are also keen on the Brazilian. His contract with Shakhtar Donetsk runs out at the end of the year. Ronaldo and Messi however, remain in pole-position to top the scoring charts with Barcelona and Real Madrid both in the hat for the two-legged semi-finals to be played next month. Of the teams still in the pot, Neymar and Luis Suarez of Barcelona, Real Madrid's Karim Benzema and former Manchester United and City striker Carlos Tevez, now plying his trade for Juventus, each have six goals. The draw for the last four will take place on Friday.\""
      ]
     },
     "execution_count": 80,
     "metadata": {},
     "output_type": "execute_result"
    }
   ],
   "source": [
    "df_test['article'][1000]"
   ]
  },
  {
   "cell_type": "code",
   "execution_count": 81,
   "metadata": {},
   "outputs": [],
   "source": [
    "number_doc = 30000\n",
    "abstract = []\n",
    "introduction = []\n",
    "cnt = 0\n",
    "\n",
    "for index, row in df_test.iterrows():\n",
    "    cnt += 1\n",
    "    abstract.append(row['highlights'])\n",
    "    introduction.append(row['article'])\n",
    "    if cnt == number_doc:\n",
    "        break\n",
    "\n",
    "abstract = np.array(abstract)\n",
    "introduction = np.array(introduction)"
   ]
  },
  {
   "cell_type": "code",
   "execution_count": 82,
   "metadata": {},
   "outputs": [],
   "source": [
    "import warnings\n",
    "import pandas as pd  # Make sure to import pandas\n",
    "\n",
    "warnings.filterwarnings('ignore')\n",
    "\n",
    "columns = ['summary', 'gold_summary', 'ROUGE-1 Precision', 'ROUGE-1 Recall', 'ROUGE-1 F1', 'ROUGE-L Precision', 'ROUGE-L Recall', 'ROUGE-L F1']\n",
    "df = pd.DataFrame(columns=columns)\n",
    "\n",
    "for i in range(len(abstract)):\n",
    "\n",
    "    sentences = get_Sentences(introduction[i])\n",
    "    tokens = preprocessing(introduction[i])\n",
    "    word_freq, total_words = get_word_freq(tokens)\n",
    "    word_pd = get_word_pd(word_freq, total_words)\n",
    "    sentence_scores = KL(sentences, word_pd)\n",
    "    summary = get_Summary(sentence_scores, 6)\n",
    "    # print(summary)\n",
    "    gold_summary = abstract[i].lower()\n",
    "    # print(i)\n",
    "    scores = get_rouge_score(preprocessing_summaries(summary), preprocessing_summaries(gold_summary))\n",
    "    all_scores = {\n",
    "        'summary': summary,\n",
    "        'gold_summary': gold_summary,\n",
    "        'ROUGE-1 Precision': scores[0]['rouge-1']['p'],\n",
    "        'ROUGE-1 Recall': scores[0]['rouge-1']['r'],\n",
    "        'ROUGE-1 F1': scores[0]['rouge-1']['f'],\n",
    "        'ROUGE-L Precision': scores[0]['rouge-l']['p'],\n",
    "        'ROUGE-L Recall': scores[0]['rouge-l']['r'],\n",
    "        'ROUGE-L F1': scores[0]['rouge-l']['f']}\n",
    "    new_row = pd.DataFrame(all_scores, index=[0])\n",
    "    df = pd.concat([df, new_row], ignore_index=True)"
   ]
  },
  {
   "cell_type": "code",
   "execution_count": 83,
   "metadata": {},
   "outputs": [
    {
     "data": {
      "text/html": [
       "<div>\n",
       "<style scoped>\n",
       "    .dataframe tbody tr th:only-of-type {\n",
       "        vertical-align: middle;\n",
       "    }\n",
       "\n",
       "    .dataframe tbody tr th {\n",
       "        vertical-align: top;\n",
       "    }\n",
       "\n",
       "    .dataframe thead th {\n",
       "        text-align: right;\n",
       "    }\n",
       "</style>\n",
       "<table border=\"1\" class=\"dataframe\">\n",
       "  <thead>\n",
       "    <tr style=\"text-align: right;\">\n",
       "      <th></th>\n",
       "      <th>summary</th>\n",
       "      <th>gold_summary</th>\n",
       "      <th>ROUGE-1 Precision</th>\n",
       "      <th>ROUGE-1 Recall</th>\n",
       "      <th>ROUGE-1 F1</th>\n",
       "      <th>ROUGE-L Precision</th>\n",
       "      <th>ROUGE-L Recall</th>\n",
       "      <th>ROUGE-L F1</th>\n",
       "    </tr>\n",
       "  </thead>\n",
       "  <tbody>\n",
       "    <tr>\n",
       "      <th>0</th>\n",
       "      <td>ever noticed how plane seats appear to be getting smaller and smaller? with increasing numbers of people taking to the skies, some experts are questioning if having such packed out planes is putti...</td>\n",
       "      <td>experts question if  packed out planes are putting passengers at risk .\\nu.s consumer advisory group says minimum space must be stipulated .\\nsafety tests conducted on planes with more leg room th...</td>\n",
       "      <td>0.191781</td>\n",
       "      <td>0.583333</td>\n",
       "      <td>0.288660</td>\n",
       "      <td>0.178082</td>\n",
       "      <td>0.541667</td>\n",
       "      <td>0.268041</td>\n",
       "    </tr>\n",
       "    <tr>\n",
       "      <th>1</th>\n",
       "      <td>a zoo spokesman said: 'guards had earlier spotted him close to the enclosure but had no idea he was planing to enter it. 'we then handed him over to the police.' brave fool: fortunately, mr kumar ...</td>\n",
       "      <td>drunk teenage boy climbed into lion enclosure at zoo in west india .\\nrahul kumar, 17, ran towards animals shouting 'today i kill a lion!'\\nfortunately he fell into a moat before reaching lions an...</td>\n",
       "      <td>0.205882</td>\n",
       "      <td>0.538462</td>\n",
       "      <td>0.297872</td>\n",
       "      <td>0.132353</td>\n",
       "      <td>0.346154</td>\n",
       "      <td>0.191489</td>\n",
       "    </tr>\n",
       "    <tr>\n",
       "      <th>2</th>\n",
       "      <td>dougie freedman is on the verge of agreeing a new two-year deal to remain at nottingham forest. freedman has stabilised forest since he replaced cult hero stuart pearce and the club's owners are p...</td>\n",
       "      <td>nottingham forest are close to extending dougie freedman's contract .\\nthe forest boss took over from former manager stuart pearce in february .\\nfreedman has since lead the club to ninth in the c...</td>\n",
       "      <td>0.234043</td>\n",
       "      <td>0.550000</td>\n",
       "      <td>0.328358</td>\n",
       "      <td>0.212766</td>\n",
       "      <td>0.500000</td>\n",
       "      <td>0.298507</td>\n",
       "    </tr>\n",
       "    <tr>\n",
       "      <th>3</th>\n",
       "      <td>neto rushes from his goal as juan iturbe bears down on him during fiorentina's clash with roma in march . it had been reported that neto had a verbal agreement to join serie a champions juventus a...</td>\n",
       "      <td>fiorentina goalkeeper neto has been linked with liverpool and arsenal .\\nneto joined firoentina from brazilian outfit atletico paranaense in 2011 .\\nhe is also wanted by psg and spanish clubs, acc...</td>\n",
       "      <td>0.127660</td>\n",
       "      <td>0.260870</td>\n",
       "      <td>0.171429</td>\n",
       "      <td>0.106383</td>\n",
       "      <td>0.217391</td>\n",
       "      <td>0.142857</td>\n",
       "    </tr>\n",
       "    <tr>\n",
       "      <th>4</th>\n",
       "      <td>scroll down for video . 'bruce had silicone breast implants put in a few weeks ago,' a source told radaronline. according to radar, jenner wants to have all surgeries completed in time to make his...</td>\n",
       "      <td>tell-all interview with the reality tv star, 69, will air on friday april 24 .\\nit comes amid continuing speculation about his transition to a woman and following his involvement in a deadly car c...</td>\n",
       "      <td>0.092308</td>\n",
       "      <td>0.176471</td>\n",
       "      <td>0.121212</td>\n",
       "      <td>0.092308</td>\n",
       "      <td>0.176471</td>\n",
       "      <td>0.121212</td>\n",
       "    </tr>\n",
       "    <tr>\n",
       "      <th>...</th>\n",
       "      <td>...</td>\n",
       "      <td>...</td>\n",
       "      <td>...</td>\n",
       "      <td>...</td>\n",
       "      <td>...</td>\n",
       "      <td>...</td>\n",
       "      <td>...</td>\n",
       "      <td>...</td>\n",
       "    </tr>\n",
       "    <tr>\n",
       "      <th>11485</th>\n",
       "      <td>the dramatic event could explain why our planet has a hot core that gives it its magnetic field. oxford scientists say a mercury-like body struck the young earth (artist's illustration shown). the...</td>\n",
       "      <td>oxford scientists say a mercury-like body struck the young earth .\\nthe mars-sized object would have been the heat source for our planet .\\nthe same object could have been responsible for creating...</td>\n",
       "      <td>0.404255</td>\n",
       "      <td>0.826087</td>\n",
       "      <td>0.542857</td>\n",
       "      <td>0.404255</td>\n",
       "      <td>0.826087</td>\n",
       "      <td>0.542857</td>\n",
       "    </tr>\n",
       "    <tr>\n",
       "      <th>11486</th>\n",
       "      <td>a man facing trial for helping his former lover strangle a woman during a sexual encounter, told the court his former flame had a 'twisted desire to kill' and that he had only dug the victim's cru...</td>\n",
       "      <td>man accused of helping former lover kill woman during a sexual encounter .\\nmicheal john duffy pleaded not guilty to murdering colleen deborah ayers .\\nthe court heard he  strangled ms ayers, 33, ...</td>\n",
       "      <td>0.324324</td>\n",
       "      <td>0.500000</td>\n",
       "      <td>0.393443</td>\n",
       "      <td>0.310811</td>\n",
       "      <td>0.479167</td>\n",
       "      <td>0.377049</td>\n",
       "    </tr>\n",
       "    <tr>\n",
       "      <th>11487</th>\n",
       "      <td>what on earth have i got myself into? offered at the upmarket hale clinic in london and other clinics nationwide, the scary sounding tuning forks are pieces of metal that make different pitched so...</td>\n",
       "      <td>marianne power tried the tuning fork facial at hale clinic in london .\\nutilises tuning forks that make different pitched sounds when struck .\\nsays afterwards her skin looks plumper and pink, rat...</td>\n",
       "      <td>0.144737</td>\n",
       "      <td>0.440000</td>\n",
       "      <td>0.217822</td>\n",
       "      <td>0.144737</td>\n",
       "      <td>0.440000</td>\n",
       "      <td>0.217822</td>\n",
       "    </tr>\n",
       "    <tr>\n",
       "      <th>11488</th>\n",
       "      <td>brook lopez dominated twin brother robin with 32 points and nine rebounds as the brooklyn nets beat a weakened portland trail blazers on monday in the only game on the nba schedule. the trail blaz...</td>\n",
       "      <td>brooklyn nets beat the portland trail blazers 106-96 in new york .\\nbrook lopez scored 32 points for the nets as they moved into seventh .\\ntrail blazers were without lamarcus aldridge and a numbe...</td>\n",
       "      <td>0.214286</td>\n",
       "      <td>0.750000</td>\n",
       "      <td>0.333333</td>\n",
       "      <td>0.200000</td>\n",
       "      <td>0.700000</td>\n",
       "      <td>0.311111</td>\n",
       "    </tr>\n",
       "    <tr>\n",
       "      <th>11489</th>\n",
       "      <td>one of the engineers working on the project secures the metal sheeting and rollers which are being used . it will take three days of careful and slow rolling to move the hospital building 17.5m to...</td>\n",
       "      <td>chinese hospital marked for demolition because of road expansion project .\\nbosses asked team of engineers to put two-storey building on 'wheels'\\nmore than 1,000 rollers have been placed under th...</td>\n",
       "      <td>0.166667</td>\n",
       "      <td>0.296296</td>\n",
       "      <td>0.213333</td>\n",
       "      <td>0.166667</td>\n",
       "      <td>0.296296</td>\n",
       "      <td>0.213333</td>\n",
       "    </tr>\n",
       "  </tbody>\n",
       "</table>\n",
       "<p>11490 rows × 8 columns</p>\n",
       "</div>"
      ],
      "text/plain": [
       "                                                                                                                                                                                                       summary  \\\n",
       "0      ever noticed how plane seats appear to be getting smaller and smaller? with increasing numbers of people taking to the skies, some experts are questioning if having such packed out planes is putti...   \n",
       "1      a zoo spokesman said: 'guards had earlier spotted him close to the enclosure but had no idea he was planing to enter it. 'we then handed him over to the police.' brave fool: fortunately, mr kumar ...   \n",
       "2      dougie freedman is on the verge of agreeing a new two-year deal to remain at nottingham forest. freedman has stabilised forest since he replaced cult hero stuart pearce and the club's owners are p...   \n",
       "3      neto rushes from his goal as juan iturbe bears down on him during fiorentina's clash with roma in march . it had been reported that neto had a verbal agreement to join serie a champions juventus a...   \n",
       "4      scroll down for video . 'bruce had silicone breast implants put in a few weeks ago,' a source told radaronline. according to radar, jenner wants to have all surgeries completed in time to make his...   \n",
       "...                                                                                                                                                                                                        ...   \n",
       "11485  the dramatic event could explain why our planet has a hot core that gives it its magnetic field. oxford scientists say a mercury-like body struck the young earth (artist's illustration shown). the...   \n",
       "11486  a man facing trial for helping his former lover strangle a woman during a sexual encounter, told the court his former flame had a 'twisted desire to kill' and that he had only dug the victim's cru...   \n",
       "11487  what on earth have i got myself into? offered at the upmarket hale clinic in london and other clinics nationwide, the scary sounding tuning forks are pieces of metal that make different pitched so...   \n",
       "11488  brook lopez dominated twin brother robin with 32 points and nine rebounds as the brooklyn nets beat a weakened portland trail blazers on monday in the only game on the nba schedule. the trail blaz...   \n",
       "11489  one of the engineers working on the project secures the metal sheeting and rollers which are being used . it will take three days of careful and slow rolling to move the hospital building 17.5m to...   \n",
       "\n",
       "                                                                                                                                                                                                  gold_summary  \\\n",
       "0      experts question if  packed out planes are putting passengers at risk .\\nu.s consumer advisory group says minimum space must be stipulated .\\nsafety tests conducted on planes with more leg room th...   \n",
       "1      drunk teenage boy climbed into lion enclosure at zoo in west india .\\nrahul kumar, 17, ran towards animals shouting 'today i kill a lion!'\\nfortunately he fell into a moat before reaching lions an...   \n",
       "2      nottingham forest are close to extending dougie freedman's contract .\\nthe forest boss took over from former manager stuart pearce in february .\\nfreedman has since lead the club to ninth in the c...   \n",
       "3      fiorentina goalkeeper neto has been linked with liverpool and arsenal .\\nneto joined firoentina from brazilian outfit atletico paranaense in 2011 .\\nhe is also wanted by psg and spanish clubs, acc...   \n",
       "4      tell-all interview with the reality tv star, 69, will air on friday april 24 .\\nit comes amid continuing speculation about his transition to a woman and following his involvement in a deadly car c...   \n",
       "...                                                                                                                                                                                                        ...   \n",
       "11485  oxford scientists say a mercury-like body struck the young earth .\\nthe mars-sized object would have been the heat source for our planet .\\nthe same object could have been responsible for creating...   \n",
       "11486  man accused of helping former lover kill woman during a sexual encounter .\\nmicheal john duffy pleaded not guilty to murdering colleen deborah ayers .\\nthe court heard he  strangled ms ayers, 33, ...   \n",
       "11487  marianne power tried the tuning fork facial at hale clinic in london .\\nutilises tuning forks that make different pitched sounds when struck .\\nsays afterwards her skin looks plumper and pink, rat...   \n",
       "11488  brooklyn nets beat the portland trail blazers 106-96 in new york .\\nbrook lopez scored 32 points for the nets as they moved into seventh .\\ntrail blazers were without lamarcus aldridge and a numbe...   \n",
       "11489  chinese hospital marked for demolition because of road expansion project .\\nbosses asked team of engineers to put two-storey building on 'wheels'\\nmore than 1,000 rollers have been placed under th...   \n",
       "\n",
       "       ROUGE-1 Precision  ROUGE-1 Recall  ROUGE-1 F1  ROUGE-L Precision  \\\n",
       "0               0.191781        0.583333    0.288660           0.178082   \n",
       "1               0.205882        0.538462    0.297872           0.132353   \n",
       "2               0.234043        0.550000    0.328358           0.212766   \n",
       "3               0.127660        0.260870    0.171429           0.106383   \n",
       "4               0.092308        0.176471    0.121212           0.092308   \n",
       "...                  ...             ...         ...                ...   \n",
       "11485           0.404255        0.826087    0.542857           0.404255   \n",
       "11486           0.324324        0.500000    0.393443           0.310811   \n",
       "11487           0.144737        0.440000    0.217822           0.144737   \n",
       "11488           0.214286        0.750000    0.333333           0.200000   \n",
       "11489           0.166667        0.296296    0.213333           0.166667   \n",
       "\n",
       "       ROUGE-L Recall  ROUGE-L F1  \n",
       "0            0.541667    0.268041  \n",
       "1            0.346154    0.191489  \n",
       "2            0.500000    0.298507  \n",
       "3            0.217391    0.142857  \n",
       "4            0.176471    0.121212  \n",
       "...               ...         ...  \n",
       "11485        0.826087    0.542857  \n",
       "11486        0.479167    0.377049  \n",
       "11487        0.440000    0.217822  \n",
       "11488        0.700000    0.311111  \n",
       "11489        0.296296    0.213333  \n",
       "\n",
       "[11490 rows x 8 columns]"
      ]
     },
     "execution_count": 83,
     "metadata": {},
     "output_type": "execute_result"
    }
   ],
   "source": [
    "df"
   ]
  },
  {
   "cell_type": "code",
   "execution_count": 84,
   "metadata": {},
   "outputs": [
    {
     "data": {
      "text/html": [
       "<div>\n",
       "<style scoped>\n",
       "    .dataframe tbody tr th:only-of-type {\n",
       "        vertical-align: middle;\n",
       "    }\n",
       "\n",
       "    .dataframe tbody tr th {\n",
       "        vertical-align: top;\n",
       "    }\n",
       "\n",
       "    .dataframe thead th {\n",
       "        text-align: right;\n",
       "    }\n",
       "</style>\n",
       "<table border=\"1\" class=\"dataframe\">\n",
       "  <thead>\n",
       "    <tr style=\"text-align: right;\">\n",
       "      <th></th>\n",
       "      <th>summary</th>\n",
       "      <th>gold_summary</th>\n",
       "      <th>ROUGE-1 Precision</th>\n",
       "      <th>ROUGE-1 Recall</th>\n",
       "      <th>ROUGE-1 F1</th>\n",
       "      <th>ROUGE-L Precision</th>\n",
       "      <th>ROUGE-L Recall</th>\n",
       "      <th>ROUGE-L F1</th>\n",
       "    </tr>\n",
       "  </thead>\n",
       "  <tbody>\n",
       "    <tr>\n",
       "      <th>8472</th>\n",
       "      <td>a qantas jet bound for perth was forced to turn back to sydney airport after a safety light turned on mid-air. the airbus a330 took off soon after 11am but was back on the tarmac by 12.30pm after ...</td>\n",
       "      <td>a qantas jet bound for perth has been forced to return to sydney airport after a safety light turned on mid-air .\\nairbus a330 took off soon after 11am but was back on tarmac by 12.30pm .\\nafter a...</td>\n",
       "      <td>0.681818</td>\n",
       "      <td>0.967742</td>\n",
       "      <td>0.800000</td>\n",
       "      <td>0.681818</td>\n",
       "      <td>0.967742</td>\n",
       "      <td>0.800000</td>\n",
       "    </tr>\n",
       "    <tr>\n",
       "      <th>5211</th>\n",
       "      <td>the build-up for the blockbuster fight between floyd mayweather and manny pacquiao in las vegas on may 2 steps up a gear on tuesday night when the american holds an open workout for the media. the...</td>\n",
       "      <td>floyd mayweather holds an open media workout from 12am uk (7pm edt)\\nthe american takes on manny pacquiao in las vegas on may 2 .\\nmayweather's training is being streamed live across the world .</td>\n",
       "      <td>0.700000</td>\n",
       "      <td>0.875000</td>\n",
       "      <td>0.777778</td>\n",
       "      <td>0.533333</td>\n",
       "      <td>0.666667</td>\n",
       "      <td>0.592593</td>\n",
       "    </tr>\n",
       "    <tr>\n",
       "      <th>1132</th>\n",
       "      <td>in an adorable video posted to youtube by user jeannine s. with nearly one million views, puppy bonnie can be seen lifting her dish to bring it over to her canine friend clyde who is also scarfing...</td>\n",
       "      <td>a rescue sato named bonnie is so afraid that she will be abandoned again that she can't bear to eat alone.\\nin an adorable video posted to youtube by user jeannine s. with nearly one million views...</td>\n",
       "      <td>0.679245</td>\n",
       "      <td>0.818182</td>\n",
       "      <td>0.742268</td>\n",
       "      <td>0.679245</td>\n",
       "      <td>0.818182</td>\n",
       "      <td>0.742268</td>\n",
       "    </tr>\n",
       "    <tr>\n",
       "      <th>6750</th>\n",
       "      <td>the ten houses in australia that won't sell, despite being heavily discounted, have been revealed. a recent report, released by sqm research, found the properties across the country which haven't ...</td>\n",
       "      <td>the ten most discounted houses in australia have been revealed by sqm research .\\nsome of these properties have been on the market for up to two years .\\namong them includes a one-bedroom home in ...</td>\n",
       "      <td>0.500000</td>\n",
       "      <td>0.937500</td>\n",
       "      <td>0.652174</td>\n",
       "      <td>0.466667</td>\n",
       "      <td>0.875000</td>\n",
       "      <td>0.608696</td>\n",
       "    </tr>\n",
       "    <tr>\n",
       "      <th>3008</th>\n",
       "      <td>a 23-month-old girl in  died after her father struck her with a pickup truck when he didn't see that she was in the driveway, police have said said. police were called to the scene in the north la...</td>\n",
       "      <td>police were called to the north las vegas neighborhood at about 11.30am on thursday .\\nfather and other family members did not know toddler was in the driveway .\\nthe incident was deemed an accide...</td>\n",
       "      <td>0.500000</td>\n",
       "      <td>0.875000</td>\n",
       "      <td>0.636364</td>\n",
       "      <td>0.500000</td>\n",
       "      <td>0.875000</td>\n",
       "      <td>0.636364</td>\n",
       "    </tr>\n",
       "  </tbody>\n",
       "</table>\n",
       "</div>"
      ],
      "text/plain": [
       "                                                                                                                                                                                                      summary  \\\n",
       "8472  a qantas jet bound for perth was forced to turn back to sydney airport after a safety light turned on mid-air. the airbus a330 took off soon after 11am but was back on the tarmac by 12.30pm after ...   \n",
       "5211  the build-up for the blockbuster fight between floyd mayweather and manny pacquiao in las vegas on may 2 steps up a gear on tuesday night when the american holds an open workout for the media. the...   \n",
       "1132  in an adorable video posted to youtube by user jeannine s. with nearly one million views, puppy bonnie can be seen lifting her dish to bring it over to her canine friend clyde who is also scarfing...   \n",
       "6750  the ten houses in australia that won't sell, despite being heavily discounted, have been revealed. a recent report, released by sqm research, found the properties across the country which haven't ...   \n",
       "3008  a 23-month-old girl in  died after her father struck her with a pickup truck when he didn't see that she was in the driveway, police have said said. police were called to the scene in the north la...   \n",
       "\n",
       "                                                                                                                                                                                                 gold_summary  \\\n",
       "8472  a qantas jet bound for perth has been forced to return to sydney airport after a safety light turned on mid-air .\\nairbus a330 took off soon after 11am but was back on tarmac by 12.30pm .\\nafter a...   \n",
       "5211       floyd mayweather holds an open media workout from 12am uk (7pm edt)\\nthe american takes on manny pacquiao in las vegas on may 2 .\\nmayweather's training is being streamed live across the world .   \n",
       "1132  a rescue sato named bonnie is so afraid that she will be abandoned again that she can't bear to eat alone.\\nin an adorable video posted to youtube by user jeannine s. with nearly one million views...   \n",
       "6750  the ten most discounted houses in australia have been revealed by sqm research .\\nsome of these properties have been on the market for up to two years .\\namong them includes a one-bedroom home in ...   \n",
       "3008  police were called to the north las vegas neighborhood at about 11.30am on thursday .\\nfather and other family members did not know toddler was in the driveway .\\nthe incident was deemed an accide...   \n",
       "\n",
       "      ROUGE-1 Precision  ROUGE-1 Recall  ROUGE-1 F1  ROUGE-L Precision  \\\n",
       "8472           0.681818        0.967742    0.800000           0.681818   \n",
       "5211           0.700000        0.875000    0.777778           0.533333   \n",
       "1132           0.679245        0.818182    0.742268           0.679245   \n",
       "6750           0.500000        0.937500    0.652174           0.466667   \n",
       "3008           0.500000        0.875000    0.636364           0.500000   \n",
       "\n",
       "      ROUGE-L Recall  ROUGE-L F1  \n",
       "8472        0.967742    0.800000  \n",
       "5211        0.666667    0.592593  \n",
       "1132        0.818182    0.742268  \n",
       "6750        0.875000    0.608696  \n",
       "3008        0.875000    0.636364  "
      ]
     },
     "execution_count": 84,
     "metadata": {},
     "output_type": "execute_result"
    }
   ],
   "source": [
    "sorted_df = df.sort_values(by=['ROUGE-1 F1'], ascending=False)\n",
    "sorted_df.reset_index(drop=True)\n",
    "\n",
    "top_5_rows = sorted_df.head(5)\n",
    "\n",
    "top_5_rows"
   ]
  },
  {
   "cell_type": "code",
   "execution_count": 85,
   "metadata": {},
   "outputs": [],
   "source": [
    "avg_precision = df['ROUGE-1 Precision'].mean()\n",
    "avg_recall = df['ROUGE-1 Recall'].mean()\n",
    "avg_f1 = df['ROUGE-1 F1'].mean()\n",
    "avg_l_precision = df['ROUGE-L Precision'].mean()\n",
    "avg_l_recall = df['ROUGE-L Recall'].mean()\n",
    "avg_l_f1 = df['ROUGE-L F1'].mean()"
   ]
  },
  {
   "cell_type": "code",
   "execution_count": 86,
   "metadata": {},
   "outputs": [
    {
     "name": "stdout",
     "output_type": "stream",
     "text": [
      "Average ROUGE-1 Precision:  0.1327837982307348\n",
      "Average ROUGE-1 Recall:  0.2849546747092465\n",
      "Average ROUGE-1 F1:  0.17512222458911286\n",
      "Average ROUGE-L Precision:  0.12493777361259667\n",
      "Average ROUGE-L Recall:  0.2678899515083127\n",
      "Average ROUGE-L F1:  0.16470956075700915\n"
     ]
    }
   ],
   "source": [
    "# Print the results\n",
    "print(\"Average ROUGE-1 Precision: \", avg_precision)\n",
    "print(\"Average ROUGE-1 Recall: \", avg_recall)\n",
    "print(\"Average ROUGE-1 F1: \", avg_f1)\n",
    "print(\"Average ROUGE-L Precision: \", avg_l_precision)\n",
    "print(\"Average ROUGE-L Recall: \", avg_l_recall)\n",
    "print(\"Average ROUGE-L F1: \", avg_l_f1)"
   ]
  },
  {
   "cell_type": "code",
   "execution_count": 87,
   "metadata": {},
   "outputs": [
    {
     "data": {
      "text/plain": [
       "\"luiz adriano scored nine times for shakhtar donetsk in europe this season .\\nthe brazilian is out of contract at the end of the year... both arsenal and liverpool are interested in signing the 27-year-old .\\ncristiano ronaldo and lionel messi have netted eight goals this season .\\nreal madrid and barcelona both in the champions league semi-finals .\\nread: our reporters have their say on who will win the champions league .\\nclick here for sportsmail's guide to the champions league final four .\""
      ]
     },
     "execution_count": 87,
     "metadata": {},
     "output_type": "execute_result"
    }
   ],
   "source": [
    "df['gold_summary'][1000]"
   ]
  },
  {
   "cell_type": "code",
   "execution_count": 88,
   "metadata": {},
   "outputs": [
    {
     "data": {
      "text/plain": [
       "\"Cristiano Ronaldo and Lionel Messi will go head-to-head once more in the race to be this season's top scorer in the Champions League – although Luiz Adriano threatens to spoil the party. Both Barcelona and Real Madrid booked their spots in the semi-finals this week with victories over Paris Saint-Germain and Atletico Madrid respectively. The planet's best footballers have scored eight times in Europe this season. But Shakhtar Donetsk’s Adriano, courted by Arsenal and Liverpool, has netted on nine occasions this term. Cristiano Ronaldo, in action against Atletico Madrid on Wednesday evening, has scored eight goals in Europe . Lionel Messi also has eight goals in the Champions League this term; one fewer than Luiz Adriano . Ronaldo and Messi will both play at least two more times after Real Madrid and Barcelona reached the last four . Adriano, who moved to Donetsk in 2007, scored five against BATE Borsiov in the group stages. His performance that night made history, with the 27-year-old becoming only the second player to score five times in a Champions League game. The other was Messi for Barcelona against Bayer Leverkusen in 2012. He also scored the third quickest hat-trick in the competition's history (12 minutes) as the Ukrainian side, knocked out by Bayern Munich in the round of 16, racked up the biggest-ever half-time lead (6-0) in Europe's premier tournament. ‘I am in a good moment of my career and we'll do what will be best for me and for the club,’ said Adriano last month when quizzed over his future. Adriano, who netted five times against BATE Borisov in the group, has scored more goals than any other player in the Champions League... he is out of contract in December and could move to the Premier League . ‘With my contract set to expire and many good performances, it'll be difficult to stay in Ukraine.’ Arsenal have sent scouts to watch Adriano in recent months, while Liverpool are also keen on the Brazilian. His contract with Shakhtar Donetsk runs out at the end of the year. Ronaldo and Messi however, remain in pole-position to top the scoring charts with Barcelona and Real Madrid both in the hat for the two-legged semi-finals to be played next month. Of the teams still in the pot, Neymar and Luis Suarez of Barcelona, Real Madrid's Karim Benzema and former Manchester United and City striker Carlos Tevez, now plying his trade for Juventus, each have six goals. The draw for the last four will take place on Friday.\""
      ]
     },
     "execution_count": 88,
     "metadata": {},
     "output_type": "execute_result"
    }
   ],
   "source": [
    "introduction[1000]"
   ]
  }
 ],
 "metadata": {
  "kernelspec": {
   "display_name": "Python 3",
   "language": "python",
   "name": "python3"
  },
  "language_info": {
   "codemirror_mode": {
    "name": "ipython",
    "version": 3
   },
   "file_extension": ".py",
   "mimetype": "text/x-python",
   "name": "python",
   "nbconvert_exporter": "python",
   "pygments_lexer": "ipython3",
   "version": "3.8.5"
  }
 },
 "nbformat": 4,
 "nbformat_minor": 4
}
