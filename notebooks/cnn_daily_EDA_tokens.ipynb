{
 "cells": [
  {
   "cell_type": "code",
   "execution_count": 1,
   "metadata": {},
   "outputs": [],
   "source": [
    "import pandas as pd"
   ]
  },
  {
   "cell_type": "code",
   "execution_count": 2,
   "metadata": {},
   "outputs": [
    {
     "data": {
      "text/html": [
       "<div>\n",
       "<style scoped>\n",
       "    .dataframe tbody tr th:only-of-type {\n",
       "        vertical-align: middle;\n",
       "    }\n",
       "\n",
       "    .dataframe tbody tr th {\n",
       "        vertical-align: top;\n",
       "    }\n",
       "\n",
       "    .dataframe thead th {\n",
       "        text-align: right;\n",
       "    }\n",
       "</style>\n",
       "<table border=\"1\" class=\"dataframe\">\n",
       "  <thead>\n",
       "    <tr style=\"text-align: right;\">\n",
       "      <th></th>\n",
       "      <th>id</th>\n",
       "      <th>article</th>\n",
       "      <th>highlights</th>\n",
       "    </tr>\n",
       "  </thead>\n",
       "  <tbody>\n",
       "    <tr>\n",
       "      <th>0</th>\n",
       "      <td>92c514c913c0bdfe25341af9fd72b29db544099b</td>\n",
       "      <td>Ever noticed how plane seats appear to be gett...</td>\n",
       "      <td>Experts question if  packed out planes are put...</td>\n",
       "    </tr>\n",
       "    <tr>\n",
       "      <th>1</th>\n",
       "      <td>2003841c7dc0e7c5b1a248f9cd536d727f27a45a</td>\n",
       "      <td>A drunk teenage boy had to be rescued by secur...</td>\n",
       "      <td>Drunk teenage boy climbed into lion enclosure ...</td>\n",
       "    </tr>\n",
       "    <tr>\n",
       "      <th>2</th>\n",
       "      <td>91b7d2311527f5c2b63a65ca98d21d9c92485149</td>\n",
       "      <td>Dougie Freedman is on the verge of agreeing a ...</td>\n",
       "      <td>Nottingham Forest are close to extending Dougi...</td>\n",
       "    </tr>\n",
       "    <tr>\n",
       "      <th>3</th>\n",
       "      <td>caabf9cbdf96eb1410295a673e953d304391bfbb</td>\n",
       "      <td>Liverpool target Neto is also wanted by PSG an...</td>\n",
       "      <td>Fiorentina goalkeeper Neto has been linked wit...</td>\n",
       "    </tr>\n",
       "    <tr>\n",
       "      <th>4</th>\n",
       "      <td>3da746a7d9afcaa659088c8366ef6347fe6b53ea</td>\n",
       "      <td>Bruce Jenner will break his silence in a two-h...</td>\n",
       "      <td>Tell-all interview with the reality TV star, 6...</td>\n",
       "    </tr>\n",
       "  </tbody>\n",
       "</table>\n",
       "</div>"
      ],
      "text/plain": [
       "                                         id  \\\n",
       "0  92c514c913c0bdfe25341af9fd72b29db544099b   \n",
       "1  2003841c7dc0e7c5b1a248f9cd536d727f27a45a   \n",
       "2  91b7d2311527f5c2b63a65ca98d21d9c92485149   \n",
       "3  caabf9cbdf96eb1410295a673e953d304391bfbb   \n",
       "4  3da746a7d9afcaa659088c8366ef6347fe6b53ea   \n",
       "\n",
       "                                             article  \\\n",
       "0  Ever noticed how plane seats appear to be gett...   \n",
       "1  A drunk teenage boy had to be rescued by secur...   \n",
       "2  Dougie Freedman is on the verge of agreeing a ...   \n",
       "3  Liverpool target Neto is also wanted by PSG an...   \n",
       "4  Bruce Jenner will break his silence in a two-h...   \n",
       "\n",
       "                                          highlights  \n",
       "0  Experts question if  packed out planes are put...  \n",
       "1  Drunk teenage boy climbed into lion enclosure ...  \n",
       "2  Nottingham Forest are close to extending Dougi...  \n",
       "3  Fiorentina goalkeeper Neto has been linked wit...  \n",
       "4  Tell-all interview with the reality TV star, 6...  "
      ]
     },
     "execution_count": 2,
     "metadata": {},
     "output_type": "execute_result"
    }
   ],
   "source": [
    "df = pd.read_csv('test.csv')\n",
    "\n",
    "df.head()"
   ]
  },
  {
   "cell_type": "code",
   "execution_count": 3,
   "metadata": {},
   "outputs": [
    {
     "data": {
      "text/html": [
       "<div>\n",
       "<style scoped>\n",
       "    .dataframe tbody tr th:only-of-type {\n",
       "        vertical-align: middle;\n",
       "    }\n",
       "\n",
       "    .dataframe tbody tr th {\n",
       "        vertical-align: top;\n",
       "    }\n",
       "\n",
       "    .dataframe thead th {\n",
       "        text-align: right;\n",
       "    }\n",
       "</style>\n",
       "<table border=\"1\" class=\"dataframe\">\n",
       "  <thead>\n",
       "    <tr style=\"text-align: right;\">\n",
       "      <th></th>\n",
       "      <th>id</th>\n",
       "      <th>article</th>\n",
       "      <th>highlights</th>\n",
       "      <th>WordCount</th>\n",
       "    </tr>\n",
       "  </thead>\n",
       "  <tbody>\n",
       "    <tr>\n",
       "      <th>0</th>\n",
       "      <td>92c514c913c0bdfe25341af9fd72b29db544099b</td>\n",
       "      <td>Ever noticed how plane seats appear to be gett...</td>\n",
       "      <td>Experts question if  packed out planes are put...</td>\n",
       "      <td>370</td>\n",
       "    </tr>\n",
       "    <tr>\n",
       "      <th>1</th>\n",
       "      <td>2003841c7dc0e7c5b1a248f9cd536d727f27a45a</td>\n",
       "      <td>A drunk teenage boy had to be rescued by secur...</td>\n",
       "      <td>Drunk teenage boy climbed into lion enclosure ...</td>\n",
       "      <td>311</td>\n",
       "    </tr>\n",
       "    <tr>\n",
       "      <th>2</th>\n",
       "      <td>91b7d2311527f5c2b63a65ca98d21d9c92485149</td>\n",
       "      <td>Dougie Freedman is on the verge of agreeing a ...</td>\n",
       "      <td>Nottingham Forest are close to extending Dougi...</td>\n",
       "      <td>110</td>\n",
       "    </tr>\n",
       "    <tr>\n",
       "      <th>3</th>\n",
       "      <td>caabf9cbdf96eb1410295a673e953d304391bfbb</td>\n",
       "      <td>Liverpool target Neto is also wanted by PSG an...</td>\n",
       "      <td>Fiorentina goalkeeper Neto has been linked wit...</td>\n",
       "      <td>308</td>\n",
       "    </tr>\n",
       "    <tr>\n",
       "      <th>4</th>\n",
       "      <td>3da746a7d9afcaa659088c8366ef6347fe6b53ea</td>\n",
       "      <td>Bruce Jenner will break his silence in a two-h...</td>\n",
       "      <td>Tell-all interview with the reality TV star, 6...</td>\n",
       "      <td>749</td>\n",
       "    </tr>\n",
       "  </tbody>\n",
       "</table>\n",
       "</div>"
      ],
      "text/plain": [
       "                                         id  \\\n",
       "0  92c514c913c0bdfe25341af9fd72b29db544099b   \n",
       "1  2003841c7dc0e7c5b1a248f9cd536d727f27a45a   \n",
       "2  91b7d2311527f5c2b63a65ca98d21d9c92485149   \n",
       "3  caabf9cbdf96eb1410295a673e953d304391bfbb   \n",
       "4  3da746a7d9afcaa659088c8366ef6347fe6b53ea   \n",
       "\n",
       "                                             article  \\\n",
       "0  Ever noticed how plane seats appear to be gett...   \n",
       "1  A drunk teenage boy had to be rescued by secur...   \n",
       "2  Dougie Freedman is on the verge of agreeing a ...   \n",
       "3  Liverpool target Neto is also wanted by PSG an...   \n",
       "4  Bruce Jenner will break his silence in a two-h...   \n",
       "\n",
       "                                          highlights  WordCount  \n",
       "0  Experts question if  packed out planes are put...        370  \n",
       "1  Drunk teenage boy climbed into lion enclosure ...        311  \n",
       "2  Nottingham Forest are close to extending Dougi...        110  \n",
       "3  Fiorentina goalkeeper Neto has been linked wit...        308  \n",
       "4  Tell-all interview with the reality TV star, 6...        749  "
      ]
     },
     "execution_count": 3,
     "metadata": {},
     "output_type": "execute_result"
    }
   ],
   "source": [
    "# Function to count words in a text column\n",
    "def count_words(text):\n",
    "    words = text.split()\n",
    "    return len(words)\n",
    "\n",
    "# Apply the function to the DataFrame column\n",
    "df['WordCount'] = df['article'].apply(count_words)\n",
    "df.head()"
   ]
  },
  {
   "cell_type": "code",
   "execution_count": 4,
   "metadata": {},
   "outputs": [
    {
     "data": {
      "text/plain": [
       "<AxesSubplot:>"
      ]
     },
     "execution_count": 4,
     "metadata": {},
     "output_type": "execute_result"
    },
    {
     "data": {
      "image/png": "[encoded data removed]",
      "text/plain": [
       "<Figure size 432x288 with 1 Axes>"
      ]
     },
     "metadata": {
      "needs_background": "light"
     },
     "output_type": "display_data"
    }
   ],
   "source": [
    "df['WordCount'].hist()"
   ]
  },
  {
   "cell_type": "code",
   "execution_count": 5,
   "metadata": {},
   "outputs": [
    {
     "data": {
      "text/plain": [
       "11490"
      ]
     },
     "execution_count": 5,
     "metadata": {},
     "output_type": "execute_result"
    }
   ],
   "source": [
    "len(df)"
   ]
  },
  {
   "cell_type": "code",
   "execution_count": 6,
   "metadata": {},
   "outputs": [
    {
     "data": {
      "text/plain": [
       "id            0\n",
       "article       0\n",
       "highlights    0\n",
       "WordCount     0\n",
       "dtype: int64"
      ]
     },
     "execution_count": 6,
     "metadata": {},
     "output_type": "execute_result"
    }
   ],
   "source": [
    "df.isnull().sum()"
   ]
  },
  {
   "cell_type": "code",
   "execution_count": 7,
   "metadata": {},
   "outputs": [
    {
     "data": {
      "text/plain": [
       "count    11490.000000\n",
       "mean       683.511575\n",
       "std        348.402755\n",
       "min         55.000000\n",
       "25%        419.000000\n",
       "50%        613.000000\n",
       "75%        876.000000\n",
       "max       1954.000000\n",
       "Name: WordCount, dtype: float64"
      ]
     },
     "execution_count": 7,
     "metadata": {},
     "output_type": "execute_result"
    }
   ],
   "source": [
    "df['WordCount'].describe()"
   ]
  },
  {
   "cell_type": "code",
   "execution_count": 8,
   "metadata": {},
   "outputs": [],
   "source": [
    "import pandas as pd\n",
    "import numpy as np\n",
    "import random\n",
    "\n",
    "import os\n",
    "\n",
    "# machine learning modeling\n",
    "from sklearn.compose import ColumnTransformer\n",
    "from sklearn.feature_extraction.text import CountVectorizer, TfidfVectorizer, TfidfTransformer\n",
    "from sklearn.metrics import accuracy_score, precision_score, confusion_matrix, classification_report\n",
    "from sklearn.model_selection import train_test_split, GridSearchCV, cross_val_score\n",
    "from sklearn.naive_bayes import MultinomialNB\n",
    "from sklearn.pipeline import Pipeline\n",
    "from sklearn.preprocessing import LabelBinarizer, LabelEncoder\n",
    "\n",
    "# nlp word processing\n",
    "import re\n",
    "from nltk import pos_tag\n",
    "from nltk.tokenize import regexp_tokenize, word_tokenize, RegexpTokenizer\n",
    "from nltk.corpus import stopwords, wordnet\n",
    "from nltk.stem import WordNetLemmatizer \n",
    "\n",
    "#plotting\n",
    "import seaborn as sns\n",
    "import matplotlib.pyplot as plt\n",
    "\n",
    "# Pipelines\n",
    "from imblearn.pipeline import Pipeline, make_pipeline\n",
    "\n",
    "# SMOTE\n",
    "from imblearn.over_sampling import SMOTE\n",
    "\n",
    "plt.style.use('ggplot')"
   ]
  },
  {
   "cell_type": "code",
   "execution_count": 9,
   "metadata": {},
   "outputs": [
    {
     "data": {
      "text/html": [
       "<div>\n",
       "<style scoped>\n",
       "    .dataframe tbody tr th:only-of-type {\n",
       "        vertical-align: middle;\n",
       "    }\n",
       "\n",
       "    .dataframe tbody tr th {\n",
       "        vertical-align: top;\n",
       "    }\n",
       "\n",
       "    .dataframe thead th {\n",
       "        text-align: right;\n",
       "    }\n",
       "</style>\n",
       "<table border=\"1\" class=\"dataframe\">\n",
       "  <thead>\n",
       "    <tr style=\"text-align: right;\">\n",
       "      <th></th>\n",
       "      <th>id</th>\n",
       "      <th>article</th>\n",
       "      <th>highlights</th>\n",
       "      <th>WordCount</th>\n",
       "      <th>article_clean</th>\n",
       "    </tr>\n",
       "  </thead>\n",
       "  <tbody>\n",
       "    <tr>\n",
       "      <th>0</th>\n",
       "      <td>92c514c913c0bdfe25341af9fd72b29db544099b</td>\n",
       "      <td>Ever noticed how plane seats appear to be gett...</td>\n",
       "      <td>Experts question if  packed out planes are put...</td>\n",
       "      <td>370</td>\n",
       "      <td>ever notice plane seat appear get small small ...</td>\n",
       "    </tr>\n",
       "    <tr>\n",
       "      <th>1</th>\n",
       "      <td>2003841c7dc0e7c5b1a248f9cd536d727f27a45a</td>\n",
       "      <td>A drunk teenage boy had to be rescued by secur...</td>\n",
       "      <td>Drunk teenage boy climbed into lion enclosure ...</td>\n",
       "      <td>311</td>\n",
       "      <td>drunk teenage boy rescue security jump lion en...</td>\n",
       "    </tr>\n",
       "    <tr>\n",
       "      <th>2</th>\n",
       "      <td>91b7d2311527f5c2b63a65ca98d21d9c92485149</td>\n",
       "      <td>Dougie Freedman is on the verge of agreeing a ...</td>\n",
       "      <td>Nottingham Forest are close to extending Dougi...</td>\n",
       "      <td>110</td>\n",
       "      <td>dougie freedman verge agree new twoyear deal r...</td>\n",
       "    </tr>\n",
       "    <tr>\n",
       "      <th>3</th>\n",
       "      <td>caabf9cbdf96eb1410295a673e953d304391bfbb</td>\n",
       "      <td>Liverpool target Neto is also wanted by PSG an...</td>\n",
       "      <td>Fiorentina goalkeeper Neto has been linked wit...</td>\n",
       "      <td>308</td>\n",
       "      <td>liverpool target neto also want psg club spain...</td>\n",
       "    </tr>\n",
       "    <tr>\n",
       "      <th>4</th>\n",
       "      <td>3da746a7d9afcaa659088c8366ef6347fe6b53ea</td>\n",
       "      <td>Bruce Jenner will break his silence in a two-h...</td>\n",
       "      <td>Tell-all interview with the reality TV star, 6...</td>\n",
       "      <td>749</td>\n",
       "      <td>bruce jenner break silence twohour interview d...</td>\n",
       "    </tr>\n",
       "  </tbody>\n",
       "</table>\n",
       "</div>"
      ],
      "text/plain": [
       "                                         id  \\\n",
       "0  92c514c913c0bdfe25341af9fd72b29db544099b   \n",
       "1  2003841c7dc0e7c5b1a248f9cd536d727f27a45a   \n",
       "2  91b7d2311527f5c2b63a65ca98d21d9c92485149   \n",
       "3  caabf9cbdf96eb1410295a673e953d304391bfbb   \n",
       "4  3da746a7d9afcaa659088c8366ef6347fe6b53ea   \n",
       "\n",
       "                                             article  \\\n",
       "0  Ever noticed how plane seats appear to be gett...   \n",
       "1  A drunk teenage boy had to be rescued by secur...   \n",
       "2  Dougie Freedman is on the verge of agreeing a ...   \n",
       "3  Liverpool target Neto is also wanted by PSG an...   \n",
       "4  Bruce Jenner will break his silence in a two-h...   \n",
       "\n",
       "                                          highlights  WordCount  \\\n",
       "0  Experts question if  packed out planes are put...        370   \n",
       "1  Drunk teenage boy climbed into lion enclosure ...        311   \n",
       "2  Nottingham Forest are close to extending Dougi...        110   \n",
       "3  Fiorentina goalkeeper Neto has been linked wit...        308   \n",
       "4  Tell-all interview with the reality TV star, 6...        749   \n",
       "\n",
       "                                       article_clean  \n",
       "0  ever notice plane seat appear get small small ...  \n",
       "1  drunk teenage boy rescue security jump lion en...  \n",
       "2  dougie freedman verge agree new twoyear deal r...  \n",
       "3  liverpool target neto also want psg club spain...  \n",
       "4  bruce jenner break silence twohour interview d...  "
      ]
     },
     "execution_count": 9,
     "metadata": {},
     "output_type": "execute_result"
    }
   ],
   "source": [
    "import re\n",
    "from nltk.corpus import stopwords\n",
    "from nltk.stem import WordNetLemmatizer\n",
    "from nltk import pos_tag\n",
    "from nltk.corpus import wordnet\n",
    "\n",
    "def get_wordnet_pos(treebank_tag):\n",
    "    if treebank_tag.startswith('J'):\n",
    "        return wordnet.ADJ\n",
    "    elif treebank_tag.startswith('V'):\n",
    "        return wordnet.VERB\n",
    "    elif treebank_tag.startswith('N'):\n",
    "        return wordnet.NOUN\n",
    "    elif treebank_tag.startswith('R'):\n",
    "        return wordnet.ADV\n",
    "    else:\n",
    "        return wordnet.NOUN\n",
    "\n",
    "sw = stopwords.words('english')\n",
    "\n",
    "punctuation = '!\"$%&\\'()*+,-./:;<=>?[\\\\]^_`{|}~“!#'\n",
    "\n",
    "no_accents_re = re.compile('^[a-z]+$')\n",
    "'''This line compiles a regular expression pattern that matches \n",
    "words consisting only of lowercase letters without any accents.'''\n",
    "\n",
    "accents = ['á', 'â', 'ã', 'à', 'å', 'ª', 'ç', 'è', '¼', '¾', 'î', 'ï', 'ì', 'ó', 'ö', 'ð', 'ü', 'ù', 'û', 'ý']\n",
    "'''This list contains various accent characters that need to be removed from the words.'''\n",
    "\n",
    "at_symbols = re.compile('[@][a-zA-Z]*')\n",
    "'''Compile a regular expression pattern that matches strings consisting only of digits.'''\n",
    "\n",
    "num_re = re.compile('^\\d+$')\n",
    "'''The text string (txt) is split into a list of words based on whitespace.'''\n",
    "\n",
    "\n",
    "    \n",
    "    \n",
    "def remove_punctuation(text, punctuation):\n",
    "    for char in punctuation:\n",
    "        text = text.replace(char, '')\n",
    "    return text\n",
    "\n",
    "def remove_at_symbols(text, twitter_re):\n",
    "    words = text.split()\n",
    "    filtered_words = []\n",
    "    for word in words:\n",
    "        if not twitter_re.match(word):\n",
    "            filtered_words.append(word)\n",
    "    return ' '.join(filtered_words)\n",
    "\n",
    "def remove_numbers(text, num_re):\n",
    "    words = text.split()\n",
    "    filtered_words = []\n",
    "    for word in words:\n",
    "        if not num_re.match(word):\n",
    "            filtered_words.append(word)\n",
    "    return ' '.join(filtered_words)\n",
    "\n",
    "def remove_accents(text, accents, no_accents_re):\n",
    "    words = text.split()\n",
    "    filtered_words = []\n",
    "    for word in words:\n",
    "        if no_accents_re.match(word):\n",
    "            filtered_words.append(word)\n",
    "    return ' '.join(filtered_words)\n",
    "\n",
    "def txt_clean(txt, stop_words=sw):\n",
    "    t = txt.lower()\n",
    "    t = remove_punctuation(t, punctuation)\n",
    "    t = remove_at_symbols(t, twitter_re)\n",
    "    t = remove_numbers(t, num_re)\n",
    "    t = remove_accents(t, accents, no_accents_re)\n",
    "    t = t.split()\n",
    "    t = [w for w in t if w not in stop_words and w]\n",
    "    t = pos_tag(t)\n",
    "    t = [(w[0], get_wordnet_pos(w[1])) for w in t]\n",
    "    lem = WordNetLemmatizer()\n",
    "    t = [lem.lemmatize(w[0], w[1]) for w in t]\n",
    "    return ' '.join(t)\n",
    "\n",
    "df['article_clean'] = df['article'].map(txt_clean)\n",
    "\n",
    "df.head()"
   ]
  },
  {
   "cell_type": "code",
   "execution_count": 10,
   "metadata": {
    "scrolled": true
   },
   "outputs": [
    {
     "data": {
      "text/plain": [
       "\"Biting his nails nervously, these are the first pictures of the migrant boat captain accused of killing 900 men, women and children in one of the worst maritime disasters since World War Two. Tunisian skipper Mohammed Ali Malek, 27, was arrested when he stepped onto Sicilian soil last night, some 24 hours after his  boat capsized in the Mediterranean. Before leaving the Italian coastguard vessel, however, he was forced to watch the bodies of 24 victims of the tragedy being carried off the ship for burial on the island of Malta. He was later charged with multiple manslaughter, causing a shipwreck and aiding illegal immigration. Prosecutors claim he contributed to the disaster by mistakenly ramming the overcrowded fishing boat into a merchant ship that had come to its rescue. As a result of the collision, the migrants shifted position on the boat, which was already off balance, causing it to overturn. Scroll down for videos . Nervous:\\xa0Tunisian boat captain Mohammed Ali Malek (centre) bites his nails as he waits to disembark an Italian coastguard ship before being arrested over the deaths of 950 migrants who died when his ship sank . 'Killer': Malek, 27, was arrested when he stepped onto Sicilian soil last night some 24 hours after his overcrowded boat capsized in the Mediterranean. He has been charged with\\xa0multiple manslaughter . In the dock: Malek affords a smile alongside his alleged smuggler accomplice, a 26-year-old Syrian crew member named Mahmud Bikhit, who was also arrested and charged with 'favouring illegal immigration' A police handout showing Mohammed Ali Malek (left) and Mahmud Bikhit (right) after their arrest in Malta . Malek was also pictured with his alleged smuggler accomplice, a 26-year-old Syrian crew member named Mahmud Bikhit, who charged with 'aiding illegal immigration. Both men were to be put before a judge later today. Catania prosecutor Giovanni Salvi's office stressed that none of the crew aboard the Portuguese-flagged King Jacob is under investigation in the disaster. He said the crew members did their job in coming to the rescue of a ship in distress and that their activities 'in no way contributed to the deadly event.' Meanwhile, the survivors were brought to a migrant holding center in Catania and were 'very tired, very shocked, silent,' according to Flavio Di Giacomo of the International Organization for Migration. Most of the survivors and the victims appear to have been young men but there were also several children aged between 10 and 12, she added. 'We have not yet been able to ask them about this but it seems certain that many of them will have had friends and family who were lost in the wreck.' Deep in thought: Malek stares in space while waiting to leave the rescue vessel. Survivors told how women and children died 'like rats in a cage' after being locked into the boat's hold by callous traffickers in Libya . They told yesterday how women and children died 'like rats in a cage' after being locked into the boat's hold by callous traffickers in Libya. Some resorted to clinging to their floating corpses until Italian and Maltese coastguards came to rescue them in the dead of the night. The coast guard, meanwhile, reported that it saved some 638 migrants in six different rescue operations on Monday alone. On Tuesday, a further 446 people were rescued from a leaking migrant ship about 80 miles (130 kilometers) south of the Calabrian coast. At talks in Luxembourg on Monday, EU ministers agreed on a 10-point plan to double the resources available to maritime border patrol mission Triton and further measures will be discussed at a summit of EU leaders on Thursday. Victims: Malek watches some of the bodies being taken off the rescue ship for burial in Malta . Grim: Survivors said they resorted to clinging to floating corpses until coastguards came to their rescue . Relaxed: Malek grins on the desk of the Italian coastguard ship next to some of the migrant survivors . Critics say Triton is woefully inadequate and are demanding the restoration of a much bigger Italian operation suspended last year because of cost constraints. The survivors, who hailed from Mali, Gambia, Senegal, Somalia, Eritrea and Bangladesh, were all recovering Tuesday at holding centres near Catania on Sicily's eastern coast. Sunday's disaster was the worst in a series of migrant shipwrecks that have claimed more than 1,700 lives this year - 30 times higher than the same period in 2014 - and nearly 5,000 since the start of last year. In that time nearly 200,000 migrants have made it to Italy, mostly after being rescued at sea by the Italian navy and coastguard. Italian officials believe there could be up to one million more would-be immigrants to Europe waiting to board boats in conflict-torn Libya. Many of them are refugees from Syria's civil war or persecution in places like Eritrea. Others are seeking to escape poverty and hunger in Africa and south Asia and secure a better future in Europe. Meanwhile,\\xa0Australian Prime Minister Tony Abbott urged the EU to introduce tough measures to stop migrants attempting to make the perilous sea voyage from North Africa to Europe. Mr Abbott, whose conservative government introduced a military-led operation to turn back boats carrying asylum-seekers before they reach Australia, said it was the only way to stop deaths. Hardline: Tony Abbott, whose conservative government introduced a military-led operation to turn back boats carrying asylum-seekers before they reach Australia, said harsh measures are the only way to stop deaths . Haunted: Surviving immigrants who escaped the boat that capsized in the Mediterranean Sea killing up to 900 people appear deep in thought as they arrive in the Sicilian port city of Catania this morning . While Mr Abbott's controversial policy has proved successful, with the nation going nearly 18 months with virtually no asylum-seeker boat arrivals and no reported deaths at sea, human rights advocates say it violates Australia's international obligations. His comments came as EU foreign and interior ministers met in Luxembourg to discuss ways to stem the flood of people trying to reach Europe. Outlining his views on preventing the deaths of migrants in the Mediterranean Sea, Mr Abbott told reporters: 'We have got hundreds, maybe thousands of people drowning in the attempts to get from Africa to Europe.' The 'only way you can stop the deaths is in fact to stop the boats', he added. Yesterday, the Maltese Prime Minister declared a crisis, calling for EU countries to reinstate rescue operations. He warned: 'A time will come when Europe will be judged harshly for its inaction when it turned a blind eye to genocide. 'We have what is fast becoming a failed state on our doorsteps and criminal gangs are enjoying a heyday.' He estimated smugglers behind the doomed voyage from Libya to Europe would have made between €1million and €5million from selling desperate refugees spaces on the boat.\""
      ]
     },
     "execution_count": 10,
     "metadata": {},
     "output_type": "execute_result"
    }
   ],
   "source": [
    "df['article'][10]"
   ]
  },
  {
   "cell_type": "code",
   "execution_count": 11,
   "metadata": {},
   "outputs": [
    {
     "data": {
      "text/plain": [
       "'bite nail nervously first picture migrant boat captain accuse kill men woman child one bad maritime disaster since world war two tunisian skipper mohammed ali malek arrest step onto sicilian soil last night hour boat capsize mediterranean leave italian coastguard vessel however force watch body victim tragedy carry ship burial island malta later charge multiple manslaughter cause shipwreck aid illegal immigration prosecutor claim contribute disaster mistakenly ram overcrowd fishing boat merchant ship come rescue result collision migrant shift position boat already balance cause overturn scroll videos nervous tunisian boat captain mohammed ali malek centre bite nails wait disembark italian coastguard ship arrest deaths migrant die ship sank killer malek arrest step onto sicilian soil last night hour overcrowd boat capsize mediterranean charge multiple manslaughter dock malek affords smile alongside allege smuggler accomplice syrian crew member name mahmud bikhit also arrest charge favour illegal immigration police handout show mohammed ali malek leave mahmud bikhit right arrest malta malek also picture alleged smuggler accomplice syrian crew member name mahmud bikhit charge aid illegal immigration men put judge later today catania prosecutor giovanni salvis office stress none crew aboard portugueseflagged king jacob investigation disaster say crew member job come rescue ship distress activity way contribute deadly event meanwhile survivor bring migrant hold center catania tire shocked silent accord flavio di giacomo international organization migration survivor victim appear young men also several child age add yet able ask seem certain many friend family lose wreck deep thought malek star space wait leave rescue vessel survivor tell woman child die like rat cage lock boat hold callous trafficker libya tell yesterday woman child die like rat cage lock boat hold callous trafficker libya resort cling float corps italian maltese coastguard come rescue dead night coast guard meanwhile report saved migrant six different rescue operation monday alone tuesday people rescue leak migrant ship mile kilometer south calabrian coast talk luxembourg monday eu minister agree plan double resource available maritime border patrol mission triton measure discuss summit eu leader thursday victim malek watch body take rescue ship burial malta grim survivor say resort cling float corps coastguard come rescue relaxed malek grin desk italian coastguard ship next migrant survivor critic say triton woefully inadequate demand restoration much big italian operation suspend last year cost constraint survivor hail mali gambia senegal somalia eritrea bangladesh recovering tuesday hold centre near catania sicily eastern coast sunday disaster bad series migrant shipwreck claim life year times high period nearly since start last year time nearly migrant make italy mostly rescue sea italian navy coastguard italian official believe could one million wouldbe immigrant europe wait board boat conflicttorn libya many refugee syrias civil war persecution place like eritrea others seek escape poverty hunger africa south asia secure well future europe meanwhile australian prime minister tony abbott urge eu introduce tough measure stop migrant attempt make perilous sea voyage north africa europe mr abbott whose conservative government introduce militaryled operation turn back boat carry asylumseekers reach australia say way stop death hardline tony abbott whose conservative government introduce militaryled operation turn back boat carry asylumseekers reach australia say harsh measure way stop death haunt survive immigrant escape boat capsize mediterranean sea kill people appear deep thought arrive sicilian port city catania morning mr abbotts controversial policy prove successful nation go nearly month virtually asylumseeker boat arrival report death sea human right advocate say violate australias international obligation comment come eu foreign interior minister meet luxembourg discus way stem flood people try reach europe outline view prevent deaths migrant mediterranean sea mr abbott tell reporter get hundred maybe thousand people drown attempt get africa europe way stop death fact stop boat add yesterday maltese prime minister declare crisis call eu country reinstate rescue operation warn time come europe judge harshly inaction turn blind eye genocide fast become fail state doorstep criminal gang enjoy heyday estimate smuggler behind doomed voyage libya europe would make sell desperate refugee space boat'"
      ]
     },
     "execution_count": 11,
     "metadata": {},
     "output_type": "execute_result"
    }
   ],
   "source": [
    "df['article_clean'][10]"
   ]
  },
  {
   "cell_type": "code",
   "execution_count": 12,
   "metadata": {},
   "outputs": [],
   "source": [
    "X = df['article_clean']\n",
    "y = df.drop('article_clean', axis=1)"
   ]
  },
  {
   "cell_type": "code",
   "execution_count": 13,
   "metadata": {},
   "outputs": [],
   "source": [
    "cv = CountVectorizer(ngram_range = (3,3))\n",
    "X_count = cv.fit_transform(X)\n",
    "X_count  = pd.DataFrame.sparse.from_spmatrix(X_count)\n",
    "X_count.columns = sorted(cv.vocabulary_)\n",
    "X_count.set_index(y.index, inplace=True)\n",
    "\n",
    "all_tri_labels = X_count.sum().sort_values(ascending = False)[0:30]"
   ]
  },
  {
   "cell_type": "code",
   "execution_count": 14,
   "metadata": {},
   "outputs": [
    {
     "data": {
      "image/png": "[encoded data removed]",
      "text/plain": [
       "<Figure size 720x432 with 1 Axes>"
      ]
     },
     "metadata": {},
     "output_type": "display_data"
    }
   ],
   "source": [
    "import matplotlib.pyplot as plt\n",
    "import seaborn as sns\n",
    "\n",
    "# Assuming you already have the 'all_uni_labels' variable defined\n",
    "\n",
    "# Create a bar plot\n",
    "plt.figure(figsize=(10, 6))\n",
    "sns.barplot(x=all_tri_labels.values, y=all_tri_labels.index, palette='viridis')\n",
    "\n",
    "# Set plot labels and title\n",
    "plt.xlabel('Frequency')\n",
    "plt.ylabel('Trigram')\n",
    "plt.title('Top 10 Trigrams')\n",
    "\n",
    "# Display the plot\n",
    "plt.show()"
   ]
  }
 ],
 "metadata": {
  "kernelspec": {
   "display_name": "Python (learn-env)",
   "language": "python",
   "name": "learn-env"
  },
  "language_info": {
   "codemirror_mode": {
    "name": "ipython",
    "version": 3
   },
   "file_extension": ".py",
   "mimetype": "text/x-python",
   "name": "python",
   "nbconvert_exporter": "python",
   "pygments_lexer": "ipython3",
   "version": "3.8.5"
  }
 },
 "nbformat": 4,
 "nbformat_minor": 4
}
