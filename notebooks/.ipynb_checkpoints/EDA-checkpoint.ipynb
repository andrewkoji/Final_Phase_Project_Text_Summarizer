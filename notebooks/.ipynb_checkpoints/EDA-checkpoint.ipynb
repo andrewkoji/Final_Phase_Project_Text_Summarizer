{
 "cells": [
  {
   "cell_type": "markdown",
   "metadata": {},
   "source": [
    "# Phase 5 Project - Fast Tracking Media Intelligence\n",
    "\n",
    "\n",
    "## Natural Language Processing Model for Text Summarization of CNN Daily News articles\n",
    "\n",
    "Name: Andrew Levinton\n",
    "Student Pace: Self Pace\n",
    "Instructor name: Ahbhineet Kukarni"
   ]
  },
  {
   "cell_type": "markdown",
   "metadata": {},
   "source": [
    "# Business Problem\n",
    "\n",
    "In this study, we will be analyzing CNN-Daily Mail News Articles. Many companies want to keep track of the latest news trends and reading full length articles can be incredibly time consuming. With the way news headlines affect major business decisions such as legal matters and stock prices, its important that readers are able to obtain all the information and reasoning behind the purpose of these articles and many of them can have a large number of distractors. It's essential that companies that get this information have the ability to quickly analyze these articles and develop counter intel or reports of their own in order to stay current and relevant with today's media. In this study we take the first steps towards utilizing text summarization to fast track the information gathering and counter-reporting process. \n"
   ]
  },
  {
   "cell_type": "markdown",
   "metadata": {},
   "source": [
    "![daily_mail](./images/dailymail_cover.jpg)"
   ]
  },
  {
   "cell_type": "markdown",
   "metadata": {},
   "source": [
    "# Business Understanding\n",
    "\n",
    "## Description:\n",
    "\n",
    "In today's information age, staying updated with news and information is crucial for both individuals and businesses. However, the sheer volume of news articles published daily can be overwhelming. Reading and processing these articles is time-consuming, especially when trying to gather insights from multiple sources.\n",
    "\n",
    "To address this challenge, we propose the development of a text summarization model using natural language processing (NLP) techniques. This model will automatically generate concise and coherent summaries of news articles. Here's how it can benefit the public and support business decisions:\n",
    "\n",
    "1. `Time Efficiency`: People often struggle to find the time to read lengthy news articles. Automated summarization allows individuals to quickly grasp the key points of an article, saving them time while keeping them informed.\n",
    "\n",
    "2. `Enhanced Understanding`: Summaries provide a condensed version of the article, making complex topics more accessible to a wider audience. This can help people better understand important news and events.\n",
    "\n",
    "3. `Multi-source Insights`: Readers can efficiently scan summaries from multiple sources to get a well-rounded view of a topic, fostering critical thinking and a broader perspective.\n",
    "\n",
    "4. `Competitive Intelligence`: Businesses can use automated summarization to track news and developments in their industry, enabling them to stay ahead of competitors and adapt to market changes more effectively.\n",
    "\n",
    "5. `Market Research`: Summarization can assist in analyzing customer sentiment, emerging trends, and competitor strategies by summarizing customer reviews, news, and social media posts.\n",
    "\n",
    "6. `Content Curation`: Media companies and content aggregators can use summarization to curate content for their audience, improving user engagement and retention.\n",
    "\n",
    "\n",
    "### Goals of this study:\n",
    "\n",
    "1. Streamline and automate the understanding of complex news topics. \n",
    "2. Help track news developments to enhance market research.\n",
    "\n",
    "### Business Questions to consider:\n",
    "\n",
    "- What specific NLP techniques or models can be employed to automate the process of summarizing complex news articles effectively?\n",
    "- How can automation be leveraged to provide real-time updates on important news developments to users or clients?\n",
    "- Are there opportunities to use automation to personalize news content delivery based on individual user preferences and interests?\n",
    "- How can automated summarization and analysis be integrated into other tools or platforms, such as news aggregators or chatbots?\n",
    "- What are the critical news sources, categories, or keywords that have the most significant impact on market trends and consumer sentiment?\n",
    "\n",
    "We will be using the CNN-Daily Mail News dataset to conduct our study. You can download the dataset from [here](https://www.kaggle.com/datasets/gowrishankarp/newspaper-text-summarization-cnn-dailymail)"
   ]
  },
  {
   "cell_type": "code",
   "execution_count": 1,
   "metadata": {},
   "outputs": [],
   "source": [
    "#dataframe manipulation\n",
    "import numpy as np\n",
    "import pandas as pd \n",
    "import warnings\n",
    "\n",
    "#plotting\n",
    "import matplotlib.pyplot as plt\n",
    "plt.style.use('ggplot')\n",
    "\n",
    "#text preprocessing \n",
    "import re\n",
    "from bs4 import BeautifulSoup\n",
    "from keras.preprocessing.text import Tokenizer \n",
    "from keras_preprocessing.sequence import pad_sequences\n",
    "from nltk.corpus import stopwords\n",
    "from nltk.tokenize import sent_tokenize\n",
    "from nltk.tokenize import word_tokenize\n",
    "from nltk.corpus import stopwords\n",
    "from nltk.stem import PorterStemmer\n",
    "from gensim.parsing import strip_tags, strip_numeric, strip_multiple_whitespaces, stem_text, strip_punctuation, remove_stopwords\n",
    "from gensim.parsing import preprocess_string\n",
    "from gensim import parsing\n",
    "import math\n",
    "\n",
    "#modeling\n",
    "from tensorflow.keras.layers import Input, LSTM, Embedding, Dense, Concatenate, TimeDistributed\n",
    "from tensorflow.keras.models import Model\n",
    "from tensorflow.keras.callbacks import EarlyStopping\n",
    "from tensorflow.keras.layers import Attention\n",
    "import warnings\n",
    "pd.set_option(\"display.max_colwidth\", 200)\n",
    "\n",
    "#model performance\n",
    "from rouge import Rouge\n",
    "from collections import Counter\n",
    "\n",
    "warnings.filterwarnings(\"ignore\")\n",
    "\n"
   ]
  },
  {
   "cell_type": "markdown",
   "metadata": {},
   "source": [
    "# Data Understanding\n",
    "The CNN / DailyMail Dataset is an English-language dataset containing just over 300k unique news articles as written by journalists at CNN and the Daily Mail. The current version supports both extractive and abstractive summarization, though the original version was created for machine reading and comprehension and abstractive question answering.\n",
    "\n",
    "The columns of the dataframe are:\n",
    "1. `ID`- Unique ID of the article\n",
    "2. `article` - The raw content of the article\n",
    "3. `Highlights` - A summary of the article"
   ]
  },
  {
   "cell_type": "markdown",
   "metadata": {},
   "source": [
    "# Preview of dataframe"
   ]
  },
  {
   "cell_type": "code",
   "execution_count": 2,
   "metadata": {},
   "outputs": [
    {
     "data": {
      "text/html": [
       "<div>\n",
       "<style scoped>\n",
       "    .dataframe tbody tr th:only-of-type {\n",
       "        vertical-align: middle;\n",
       "    }\n",
       "\n",
       "    .dataframe tbody tr th {\n",
       "        vertical-align: top;\n",
       "    }\n",
       "\n",
       "    .dataframe thead th {\n",
       "        text-align: right;\n",
       "    }\n",
       "</style>\n",
       "<table border=\"1\" class=\"dataframe\">\n",
       "  <thead>\n",
       "    <tr style=\"text-align: right;\">\n",
       "      <th></th>\n",
       "      <th>id</th>\n",
       "      <th>article</th>\n",
       "      <th>highlights</th>\n",
       "    </tr>\n",
       "  </thead>\n",
       "  <tbody>\n",
       "    <tr>\n",
       "      <th>0</th>\n",
       "      <td>92c514c913c0bdfe25341af9fd72b29db544099b</td>\n",
       "      <td>Ever noticed how plane seats appear to be getting smaller and smaller? With increasing numbers of people taking to the skies, some experts are questioning if having such packed out planes is putti...</td>\n",
       "      <td>Experts question if  packed out planes are putting passengers at risk .\\nU.S consumer advisory group says minimum space must be stipulated .\\nSafety tests conducted on planes with more leg room th...</td>\n",
       "    </tr>\n",
       "    <tr>\n",
       "      <th>1</th>\n",
       "      <td>2003841c7dc0e7c5b1a248f9cd536d727f27a45a</td>\n",
       "      <td>A drunk teenage boy had to be rescued by security after jumping into a lions' enclosure at a zoo in western India. Rahul Kumar, 17, clambered over the enclosure fence at the Kamla Nehru Zoological...</td>\n",
       "      <td>Drunk teenage boy climbed into lion enclosure at zoo in west India .\\nRahul Kumar, 17, ran towards animals shouting 'Today I kill a lion!'\\nFortunately he fell into a moat before reaching lions an...</td>\n",
       "    </tr>\n",
       "    <tr>\n",
       "      <th>2</th>\n",
       "      <td>91b7d2311527f5c2b63a65ca98d21d9c92485149</td>\n",
       "      <td>Dougie Freedman is on the verge of agreeing a new two-year deal to remain at Nottingham Forest. Freedman has stabilised Forest since he replaced cult hero Stuart Pearce and the club's owners are p...</td>\n",
       "      <td>Nottingham Forest are close to extending Dougie Freedman's contract .\\nThe Forest boss took over from former manager Stuart Pearce in February .\\nFreedman has since lead the club to ninth in the C...</td>\n",
       "    </tr>\n",
       "    <tr>\n",
       "      <th>3</th>\n",
       "      <td>caabf9cbdf96eb1410295a673e953d304391bfbb</td>\n",
       "      <td>Liverpool target Neto is also wanted by PSG and clubs in Spain as Brendan Rodgers faces stiff competition to land the Fiorentina goalkeeper, according to the Brazilian's agent Stefano Castagna. Th...</td>\n",
       "      <td>Fiorentina goalkeeper Neto has been linked with Liverpool and Arsenal .\\nNeto joined Firoentina from Brazilian outfit Atletico Paranaense in 2011 .\\nHe is also wanted by PSG and Spanish clubs, acc...</td>\n",
       "    </tr>\n",
       "    <tr>\n",
       "      <th>4</th>\n",
       "      <td>3da746a7d9afcaa659088c8366ef6347fe6b53ea</td>\n",
       "      <td>Bruce Jenner will break his silence in a two-hour interview with Diane Sawyer later this month. The former Olympian and reality TV star, 65, will speak in a 'far-ranging' interview with Sawyer for...</td>\n",
       "      <td>Tell-all interview with the reality TV star, 69, will air on Friday April 24 .\\nIt comes amid continuing speculation about his transition to a woman and following his involvement in a deadly car c...</td>\n",
       "    </tr>\n",
       "  </tbody>\n",
       "</table>\n",
       "</div>"
      ],
      "text/plain": [
       "                                         id  \\\n",
       "0  92c514c913c0bdfe25341af9fd72b29db544099b   \n",
       "1  2003841c7dc0e7c5b1a248f9cd536d727f27a45a   \n",
       "2  91b7d2311527f5c2b63a65ca98d21d9c92485149   \n",
       "3  caabf9cbdf96eb1410295a673e953d304391bfbb   \n",
       "4  3da746a7d9afcaa659088c8366ef6347fe6b53ea   \n",
       "\n",
       "                                                                                                                                                                                                   article  \\\n",
       "0  Ever noticed how plane seats appear to be getting smaller and smaller? With increasing numbers of people taking to the skies, some experts are questioning if having such packed out planes is putti...   \n",
       "1  A drunk teenage boy had to be rescued by security after jumping into a lions' enclosure at a zoo in western India. Rahul Kumar, 17, clambered over the enclosure fence at the Kamla Nehru Zoological...   \n",
       "2  Dougie Freedman is on the verge of agreeing a new two-year deal to remain at Nottingham Forest. Freedman has stabilised Forest since he replaced cult hero Stuart Pearce and the club's owners are p...   \n",
       "3  Liverpool target Neto is also wanted by PSG and clubs in Spain as Brendan Rodgers faces stiff competition to land the Fiorentina goalkeeper, according to the Brazilian's agent Stefano Castagna. Th...   \n",
       "4  Bruce Jenner will break his silence in a two-hour interview with Diane Sawyer later this month. The former Olympian and reality TV star, 65, will speak in a 'far-ranging' interview with Sawyer for...   \n",
       "\n",
       "                                                                                                                                                                                                highlights  \n",
       "0  Experts question if  packed out planes are putting passengers at risk .\\nU.S consumer advisory group says minimum space must be stipulated .\\nSafety tests conducted on planes with more leg room th...  \n",
       "1  Drunk teenage boy climbed into lion enclosure at zoo in west India .\\nRahul Kumar, 17, ran towards animals shouting 'Today I kill a lion!'\\nFortunately he fell into a moat before reaching lions an...  \n",
       "2  Nottingham Forest are close to extending Dougie Freedman's contract .\\nThe Forest boss took over from former manager Stuart Pearce in February .\\nFreedman has since lead the club to ninth in the C...  \n",
       "3  Fiorentina goalkeeper Neto has been linked with Liverpool and Arsenal .\\nNeto joined Firoentina from Brazilian outfit Atletico Paranaense in 2011 .\\nHe is also wanted by PSG and Spanish clubs, acc...  \n",
       "4  Tell-all interview with the reality TV star, 69, will air on Friday April 24 .\\nIt comes amid continuing speculation about his transition to a woman and following his involvement in a deadly car c...  "
      ]
     },
     "execution_count": 2,
     "metadata": {},
     "output_type": "execute_result"
    }
   ],
   "source": [
    "df = pd.read_csv('test.csv')\n",
    "\n",
    "df.head()"
   ]
  },
  {
   "cell_type": "markdown",
   "metadata": {},
   "source": [
    "## Sample Article and reference summary\n",
    "\n",
    "To start, we look at a sample article from the dataframe of CNN articles, as well as its reference summary, labeled \"highlights\".\n",
    "\n",
    "The purpose of the reference summary is to use it in helping determine how well our models perform in generating an effective summary. \n",
    "\n",
    "In this business case, the following objectives are important:\n",
    "\n",
    "- `Content Extraction`: The model should accurately extract and prioritize key information from news articles, such as goal tallies, player performances, club interests, and tournament status, similar to what is done in the reference summary.\n",
    "\n",
    "- `Conciseness`: The generated summaries should be concise, avoiding unnecessary details and providing the most important facts. This is crucial for creating efficient news feed content and trend analysis.\n",
    "\n",
    "- `Relevance`: The model should focus on relevant and impactful information to meet the needs of the business case, ensuring that the summaries provide insights that matter.\n",
    "\n",
    "- `Structure`: The generated summaries should be well-structured, possibly using bullet points or other formatting techniques to enhance readability and quick comprehension.\n",
    "\n",
    "- `Clarity`: The language used in the summaries should be clear and understandable, making the information accessible to a wide audience, including those who may not be experts in the field.\n",
    "\n",
    "- `Performance Measurement`: The success of the model can be measured by comparing the generated summaries to reference summaries, just as in your current approach, to assess how effectively it condenses the content and provides valuable insights.\n",
    "\n",
    "Ultimately, the desired outcome is to have a summarization model that can efficiently and accurately produce news feed content and trend analysis summaries from public news articles, in a manner that aligns with the characteristics and quality of the reference summary you've provided.\n",
    "\n",
    "\n"
   ]
  },
  {
   "cell_type": "code",
   "execution_count": 3,
   "metadata": {},
   "outputs": [
    {
     "data": {
      "text/plain": [
       "\"Cristiano Ronaldo and Lionel Messi will go head-to-head once more in the race to be this season's top scorer in the Champions League – although Luiz Adriano threatens to spoil the party. Both Barcelona and Real Madrid booked their spots in the semi-finals this week with victories over Paris Saint-Germain and Atletico Madrid respectively. The planet's best footballers have scored eight times in Europe this season. But Shakhtar Donetsk’s Adriano, courted by Arsenal and Liverpool, has netted on nine occasions this term. Cristiano Ronaldo, in action against Atletico Madrid on Wednesday evening, has scored eight goals in Europe . Lionel Messi also has eight goals in the Champions League this term; one fewer than Luiz Adriano . Ronaldo and Messi will both play at least two more times after Real Madrid and Barcelona reached the last four . Adriano, who moved to Donetsk in 2007, scored five against BATE Borsiov in the group stages. His performance that night made history, with the 27-year-old becoming only the second player to score five times in a Champions League game. The other was Messi for Barcelona against Bayer Leverkusen in 2012. He also scored the third quickest hat-trick in the competition's history (12 minutes) as the Ukrainian side, knocked out by Bayern Munich in the round of 16, racked up the biggest-ever half-time lead (6-0) in Europe's premier tournament. ‘I am in a good moment of my career and we'll do what will be best for me and for the club,’ said Adriano last month when quizzed over his future. Adriano, who netted five times against BATE Borisov in the group, has scored more goals than any other player in the Champions League... he is out of contract in December and could move to the Premier League . ‘With my contract set to expire and many good performances, it'll be difficult to stay in Ukraine.’ Arsenal have sent scouts to watch Adriano in recent months, while Liverpool are also keen on the Brazilian. His contract with Shakhtar Donetsk runs out at the end of the year. Ronaldo and Messi however, remain in pole-position to top the scoring charts with Barcelona and Real Madrid both in the hat for the two-legged semi-finals to be played next month. Of the teams still in the pot, Neymar and Luis Suarez of Barcelona, Real Madrid's Karim Benzema and former Manchester United and City striker Carlos Tevez, now plying his trade for Juventus, each have six goals. The draw for the last four will take place on Friday.\""
      ]
     },
     "execution_count": 3,
     "metadata": {},
     "output_type": "execute_result"
    }
   ],
   "source": [
    "df['article'][1000]"
   ]
  },
  {
   "cell_type": "markdown",
   "metadata": {},
   "source": [
    "# Sample Highlight"
   ]
  },
  {
   "cell_type": "code",
   "execution_count": 4,
   "metadata": {},
   "outputs": [
    {
     "data": {
      "text/plain": [
       "\"Luiz Adriano scored nine times for Shakhtar Donetsk in Europe this season .\\nThe Brazilian is out of contract at the end of the year... both Arsenal and Liverpool are interested in signing the 27-year-old .\\nCristiano Ronaldo and Lionel Messi have netted eight goals this season .\\nReal Madrid and Barcelona both in the Champions League semi-finals .\\nREAD: Our reporters have their say on who will win the Champions League .\\nCLICK HERE for Sportsmail's guide to the Champions League final four .\""
      ]
     },
     "execution_count": 4,
     "metadata": {},
     "output_type": "execute_result"
    }
   ],
   "source": [
    "df['highlights'][1000]"
   ]
  },
  {
   "cell_type": "markdown",
   "metadata": {},
   "source": [
    "-The reference summary provided for the sample article appears to be a good representation of the article from a business case perspective for a text summarization model **aiming to extract key information from news articles**. Here's why its a good benchmark for achievement of our model:\n",
    "\n",
    "- `Key Information Extraction`: The reference summary effectively extracts and condenses the most important information from the article. It mentions the number of goals scored by Luiz Adriano and the interest from Arsenal and Liverpool. It also highlights the goal tally of Cristiano Ronaldo and Lionel Messi, as well as the fact that both Real Madrid and Barcelona are in the Champions League semi-finals. This information encapsulates the main points of interest in the article.\n",
    "\n",
    "- `Conciseness`: The reference summary is concise and to the point. It does not contain unnecessary details or filler content, which is crucial for generating news feed content and trends analysis where brevity is key.\n",
    "\n",
    "- `Relevance`: The reference summary includes information that is directly relevant to the business case, such as the goals scored, contract status, and the interest of major football clubs. This relevance is essential for providing valuable insights.\n",
    "\n",
    "- `Structure`: The summary is well-structured, with bullet points that make it easy to skim and understand the main points quickly. This is important for generating news feed content that needs to be quickly digestible.\n",
    "\n",
    "- `Clarity`: The language used in the reference summary is clear and easy to understand, ensuring that the extracted information is accessible to a broad audience."
   ]
  },
  {
   "cell_type": "markdown",
   "metadata": {},
   "source": [
    "## Checking for length and nulls\n",
    "\n",
    "Checking the length of a DataFrame is a fundamental step in data analysis and manipulation. It provides valuable information about the data's size, which can be used for data validation, sampling, indexing, transformation, and various analytical tasks. Understanding the length of your data is a crucial aspect of effective data handling and analysis.\n",
    "\n",
    "Checking for nulls in data is crucial for maintaining data quality, ensuring accurate analyses, supporting machine learning models, enabling data imputation, and making informed decisions."
   ]
  },
  {
   "cell_type": "code",
   "execution_count": 5,
   "metadata": {
    "scrolled": true
   },
   "outputs": [
    {
     "data": {
      "text/plain": [
       "11490"
      ]
     },
     "execution_count": 5,
     "metadata": {},
     "output_type": "execute_result"
    }
   ],
   "source": [
    "len(df)"
   ]
  },
  {
   "cell_type": "code",
   "execution_count": 6,
   "metadata": {},
   "outputs": [
    {
     "data": {
      "text/plain": [
       "id            0\n",
       "article       0\n",
       "highlights    0\n",
       "dtype: int64"
      ]
     },
     "execution_count": 6,
     "metadata": {},
     "output_type": "execute_result"
    }
   ],
   "source": [
    "df.isnull().sum()"
   ]
  },
  {
   "cell_type": "code",
   "execution_count": 7,
   "metadata": {},
   "outputs": [
    {
     "name": "stdout",
     "output_type": "stream",
     "text": [
      "<class 'pandas.core.frame.DataFrame'>\n",
      "RangeIndex: 11490 entries, 0 to 11489\n",
      "Data columns (total 3 columns):\n",
      " #   Column      Non-Null Count  Dtype \n",
      "---  ------      --------------  ----- \n",
      " 0   id          11490 non-null  object\n",
      " 1   article     11490 non-null  object\n",
      " 2   highlights  11490 non-null  object\n",
      "dtypes: object(3)\n",
      "memory usage: 269.4+ KB\n"
     ]
    }
   ],
   "source": [
    "df.info()"
   ]
  },
  {
   "cell_type": "markdown",
   "metadata": {},
   "source": [
    "# Getting the word count\n",
    "The purpose of the code below is to provide a quantitative measure of the word count for each article in the DataFrame. Knowing the word count of each article can be valuable for various natural language processing tasks, such as text summarization, where you might want to generate a concise summary of the content while preserving essential information or meeting a specific length requirement. By having the word count readily available in the 'WordCount' column, you can make informed decisions and apply algorithms or methods that take the length of the text into account during the summarization process, ensuring that the generated summaries are of an appropriate length.\n",
    "\n",
    "\n",
    "After we generate the word count we will:\n",
    "\n",
    "- Look at distribution\n",
    "- Look at general statistics like the mean and median to analyze the general text length"
   ]
  },
  {
   "cell_type": "code",
   "execution_count": 8,
   "metadata": {
    "scrolled": false
   },
   "outputs": [
    {
     "data": {
      "text/html": [
       "<div>\n",
       "<style scoped>\n",
       "    .dataframe tbody tr th:only-of-type {\n",
       "        vertical-align: middle;\n",
       "    }\n",
       "\n",
       "    .dataframe tbody tr th {\n",
       "        vertical-align: top;\n",
       "    }\n",
       "\n",
       "    .dataframe thead th {\n",
       "        text-align: right;\n",
       "    }\n",
       "</style>\n",
       "<table border=\"1\" class=\"dataframe\">\n",
       "  <thead>\n",
       "    <tr style=\"text-align: right;\">\n",
       "      <th></th>\n",
       "      <th>id</th>\n",
       "      <th>article</th>\n",
       "      <th>highlights</th>\n",
       "      <th>articleWordCount</th>\n",
       "      <th>highlightsWordCount</th>\n",
       "    </tr>\n",
       "  </thead>\n",
       "  <tbody>\n",
       "    <tr>\n",
       "      <th>0</th>\n",
       "      <td>92c514c913c0bdfe25341af9fd72b29db544099b</td>\n",
       "      <td>Ever noticed how plane seats appear to be getting smaller and smaller? With increasing numbers of people taking to the skies, some experts are questioning if having such packed out planes is putti...</td>\n",
       "      <td>Experts question if  packed out planes are putting passengers at risk .\\nU.S consumer advisory group says minimum space must be stipulated .\\nSafety tests conducted on planes with more leg room th...</td>\n",
       "      <td>370</td>\n",
       "      <td>36</td>\n",
       "    </tr>\n",
       "    <tr>\n",
       "      <th>1</th>\n",
       "      <td>2003841c7dc0e7c5b1a248f9cd536d727f27a45a</td>\n",
       "      <td>A drunk teenage boy had to be rescued by security after jumping into a lions' enclosure at a zoo in western India. Rahul Kumar, 17, clambered over the enclosure fence at the Kamla Nehru Zoological...</td>\n",
       "      <td>Drunk teenage boy climbed into lion enclosure at zoo in west India .\\nRahul Kumar, 17, ran towards animals shouting 'Today I kill a lion!'\\nFortunately he fell into a moat before reaching lions an...</td>\n",
       "      <td>311</td>\n",
       "      <td>38</td>\n",
       "    </tr>\n",
       "    <tr>\n",
       "      <th>2</th>\n",
       "      <td>91b7d2311527f5c2b63a65ca98d21d9c92485149</td>\n",
       "      <td>Dougie Freedman is on the verge of agreeing a new two-year deal to remain at Nottingham Forest. Freedman has stabilised Forest since he replaced cult hero Stuart Pearce and the club's owners are p...</td>\n",
       "      <td>Nottingham Forest are close to extending Dougie Freedman's contract .\\nThe Forest boss took over from former manager Stuart Pearce in February .\\nFreedman has since lead the club to ninth in the C...</td>\n",
       "      <td>110</td>\n",
       "      <td>35</td>\n",
       "    </tr>\n",
       "    <tr>\n",
       "      <th>3</th>\n",
       "      <td>caabf9cbdf96eb1410295a673e953d304391bfbb</td>\n",
       "      <td>Liverpool target Neto is also wanted by PSG and clubs in Spain as Brendan Rodgers faces stiff competition to land the Fiorentina goalkeeper, according to the Brazilian's agent Stefano Castagna. Th...</td>\n",
       "      <td>Fiorentina goalkeeper Neto has been linked with Liverpool and Arsenal .\\nNeto joined Firoentina from Brazilian outfit Atletico Paranaense in 2011 .\\nHe is also wanted by PSG and Spanish clubs, acc...</td>\n",
       "      <td>308</td>\n",
       "      <td>44</td>\n",
       "    </tr>\n",
       "    <tr>\n",
       "      <th>4</th>\n",
       "      <td>3da746a7d9afcaa659088c8366ef6347fe6b53ea</td>\n",
       "      <td>Bruce Jenner will break his silence in a two-hour interview with Diane Sawyer later this month. The former Olympian and reality TV star, 65, will speak in a 'far-ranging' interview with Sawyer for...</td>\n",
       "      <td>Tell-all interview with the reality TV star, 69, will air on Friday April 24 .\\nIt comes amid continuing speculation about his transition to a woman and following his involvement in a deadly car c...</td>\n",
       "      <td>749</td>\n",
       "      <td>61</td>\n",
       "    </tr>\n",
       "  </tbody>\n",
       "</table>\n",
       "</div>"
      ],
      "text/plain": [
       "                                         id  \\\n",
       "0  92c514c913c0bdfe25341af9fd72b29db544099b   \n",
       "1  2003841c7dc0e7c5b1a248f9cd536d727f27a45a   \n",
       "2  91b7d2311527f5c2b63a65ca98d21d9c92485149   \n",
       "3  caabf9cbdf96eb1410295a673e953d304391bfbb   \n",
       "4  3da746a7d9afcaa659088c8366ef6347fe6b53ea   \n",
       "\n",
       "                                                                                                                                                                                                   article  \\\n",
       "0  Ever noticed how plane seats appear to be getting smaller and smaller? With increasing numbers of people taking to the skies, some experts are questioning if having such packed out planes is putti...   \n",
       "1  A drunk teenage boy had to be rescued by security after jumping into a lions' enclosure at a zoo in western India. Rahul Kumar, 17, clambered over the enclosure fence at the Kamla Nehru Zoological...   \n",
       "2  Dougie Freedman is on the verge of agreeing a new two-year deal to remain at Nottingham Forest. Freedman has stabilised Forest since he replaced cult hero Stuart Pearce and the club's owners are p...   \n",
       "3  Liverpool target Neto is also wanted by PSG and clubs in Spain as Brendan Rodgers faces stiff competition to land the Fiorentina goalkeeper, according to the Brazilian's agent Stefano Castagna. Th...   \n",
       "4  Bruce Jenner will break his silence in a two-hour interview with Diane Sawyer later this month. The former Olympian and reality TV star, 65, will speak in a 'far-ranging' interview with Sawyer for...   \n",
       "\n",
       "                                                                                                                                                                                                highlights  \\\n",
       "0  Experts question if  packed out planes are putting passengers at risk .\\nU.S consumer advisory group says minimum space must be stipulated .\\nSafety tests conducted on planes with more leg room th...   \n",
       "1  Drunk teenage boy climbed into lion enclosure at zoo in west India .\\nRahul Kumar, 17, ran towards animals shouting 'Today I kill a lion!'\\nFortunately he fell into a moat before reaching lions an...   \n",
       "2  Nottingham Forest are close to extending Dougie Freedman's contract .\\nThe Forest boss took over from former manager Stuart Pearce in February .\\nFreedman has since lead the club to ninth in the C...   \n",
       "3  Fiorentina goalkeeper Neto has been linked with Liverpool and Arsenal .\\nNeto joined Firoentina from Brazilian outfit Atletico Paranaense in 2011 .\\nHe is also wanted by PSG and Spanish clubs, acc...   \n",
       "4  Tell-all interview with the reality TV star, 69, will air on Friday April 24 .\\nIt comes amid continuing speculation about his transition to a woman and following his involvement in a deadly car c...   \n",
       "\n",
       "   articleWordCount  highlightsWordCount  \n",
       "0               370                   36  \n",
       "1               311                   38  \n",
       "2               110                   35  \n",
       "3               308                   44  \n",
       "4               749                   61  "
      ]
     },
     "execution_count": 8,
     "metadata": {},
     "output_type": "execute_result"
    }
   ],
   "source": [
    "# Function to count words in a text column\n",
    "def count_words(text):\n",
    "    words = text.split()\n",
    "    return len(words)\n",
    "\n",
    "# Apply the function to the DataFrame column\n",
    "df['articleWordCount'] = df['article'].apply(count_words)\n",
    "df['highlightsWordCount'] = df['highlights'].apply(count_words)\n",
    "df.head()"
   ]
  },
  {
   "cell_type": "code",
   "execution_count": 9,
   "metadata": {},
   "outputs": [
    {
     "data": {
      "text/plain": [
       "683.5115752828547"
      ]
     },
     "execution_count": 9,
     "metadata": {},
     "output_type": "execute_result"
    }
   ],
   "source": [
    "df['articleWordCount'].describe()['mean']"
   ]
  },
  {
   "cell_type": "code",
   "execution_count": 10,
   "metadata": {},
   "outputs": [
    {
     "data": {
      "text/plain": [
       "55.00931244560488"
      ]
     },
     "execution_count": 10,
     "metadata": {},
     "output_type": "execute_result"
    }
   ],
   "source": [
    "df['highlightsWordCount'].describe()['mean']"
   ]
  },
  {
   "cell_type": "markdown",
   "metadata": {},
   "source": [
    "The average token count for the articles and the highlights are provided below:\n",
    "\n",
    "\n",
    "\n",
    "| Feature      | Mean Token Count |\n",
    "|--------------|------------------|\n",
    "| Article      | 683              |\n",
    "| Highlights   | 55               |\n"
   ]
  },
  {
   "cell_type": "markdown",
   "metadata": {},
   "source": [
    "# Data Preparation\n",
    "\n",
    "Performing basic preprocessing steps is very important before we get to the model building part. Using messy and uncleaned text data is a potentially disastrous move. So in this step, we will drop all the unwanted symbols, characters, etc. from the text that do not affect the objective of our problem.\n",
    "\n",
    "Here is the dictionary that we will use for expanding the contractions:"
   ]
  },
  {
   "cell_type": "markdown",
   "metadata": {},
   "source": [
    "### Contraction Mapping\n",
    "A contraction mapping, also known as a \"contraction operator\" or \"contraction function,\" is a concept from mathematics, specifically in the field of functional analysis. In the context of text summarization, it's not directly used, but related concepts and techniques from mathematics and natural language processing can be applied to improve the quality of text summarization models."
   ]
  },
  {
   "cell_type": "code",
   "execution_count": 11,
   "metadata": {},
   "outputs": [],
   "source": [
    "contraction_mapping = {\"ain't\": \"is not\", \"aren't\": \"are not\",\"can't\": \"cannot\", \"'cause\": \"because\", \"could've\": \"could have\", \"couldn't\": \"could not\",\n",
    "                           \"didn't\": \"did not\",  \"doesn't\": \"does not\", \"don't\": \"do not\", \"hadn't\": \"had not\", \"hasn't\": \"has not\", \"haven't\": \"have not\",\n",
    "                           \"he'd\": \"he would\",\"he'll\": \"he will\", \"he's\": \"he is\", \"how'd\": \"how did\", \"how'd'y\": \"how do you\", \"how'll\": \"how will\", \"how's\": \"how is\",\n",
    "                           \"I'd\": \"I would\", \"I'd've\": \"I would have\", \"I'll\": \"I will\", \"I'll've\": \"I will have\",\"I'm\": \"I am\", \"I've\": \"I have\", \"i'd\": \"i would\",\n",
    "                           \"i'd've\": \"i would have\", \"i'll\": \"i will\",  \"i'll've\": \"i will have\",\"i'm\": \"i am\", \"i've\": \"i have\", \"isn't\": \"is not\", \"it'd\": \"it would\",\n",
    "                           \"it'd've\": \"it would have\", \"it'll\": \"it will\", \"it'll've\": \"it will have\",\"it's\": \"it is\", \"let's\": \"let us\", \"ma'am\": \"madam\",\n",
    "                           \"mayn't\": \"may not\", \"might've\": \"might have\",\"mightn't\": \"might not\",\"mightn't've\": \"might not have\", \"must've\": \"must have\",\n",
    "                           \"mustn't\": \"must not\", \"mustn't've\": \"must not have\", \"needn't\": \"need not\", \"needn't've\": \"need not have\",\"o'clock\": \"of the clock\",\n",
    "                           \"oughtn't\": \"ought not\", \"oughtn't've\": \"ought not have\", \"shan't\": \"shall not\", \"sha'n't\": \"shall not\", \"shan't've\": \"shall not have\",\n",
    "                           \"she'd\": \"she would\", \"she'd've\": \"she would have\", \"she'll\": \"she will\", \"she'll've\": \"she will have\", \"she's\": \"she is\",\n",
    "                           \"should've\": \"should have\", \"shouldn't\": \"should not\", \"shouldn't've\": \"should not have\", \"so've\": \"so have\",\"so's\": \"so as\",\n",
    "                           \"this's\": \"this is\",\"that'd\": \"that would\", \"that'd've\": \"that would have\", \"that's\": \"that is\", \"there'd\": \"there would\",\n",
    "                           \"there'd've\": \"there would have\", \"there's\": \"there is\", \"here's\": \"here is\",\"they'd\": \"they would\", \"they'd've\": \"they would have\",\n",
    "                           \"they'll\": \"they will\", \"they'll've\": \"they will have\", \"they're\": \"they are\", \"they've\": \"they have\", \"to've\": \"to have\",\n",
    "                           \"wasn't\": \"was not\", \"we'd\": \"we would\", \"we'd've\": \"we would have\", \"we'll\": \"we will\", \"we'll've\": \"we will have\", \"we're\": \"we are\",\n",
    "                           \"we've\": \"we have\", \"weren't\": \"were not\", \"what'll\": \"what will\", \"what'll've\": \"what will have\", \"what're\": \"what are\",\n",
    "                           \"what's\": \"what is\", \"what've\": \"what have\", \"when's\": \"when is\", \"when've\": \"when have\", \"where'd\": \"where did\", \"where's\": \"where is\",\n",
    "                           \"where've\": \"where have\", \"who'll\": \"who will\", \"who'll've\": \"who will have\", \"who's\": \"who is\", \"who've\": \"who have\",\n",
    "                           \"why's\": \"why is\", \"why've\": \"why have\", \"will've\": \"will have\", \"won't\": \"will not\", \"won't've\": \"will not have\",\n",
    "                           \"would've\": \"would have\", \"wouldn't\": \"would not\", \"wouldn't've\": \"would not have\", \"y'all\": \"you all\",\n",
    "                           \"y'all'd\": \"you all would\",\"y'all'd've\": \"you all would have\",\"y'all're\": \"you all are\",\"y'all've\": \"you all have\",\n",
    "                           \"you'd\": \"you would\", \"you'd've\": \"you would have\", \"you'll\": \"you will\", \"you'll've\": \"you will have\",\n",
    "                           \"you're\": \"you are\", \"you've\": \"you have\"}"
   ]
  },
  {
   "cell_type": "markdown",
   "metadata": {},
   "source": [
    "We will perform the below preprocessing tasks for our data:\n",
    "\n",
    "1.Convert everything to lowercase\n",
    "\n",
    "2.Remove HTML tags\n",
    "\n",
    "3.Contraction mapping\n",
    "\n",
    "4.Remove (‘s)\n",
    "\n",
    "5.Remove any text inside the parenthesis ( )\n",
    "\n",
    "6.Eliminate punctuations and special characters\n",
    "\n",
    "7.Remove stopwords\n",
    "\n",
    "8.Remove short words\n",
    "\n",
    "Let’s define the function:"
   ]
  },
  {
   "cell_type": "markdown",
   "metadata": {},
   "source": [
    "#### Text Cleaner\n",
    "This code block performs text preprocessing tasks such as lowercasing, HTML tag removal, parentheses and quotation marks removal, contraction expansion, possessive form removal, and non-alphabetic character removal. It also offers the option to remove common stopwords and short words, resulting in cleaner and more structured text data for analysis."
   ]
  },
  {
   "cell_type": "code",
   "execution_count": 12,
   "metadata": {},
   "outputs": [],
   "source": [
    "stop_words = set(stopwords.words('english')) \n",
    "stop_words.update(['daily', 'news', 'mail'])\n",
    "def text_cleaner(text,num):\n",
    "    newString = text.lower()\n",
    "    newString = BeautifulSoup(newString, \"lxml\").text\n",
    "    newString = re.sub(r'\\([^)]*\\)', '', newString)\n",
    "    newString = re.sub('\"','', newString)\n",
    "    newString = ' '.join([contraction_mapping[t] if t in contraction_mapping else t for t in newString.split(\" \")])    \n",
    "    newString = re.sub(r\"'s\\b\",\"\",newString)\n",
    "    newString = re.sub(\"[^a-zA-Z]\", \" \", newString) \n",
    "    newString = re.sub('[m]{2,}', 'mm', newString)\n",
    "    if(num==0):\n",
    "        tokens = [w for w in newString.split() if not w in stop_words]\n",
    "    else:\n",
    "        tokens=newString.split()\n",
    "    long_words=[]\n",
    "    for i in tokens:\n",
    "        if len(i)>1:                                                 #removing short word\n",
    "            long_words.append(i)   \n",
    "    return (\" \".join(long_words)).strip()"
   ]
  },
  {
   "cell_type": "markdown",
   "metadata": {},
   "source": [
    "## Applying the function to the dataframe articles"
   ]
  },
  {
   "cell_type": "code",
   "execution_count": 13,
   "metadata": {},
   "outputs": [],
   "source": [
    "#call the function\n",
    "cleaned_text = []\n",
    "for t in df['article']:\n",
    "    cleaned_text.append(text_cleaner(t,0)) "
   ]
  },
  {
   "cell_type": "markdown",
   "metadata": {},
   "source": [
    "## Sample cleaned articles"
   ]
  },
  {
   "cell_type": "code",
   "execution_count": 14,
   "metadata": {},
   "outputs": [
    {
     "name": "stdout",
     "output_type": "stream",
     "text": [
      "Here is a sample of what the articles look like after cleaning:\n",
      "\n",
      "\n",
      "Article 1: \n",
      "ever noticed plane seats appear getting smaller smaller increasing numbers people taking skies experts questioning packed planes putting passengers risk say shrinking space aeroplanes uncomfortable putting health safety danger squabbling arm rest shrinking space planes putting health safety danger week consumer advisory group set department transportation said public hearing government happy set standards animals flying planes stipulate minimum amount space humans world animals rights space food humans said charlie leocha consumer representative committee time dot faa take stand humane treatment passengers could crowding planes lead serious issues fighting space overhead lockers crashing elbows seat back kicking tests conducted faa use planes inch pitch standard airlines decreased many economy seats united airlines inches room airlines offer little inches cynthia corbertt human factors researcher federal aviation administration conducts tests quickly passengers leave plane tests conducted using planes inches row seats standard airlines decreased reported detroit distance two seats one point seat point seat behind known pitch airlines stick pitch inches fall united airlines inches space gulf air economy seats inches air asia offers inches spirit airlines offers inches british airways seat pitch inches easyjet inches thomson short haul seat pitch inches virgin atlantic\n",
      "\n",
      "\n",
      "Article 2: \n",
      "drunk teenage boy rescued security jumping lions enclosure zoo western india rahul kumar clambered enclosure fence kamla nehru zoological park ahmedabad began running towards animals shouting would kill mr kumar explained afterwards drunk thought would stand good chance predators next level drunk intoxicated rahul kumar climbed lions enclosure zoo ahmedabad began running towards animals shouting today kill lion mr kumar sitting near enclosure suddenly made dash lions surprising zoo security intoxicated teenager ran towards lions shouting today kill lion lion kills zoo spokesman said guards earlier spotted close enclosure idea planing enter fortunately eight moats cross getting lions usually fell second one allowing guards catch take handed police brave fool fortunately mr kumar fell moat ran towards lions could rescued zoo security staff reaching animals kumar later explained really know drunk thought would stand good chance police spokesman said cautioned sent psychiatric evaluation fortunately lions asleep zoo guards acted quickly enough prevent tragedy similar delhi last year year old man mauled death tiger indian capital climbing enclosure city zoo\n"
     ]
    }
   ],
   "source": [
    "print('Here is a sample of what the articles look like after cleaning:')\n",
    "print('\\n')\n",
    "print('Article 1: ')\n",
    "print(cleaned_text[0])\n",
    "print('\\n')\n",
    "print('Article 2: ')\n",
    "print(cleaned_text[1])"
   ]
  },
  {
   "cell_type": "markdown",
   "metadata": {},
   "source": [
    "## Applying the same function to the dataframe highlights:"
   ]
  },
  {
   "cell_type": "code",
   "execution_count": 15,
   "metadata": {},
   "outputs": [],
   "source": [
    "#call the function\n",
    "cleaned_summary = []\n",
    "for t in df['highlights']:\n",
    "    cleaned_summary.append(text_cleaner(t,1))"
   ]
  },
  {
   "cell_type": "code",
   "execution_count": 16,
   "metadata": {},
   "outputs": [
    {
     "name": "stdout",
     "output_type": "stream",
     "text": [
      "Here is a sample of what the summaries look like after cleaning:\n",
      "\n",
      "\n",
      "Highlight 1: \n",
      "experts question if packed out planes are putting passengers at risk consumer advisory group says minimum space must be stipulated safety tests conducted on planes with more leg room than airlines offer\n",
      "\n",
      "\n",
      "Highlight 2: \n",
      "drunk teenage boy climbed into lion enclosure at zoo in west india rahul kumar ran towards animals shouting today kill lion fortunately he fell into moat before reaching lions and was rescued\n"
     ]
    }
   ],
   "source": [
    "print('Here is a sample of what the summaries look like after cleaning:')\n",
    "print('\\n')\n",
    "print('Highlight 1: ')\n",
    "print(cleaned_summary[0])\n",
    "print('\\n')\n",
    "print('Highlight 2: ')\n",
    "print(cleaned_summary[1])"
   ]
  },
  {
   "cell_type": "code",
   "execution_count": 17,
   "metadata": {},
   "outputs": [],
   "source": [
    "df['cleaned_text']=cleaned_text\n",
    "df['cleaned_summary']=cleaned_summary"
   ]
  },
  {
   "cell_type": "markdown",
   "metadata": {},
   "source": [
    "# Drop empty rows"
   ]
  },
  {
   "cell_type": "code",
   "execution_count": 18,
   "metadata": {},
   "outputs": [],
   "source": [
    "df.replace('', np.nan, inplace=True)\n",
    "df.dropna(axis=0,inplace=True)"
   ]
  },
  {
   "cell_type": "code",
   "execution_count": 19,
   "metadata": {},
   "outputs": [
    {
     "data": {
      "text/html": [
       "<div>\n",
       "<style scoped>\n",
       "    .dataframe tbody tr th:only-of-type {\n",
       "        vertical-align: middle;\n",
       "    }\n",
       "\n",
       "    .dataframe tbody tr th {\n",
       "        vertical-align: top;\n",
       "    }\n",
       "\n",
       "    .dataframe thead th {\n",
       "        text-align: right;\n",
       "    }\n",
       "</style>\n",
       "<table border=\"1\" class=\"dataframe\">\n",
       "  <thead>\n",
       "    <tr style=\"text-align: right;\">\n",
       "      <th></th>\n",
       "      <th>id</th>\n",
       "      <th>article</th>\n",
       "      <th>highlights</th>\n",
       "      <th>articleWordCount</th>\n",
       "      <th>highlightsWordCount</th>\n",
       "      <th>cleaned_text</th>\n",
       "      <th>cleaned_summary</th>\n",
       "    </tr>\n",
       "  </thead>\n",
       "  <tbody>\n",
       "    <tr>\n",
       "      <th>7014</th>\n",
       "      <td>653f8aac8bc1e1aa025ec3aa5d6edd533e6c2fe4</td>\n",
       "      <td>Tyra Banks made her awards ceremony hosting debut on Sunday at the Daytime Emmy Awards in Burbank, California and delivered on her promise of multiple outfits. The 41-year-old model and television...</td>\n",
       "      <td>Matt Lauer donates $1,000 to charity for each thank you in racy bit with Ellen DeGeneres .\\nBetty White honoured with a Lifetime Achievement Award .\\nCraig Ferguson wins for Outstanding Game Show ...</td>\n",
       "      <td>1954</td>\n",
       "      <td>43</td>\n",
       "      <td>tyra banks made awards ceremony hosting debut sunday daytime emmy awards burbank california delivered promise multiple outfits year old model television personality also premiered new short hairdo...</td>\n",
       "      <td>matt lauer donates to charity for each thank you in racy bit with ellen degeneres betty white honoured with lifetime achievement award craig ferguson wins for outstanding game show host entertainm...</td>\n",
       "    </tr>\n",
       "    <tr>\n",
       "      <th>9303</th>\n",
       "      <td>b2ee3a29c684f9417d849c43d5bc5acfeb34543d</td>\n",
       "      <td>Alastair Cook hung his head in disbelief after wasting a golden opportunity to end his long wait for a century before the man who seems destined to succeed him as England captain showed how to do ...</td>\n",
       "      <td>England are 373 for six at stumps on day three, 74 runs ahead of the West Indies first innings of 299 .\\nAlastair Cook (76) and Jonathan Trott (59) put on an opening stand of 125 but couldn't reac...</td>\n",
       "      <td>1919</td>\n",
       "      <td>107</td>\n",
       "      <td>alastair cook hung head disbelief wasting golden opportunity end long wait century man seems destined succeed england captain showed agony cook third day second test fell short magic three figures...</td>\n",
       "      <td>england are for six at stumps on day three runs ahead of the west indies first innings of alastair cook and jonathan trott put on an opening stand of but could not reach their centuries no joe roo...</td>\n",
       "    </tr>\n",
       "    <tr>\n",
       "      <th>8502</th>\n",
       "      <td>e26dae7fcb3e2b9b2c5ddcfc08c4ab5886c702e5</td>\n",
       "      <td>There are some very high expectations for the JJ Abrams-directed Star Wars: Episode VII - The Force Awakens when it hits theaters on December 18. The space epic is already being predicted to rake ...</td>\n",
       "      <td>The film opens December 18 and stars vets Harrison Ford and Carrie Fisher .\\nThe space epic is predicted to make more than the final Harry Potter movie .</td>\n",
       "      <td>1905</td>\n",
       "      <td>29</td>\n",
       "      <td>high expectations jj abrams directed star wars episode vii force awakens hits theaters december space epic already predicted rake global opening weekend according tuesday article hollywood reporte...</td>\n",
       "      <td>the film opens december and stars vets harrison ford and carrie fisher the space epic is predicted to make more than the final harry potter movie</td>\n",
       "    </tr>\n",
       "    <tr>\n",
       "      <th>4675</th>\n",
       "      <td>0e1d533b46c74279f036efc06f0a8d6e4b0a420f</td>\n",
       "      <td>Hillary Clinton's newborn presidential campaign is reeling from new financial links between her family foundation and companies that benefited from her stewardship of the U.S. State Department. On...</td>\n",
       "      <td>Hillary Clinton seen as honest and trustworthy by just 38 per cent of Americans, new poll shows .\\nNew headaches include revelations about foreign funds flowing into the Clintons' family foundatio...</td>\n",
       "      <td>1872</td>\n",
       "      <td>124</td>\n",
       "      <td>hillary clinton newborn presidential campaign reeling new financial links family foundation companies benefited stewardship state department day new quinnipiac university poll found per cent ameri...</td>\n",
       "      <td>hillary clinton seen as honest and trustworthy by just per cent of americans new poll shows new headaches include revelations about foreign funds flowing into the clintons family foundation while ...</td>\n",
       "    </tr>\n",
       "    <tr>\n",
       "      <th>8799</th>\n",
       "      <td>16dd864f668af18eaecac027c7b615da4b473f48</td>\n",
       "      <td>It may still be April, but Britain looks set to get an early dose of summer sun. Temperatures are due to rise throughout today peaking at 22C (72F) tomorrow. Not only will that be the warmest temp...</td>\n",
       "      <td>22C forecast for South East is 11C warmer than average - and would beat 2015 high of 20.7C in Aberdeenshire .\\nAmong the best coastal areas for warm weather tomorrow will be Hunstanton in Norfolk ...</td>\n",
       "      <td>1854</td>\n",
       "      <td>79</td>\n",
       "      <td>may still april britain looks set get early dose summer sun temperatures due rise throughout today peaking tomorrow warmest temperature recorded year also surpass average daytime temperature augus...</td>\n",
       "      <td>forecast for south east is warmer than average and would beat high of in aberdeenshire among the best coastal areas for warm weather tomorrow will be hunstanton in norfolk and whitstable in kent w...</td>\n",
       "    </tr>\n",
       "  </tbody>\n",
       "</table>\n",
       "</div>"
      ],
      "text/plain": [
       "                                            id  \\\n",
       "7014  653f8aac8bc1e1aa025ec3aa5d6edd533e6c2fe4   \n",
       "9303  b2ee3a29c684f9417d849c43d5bc5acfeb34543d   \n",
       "8502  e26dae7fcb3e2b9b2c5ddcfc08c4ab5886c702e5   \n",
       "4675  0e1d533b46c74279f036efc06f0a8d6e4b0a420f   \n",
       "8799  16dd864f668af18eaecac027c7b615da4b473f48   \n",
       "\n",
       "                                                                                                                                                                                                      article  \\\n",
       "7014  Tyra Banks made her awards ceremony hosting debut on Sunday at the Daytime Emmy Awards in Burbank, California and delivered on her promise of multiple outfits. The 41-year-old model and television...   \n",
       "9303  Alastair Cook hung his head in disbelief after wasting a golden opportunity to end his long wait for a century before the man who seems destined to succeed him as England captain showed how to do ...   \n",
       "8502  There are some very high expectations for the JJ Abrams-directed Star Wars: Episode VII - The Force Awakens when it hits theaters on December 18. The space epic is already being predicted to rake ...   \n",
       "4675  Hillary Clinton's newborn presidential campaign is reeling from new financial links between her family foundation and companies that benefited from her stewardship of the U.S. State Department. On...   \n",
       "8799  It may still be April, but Britain looks set to get an early dose of summer sun. Temperatures are due to rise throughout today peaking at 22C (72F) tomorrow. Not only will that be the warmest temp...   \n",
       "\n",
       "                                                                                                                                                                                                   highlights  \\\n",
       "7014  Matt Lauer donates $1,000 to charity for each thank you in racy bit with Ellen DeGeneres .\\nBetty White honoured with a Lifetime Achievement Award .\\nCraig Ferguson wins for Outstanding Game Show ...   \n",
       "9303  England are 373 for six at stumps on day three, 74 runs ahead of the West Indies first innings of 299 .\\nAlastair Cook (76) and Jonathan Trott (59) put on an opening stand of 125 but couldn't reac...   \n",
       "8502                                                The film opens December 18 and stars vets Harrison Ford and Carrie Fisher .\\nThe space epic is predicted to make more than the final Harry Potter movie .   \n",
       "4675  Hillary Clinton seen as honest and trustworthy by just 38 per cent of Americans, new poll shows .\\nNew headaches include revelations about foreign funds flowing into the Clintons' family foundatio...   \n",
       "8799  22C forecast for South East is 11C warmer than average - and would beat 2015 high of 20.7C in Aberdeenshire .\\nAmong the best coastal areas for warm weather tomorrow will be Hunstanton in Norfolk ...   \n",
       "\n",
       "      articleWordCount  highlightsWordCount  \\\n",
       "7014              1954                   43   \n",
       "9303              1919                  107   \n",
       "8502              1905                   29   \n",
       "4675              1872                  124   \n",
       "8799              1854                   79   \n",
       "\n",
       "                                                                                                                                                                                                 cleaned_text  \\\n",
       "7014  tyra banks made awards ceremony hosting debut sunday daytime emmy awards burbank california delivered promise multiple outfits year old model television personality also premiered new short hairdo...   \n",
       "9303  alastair cook hung head disbelief wasting golden opportunity end long wait century man seems destined succeed england captain showed agony cook third day second test fell short magic three figures...   \n",
       "8502  high expectations jj abrams directed star wars episode vii force awakens hits theaters december space epic already predicted rake global opening weekend according tuesday article hollywood reporte...   \n",
       "4675  hillary clinton newborn presidential campaign reeling new financial links family foundation companies benefited stewardship state department day new quinnipiac university poll found per cent ameri...   \n",
       "8799  may still april britain looks set get early dose summer sun temperatures due rise throughout today peaking tomorrow warmest temperature recorded year also surpass average daytime temperature augus...   \n",
       "\n",
       "                                                                                                                                                                                              cleaned_summary  \n",
       "7014  matt lauer donates to charity for each thank you in racy bit with ellen degeneres betty white honoured with lifetime achievement award craig ferguson wins for outstanding game show host entertainm...  \n",
       "9303  england are for six at stumps on day three runs ahead of the west indies first innings of alastair cook and jonathan trott put on an opening stand of but could not reach their centuries no joe roo...  \n",
       "8502                                                        the film opens december and stars vets harrison ford and carrie fisher the space epic is predicted to make more than the final harry potter movie  \n",
       "4675  hillary clinton seen as honest and trustworthy by just per cent of americans new poll shows new headaches include revelations about foreign funds flowing into the clintons family foundation while ...  \n",
       "8799  forecast for south east is warmer than average and would beat high of in aberdeenshire among the best coastal areas for warm weather tomorrow will be hunstanton in norfolk and whitstable in kent w...  "
      ]
     },
     "execution_count": 19,
     "metadata": {},
     "output_type": "execute_result"
    }
   ],
   "source": [
    "df.sort_values('articleWordCount', ascending=False).head()"
   ]
  },
  {
   "cell_type": "code",
   "execution_count": 20,
   "metadata": {},
   "outputs": [
    {
     "data": {
      "text/plain": [
       "\"Tyra Banks made her awards ceremony hosting debut on Sunday at the Daytime Emmy Awards in Burbank, California and delivered on her promise of multiple outfits. The 41-year-old model and television personality also premiered a new short hairdo at the awards ceremony honouring the best in daytime television. Matt Lauer received plenty of thanks during the two-hour broadcast on the Pop basic cable network after a comedy bit featuring pasties and black stockings. Scroll down for video . Hosting debut: Tyra Banks made her awards ceremony hosting debut on Sunday at the 42nd annual Daytime Emmy Awards in Burbank, California . The host of NBC's The Today Show in a pre-taped skit with talk show host Ellen DeGeneres agreed to end their pranking feud. The two were on opposite coasts and in the dual screen bit Ellen promised not to edit the video. Matt however was then shown with his head superimposed over the body of a chiseled man wearing only tasseled pasties, black briefs and lace-topped stockings. Multiple looks: The America's Next Top Model host promised the audience several outfit changes . She's a natural: Tyra moved the show along as it returned to television after streaming online last year . As Ellen grinned away at the racy image Matt pledged to donate $1,000 to charity each time a winner thanked him in their acceptance speech. Early award winner Nancy O'Dell thanked Matt three times after Entertainment Tonight took home the gong for Outstanding Entertainment News Program. Most of the winners also thanked 57-year-old Matt as they accepted their awards. Starting the show: Matt Lauer and Ellen DeGeneres started the show in a pre-taped bit in which they announced the end of their pranking feud . Still pranking: After Ellen claimed there would be no editing a superimposed body of a man wearing pasties and stockings was substituted for Matt's frame . For charity: Matt pledged to donate $1,000 to each winner who thanked him during their acceptance speech . Matt thanked: Nancy O'Dell thanked Matt Lauer three times after Entertainment Tonight won for\\xa0Outstanding Entertainment News Program . CBS Sunday Morning host Charles Osgood, whose show was honoured as best morning program, offered a heartfelt shoutout to Matt. 'Thank you for doing what you did because, God knows, I don't want to do that,' said the 82-year-old longtime host. Betty White, 93, was honoured with a Lifetime Achievement Award for her television career that dates back to 1949. Hollywood legend: Betty White was honoured with a Lifetime Achievement Award . She received her award at the conclusion of a skit based on the game show Password that was hosted by her late husband Allen Ludden. 'Oh, my goodness, I cannot tell you what this means,' Betty told the audience. 'Hello, beautiful,' she said to her trophy. 'When I started in 1949 I had no idea that I'd still be around at this point, for one thing, or that I'd still be privileged enough to still be in this business. And it is such a privilege.' Television stars: Charo participated in a bit that revealed Betty was the Lifetime Achievement Award honoree . The comedienne also showed her quick wit during her acceptance speech. 'So much thanks to you and your mothers and fathers and grandmothers and grandfathers,' she said as the audience giggled along. 'And a couple of great-grandfathers when I was younger,' she added. Still hilarious: Betty showed her quick wit during her acceptance speech . The awards show also included a few new categories voted on by fans. Outfit change: Tyra as promised changed into multiple outfits including a tan pantsuit . The Best Bitch Slap award that was decided by fans went to the smackdown that Quinn Fuller delivered to Brooke Logan Forrester on The Bold And The Beautiful. The Daytime Emmys, which once had a secure home on the broadcast networks, settled for streaming online last year after a two-year turn on the cable news channel HLN. Tyra opened the show wearing a black pantsuit with a plunging neckline and sheer black cape over her shoulders. Mini reunion: Tyra had her America's Next Top Model \\xa0runway consultant J. Alexander show the winners how to strut . She followed that up with a black leotard outfit with a sheer skirt, a tan pantsuit and inspired red dress. She admitted to being an admirer of daytime television before she appeared on daytime television herself. The two-time Sports Illustrated Swimsuit Issue cover model won two Daytime Emmy Awards for her talk show The Tyra Banks Show. Cute couple: John Legend and Chrissy Teigen were among the celebrities in attendance . Tyra said she was a 'huge fan' of talk show host Sally Jessy Raphael and revealed her last dress would be as red as Sally's trademark glasses. She also brought Chrissy Teigen onstage along with other hosts of her new upcoming ABC daytime show The FAB. Despite the dwindling daytime audience and programming shifts, winners at the awards ceremony burst with enthusiasm. Sally red: Tyra got on the ground to make a point during the broadcast . Getting fierce: The two-time Sports Illustrated Swimsuit Issue cover model certainly has range . Fourth outfit: Tyra saved her red dress for last . A beaming Craig Ferguson, replaced by James Corden as host of CBS' The Late Late Show, accepted the trophy for best game show host for Celebrity Name Game. 'I never win anything. This is fantastic,' Ferguson, 52, said, adding, 'Thank you, Hollywood, for a job.' Freddie Smith was honored as best younger actor in a drama for his role as Sonny in Days of Our Lives. His character and that of Will (played by Guy Wilson) were part of daytime TV's first gay wedding with two men. Major award: Craig Ferguson was thrilled to accept the award for Outstanding Game Show Host . Soap veteran: Deidre Hall who has played Dr. Marlena Evans on Days Of Our Lives for 32 years stunned in a blue gown . Freddie paid tribute to 'the LGBT community for showing strength and courage. You're an inspiration to all of us.' The ceremony featured the reunion of Anthony Geary and Genie Francis, the former General Hospital couple of Luke and Laura, who presented the trophy for best drama series, a tie, to Days of Our Lives and The Young and the Restless. Anthony was a winner as well, accepting his eighth Emmy for his General Hospital role, while fellow series star Maura West was named best lead drama actress. Paying tribute: Freddie Smith paid tribute to the LGBT community while accepting his award for Outstanding Younger Actor in a Drama Series . Soap star: Maura West received her award for Outstanding Actress in a Drama Series from model Shemer Moore . Other winners included Amelia Heinle, best supporting actress in a drama series for The Young and the Beautiful, and Chad Duell, best supporting actor for General Hospital. Un Nuevo Dia received the award for best Spanish-language morning program at the National Academy of Television Arts & Sciences awards. An in memoriam tribute was introduced by Melissa Rivers, who said the career of her late mother Joan Rivers was reinvigorated by a daytime talk show after her late-night show was canceled. She's a winner: Amelia Heinle accepted the award for Outstanding Supporting Actress in a Drama Series . Touching tribute: Melissa Rivers introduced an in memoriam tribute and talked about her late mother Joan Rivers whose career was reinvigorated after winning a Daytime Emmy . Celebrity presenter: Mario Lopez presented the award for Outstanding Morning Program in Spanish . The Joan Rivers Show won a Daytime Emmy in 1990, the only Emmy her mother ever got, Melissa Rivers noted. Among the winners Sunday were Jeopardy!, best game show; Steve Harvey, host of an informative talk show; The Ellen DeGeneres Show, entertainment talk show; Entertainment Tonight, entertainment news program; Hunter King, younger actress in a drama series, The Young and the Restless; and Kelly Ripa and Michael Strahan, entertainment talk show hosts, for Live! with Kelly and Michael. Rising star: Hunter King accepted the trophy for winning Outstanding Younger Actress in a Drama Series . Good times: Sheryl Underwood, Sara Gilbert, Sharon Osbourne, Aisha Tyler and Julie Chen of The Talk took to the stage . The end: Steve Harvey played a short game of Family Feud with Tyra to end the show . OUTSTANDING DRAMA SERIES . The Bold And The Beautiful . Days Of Our Lives WINNER (tie) General Hospital . The Young And The Restless WINNER (tie) OUTSTANDING NEW APPROACHES DRAMA SERIES . The Bay The Series WINNER . Beacon Hill The Series . East Los High . OUTSTANDING CULINARY PROGRAM . Barefoot Contessa: Back to Basics WINNER . Guy’s Big Bite . Martha Bakes . The Mind of a Chef . My Grandmother’s Ravioli . OUTSTANDING MORNING PROGRAM . CBS Sunday Morning WINNER . Good Morning America . Today Show . OUTSTANDING MORNING PROGRAM IN SPANISH . Un Nuevo Día WINNER . Cafe CNN . Despierta America . OUTSTANDING TALK SHOW/ INFORMATIVE . The Chew WINNER . The Dr. Oz Show . The Kitchen . Steve Harvey . OUTSTANDING ENTERTAINMENT TALK SHOW HOST . Kelly Ripa, Michael Strahan, Live! with Kelly and Michael WINNER . Julie Chen, Sara Gilbert, Sharon Osbourne, Aisha Tyler, Sheryl Underwood, The Talk . Wendy Williams, The Wendy Williams Show . OUTSTANDING ENTERTAINMENT NEWS \\xa0 PROGRAM . Entertainment Tonight WINNER . Access Hollywood . E! News . Extra . The Insider . OUTSTANDING LEAD ACTRESS IN A DRAMA SERIES . Maura West, General Hospital WINNER . Peggy McCay, Days of Our Lives . Alison Sweeney, Days of Our Lives . Gina Tognoni, The Young And The Restless . Laura Wright, General Hospital . OUTSTANDING LEAD ACTOR IN A DRAMA SERIES . Anthony Geary, General Hospital WINNER . Christian LeBlanc, The Young and the Restless . Billy Miller, The Young and the Restless . Jason Thompson, General Hospital . OUTSTANDING SUPPORTING ACTRESS IN A DRAMA SERIES . Amelia Heinle, The Young and the Restless WINNER . Linsey Godfrey, The Bold and the Beautiful . Elizabeth Hendrickson, The Young and the Restless . Finola Hughes, General Hospital . Lisa Locicero, General Hospital . OUTSTANDING SUPPORTING ACTOR IN A DRAMA SERIES . Chad Duell, General Hospital WINNER . Scott Clifton, The Bold and the Beautiful . Kristoff St. John, The Young and the Restless . Jacob Young, The Bold and the Beautiful . OUTSTANDING YOUNGER ACTRESS IN A DRAMA SERIES . Hunter King, The Young and the Restless WINNER . Kristen Alderson, General Hospital . Camila Banus, Days of Our Lives . Haley Pullos, General Hospital . OUTSTANDING YOUNGER ACTOR IN A DRAMA SERIES . Freddie Smith, Days of Our Lives WINNER . Bryan Craig, General Hospital . Max Ehrich, The Young and the Restless . Tequan Richmond, General Hospital . OUTSTANDING GAME SHOW HOST . Craig Ferguson, Celebrity Name Game WINNER . Steve Harvey, Family Feud . Todd Newton, Family Game Night . Pat Sajak, Wheel of Fortune . OUTSTANDING TALK SHOW/ ENTERTAINMENT . The Ellen DeGeneres Show WINNER . Live! with Kelly and Michael . The Talk . The Wendy Williams Show . OUTSTANDING INFORMATIVE TALK SHOW HOST . Steve Harvey, Steve Harvey WINNER . Mario Batali, Carla Hall, Clinton Kelley, Daphne Oz, Michael Symon, The Chew . Dr. Mehmet Oz, The Dr. Oz Show . DIRECTING FOR A DRAMA SERIES . The Bold and the Beautiful WINNER . Days of Our Live . General Hospital . The Young and the Restless . WRITING FOR A DRAMA SERIES . The Bold and the Beautiful WINNER . Days of Our Lives . General Hospital . The Young and the Restless .\""
      ]
     },
     "execution_count": 20,
     "metadata": {},
     "output_type": "execute_result"
    }
   ],
   "source": [
    "df['article'][7014]"
   ]
  },
  {
   "cell_type": "markdown",
   "metadata": {},
   "source": [
    "# Understanding the distribution of the sequences\n",
    "Here, we will analyze the length of the reviews and the summary to get an overall idea about the distribution of length of the text. This will help us fix the maximum length of the sequence:"
   ]
  },
  {
   "cell_type": "code",
   "execution_count": 21,
   "metadata": {},
   "outputs": [
    {
     "data": {
      "image/png": "[encoded data removed]",
      "text/plain": [
       "<Figure size 864x288 with 2 Axes>"
      ]
     },
     "metadata": {},
     "output_type": "display_data"
    }
   ],
   "source": [
    "fig, (ax1, ax2) = plt.subplots(1, 2, figsize=(12, 4))\n",
    "\n",
    "\n",
    "ax1.hist(df['articleWordCount'], bins=20, color='blue', alpha=0.7)\n",
    "ax1.set_title('Article Word Count Histogram')\n",
    "ax1.set_xlabel('Word Count')\n",
    "ax1.set_ylabel('Frequency')\n",
    "\n",
    "\n",
    "ax2.hist(df['highlightsWordCount'], bins=20, color='green', alpha=0.7)\n",
    "ax2.set_title('Highlight Word Count Histogram')\n",
    "ax2.set_xlabel('Word Count')\n",
    "ax2.set_ylabel('Frequency')\n",
    "\n",
    "\n",
    "plt.tight_layout()\n",
    "\n",
    "\n",
    "plt.show()"
   ]
  },
  {
   "cell_type": "markdown",
   "metadata": {},
   "source": [
    "## Analyzing the length of the highlights\n",
    "The purpose the code below is to analyze and gain insights into the distribution of summary lengths within a dataset. By iterating through the 'cleaned_summary' column of the DataFrame and checking the number of words in each cleaned summary, the code helps identify how many of these summaries are concise, containing 75 words or less. This analysis is valuable in various natural language processing and text analysis tasks, such as text summarization or information retrieval, as it provides an understanding of the dataset's summarization patterns. Furthermore, it allows data practitioners to assess the suitability of the dataset for specific applications that may have constraints on summary length."
   ]
  },
  {
   "cell_type": "code",
   "execution_count": 22,
   "metadata": {},
   "outputs": [
    {
     "name": "stdout",
     "output_type": "stream",
     "text": [
      "0.9079199303742385\n"
     ]
    }
   ],
   "source": [
    "cnt=0\n",
    "for i in df['cleaned_summary']:\n",
    "    if(len(i.split())<=75):\n",
    "        cnt=cnt+1\n",
    "print(cnt/len(df['cleaned_summary']))"
   ]
  },
  {
   "cell_type": "markdown",
   "metadata": {},
   "source": [
    "We observe that 91% of the highlights have length below 75. So, we can fix maximum length of summary to 75.\n",
    "\n",
    "Let us fix the maximum length of an article to 750"
   ]
  },
  {
   "cell_type": "code",
   "execution_count": 23,
   "metadata": {},
   "outputs": [
    {
     "name": "stdout",
     "output_type": "stream",
     "text": [
      "0.9485639686684073\n"
     ]
    }
   ],
   "source": [
    "cnt=0\n",
    "for i in df['cleaned_text']:\n",
    "    if(len(i.split())<=750):\n",
    "        cnt=cnt+1\n",
    "print(cnt/len(df['cleaned_text']))"
   ]
  },
  {
   "cell_type": "markdown",
   "metadata": {},
   "source": [
    "We observe that 95% of the articles have length below 750. So, we can fix maximum length of summary to 750."
   ]
  },
  {
   "cell_type": "code",
   "execution_count": 24,
   "metadata": {},
   "outputs": [],
   "source": [
    "max_text_len=750\n",
    "max_summary_len=75"
   ]
  },
  {
   "cell_type": "markdown",
   "metadata": {},
   "source": [
    "The purpose of the code below is to filter and create a new dataset (data) that contains text and summary pairs where both the text and summary have lengths within certain limits (max_summary_len and max_text_len). This can be useful when working with text summarization tasks or other natural language processing applications where controlling the length of input and output sequences is important. The resulting data DataFrame can be used for training, validation, or testing in machine learning models or other text analysis tasks."
   ]
  },
  {
   "cell_type": "code",
   "execution_count": 25,
   "metadata": {},
   "outputs": [],
   "source": [
    "cleaned_text =np.array(df['cleaned_text'])\n",
    "cleaned_summary=np.array(df['cleaned_summary'])\n",
    "\n",
    "short_text=[]\n",
    "short_summary=[]\n",
    "\n",
    "for i in range(len(cleaned_text)):\n",
    "    if(len(cleaned_summary[i].split())<=max_summary_len and len(cleaned_text[i].split())<=max_text_len):\n",
    "        short_text.append(cleaned_text[i])\n",
    "        short_summary.append(cleaned_summary[i])\n",
    "        \n",
    "data=pd.DataFrame({'article':short_text,'highlights':short_summary})"
   ]
  },
  {
   "cell_type": "code",
   "execution_count": 26,
   "metadata": {},
   "outputs": [
    {
     "data": {
      "text/html": [
       "<div>\n",
       "<style scoped>\n",
       "    .dataframe tbody tr th:only-of-type {\n",
       "        vertical-align: middle;\n",
       "    }\n",
       "\n",
       "    .dataframe tbody tr th {\n",
       "        vertical-align: top;\n",
       "    }\n",
       "\n",
       "    .dataframe thead th {\n",
       "        text-align: right;\n",
       "    }\n",
       "</style>\n",
       "<table border=\"1\" class=\"dataframe\">\n",
       "  <thead>\n",
       "    <tr style=\"text-align: right;\">\n",
       "      <th></th>\n",
       "      <th>article</th>\n",
       "      <th>highlights</th>\n",
       "    </tr>\n",
       "  </thead>\n",
       "  <tbody>\n",
       "    <tr>\n",
       "      <th>0</th>\n",
       "      <td>ever noticed plane seats appear getting smaller smaller increasing numbers people taking skies experts questioning packed planes putting passengers risk say shrinking space aeroplanes uncomfortabl...</td>\n",
       "      <td>experts question if packed out planes are putting passengers at risk consumer advisory group says minimum space must be stipulated safety tests conducted on planes with more leg room than airlines...</td>\n",
       "    </tr>\n",
       "    <tr>\n",
       "      <th>1</th>\n",
       "      <td>drunk teenage boy rescued security jumping lions enclosure zoo western india rahul kumar clambered enclosure fence kamla nehru zoological park ahmedabad began running towards animals shouting woul...</td>\n",
       "      <td>drunk teenage boy climbed into lion enclosure at zoo in west india rahul kumar ran towards animals shouting today kill lion fortunately he fell into moat before reaching lions and was rescued</td>\n",
       "    </tr>\n",
       "    <tr>\n",
       "      <th>2</th>\n",
       "      <td>dougie freedman verge agreeing new two year deal remain nottingham forest freedman stabilised forest since replaced cult hero stuart pearce club owners pleased job done city ground dougie freedman...</td>\n",
       "      <td>nottingham forest are close to extending dougie freedman contract the forest boss took over from former manager stuart pearce in february freedman has since lead the club to ninth in the championship</td>\n",
       "    </tr>\n",
       "    <tr>\n",
       "      <th>3</th>\n",
       "      <td>liverpool target neto also wanted psg clubs spain brendan rodgers faces stiff competition land fiorentina goalkeeper according brazilian agent stefano castagna reds linked move year old whose cont...</td>\n",
       "      <td>fiorentina goalkeeper neto has been linked with liverpool and arsenal neto joined firoentina from brazilian outfit atletico paranaense in he is also wanted by psg and spanish clubs according to hi...</td>\n",
       "    </tr>\n",
       "    <tr>\n",
       "      <th>4</th>\n",
       "      <td>bruce jenner break silence two hour interview diane sawyer later month former olympian reality tv star speak far ranging interview sawyer special edition friday april abc announced monday intervie...</td>\n",
       "      <td>tell all interview with the reality tv star will air on friday april it comes amid continuing speculation about his transition to woman and following his involvement in deadly car crash in februar...</td>\n",
       "    </tr>\n",
       "  </tbody>\n",
       "</table>\n",
       "</div>"
      ],
      "text/plain": [
       "                                                                                                                                                                                                   article  \\\n",
       "0  ever noticed plane seats appear getting smaller smaller increasing numbers people taking skies experts questioning packed planes putting passengers risk say shrinking space aeroplanes uncomfortabl...   \n",
       "1  drunk teenage boy rescued security jumping lions enclosure zoo western india rahul kumar clambered enclosure fence kamla nehru zoological park ahmedabad began running towards animals shouting woul...   \n",
       "2  dougie freedman verge agreeing new two year deal remain nottingham forest freedman stabilised forest since replaced cult hero stuart pearce club owners pleased job done city ground dougie freedman...   \n",
       "3  liverpool target neto also wanted psg clubs spain brendan rodgers faces stiff competition land fiorentina goalkeeper according brazilian agent stefano castagna reds linked move year old whose cont...   \n",
       "4  bruce jenner break silence two hour interview diane sawyer later month former olympian reality tv star speak far ranging interview sawyer special edition friday april abc announced monday intervie...   \n",
       "\n",
       "                                                                                                                                                                                                highlights  \n",
       "0  experts question if packed out planes are putting passengers at risk consumer advisory group says minimum space must be stipulated safety tests conducted on planes with more leg room than airlines...  \n",
       "1          drunk teenage boy climbed into lion enclosure at zoo in west india rahul kumar ran towards animals shouting today kill lion fortunately he fell into moat before reaching lions and was rescued  \n",
       "2  nottingham forest are close to extending dougie freedman contract the forest boss took over from former manager stuart pearce in february freedman has since lead the club to ninth in the championship  \n",
       "3  fiorentina goalkeeper neto has been linked with liverpool and arsenal neto joined firoentina from brazilian outfit atletico paranaense in he is also wanted by psg and spanish clubs according to hi...  \n",
       "4  tell all interview with the reality tv star will air on friday april it comes amid continuing speculation about his transition to woman and following his involvement in deadly car crash in februar...  "
      ]
     },
     "execution_count": 26,
     "metadata": {},
     "output_type": "execute_result"
    }
   ],
   "source": [
    "data.head()"
   ]
  },
  {
   "cell_type": "code",
   "execution_count": 27,
   "metadata": {},
   "outputs": [
    {
     "data": {
      "text/plain": [
       "'panama city handshake shook western hemisphere president obama briefly met cuban counterpart raul castro friday night dinner dozens latin american leaders convening panama city summit americas historic two nations barely speaking terms officially years meeting important bernadette meehan national security council spokesperson issued statement summit americas evening president obama president castro greeted shook hands cuba united states endured half century enmity tension worsened two nations miles apart key events years include traumatic modern history cuban missile crisis bay pigs mariel boatlift two leaders building historic face face obama spoke phone wednesday cuban leader heading panama met friday dinner expected spend lot time together saturday summit begins earnest obama arrived panama late thursday conference years past tinged animosity cuba exclusion moments marine one obama helicopter touched panama city castro plane landed tarmac panamanian television carried arrivals live phone call wednesday obama castro discussed ongoing process normalizing relations united states cuba according deputy national security adviser ben rhodes said made sense two leaders communicate anticipated interactions friday saturday run ins represent highest level talks united states cuba since meeting vice president richard nixon prime minister fidel castro new territory rhodes said friday reason president strongly believes approach focused totally isolation focused totally seeking cut cuban people united states america failed obama expecting warm welcome dozens countries represented conference announcing december seeking engage havana talks reopening embassies removing barriers commerce travel panama obama expected announce removing cuba united states list countries sponsor terrorism major advance building diplomatic ties two countries state department delivered report designation white house wednesday obama said thursday panel experts reviewing makes final determination white house ruling final decision obama leaves panama late saturday night remarks brief stopover jamaica thursday obama strongly hinted ready remove cuba list also includes iran sudan syria throughout process emphasis facts obama said want make sure given powerful tool isolate countries genuinely support terrorism make designations got strong evidence fact case circumstances change list change well said inside cuba expressed dissatisfaction pace diplomatic thaw officials say pleased progress toward establishing diplomatic ties white house argues helped improve relations countries region obama said jamaica never foresaw immediately overnight everything would transform overtures cuba universally popular united states lawmakers irate obama seeking engage regard corrupt government even obama landed panama long standing tensions pro anti castro activists full display dissidents opposed castro regime violently accosted earlier week supporters cuban government rhodes said white house expressed serious concerns violence would continue speak support human rights reforms island'"
      ]
     },
     "execution_count": 27,
     "metadata": {},
     "output_type": "execute_result"
    }
   ],
   "source": [
    "data['article'][1000]"
   ]
  },
  {
   "cell_type": "code",
   "execution_count": 28,
   "metadata": {},
   "outputs": [
    {
     "data": {
      "text/plain": [
       "'president obama cuban president raul castro meet in panama city the two nations only miles apart have been at odds for more than years'"
      ]
     },
     "execution_count": 28,
     "metadata": {},
     "output_type": "execute_result"
    }
   ],
   "source": [
    "data['highlights'][1000]"
   ]
  },
  {
   "cell_type": "markdown",
   "metadata": {},
   "source": [
    "# Analyzing n-grams - Articles"
   ]
  },
  {
   "cell_type": "code",
   "execution_count": 29,
   "metadata": {},
   "outputs": [],
   "source": [
    "X = df['cleaned_text']\n",
    "y = df.drop('cleaned_text', axis=1)"
   ]
  },
  {
   "cell_type": "code",
   "execution_count": 30,
   "metadata": {},
   "outputs": [],
   "source": [
    "from sklearn.feature_extraction.text import CountVectorizer, TfidfVectorizer, TfidfTransformer"
   ]
  },
  {
   "cell_type": "code",
   "execution_count": 31,
   "metadata": {},
   "outputs": [],
   "source": [
    "cv = CountVectorizer(ngram_range = (3,3))\n",
    "X_count = cv.fit_transform(X)\n",
    "X_count  = pd.DataFrame.sparse.from_spmatrix(X_count)\n",
    "X_count.columns = sorted(cv.vocabulary_)\n",
    "X_count.set_index(y.index, inplace=True)\n",
    "\n",
    "all_tri_labels = X_count.sum().sort_values(ascending = False)[0:30]"
   ]
  },
  {
   "cell_type": "code",
   "execution_count": 32,
   "metadata": {},
   "outputs": [
    {
     "data": {
      "image/png": "[encoded data removed]",
      "text/plain": [
       "<Figure size 720x432 with 1 Axes>"
      ]
     },
     "metadata": {},
     "output_type": "display_data"
    }
   ],
   "source": [
    "import seaborn as sns\n",
    "\n",
    "# Create a bar plot\n",
    "plt.figure(figsize=(10, 6))\n",
    "sns.barplot(x=all_tri_labels.values, y=all_tri_labels.index, palette='viridis')\n",
    "\n",
    "# Set plot labels and title\n",
    "plt.xlabel('Frequency')\n",
    "plt.ylabel('Trigram')\n",
    "plt.title('Top 10 Trigrams')\n",
    "\n",
    "# Display the plot\n",
    "plt.show()"
   ]
  },
  {
   "cell_type": "markdown",
   "metadata": {},
   "source": [
    "# Analyzing n-grams - Highlights"
   ]
  },
  {
   "cell_type": "code",
   "execution_count": 33,
   "metadata": {},
   "outputs": [],
   "source": [
    "X = df['cleaned_summary']\n",
    "y = df.drop('cleaned_summary', axis=1)"
   ]
  },
  {
   "cell_type": "code",
   "execution_count": 34,
   "metadata": {},
   "outputs": [
    {
     "data": {
      "image/png": "[encoded data removed]",
      "text/plain": [
       "<Figure size 720x432 with 1 Axes>"
      ]
     },
     "metadata": {},
     "output_type": "display_data"
    }
   ],
   "source": [
    "# Create a bar plot\n",
    "plt.figure(figsize=(10, 6))\n",
    "sns.barplot(x=all_tri_labels.values, y=all_tri_labels.index, palette='viridis')\n",
    "\n",
    "# Set plot labels and title\n",
    "plt.xlabel('Frequency')\n",
    "plt.ylabel('Trigram')\n",
    "plt.title('Top 10 Trigrams')\n",
    "\n",
    "# Display the plot\n",
    "plt.show()"
   ]
  },
  {
   "cell_type": "markdown",
   "metadata": {},
   "source": [
    "# Model building"
   ]
  },
  {
   "cell_type": "markdown",
   "metadata": {},
   "source": [
    "# Baseline - TFIDF Vectorizer \n",
    "\n",
    "[TFIDF](https://medium.com/@ashins1997/text-summarization-f2542bc6a167#:~:text=Sentence%20scoring%20using%20tf%2Didf,word%20occurs%20in%20the%20document.)\n",
    "\n",
    "- **Sentence scoring using tf-idf is one of the extractive approaches for text summarization.** \n",
    "- **TF-IDF stands for Term Frequency** — Inverse Document Frequency. It is the product of two statistics.\n",
    "\n",
    "- **Term Frequency (TF)** : It is the number of times the word occurs in the document.\n",
    "- **Inverse Document Frequency (IDF)** : It is the measure of how much information the word provides, i.e., if it’s common or rare across all documents.\n",
    "\n",
    "# Functions for steps in model building\n",
    "\n",
    "1. Covert text to sentences : Converting a single text to list of sentences.\n",
    "2. Pre-process text : Clean the sentences by removing unnecessary words, stopwords, punctuations, etc.\n",
    "3. Create term frequency (tf) matrix : It shows the frequency of words in each sentence. We will calculate relative frequency to represent the tf instead of using actual frequency. \n",
    ">It is calculated as t / T where,\n",
    "> - t = Number of times the term appears in the document,\n",
    "> - T = Total number of terms in the document\n",
    "4. Create idf matrix : It shows the importance of words in each sentence with respect to the whole document. \n",
    "> It is calculated as log_e(D/d) where,\n",
    "> - D = Total number of documents,\n",
    "> - d = Number of documents with term t in it\n",
    "5. Calculate sentence tf-idf : It is the product of tf and idf for each word in the sentence and shows the importance of each word in the sentence.\n",
    "6. Calculate sentence scores : Here score of the sentences are calculated as the average of the tf-idf value of words in the sentence. It is calculated as\n",
    "> T / n where,\n",
    "> - T = Total tf-idf of words in the sentence,\n",
    "> - n = Number of distinct words in the sentence\n",
    "7. Determine threshold : Threshold is the average value of the scores of the sentences. \n",
    "> It is calculated as S / s where,\n",
    "> - S = Total sum of scores of sentences,\n",
    "> - s = Number of sentences\n",
    "8. Generate summary : Generate a summary by extracting the sentences having scores greater than the threshold value."
   ]
  },
  {
   "cell_type": "code",
   "execution_count": 104,
   "metadata": {},
   "outputs": [],
   "source": [
    "# 1.Convert text to sentences\n",
    "text = df['article'][1000]\n",
    "sentences = sent_tokenize(text)\n",
    "\n",
    "# Preprocess Text\n",
    "ps = PorterStemmer()\n",
    "def text_preprocessing(sentences):\n",
    "    \"\"\"\n",
    "    Pre processing text to removeunnecessary words.\n",
    "    \"\"\"    \n",
    "#     print('Preprocessing text')    \n",
    "    stop_words = set(stopwords.words('english'))\n",
    "    clean_words = []\n",
    "    for sent in sentences:\n",
    "        words = word_tokenize(sent)\n",
    "        words = [ps.stem(word.lower()) for word in words if word.isalnum()]\n",
    "        clean_words += [word for word in words if word not in stop_words]\n",
    "    return clean_words\n",
    "\n",
    "# 3.Create term frequency (tf) matrix\n",
    "\n",
    "def create_tf_matrix(sentences: list) -> dict:\n",
    "    \"\"\"\n",
    "    Here document refers to a sentence.\n",
    "    TF(t) = (Number of times the term t appears in a document) /         (Total number of terms in the document)\n",
    "    \"\"\"\n",
    "#     print('Creating tf matrix.')\n",
    "    tf_matrix = {}\n",
    "    for sentence in sentences:\n",
    "        tf_table = {}\n",
    "        words_count = len(word_tokenize(sentence))\n",
    "        clean_words = text_preprocessing([sentence])\n",
    "        # Determining frequency of words in the sentence\n",
    "        word_freq = {}\n",
    "        for word in clean_words:\n",
    "            word_freq[word] = (word_freq[word] + 1) if word in  word_freq else 1\n",
    "        # Calculating tf of the words in the sentence\n",
    "        for word, count in word_freq.items():\n",
    "            tf_table[word] = count / words_count\n",
    "        tf_matrix[sentence[:15]] = tf_table\n",
    "    return tf_matrix\n",
    "\n",
    "# 4.Create idf matrix\n",
    "\n",
    "def create_idf_matrix(sentences: list) -> dict:\n",
    "    \"\"\"\n",
    "    IDF(t) = log_e(Total number of documents / Number of documents     with term t in it)\n",
    "    \"\"\"\n",
    "#     print('Creating idf matrix.')\n",
    "\n",
    "    idf_matrix = {}\n",
    "\n",
    "    documents_count = len(sentences)\n",
    "    sentence_word_table = {}\n",
    "\n",
    "    # Getting words in the sentence\n",
    "    for sentence in sentences:\n",
    "        clean_words = text_preprocessing([sentence])\n",
    "        sentence_word_table[sentence[:15]] = clean_words\n",
    "\n",
    "    # Determining word count table with the count of sentences which contains the word.\n",
    "    word_in_docs = {}\n",
    "    for sent, words in sentence_word_table.items():\n",
    "        for word in words:\n",
    "            word_in_docs[word] = (word_in_docs[word] + 1) if word in word_in_docs else 1\n",
    "\n",
    "    # Determining idf of the words in the sentence.\n",
    "    for sent, words in sentence_word_table.items():\n",
    "        idf_table = {}\n",
    "        for word in words:\n",
    "            idf_table[word] = math.log10(documents_count / float(word_in_docs[word]))\n",
    "\n",
    "        idf_matrix[sent] = idf_table\n",
    "\n",
    "    return idf_matrix\n",
    "\n",
    "# 5.Calculate sentence tf-idf\n",
    "\n",
    "def create_tf_idf_matrix(tf_matrix, idf_matrix) -> dict:\n",
    "    \"\"\"\n",
    "    Create a tf-idf matrix which is multiplication of tf * idf individual words\n",
    "    \"\"\"\n",
    "#     print('Calculating tf-idf of sentences.')\n",
    "\n",
    "    tf_idf_matrix = {}\n",
    "\n",
    "    for (sent1, f_table1), (sent2, f_table2) in zip(tf_matrix.items(), idf_matrix.items()):\n",
    "        tf_idf_table = {}\n",
    "\n",
    "        for (word1, value1), (word2, value2) in zip(f_table1.items(), f_table2.items()):\n",
    "            tf_idf_table[word1] = float(value1 * value2)\n",
    "\n",
    "        tf_idf_matrix[sent1] = tf_idf_table\n",
    "\n",
    "    return tf_idf_matrix\n",
    "\n",
    "# 6.Calculate sentence scores\n",
    "\n",
    "def create_sentence_score_table(tf_idf_matrix) -> dict:\n",
    "    \"\"\"\n",
    "    Determining average score of words of the sentence with its words tf-idf value.\n",
    "    \"\"\"\n",
    "#     print('Creating sentence score table.')\n",
    "\n",
    "    sentence_value = {}\n",
    "\n",
    "    for sent, f_table in tf_idf_matrix.items():\n",
    "        total_score_per_sentence = 0\n",
    "\n",
    "        count_words_in_sentence = len(f_table)\n",
    "        \n",
    "        # Check if count_words_in_sentence is not zero\n",
    "        if count_words_in_sentence != 0:\n",
    "            for word, score in f_table.items():\n",
    "                total_score_per_sentence += score\n",
    "\n",
    "            sentence_value[sent] = total_score_per_sentence / count_words_in_sentence\n",
    "        else:\n",
    "            sentence_value[sent] = 0  # Set the score to 0 for empty sentences\n",
    "\n",
    "    return sentence_value\n",
    "\n",
    "# 7.Determine threshold\n",
    "def find_average_score(sentence_value):\n",
    "    \"\"\"\n",
    "    Calculate average value of a sentence form the sentence score table.\n",
    "    \"\"\"\n",
    "#     print('Finding average score')\n",
    "\n",
    "    sum = 0\n",
    "    for val in sentence_value:\n",
    "        sum += sentence_value[val]\n",
    "\n",
    "    average = sum / len(sentence_value)\n",
    "\n",
    "    return average\n",
    "\n",
    "\n",
    "# 8.Generate summary\n",
    "\n",
    "def generate_summary(sentences, sentence_value, threshold):\n",
    "    \"\"\"\n",
    "    Generate a sentence for sentence score greater than average.\n",
    "    \"\"\"\n",
    "#     print('Generating summary')\n",
    "\n",
    "    sentence_count = 0\n",
    "    summary = ''\n",
    "\n",
    "    for sentence in sentences:\n",
    "        if sentence[:15] in sentence_value and sentence_value[sentence[:15]] >= threshold:\n",
    "            summary += sentence + \" \"\n",
    "            sentence_count += 1\n",
    "\n",
    "    return summary\n",
    "\n",
    "# rouge score\n",
    "def get_rouge_score(summary, abstract):\n",
    "    scores = rouge.get_scores(summary, abstract)\n",
    "    return scores"
   ]
  },
  {
   "cell_type": "code",
   "execution_count": 105,
   "metadata": {},
   "outputs": [
    {
     "data": {
      "text/plain": [
       "\"Cristiano Ronaldo and Lionel Messi will go head-to-head once more in the race to be this season's top scorer in the Champions League – although Luiz Adriano threatens to spoil the party. Both Barcelona and Real Madrid booked their spots in the semi-finals this week with victories over Paris Saint-Germain and Atletico Madrid respectively. The planet's best footballers have scored eight times in Europe this season. But Shakhtar Donetsk’s Adriano, courted by Arsenal and Liverpool, has netted on nine occasions this term. Cristiano Ronaldo, in action against Atletico Madrid on Wednesday evening, has scored eight goals in Europe . Lionel Messi also has eight goals in the Champions League this term; one fewer than Luiz Adriano . Ronaldo and Messi will both play at least two more times after Real Madrid and Barcelona reached the last four . Adriano, who moved to Donetsk in 2007, scored five against BATE Borsiov in the group stages. His performance that night made history, with the 27-year-old becoming only the second player to score five times in a Champions League game. The other was Messi for Barcelona against Bayer Leverkusen in 2012. He also scored the third quickest hat-trick in the competition's history (12 minutes) as the Ukrainian side, knocked out by Bayern Munich in the round of 16, racked up the biggest-ever half-time lead (6-0) in Europe's premier tournament. ‘I am in a good moment of my career and we'll do what will be best for me and for the club,’ said Adriano last month when quizzed over his future. Adriano, who netted five times against BATE Borisov in the group, has scored more goals than any other player in the Champions League... he is out of contract in December and could move to the Premier League . ‘With my contract set to expire and many good performances, it'll be difficult to stay in Ukraine.’ Arsenal have sent scouts to watch Adriano in recent months, while Liverpool are also keen on the Brazilian. His contract with Shakhtar Donetsk runs out at the end of the year. Ronaldo and Messi however, remain in pole-position to top the scoring charts with Barcelona and Real Madrid both in the hat for the two-legged semi-finals to be played next month. Of the teams still in the pot, Neymar and Luis Suarez of Barcelona, Real Madrid's Karim Benzema and former Manchester United and City striker Carlos Tevez, now plying his trade for Juventus, each have six goals. The draw for the last four will take place on Friday.\""
      ]
     },
     "execution_count": 105,
     "metadata": {},
     "output_type": "execute_result"
    }
   ],
   "source": [
    "df['article'][1000]"
   ]
  },
  {
   "cell_type": "code",
   "execution_count": 106,
   "metadata": {
    "scrolled": false
   },
   "outputs": [
    {
     "name": "stdout",
     "output_type": "stream",
     "text": [
      "\n",
      "\n",
      "\n",
      "\n",
      "\n",
      "\n",
      "\n",
      "\n",
      "\n",
      "\n",
      "\n",
      "\n",
      "\n",
      "\n",
      "\n",
      "\n",
      "\n",
      "\n",
      "Predicted Summary: \n",
      "Cristiano Ronaldo and Lionel Messi will go head-to-head once more in the race to be this season's top scorer in the Champions League – although Luiz Adriano threatens to spoil the party. The planet's best footballers have scored eight times in Europe this season. Cristiano Ronaldo, in action against Atletico Madrid on Wednesday evening, has scored eight goals in Europe . Adriano, who moved to Donetsk in 2007, scored five against BATE Borsiov in the group stages. The other was Messi for Barcelona against Bayer Leverkusen in 2012. His contract with Shakhtar Donetsk runs out at the end of the year. The draw for the last four will take place on Friday. \n",
      "\n",
      "\n",
      "\n",
      "Original Summary: \n",
      "This 4x4 from Russia is a fraction of the price of a new Land Rover .\n",
      "Off-road, the Niva is in its element, with low and highrange gears .\n",
      "But, forget luxuries because the Niva is an unabashed frills-free zone .\n",
      "A highly capable, ruftytufty 4x4 from Russia — for a fraction of the price of a new Land Rover.\n",
      "It's a confident charmer that stands out from the crowd, with high suspension, pressed steel wheels, Soviet-style looks and real rarity value. Expect to get gawped at: someone offered to buy mine on its second trip out. Always fun.\n",
      "Now available in the UK from Niva imports through its dealer, BB Motors, in Corby, Northamptonshire (01536 202207, lada4x4.co.uk).\n",
      "On the road, the basic 1.7-litre petrol engine (your only option) is deafeningly noisy, but tolerably smooth. Power steering, manageable dimensions and a tight turning circle make it reasonably practical for the supermarket or school run.\n",
      "The seats are comfy and thanks to a high driving position and large wing mirrors, all-round visibility is good. Top speed is 91 mph.\n",
      "Off-road, the Niva is in its element, with low and highrange gears, differential lock and a sturdy monocoque construction. It is lighter and more sprightly in the mud than many big-name utility 4x4s, with 220mm ground clearance, a 600mm wading depth and a climbing ability of up to 58 per cent. Tall, slender tyres give it an added advantage when things get mucky.\n",
      "You won't have to agonise over pages of extras... they're more or less nonexistent. This is a very basic utility vehicle, after all.\n",
      "Choose in white, blue, green or red, then decide whether you'd like the snorkel or snow plough (really) attachments. An LPG option is available for an extra £999 — but you lose boot space.\n",
      "Reasonable fuel economy at 33mpg and affordable to insure — once you've explained exactly what it is. Meets Euro 5 emissions standards. The heated blower, presumably designed with Siberia in mind, has plenty of muscle for icy winter mornings.\n",
      "Also available in a compact van format (£10,590, excluding VAT and road tax).\n",
      "Spartan on the inside. Forget luxuries such as radios, cup-holders, central locking and electric windows — the Niva is an unabashed frills-free zone. The upside of its simplicity is that the plastic interior is easy to mop down after a day in the mud, and there's not much to break or go wrong.\n",
      "There are only four seatbelts and a slightly pokey boot.\n",
      "Don't trust the petrol gauge, which regularly aims to deceive.\n",
      "No warranty is offered as standard — although a two-year plan is coming soon — and spares may need to be imported (BB Motors will assist).\n",
      "Only available in lefthand drive — unless you put in an order for more than 500 of them!\n",
      "Shhhh! You didn't hear it from me. But patriotic Russian President Vladimir Putin made a big play of driving a Lada Niva back in 2009 — but fitted it with a German engine.\n"
     ]
    }
   ],
   "source": [
    "tf_matrix = create_tf_matrix(sentences)\n",
    "# print('TF matrix', tf_matrix)\n",
    "print('\\n\\n')\n",
    "tf = tf_matrix\n",
    "idf_matrix = create_idf_matrix(sentences)\n",
    "# print('IDF matrix',idf_matrix)\n",
    "print('\\n\\n')\n",
    "idf = idf_matrix\n",
    "tf_idf_matrix = create_tf_idf_matrix(tf_matrix, idf_matrix)\n",
    "# print('TF-IDF matrix', tf_idf_matrix)\n",
    "# print('First document tfidf',tf_idf_matrix[list(tf_idf_matrix.keys())[0]])\n",
    "print('\\n\\n')\n",
    "tf_idf = tf_idf_matrix\n",
    "sentence_value = create_sentence_score_table(tf_idf_matrix)\n",
    "# print('Sentence Scores', sentence_value)\n",
    "print('\\n\\n')\n",
    "threshold = find_average_score(sentence_value)\n",
    "# print('Threshold', threshold)\n",
    "print('\\n\\n')\n",
    "summary = generate_summary(sentences, sentence_value, threshold)\n",
    "print('\\n\\n')\n",
    "print('Predicted Summary: ')\n",
    "print(summary)\n",
    "\n",
    "print('\\n\\n')\n",
    "print('Original Summary: ')\n",
    "print(df['highlights'][500])"
   ]
  },
  {
   "cell_type": "code",
   "execution_count": 107,
   "metadata": {},
   "outputs": [
    {
     "name": "stdout",
     "output_type": "stream",
     "text": [
      "Original 18 sentences, Summarized 7 sentences\n"
     ]
    }
   ],
   "source": [
    "print(f'Original {len(sent_tokenize(text))} sentences, Summarized {len(sent_tokenize(summary))} sentences')"
   ]
  },
  {
   "cell_type": "code",
   "execution_count": 31,
   "metadata": {
    "scrolled": true
   },
   "outputs": [],
   "source": [
    "abstract_tfidf = []\n",
    "introduction_tfidf = []\n",
    "cnt = 0\n",
    "number_doc = 3000\n",
    "for i, row in df.iterrows():\n",
    "    cnt += 1\n",
    "    text = row['article']\n",
    "    sentences = sent_tokenize(text)\n",
    "    \n",
    "    # Step 3: Create term frequency (tf) matrix for the current article\n",
    "    tf_matrix = create_tf_matrix(sentences)\n",
    "    \n",
    "    # Step 4: Create idf matrix for the current article\n",
    "    idf_matrix = create_idf_matrix(sentences)\n",
    "    \n",
    "    # Step 5: Calculate sentence tf-idf for the current article\n",
    "    tf_idf_matrix = create_tf_idf_matrix(tf_matrix, idf_matrix)\n",
    "    \n",
    "    # Step 6: Calculate sentence scores for the current article\n",
    "    sentence_value = create_sentence_score_table(tf_idf_matrix)\n",
    "    \n",
    "    # Step 7: Determine threshold for the current article\n",
    "    threshold = find_average_score(sentence_value)\n",
    "    \n",
    "    # Step 8: Generate summary for the current article\n",
    "    summary = generate_summary(sentences, sentence_value, threshold)\n",
    "    \n",
    "    abstract_tfidf.append(summary)\n",
    "    introduction_tfidf.append(row['highlights'])\n",
    "    \n",
    "    if cnt == number_doc:\n",
    "        break\n",
    "\n",
    "\n",
    "    "
   ]
  },
  {
   "cell_type": "code",
   "execution_count": 32,
   "metadata": {
    "scrolled": true
   },
   "outputs": [
    {
     "data": {
      "text/plain": [
       "[\"Ever noticed how plane seats appear to be getting smaller and smaller? With increasing numbers of people taking to the skies, some experts are questioning if having such packed out planes is putting passengers at risk. They say that the shrinking space on aeroplanes is not only uncomfortable - it's putting our health and safety in danger. More than squabbling over the arm rest, shrinking space on planes putting our health and safety in danger? 'It is time that the DOT and FAA take a stand for humane treatment of passengers.' But could crowding on planes lead to more serious issues than fighting for space in the overhead lockers, crashing elbows and seat back kicking? The distance between two seats from one point on a seat to the same point on the seat behind it is known as the pitch. While most airlines stick to a pitch of 31 inches or above, some fall below this. \",\n",
       " \"'We then handed him over to the police.' 'I was drunk and thought I'd stand a good chance.' A police spokesman said: 'He has been cautioned and will be sent for psychiatric evaluation. \",\n",
       " 'Dougie Freedman is on the verge of agreeing a new two-year deal to remain at Nottingham Forest. Dougie Freedman is set to sign a new deal at Nottingham Forest . ',\n",
       " \"Real Madrid? We'll see. \",\n",
       " \"Scroll down for video . She filed for divorce in September 2014, citing 'irreconcilable differences'. Reports also emerged over the past week that he has received a breast enhancement. 'Bruce had silicone breast implants put in a few weeks ago,' a source told RadarOnline. 'He went with a smaller implant because he didn't want to look ridiculous.' 'I will say that I think Bruce should tell his story his way. She died at the scene . Kris filed for divorce from him last year . The Lexus was carrying 69-year-old Kim Howe, who died from chest trauma at the scene. \"]"
      ]
     },
     "execution_count": 32,
     "metadata": {},
     "output_type": "execute_result"
    }
   ],
   "source": [
    "abstract_tfidf[:5]"
   ]
  },
  {
   "cell_type": "code",
   "execution_count": 33,
   "metadata": {},
   "outputs": [
    {
     "data": {
      "text/plain": [
       "['Experts question if  packed out planes are putting passengers at risk .\\nU.S consumer advisory group says minimum space must be stipulated .\\nSafety tests conducted on planes with more leg room than airlines offer .',\n",
       " \"Drunk teenage boy climbed into lion enclosure at zoo in west India .\\nRahul Kumar, 17, ran towards animals shouting 'Today I kill a lion!'\\nFortunately he fell into a moat before reaching lions and was rescued .\",\n",
       " \"Nottingham Forest are close to extending Dougie Freedman's contract .\\nThe Forest boss took over from former manager Stuart Pearce in February .\\nFreedman has since lead the club to ninth in the Championship .\",\n",
       " 'Fiorentina goalkeeper Neto has been linked with Liverpool and Arsenal .\\nNeto joined Firoentina\\xa0from Brazilian outfit Atletico Paranaense in 2011 .\\nHe is also wanted by PSG and Spanish clubs, according to his agent .\\nCLICK HERE for the latest Liverpool news .',\n",
       " \"Tell-all interview with the reality TV star, 69, will air on Friday April 24 .\\nIt comes amid continuing speculation about his transition to a woman and following his involvement in a deadly car crash in February .\\nThe interview will also be one of Diane Sawyer's first appearances on television following the sudden death of her husband last year .\"]"
      ]
     },
     "execution_count": 33,
     "metadata": {},
     "output_type": "execute_result"
    }
   ],
   "source": [
    "introduction_tfidf[:5]"
   ]
  },
  {
   "cell_type": "code",
   "execution_count": 34,
   "metadata": {},
   "outputs": [
    {
     "data": {
      "text/html": [
       "<div>\n",
       "<style scoped>\n",
       "    .dataframe tbody tr th:only-of-type {\n",
       "        vertical-align: middle;\n",
       "    }\n",
       "\n",
       "    .dataframe tbody tr th {\n",
       "        vertical-align: top;\n",
       "    }\n",
       "\n",
       "    .dataframe thead th {\n",
       "        text-align: right;\n",
       "    }\n",
       "</style>\n",
       "<table border=\"1\" class=\"dataframe\">\n",
       "  <thead>\n",
       "    <tr style=\"text-align: right;\">\n",
       "      <th></th>\n",
       "      <th>summaries</th>\n",
       "      <th>original_summaries</th>\n",
       "      <th>rouge_1_p</th>\n",
       "      <th>rouge_1_r</th>\n",
       "      <th>rouge_1_f</th>\n",
       "      <th>rouge_L_p</th>\n",
       "      <th>rouge_L_r</th>\n",
       "      <th>rouge_L_f</th>\n",
       "    </tr>\n",
       "  </thead>\n",
       "  <tbody>\n",
       "    <tr>\n",
       "      <th>0</th>\n",
       "      <td>Ever noticed how plane seats appear to be getting smaller and smaller? With increasing numbers of people taking to the skies, some experts are questioning if having such packed out planes is putti...</td>\n",
       "      <td>Experts question if  packed out planes are putting passengers at risk .\\nU.S consumer advisory group says minimum space must be stipulated .\\nSafety tests conducted on planes with more leg room th...</td>\n",
       "      <td>0.136364</td>\n",
       "      <td>0.454545</td>\n",
       "      <td>0.209790</td>\n",
       "      <td>0.127273</td>\n",
       "      <td>0.424242</td>\n",
       "      <td>0.195804</td>\n",
       "    </tr>\n",
       "    <tr>\n",
       "      <th>1</th>\n",
       "      <td>'We then handed him over to the police.' 'I was drunk and thought I'd stand a good chance.' A police spokesman said: 'He has been cautioned and will be sent for psychiatric evaluation.</td>\n",
       "      <td>Drunk teenage boy climbed into lion enclosure at zoo in west India .\\nRahul Kumar, 17, ran towards animals shouting 'Today I kill a lion!'\\nFortunately he fell into a moat before reaching lions an...</td>\n",
       "      <td>0.090909</td>\n",
       "      <td>0.088235</td>\n",
       "      <td>0.089552</td>\n",
       "      <td>0.060606</td>\n",
       "      <td>0.058824</td>\n",
       "      <td>0.059701</td>\n",
       "    </tr>\n",
       "    <tr>\n",
       "      <th>2</th>\n",
       "      <td>Dougie Freedman is on the verge of agreeing a new two-year deal to remain at Nottingham Forest. Dougie Freedman is set to sign a new deal at Nottingham Forest .</td>\n",
       "      <td>Nottingham Forest are close to extending Dougie Freedman's contract .\\nThe Forest boss took over from former manager Stuart Pearce in February .\\nFreedman has since lead the club to ninth in the C...</td>\n",
       "      <td>0.300000</td>\n",
       "      <td>0.214286</td>\n",
       "      <td>0.250000</td>\n",
       "      <td>0.250000</td>\n",
       "      <td>0.178571</td>\n",
       "      <td>0.208333</td>\n",
       "    </tr>\n",
       "    <tr>\n",
       "      <th>3</th>\n",
       "      <td>Real Madrid? We'll see.</td>\n",
       "      <td>Fiorentina goalkeeper Neto has been linked with Liverpool and Arsenal .\\nNeto joined Firoentina from Brazilian outfit Atletico Paranaense in 2011 .\\nHe is also wanted by PSG and Spanish clubs, acc...</td>\n",
       "      <td>0.000000</td>\n",
       "      <td>0.000000</td>\n",
       "      <td>0.000000</td>\n",
       "      <td>0.000000</td>\n",
       "      <td>0.000000</td>\n",
       "      <td>0.000000</td>\n",
       "    </tr>\n",
       "    <tr>\n",
       "      <th>4</th>\n",
       "      <td>Scroll down for video . She filed for divorce in September 2014, citing 'irreconcilable differences'. Reports also emerged over the past week that he has received a breast enhancement. 'Bruce had ...</td>\n",
       "      <td>Tell-all interview with the reality TV star, 69, will air on Friday April 24 .\\nIt comes amid continuing speculation about his transition to a woman and following his involvement in a deadly car c...</td>\n",
       "      <td>0.137500</td>\n",
       "      <td>0.224490</td>\n",
       "      <td>0.170543</td>\n",
       "      <td>0.125000</td>\n",
       "      <td>0.204082</td>\n",
       "      <td>0.155039</td>\n",
       "    </tr>\n",
       "  </tbody>\n",
       "</table>\n",
       "</div>"
      ],
      "text/plain": [
       "                                                                                                                                                                                                 summaries  \\\n",
       "0  Ever noticed how plane seats appear to be getting smaller and smaller? With increasing numbers of people taking to the skies, some experts are questioning if having such packed out planes is putti...   \n",
       "1                'We then handed him over to the police.' 'I was drunk and thought I'd stand a good chance.' A police spokesman said: 'He has been cautioned and will be sent for psychiatric evaluation.    \n",
       "2                                        Dougie Freedman is on the verge of agreeing a new two-year deal to remain at Nottingham Forest. Dougie Freedman is set to sign a new deal at Nottingham Forest .    \n",
       "3                                                                                                                                                                                 Real Madrid? We'll see.    \n",
       "4  Scroll down for video . She filed for divorce in September 2014, citing 'irreconcilable differences'. Reports also emerged over the past week that he has received a breast enhancement. 'Bruce had ...   \n",
       "\n",
       "                                                                                                                                                                                        original_summaries  \\\n",
       "0  Experts question if  packed out planes are putting passengers at risk .\\nU.S consumer advisory group says minimum space must be stipulated .\\nSafety tests conducted on planes with more leg room th...   \n",
       "1  Drunk teenage boy climbed into lion enclosure at zoo in west India .\\nRahul Kumar, 17, ran towards animals shouting 'Today I kill a lion!'\\nFortunately he fell into a moat before reaching lions an...   \n",
       "2  Nottingham Forest are close to extending Dougie Freedman's contract .\\nThe Forest boss took over from former manager Stuart Pearce in February .\\nFreedman has since lead the club to ninth in the C...   \n",
       "3  Fiorentina goalkeeper Neto has been linked with Liverpool and Arsenal .\\nNeto joined Firoentina from Brazilian outfit Atletico Paranaense in 2011 .\\nHe is also wanted by PSG and Spanish clubs, acc...   \n",
       "4  Tell-all interview with the reality TV star, 69, will air on Friday April 24 .\\nIt comes amid continuing speculation about his transition to a woman and following his involvement in a deadly car c...   \n",
       "\n",
       "   rouge_1_p  rouge_1_r  rouge_1_f  rouge_L_p  rouge_L_r  rouge_L_f  \n",
       "0   0.136364   0.454545   0.209790   0.127273   0.424242   0.195804  \n",
       "1   0.090909   0.088235   0.089552   0.060606   0.058824   0.059701  \n",
       "2   0.300000   0.214286   0.250000   0.250000   0.178571   0.208333  \n",
       "3   0.000000   0.000000   0.000000   0.000000   0.000000   0.000000  \n",
       "4   0.137500   0.224490   0.170543   0.125000   0.204082   0.155039  "
      ]
     },
     "execution_count": 34,
     "metadata": {},
     "output_type": "execute_result"
    }
   ],
   "source": [
    "df_tfidf = pd.DataFrame()\n",
    "\n",
    "df_tfidf['summaries'] = abstract_tfidf\n",
    "\n",
    "df_tfidf['original_summaries'] = introduction_tfidf\n",
    "\n",
    "# Initialize the ROUGE scorer\n",
    "rouge = Rouge()\n",
    "\n",
    "# Initialize lists to store results\n",
    "\n",
    "rouge_1_p = []  # ROUGE-1 Precision\n",
    "rouge_1_r = []  # ROUGE-1 Recall\n",
    "rouge_1_f = []  # ROUGE-1 F1\n",
    "rouge_l_p = []  # ROUGE-L Precision\n",
    "rouge_l_r = []  # ROUGE-L Recall\n",
    "rouge_l_f = []  # ROUGE-L F1\n",
    "\n",
    "for i, row in df_tfidf.iterrows():\n",
    "    scores = get_rouge_score(row['summaries'], row['original_summaries'])\n",
    "    rouge_1_p.append(scores[0]['rouge-1']['p'])\n",
    "    rouge_1_r.append(scores[0]['rouge-1']['r'])\n",
    "    rouge_1_f.append(scores[0]['rouge-1']['f'])\n",
    "    rouge_l_p.append(scores[0]['rouge-l']['p'])\n",
    "    rouge_l_r.append(scores[0]['rouge-l']['r'])\n",
    "    rouge_l_f.append(scores[0]['rouge-l']['f'])\n",
    "\n",
    "\n",
    "df_tfidf['rouge_1_p'] = rouge_1_p\n",
    "df_tfidf['rouge_1_r'] = rouge_1_r\n",
    "df_tfidf['rouge_1_f'] = rouge_1_f\n",
    "df_tfidf['rouge_L_p'] = rouge_l_p\n",
    "df_tfidf['rouge_L_r'] = rouge_l_r\n",
    "df_tfidf['rouge_L_f'] = rouge_l_f\n",
    "\n",
    "\n",
    "df_tfidf.head()"
   ]
  },
  {
   "cell_type": "code",
   "execution_count": 35,
   "metadata": {},
   "outputs": [
    {
     "data": {
      "text/html": [
       "<div>\n",
       "<style scoped>\n",
       "    .dataframe tbody tr th:only-of-type {\n",
       "        vertical-align: middle;\n",
       "    }\n",
       "\n",
       "    .dataframe tbody tr th {\n",
       "        vertical-align: top;\n",
       "    }\n",
       "\n",
       "    .dataframe thead th {\n",
       "        text-align: right;\n",
       "    }\n",
       "</style>\n",
       "<table border=\"1\" class=\"dataframe\">\n",
       "  <thead>\n",
       "    <tr style=\"text-align: right;\">\n",
       "      <th></th>\n",
       "      <th>summaries</th>\n",
       "      <th>original_summaries</th>\n",
       "      <th>rouge_1_p</th>\n",
       "      <th>rouge_1_r</th>\n",
       "      <th>rouge_1_f</th>\n",
       "      <th>rouge_L_p</th>\n",
       "      <th>rouge_L_r</th>\n",
       "      <th>rouge_L_f</th>\n",
       "    </tr>\n",
       "  </thead>\n",
       "  <tbody>\n",
       "    <tr>\n",
       "      <th>602</th>\n",
       "      <td>Thousands of the 165ft towers line the land, spoiling scenes of beauty with a cat’s cradle of high-voltage cables. Scroll down for video . National Grid has revealed the UK's first new pylon for n...</td>\n",
       "      <td>National Grid has revealed the UK's first new pylon for nearly 90 years .\\nCalled the T-pylon it is a third shorter than the old lattice pylons .\\nBut it is able to carry just as much power - 400,...</td>\n",
       "      <td>0.387931</td>\n",
       "      <td>1.000000</td>\n",
       "      <td>0.559006</td>\n",
       "      <td>0.387931</td>\n",
       "      <td>1.000000</td>\n",
       "      <td>0.559006</td>\n",
       "    </tr>\n",
       "    <tr>\n",
       "      <th>1003</th>\n",
       "      <td>The common ancestor of humans may have had tentacles, a scientist has claimed. It seemingly puts to bed another theory that suggests our ancestors were much more simple, worm-like creatures. A Rus...</td>\n",
       "      <td>Russian scientist says distant ancestor of humans had tentacles .\\nThey lived more than 540 million years ago and used them for food .\\nIt's likely they also had a complex nervous system like we d...</td>\n",
       "      <td>0.282759</td>\n",
       "      <td>0.976190</td>\n",
       "      <td>0.438503</td>\n",
       "      <td>0.282759</td>\n",
       "      <td>0.976190</td>\n",
       "      <td>0.438503</td>\n",
       "    </tr>\n",
       "    <tr>\n",
       "      <th>1172</th>\n",
       "      <td>Scroll down for video . Australian researchers have tested their drone running companion. Called Joggobot (shown) it is designed to float in front of jogger when they run. The technology could all...</td>\n",
       "      <td>Australian researchers have tested their drone running companion .\\nCalled Joggobot it is designed to float in front of jogger when they run .\\nTechnology could allow it to track the speed and dir...</td>\n",
       "      <td>0.493671</td>\n",
       "      <td>0.975000</td>\n",
       "      <td>0.655462</td>\n",
       "      <td>0.493671</td>\n",
       "      <td>0.975000</td>\n",
       "      <td>0.655462</td>\n",
       "    </tr>\n",
       "    <tr>\n",
       "      <th>2520</th>\n",
       "      <td>Jonathan Trott (nought) and Gary Ballance (17) largely failed to do so, but Bairstow made 98 and Joe Root ended the day 87 not out in a score of 303 for nine. England paceman Stuart Broad (left) b...</td>\n",
       "      <td>England's Stuart Broad collapsed clutching his left ankle in second over .\\nFast bowler spent an hour off the field but later returned to the attack .\\nJonny Bairstow made 98 and Joe Root ended th...</td>\n",
       "      <td>0.220779</td>\n",
       "      <td>0.944444</td>\n",
       "      <td>0.357895</td>\n",
       "      <td>0.220779</td>\n",
       "      <td>0.944444</td>\n",
       "      <td>0.357895</td>\n",
       "    </tr>\n",
       "    <tr>\n",
       "      <th>2226</th>\n",
       "      <td>Dikembe Mutombo, an eight-times NBA All-Star who was famous for swatting away opponents' shots and wagging his finger at them, was elected to the Naismith Memorial Basketball Hall of Fame on Monda...</td>\n",
       "      <td>Dikembe Mutombo was an eight-times NBA All-Star  famous for swatting away opponents' shots and wagging his finger at them .\\nHe has been elected to the Naismith Memorial Basketball Hall of Fame .\\...</td>\n",
       "      <td>0.532468</td>\n",
       "      <td>0.911111</td>\n",
       "      <td>0.672131</td>\n",
       "      <td>0.506494</td>\n",
       "      <td>0.866667</td>\n",
       "      <td>0.639344</td>\n",
       "    </tr>\n",
       "  </tbody>\n",
       "</table>\n",
       "</div>"
      ],
      "text/plain": [
       "                                                                                                                                                                                                    summaries  \\\n",
       "602   Thousands of the 165ft towers line the land, spoiling scenes of beauty with a cat’s cradle of high-voltage cables. Scroll down for video . National Grid has revealed the UK's first new pylon for n...   \n",
       "1003  The common ancestor of humans may have had tentacles, a scientist has claimed. It seemingly puts to bed another theory that suggests our ancestors were much more simple, worm-like creatures. A Rus...   \n",
       "1172  Scroll down for video . Australian researchers have tested their drone running companion. Called Joggobot (shown) it is designed to float in front of jogger when they run. The technology could all...   \n",
       "2520  Jonathan Trott (nought) and Gary Ballance (17) largely failed to do so, but Bairstow made 98 and Joe Root ended the day 87 not out in a score of 303 for nine. England paceman Stuart Broad (left) b...   \n",
       "2226  Dikembe Mutombo, an eight-times NBA All-Star who was famous for swatting away opponents' shots and wagging his finger at them, was elected to the Naismith Memorial Basketball Hall of Fame on Monda...   \n",
       "\n",
       "                                                                                                                                                                                           original_summaries  \\\n",
       "602   National Grid has revealed the UK's first new pylon for nearly 90 years .\\nCalled the T-pylon it is a third shorter than the old lattice pylons .\\nBut it is able to carry just as much power - 400,...   \n",
       "1003  Russian scientist says distant ancestor of humans had tentacles .\\nThey lived more than 540 million years ago and used them for food .\\nIt's likely they also had a complex nervous system like we d...   \n",
       "1172  Australian researchers have tested their drone running companion .\\nCalled Joggobot it is designed to float in front of jogger when they run .\\nTechnology could allow it to track the speed and dir...   \n",
       "2520  England's Stuart Broad collapsed clutching his left ankle in second over .\\nFast bowler spent an hour off the field but later returned to the attack .\\nJonny Bairstow made 98 and Joe Root ended th...   \n",
       "2226  Dikembe Mutombo was an eight-times NBA All-Star  famous for swatting away opponents' shots and wagging his finger at them .\\nHe has been elected to the Naismith Memorial Basketball Hall of Fame .\\...   \n",
       "\n",
       "      rouge_1_p  rouge_1_r  rouge_1_f  rouge_L_p  rouge_L_r  rouge_L_f  \n",
       "602    0.387931   1.000000   0.559006   0.387931   1.000000   0.559006  \n",
       "1003   0.282759   0.976190   0.438503   0.282759   0.976190   0.438503  \n",
       "1172   0.493671   0.975000   0.655462   0.493671   0.975000   0.655462  \n",
       "2520   0.220779   0.944444   0.357895   0.220779   0.944444   0.357895  \n",
       "2226   0.532468   0.911111   0.672131   0.506494   0.866667   0.639344  "
      ]
     },
     "execution_count": 35,
     "metadata": {},
     "output_type": "execute_result"
    }
   ],
   "source": [
    "sorted_df = df_tfidf.sort_values(by=['rouge_1_r'], ascending=False)\n",
    "sorted_df.reset_index(drop=True)\n",
    "\n",
    "top_5_rows = sorted_df.head(5)\n",
    "\n",
    "top_5_rows"
   ]
  },
  {
   "cell_type": "code",
   "execution_count": 36,
   "metadata": {},
   "outputs": [],
   "source": [
    "avg_precision = df_tfidf['rouge_1_p'].mean()\n",
    "avg_recall = df_tfidf['rouge_1_r'].mean()\n",
    "avg_f1 = df_tfidf['rouge_1_f'].mean()\n",
    "avg_l_precision = df_tfidf['rouge_L_p'].mean()\n",
    "avg_l_recall = df_tfidf['rouge_L_r'].mean()\n",
    "avg_l_f1 = df_tfidf['rouge_L_f'].mean()"
   ]
  },
  {
   "cell_type": "code",
   "execution_count": 37,
   "metadata": {},
   "outputs": [
    {
     "name": "stdout",
     "output_type": "stream",
     "text": [
      "Average ROUGE-1 Precision:  0.16939158099566376\n",
      "Average ROUGE-1 Recall:  0.32575374834806536\n",
      "Average ROUGE-1 F1:  0.2082745749011007\n",
      "Average ROUGE-L Precision:  0.16044989093894282\n",
      "Average ROUGE-L Recall:  0.30878496647267833\n",
      "Average ROUGE-L F1:  0.19724116086747942\n"
     ]
    }
   ],
   "source": [
    "# Print the results\n",
    "print(\"Average ROUGE-1 Precision: \", avg_precision)\n",
    "print(\"Average ROUGE-1 Recall: \", avg_recall)\n",
    "print(\"Average ROUGE-1 F1: \", avg_f1)\n",
    "print(\"Average ROUGE-L Precision: \", avg_l_precision)\n",
    "print(\"Average ROUGE-L Recall: \", avg_l_recall)\n",
    "print(\"Average ROUGE-L F1: \", avg_l_f1)"
   ]
  },
  {
   "cell_type": "markdown",
   "metadata": {},
   "source": [
    "# Iteration 2 - KL Model\n",
    "\n",
    "`KL (Kullback-Leibler)` divergence is a measure of how one probability distribution differs from a second, reference probability distribution. In the context of text summarization and natural language processing, KL divergence can be used to measure the difference between two probability distributions of words or terms, typically with the goal of assessing the relevance of a sentence or document to a particular topic or reference distribution.\n",
    "\n",
    "\n",
    "\n",
    "**Mathematical Definition:\n",
    "KL divergence between two probability distributions P and Q is defined as:\n",
    "\n",
    "**KL(P || Q) = Σ (P(x) * log(P(x) / Q(x)))**\n",
    "\n",
    "Where:\n",
    "\n",
    "- P(x) is the probability of an event x occurring according to distribution P.\n",
    "- Q(x) is the probability of the same event x occurring according to distribution Q.\n",
    "- The sum is taken over all possible events x.\n",
    "\n",
    "### Interpretation:\n",
    "\n",
    "- KL divergence measures the \"divergence\" or \"difference\" between two distributions. It quantifies how much one distribution (P) differs from the other (Q).\n",
    "- KL divergence is not symmetric, meaning KL(P || Q) is not the same as KL(Q || P). The order of the distributions matters.\n",
    "- When KL divergence is zero, it indicates that the two distributions are identical.\n",
    "\n",
    "\n",
    "\n",
    "### KL Divergence in Text Summarization:\n",
    "\n",
    "In the context of text summarization, you often have two distributions:\n",
    "- P represents the probability distribution of words in a sentence or document you want to evaluate (e.g., a sentence in the source text).\n",
    "- Q represents the reference distribution, which is typically derived from the entire source document or corpus.\n",
    "\n",
    "\n",
    "The goal is to measure how well the words in the sentence (P) align with the overall word distribution in the document (Q).\n",
    "\n",
    "### KL Divergence as a Score:\n",
    "\n",
    "You can use KL divergence as a scoring mechanism to assess the informativeness or relevance of a sentence to the main topics or themes in the document.\n",
    "- A higher KL divergence score implies that the sentence's word distribution significantly differs from the reference distribution, suggesting potential importance or uniqueness.\n",
    "\n",
    "### Practical Use Cases:\n",
    "\n",
    "KL divergence is often used in information retrieval, document summarization, and topic modeling to identify relevant documents or sentences.\n",
    "In text summarization, you might calculate KL divergence for each sentence in the document compared to the document's word distribution. Sentences with higher KL divergence scores are considered more relevant for summarization.\n",
    "\n",
    "### Limitations:\n",
    "\n",
    "KL divergence can be sensitive to the size of the text data and can produce noisy results with small amounts of data.\n",
    "It assumes that the two distributions have the same support (i.e., the same set of possible events)."
   ]
  },
  {
   "cell_type": "code",
   "execution_count": 38,
   "metadata": {},
   "outputs": [],
   "source": [
    "rouge = Rouge()"
   ]
  },
  {
   "cell_type": "code",
   "execution_count": 39,
   "metadata": {},
   "outputs": [
    {
     "data": {
      "text/html": [
       "<div>\n",
       "<style scoped>\n",
       "    .dataframe tbody tr th:only-of-type {\n",
       "        vertical-align: middle;\n",
       "    }\n",
       "\n",
       "    .dataframe tbody tr th {\n",
       "        vertical-align: top;\n",
       "    }\n",
       "\n",
       "    .dataframe thead th {\n",
       "        text-align: right;\n",
       "    }\n",
       "</style>\n",
       "<table border=\"1\" class=\"dataframe\">\n",
       "  <thead>\n",
       "    <tr style=\"text-align: right;\">\n",
       "      <th></th>\n",
       "      <th>id</th>\n",
       "      <th>article</th>\n",
       "      <th>highlights</th>\n",
       "    </tr>\n",
       "  </thead>\n",
       "  <tbody>\n",
       "    <tr>\n",
       "      <th>0</th>\n",
       "      <td>0001d1afc246a7964130f43ae940af6bc6c57f01</td>\n",
       "      <td>By . Associated Press . PUBLISHED: . 14:11 EST, 25 October 2013 . | . UPDATED: . 15:36 EST, 25 October 2013 . The bishop of the Fargo Catholic Diocese in North Dakota has exposed potentially hundr...</td>\n",
       "      <td>Bishop John Folda, of North Dakota, is taking time off after being diagnosed .\\nHe contracted the infection through contaminated food in Italy .\\nChurch members in Fargo, Grand Forks and Jamestown...</td>\n",
       "    </tr>\n",
       "    <tr>\n",
       "      <th>1</th>\n",
       "      <td>0002095e55fcbd3a2f366d9bf92a95433dc305ef</td>\n",
       "      <td>(CNN) -- Ralph Mata was an internal affairs lieutenant for the Miami-Dade Police Department, working in the division that investigates allegations of wrongdoing by cops. Outside the office, author...</td>\n",
       "      <td>Criminal complaint: Cop used his role to help cocaine traffickers .\\nRalph Mata, an internal affairs lieutenant, allegedly helped group get guns .\\nHe also arranged to pay two assassins in a murde...</td>\n",
       "    </tr>\n",
       "    <tr>\n",
       "      <th>2</th>\n",
       "      <td>00027e965c8264c35cc1bc55556db388da82b07f</td>\n",
       "      <td>A drunk driver who killed a young woman in a head-on crash while checking his mobile phone has been jailed for six years. Craig Eccleston-Todd, 27, was driving home from a night at a pub when he r...</td>\n",
       "      <td>Craig Eccleston-Todd, 27, had drunk at least three pints before driving car .\\nWas using phone when he veered across road in Yarmouth, Isle of Wight .\\nCrashed head-on into 28-year-old Rachel Titl...</td>\n",
       "    </tr>\n",
       "    <tr>\n",
       "      <th>3</th>\n",
       "      <td>0002c17436637c4fe1837c935c04de47adb18e9a</td>\n",
       "      <td>(CNN) -- With a breezy sweep of his pen President Vladimir Putin wrote a new chapter into Crimea's turbulent history, committing the region to a future returned to Russian domain. Sixty years prio...</td>\n",
       "      <td>Nina dos Santos says Europe must be ready to accept sanctions will hurt both sides .\\nTargeting Russia's business community would be one way of sapping their support for President Putin, she says ...</td>\n",
       "    </tr>\n",
       "    <tr>\n",
       "      <th>4</th>\n",
       "      <td>0003ad6ef0c37534f80b55b4235108024b407f0b</td>\n",
       "      <td>Fleetwood are the only team still to have a 100% record in Sky Bet League One as a 2-0 win over Scunthorpe sent Graham Alexander’s men top of the table. The Cod Army are playing in the third tier ...</td>\n",
       "      <td>Fleetwood top of League One after 2-0 win at Scunthorpe .\\nPeterborough, Bristol City, Chesterfield and Crawley all drop first points of the season .\\nStand-in striker Matt Done scores a hat-trick...</td>\n",
       "    </tr>\n",
       "    <tr>\n",
       "      <th>...</th>\n",
       "      <td>...</td>\n",
       "      <td>...</td>\n",
       "      <td>...</td>\n",
       "    </tr>\n",
       "    <tr>\n",
       "      <th>287108</th>\n",
       "      <td>fffdfb56fdf1a12d364562cc2b9b1d4de7481dee</td>\n",
       "      <td>By . James Rush . Former first daughter Chelsea Clinton has indicated she could one day be open to running for office. The only child of former U.S. President Bill Clinton has said she is no longe...</td>\n",
       "      <td>Chelsea Clinton said question of running for office is no longer 'visceral no'\\nSays she has been asked about running for office ever since being a child .\\nBut she no longer completely rules out ...</td>\n",
       "    </tr>\n",
       "    <tr>\n",
       "      <th>287109</th>\n",
       "      <td>fffeecb8690b85de8c3faed80adbc7a978f9ae2a</td>\n",
       "      <td>An apologetic Vanilla Ice has given his first proper interview following his arrest this week, saying he is struggling to eat and sleep and that he has never felt worse. The rapper turned renovati...</td>\n",
       "      <td>Vanilla Ice, 47 - real name Robert Van Winkle - was arrested in Lantana, Florida, on Wednesday and charged with burglary and grand theft .\\nCops say he took furniture, a pool heater and bicycles f...</td>\n",
       "    </tr>\n",
       "    <tr>\n",
       "      <th>287110</th>\n",
       "      <td>ffff5231e4c71544bc6c97015cdb16c60e42b3f4</td>\n",
       "      <td>America's most lethal sniper claimed he wished he'd 'killed more' Iraqis despite accumulating 160 confirmed kills - with the true number estimated to be as high as 255. Speaking just months before...</td>\n",
       "      <td>America's most lethal sniper made comment in interview three years ago .\\nSaid only regret was that US lives were lost because he killed too few .\\nFilm based on his book has been a box office hit...</td>\n",
       "    </tr>\n",
       "    <tr>\n",
       "      <th>287111</th>\n",
       "      <td>ffff924b14a8d82058b6c1c5368ff1113c1632af</td>\n",
       "      <td>By . Sara Malm . PUBLISHED: . 12:19 EST, 8 March 2013 . | . UPDATED: . 13:05 EST, 8 March 2013 . Israel has been invaded by a swarm of more than one million locusts, sending the nation into panic ...</td>\n",
       "      <td>A swarm of more than one million has crossed border from Egypt to Israel .\\nLocal chefs are cheering at the prospect of 'wild' locusts - which are kosher .\\nMimicking one of the ten plagues of the...</td>\n",
       "    </tr>\n",
       "    <tr>\n",
       "      <th>287112</th>\n",
       "      <td>ffffd563a96104f5cf4493cfa701a65f31b06abf</td>\n",
       "      <td>(CNN)Former Florida Gov. Jeb Bush has decided to \"actively explore\" a presidential bid after conversations with his family over Thanksgiving, he said in a Facebook post Tuesday. While Bush had bee...</td>\n",
       "      <td>Other 2016 hopefuls maintain that Bush's announcement wouldn't prevent them from running .\\nBush posted Tuesday on his social media accounts that he's exploring a presidential bid .\\nBush has been...</td>\n",
       "    </tr>\n",
       "  </tbody>\n",
       "</table>\n",
       "<p>287113 rows × 3 columns</p>\n",
       "</div>"
      ],
      "text/plain": [
       "                                              id  \\\n",
       "0       0001d1afc246a7964130f43ae940af6bc6c57f01   \n",
       "1       0002095e55fcbd3a2f366d9bf92a95433dc305ef   \n",
       "2       00027e965c8264c35cc1bc55556db388da82b07f   \n",
       "3       0002c17436637c4fe1837c935c04de47adb18e9a   \n",
       "4       0003ad6ef0c37534f80b55b4235108024b407f0b   \n",
       "...                                          ...   \n",
       "287108  fffdfb56fdf1a12d364562cc2b9b1d4de7481dee   \n",
       "287109  fffeecb8690b85de8c3faed80adbc7a978f9ae2a   \n",
       "287110  ffff5231e4c71544bc6c97015cdb16c60e42b3f4   \n",
       "287111  ffff924b14a8d82058b6c1c5368ff1113c1632af   \n",
       "287112  ffffd563a96104f5cf4493cfa701a65f31b06abf   \n",
       "\n",
       "                                                                                                                                                                                                        article  \\\n",
       "0       By . Associated Press . PUBLISHED: . 14:11 EST, 25 October 2013 . | . UPDATED: . 15:36 EST, 25 October 2013 . The bishop of the Fargo Catholic Diocese in North Dakota has exposed potentially hundr...   \n",
       "1       (CNN) -- Ralph Mata was an internal affairs lieutenant for the Miami-Dade Police Department, working in the division that investigates allegations of wrongdoing by cops. Outside the office, author...   \n",
       "2       A drunk driver who killed a young woman in a head-on crash while checking his mobile phone has been jailed for six years. Craig Eccleston-Todd, 27, was driving home from a night at a pub when he r...   \n",
       "3       (CNN) -- With a breezy sweep of his pen President Vladimir Putin wrote a new chapter into Crimea's turbulent history, committing the region to a future returned to Russian domain. Sixty years prio...   \n",
       "4       Fleetwood are the only team still to have a 100% record in Sky Bet League One as a 2-0 win over Scunthorpe sent Graham Alexander’s men top of the table. The Cod Army are playing in the third tier ...   \n",
       "...                                                                                                                                                                                                         ...   \n",
       "287108  By . James Rush . Former first daughter Chelsea Clinton has indicated she could one day be open to running for office. The only child of former U.S. President Bill Clinton has said she is no longe...   \n",
       "287109  An apologetic Vanilla Ice has given his first proper interview following his arrest this week, saying he is struggling to eat and sleep and that he has never felt worse. The rapper turned renovati...   \n",
       "287110  America's most lethal sniper claimed he wished he'd 'killed more' Iraqis despite accumulating 160 confirmed kills - with the true number estimated to be as high as 255. Speaking just months before...   \n",
       "287111  By . Sara Malm . PUBLISHED: . 12:19 EST, 8 March 2013 . | . UPDATED: . 13:05 EST, 8 March 2013 . Israel has been invaded by a swarm of more than one million locusts, sending the nation into panic ...   \n",
       "287112  (CNN)Former Florida Gov. Jeb Bush has decided to \"actively explore\" a presidential bid after conversations with his family over Thanksgiving, he said in a Facebook post Tuesday. While Bush had bee...   \n",
       "\n",
       "                                                                                                                                                                                                     highlights  \n",
       "0       Bishop John Folda, of North Dakota, is taking time off after being diagnosed .\\nHe contracted the infection through contaminated food in Italy .\\nChurch members in Fargo, Grand Forks and Jamestown...  \n",
       "1       Criminal complaint: Cop used his role to help cocaine traffickers .\\nRalph Mata, an internal affairs lieutenant, allegedly helped group get guns .\\nHe also arranged to pay two assassins in a murde...  \n",
       "2       Craig Eccleston-Todd, 27, had drunk at least three pints before driving car .\\nWas using phone when he veered across road in Yarmouth, Isle of Wight .\\nCrashed head-on into 28-year-old Rachel Titl...  \n",
       "3       Nina dos Santos says Europe must be ready to accept sanctions will hurt both sides .\\nTargeting Russia's business community would be one way of sapping their support for President Putin, she says ...  \n",
       "4       Fleetwood top of League One after 2-0 win at Scunthorpe .\\nPeterborough, Bristol City, Chesterfield and Crawley all drop first points of the season .\\nStand-in striker Matt Done scores a hat-trick...  \n",
       "...                                                                                                                                                                                                         ...  \n",
       "287108  Chelsea Clinton said question of running for office is no longer 'visceral no'\\nSays she has been asked about running for office ever since being a child .\\nBut she no longer completely rules out ...  \n",
       "287109  Vanilla Ice, 47 - real name Robert Van Winkle - was arrested in Lantana, Florida, on Wednesday and charged with burglary and grand theft .\\nCops say he took furniture, a pool heater and bicycles f...  \n",
       "287110  America's most lethal sniper made comment in interview three years ago .\\nSaid only regret was that US lives were lost because he killed too few .\\nFilm based on his book has been a box office hit...  \n",
       "287111  A swarm of more than one million has crossed border from Egypt to Israel .\\nLocal chefs are cheering at the prospect of 'wild' locusts - which are kosher .\\nMimicking one of the ten plagues of the...  \n",
       "287112  Other 2016 hopefuls maintain that Bush's announcement wouldn't prevent them from running .\\nBush posted Tuesday on his social media accounts that he's exploring a presidential bid .\\nBush has been...  \n",
       "\n",
       "[287113 rows x 3 columns]"
      ]
     },
     "execution_count": 39,
     "metadata": {},
     "output_type": "execute_result"
    }
   ],
   "source": [
    "df_train = pd.read_csv(\"train.csv\")\n",
    "\n",
    "df_train"
   ]
  },
  {
   "cell_type": "code",
   "execution_count": 40,
   "metadata": {},
   "outputs": [],
   "source": [
    "number_doc = 30000\n",
    "abstract = []\n",
    "introduction = []\n",
    "cnt = 0\n",
    "\n",
    "for index, row in df_train.iterrows():\n",
    "    cnt += 1\n",
    "    abstract.append(row['highlights'])\n",
    "    introduction.append(row['article'])\n",
    "    if cnt == number_doc:\n",
    "        break\n",
    "\n",
    "abstract = np.array(abstract)\n",
    "introduction = np.array(introduction)"
   ]
  },
  {
   "cell_type": "code",
   "execution_count": 41,
   "metadata": {},
   "outputs": [
    {
     "data": {
      "text/plain": [
       "'Heidi and Maryellen Olson conceived first daughter using donor sperm .\\nHeidi gave birth to Sequoia on Nov 7, Maryellen wanted to breastfeed too .\\nMaryellen followed a program of birth control pills and a milk-enhancing drug for three months before the birth at home in Santa Cruz, California .\\nNow, both mothers nurse their daughter, claim it enhances their closeness .'"
      ]
     },
     "execution_count": 41,
     "metadata": {},
     "output_type": "execute_result"
    }
   ],
   "source": [
    "abstract[43]"
   ]
  },
  {
   "cell_type": "code",
   "execution_count": 42,
   "metadata": {},
   "outputs": [
    {
     "data": {
      "text/plain": [
       "'It is one of the key bonding experiences for a mother and child: breastfeeding. So lesbian partners Heidi and Maryellen Olson wanted to share that with their first-born Sequoia. They both nurse their one-month-old daughter. Phenomenon: Maryellen Olson, 25, nurses her daughter Sequoia despite not giving birth . Both breastfeeding: Her wife Heidi, 26, naturally lactates meaning they can both nurse their first-born . Dubbed \\'co-nursing\\', the little-known practice requires Maryellen, who didn\\'t give birth, to induce lactation and take a natural drug to boost breastmilk. According to the new parents, it has changed everything. \\'It is so worth it for the closeness I feel with Sequoia, and also for the sanity-saving it provides both of us,\\' graduate student Maryellen, 25, told MailOnline from the family\\'s home in Santa Cruz, California. \\'We both feel pretty amazed. \\'It\\'s amazing to see what our bodies can do, and we felt lucky to have this additional bonding experience available for both of us.\\' The couple, who married in 2012, discovered the treatment - more common among adoptive families - in a group for lesbians trying to conceive and immediately agreed to pursue it. Maryellen followed a program named the Newman-Goldfarb protocol, which made her body simulate pregnancy. Starting four months before the birth, she took birth control pills and a breastmilk-enhancing drug called Domperidone. The drug does not yet have FDA approval but is prevalent in Europe, some US states, and Canada, where Heidi and Maryellen eventually bought their dosage. Experience: The couple from Santa Cruz, California, said it has made them stronger as a family . Journey: Maryellen (right) started taking birth control pills and a drug called Domperidone four months before Heidi (left) gave birth to Sequoia on November 7. They conceived using artificially inseminated donor sperm . Maryellen stopped the birth control pills six weeks before Heidi\\'s due date, to make her body believe she had given birth, and started \\'pumping\\' up to six times a day. The pump is designed to make a woman\\'s body produce more milk. By the time Sequoia was born on November 7, Maryellen was ready to nurse. She will continue with Domperidone and herbal tablets called \\'More Milk Special Blend\\' until Sequioa is no longer breastfeeding. \\'Our friends are fascinated by the fact that my wife and I both breastfeed our daughter,\\' Heidi, a 26-year-old nurse, said. \\'We get a lot of: \"Wow, that\\'s amazing!\" and \"I didn\\'t know that was possible!\"\\' It came after a long battle to conceive. Heidi endured a year-long battle with endometriosis and ovarian cysts that threatened to affect her fertility. In spring this year, she was finally able to undergo an intrauterine insemination (IUI) to implant a donor\\'s sperm in her uterus. But it took ten cycles before the pregnancy test flashed pink. \\'It was a heart wrenching time and very hard on us both,\\' Heidi said. \\'Every cycle and negative test was harder than the last, and the doctors were less and less hopeful. Birth: Having followed the meticulous program, Maryellen was able to nurse Sequoia as soon as she was born . Joy: They celebrated the birth at their family home and say they are already easing into their nursing routine . \\'Our positive pregnancy test came just in the nick of time, and we were so glad.\\' Now, four weeks after their home birth, photographed by Santa Cruz Birth Photography, Heidi, Maryellen and Sequoia are easing into their unconventional routine. For Sequoia, it means she doesn\\'t have to wait around - even though she is sometimes stubborn (\\'she really makes us work for it!\\'). \\'We don\\'t really have a set schedule or rotation,\\' Maryellen said. \\'Whoever is near the baby or holding her will feed her, and the other will try to pump then or shortly after.\\' \\'We are able to sleep in longer chunks due to this, since it\\'s not all on one mama to have to feed her and stay awake. We switch whenever the awake mama feels like she needs help or sleep.\\' Makes everything easier! Both nursing, it means either can respond to Sequoia\\'s cries if the other is busy . But the crucial benefit is their connection. Maryellen said: \\'For me, I am able to feel even closer to her. \\'I am absolutely in love with her and feel incredibly connected to her ever since she was in utero, but since she\\'s been out of the womb and I\\'m breastfeeding, I feel even more connected. \\'I know other non-carrying lesbian mothers who feel like they are not as close to their child as the mom who carried the baby, and I know that breastfeeding has helped me feel incredibly bonded to her. \\'When she is breastfeeding and falls asleep on me or lays her hand on me, I feel an overwhelming amount of love for her that I wouldn\\'t have were I not breastfeeding.\\''"
      ]
     },
     "execution_count": 42,
     "metadata": {},
     "output_type": "execute_result"
    }
   ],
   "source": [
    "introduction[43]"
   ]
  },
  {
   "cell_type": "code",
   "execution_count": 43,
   "metadata": {},
   "outputs": [
    {
     "name": "stderr",
     "output_type": "stream",
     "text": [
      "[nltk_data] Downloading package punkt to\n",
      "[nltk_data]     C:\\Users\\alevi\\AppData\\Roaming\\nltk_data...\n",
      "[nltk_data]   Package punkt is already up-to-date!\n",
      "[nltk_data] Downloading package stopwords to\n",
      "[nltk_data]     C:\\Users\\alevi\\AppData\\Roaming\\nltk_data...\n",
      "[nltk_data]   Package stopwords is already up-to-date!\n",
      "[nltk_data] Downloading package wordnet to\n",
      "[nltk_data]     C:\\Users\\alevi\\AppData\\Roaming\\nltk_data...\n",
      "[nltk_data]   Package wordnet is already up-to-date!\n"
     ]
    }
   ],
   "source": [
    "import nltk\n",
    "from nltk.corpus import stopwords\n",
    "from nltk.tokenize import sent_tokenize, word_tokenize\n",
    "nltk.download('punkt')\n",
    "nltk.download('stopwords')\n",
    "nltk.download('wordnet')\n",
    "import string"
   ]
  },
  {
   "cell_type": "code",
   "execution_count": 44,
   "metadata": {},
   "outputs": [],
   "source": [
    "def get_Sentences(introduction):\n",
    "    sentences = sent_tokenize(introduction.lower())\n",
    "    sentences = [s for s in sentences if len(s.strip()) > 1]\n",
    "    return sentences\n",
    "\n",
    "def preprocessing(sentences):\n",
    "\n",
    "    # remove_emails = lambda s: re.sub(r'^[a-zA-Z0-9+_.-]+@[a-zA-Z0-9.-]+$', '', s)\n",
    "    # remove_single_char = lambda s: re.sub(r'\\s+\\w{1}\\s+', '', s)\n",
    "\n",
    "    CLEAN_FILTERS = [\n",
    "                    #remove_emails,\n",
    "                    strip_tags,\n",
    "                    strip_numeric, \n",
    "                    strip_multiple_whitespaces]\n",
    "\n",
    "    processed_words = preprocess_string(sentences, CLEAN_FILTERS)\n",
    "    text = ' '.join(processed_words)\n",
    "    tokens = word_tokenize(text.lower())\n",
    "    \n",
    "    stop_words = set(stopwords.words('english'))\n",
    "    stop_words.add('\\x1a')\n",
    "    punctuations = set(string.punctuation)\n",
    "    filtered_tokens = [token for token in tokens if token.lower() not in stop_words]\n",
    "    \n",
    "    return filtered_tokens\n",
    "\n",
    "def get_word_freq(tokens):\n",
    "    word_freq = Counter(tokens)\n",
    "    #print(word_freq)\n",
    "    total_words = sum(word_freq.values())\n",
    "    #print(total_words)\n",
    "    return word_freq, total_words\n",
    "\n",
    "def get_word_pd(word_freq,total_words):\n",
    "    word_pd = {word: count / total_words for word, count in word_freq.items()}\n",
    "    #print(word_pd)\n",
    "    return word_pd"
   ]
  },
  {
   "cell_type": "markdown",
   "metadata": {},
   "source": [
    "### Using Kullback-Leibler to generate summaries\n",
    "The two functions, KL and get_Summary, work together to generate a summary from given text using a KL (Kullback-Leibler) divergence-based approach. Here's an explanation of what each function does:\n",
    "\n",
    "- KL(sentences, word_pd): This function calculates the sentence scores based on KL divergence. It takes two arguments:\n",
    "\n",
    "> - sentences: a list of sentences from the input text.\n",
    "> - word_pd: a probability distribution of words in the entire document.\n",
    "\n",
    "For each sentence in the sentences list, it first preprocesses the sentence by converting it to lowercase and tokenizing it into words (using preprocessing(sentence.lower())).\n",
    "It then calculates the word frequency of each word in the sentence using a Counter.\n",
    "Next, it computes the probability distribution of words (sent_ps) within the sentence by dividing the word frequency by the total number of words in the sentence.\n",
    "It iterates over each word in the sentence and calculates the KL divergence score for that word with respect to the document-level word probability distribution (word_pd).\n",
    "The KL divergence score for the sentence is calculated as the sum of these word-wise KL divergence scores.\n",
    "The function returns a dictionary (sentence_scores) where the keys are the indices of the sentences in the original sentences list, and the values are the computed KL divergence scores for each sentence.\n",
    "\n",
    "- get_Summary(sentence_scores, no_sentences): This function takes the sentence scores generated by the KL function and the desired number of sentences for the summary (no_sentences) as input. It returns the summary text as a string.\n",
    "\n",
    "> It sorts the sentences in descending order of their KL divergence scores, selecting the top no_sentences sentences with the highest scores. These sentences are considered the most informative for the summary.\n",
    "It then sorts the selected sentences based on their original order in the input text to maintain the original sequence.\n",
    "Finally, it joins these selected sentences into a single summary string and returns it."
   ]
  },
  {
   "cell_type": "code",
   "execution_count": 45,
   "metadata": {},
   "outputs": [],
   "source": [
    "# Calculate the sentence scores based on KL divergence\n",
    "# doc * log (doc/sentences)\n",
    "def KL(sentences,word_pd):\n",
    "    sentence_scores = {}\n",
    "    for i, sentence in enumerate(sentences):\n",
    "        sentence_words = preprocessing(sentence.lower())\n",
    "        sentence_word_freq = Counter(sentence_words)\n",
    "        sent_ps = {word: count/len(sentence_words) for word, count in sentence_word_freq.items()}\n",
    "\n",
    "        #check kl divergence value for each sentence and store it in an array\n",
    "        score = 0\n",
    "        for word in sentence_words:\n",
    "            if word in word_pd and word in sent_ps:\n",
    "                score += word_pd[word] * np.log(word_pd[word]/sent_ps[word])\n",
    "\n",
    "        sentence_scores[i] = score\n",
    "    return sentence_scores\n",
    "\n",
    "def get_Summary(sentence_scores,no_sentences):\n",
    "  # all_sentences = sorted(sentence_scores, key=sentence_scores.get, reverse=True)\n",
    "  # print(all_sentences)\n",
    "  # Sort the sentences in descending order of scores and select the top summary_size sentences\n",
    "    summary_sentences = sorted(sentence_scores, key=sentence_scores.get, reverse=True)[:no_sentences]\n",
    "    summary_sentences = sorted(summary_sentences)\n",
    "    # print(summary_sentences)\n",
    "    summary = ' '.join([sentences[i] for i in summary_sentences])\n",
    "    return summary"
   ]
  },
  {
   "cell_type": "markdown",
   "metadata": {},
   "source": [
    "The get_rouge_score function calculates and returns ROUGE (Recall-Oriented Understudy for Gisting Evaluation) scores between a generated summary and a reference abstract. ROUGE is a set of metrics used to evaluate the quality of automatic text summarization and machine translation outputs by comparing them to reference texts.\n",
    "\n",
    "Here's an explanation of what this function does:\n",
    "\n",
    "Input:\n",
    "\n",
    "summary: This parameter represents the generated summary that you want to evaluate. It is a string containing the text of the summary.\n",
    "\n",
    "abstract: This parameter represents the reference abstract or ground truth summary against which you want to compare the generated summary. It is also a string containing the text of the reference summary.\n",
    "\n",
    "Calculation of ROUGE Scores:\n",
    "\n",
    "Inside the function, the rouge.get_scores method is called with the summary and abstract as arguments. This method computes several ROUGE scores, including ROUGE-N (precision, recall, and F1 score for n-grams) and ROUGE-L (longest common subsequence-based metrics).\n",
    "\n",
    "The scores variable stores the computed ROUGE scores as a dictionary.\n",
    "\n",
    "Output:\n",
    "\n",
    "The function returns the computed ROUGE scores as a dictionary. The dictionary contains various ROUGE metrics, such as ROUGE-1 precision, ROUGE-1 recall, ROUGE-1 F1 score, ROUGE-2 precision, ROUGE-2 recall, ROUGE-2 F1 score, and so on."
   ]
  },
  {
   "cell_type": "code",
   "execution_count": 46,
   "metadata": {},
   "outputs": [],
   "source": [
    "def get_rouge_score(summary, abstract):\n",
    "    scores = rouge.get_scores(summary, abstract)\n",
    "    return scores\n",
    "\n",
    "def preprocessing_summaries(sentences):\n",
    "\n",
    "    # remove_emails = lambda s: re.sub(r'^[a-zA-Z0-9+_.-]+@[a-zA-Z0-9.-]+$', '', s)\n",
    "    # remove_single_char = lambda s: re.sub(r'\\s+\\w{1}\\s+', '', s)\n",
    "\n",
    "    CLEAN_FILTERS = [\n",
    "                    #remove_emails,\n",
    "                    strip_tags,\n",
    "                    strip_numeric, \n",
    "                    strip_multiple_whitespaces]\n",
    "\n",
    "    processed_words = preprocess_string(sentences, CLEAN_FILTERS)\n",
    "    text = ' '.join(processed_words)\n",
    "    tokens = word_tokenize(text.lower())\n",
    "    \n",
    "    stop_words = set(stopwords.words('english'))\n",
    "    stop_words.add('\\x1a')\n",
    "    punctuations = set(string.punctuation)\n",
    "    filtered_tokens = ' '.join(token for token in tokens if token.lower() not in stop_words)\n",
    "    \n",
    "    return filtered_tokens"
   ]
  },
  {
   "cell_type": "code",
   "execution_count": 47,
   "metadata": {},
   "outputs": [],
   "source": [
    "columns = ['summary', 'gold_summary', 'ROUGE-1 Precision', 'ROUGE-1 Recall', 'ROUGE-1 F1', 'ROUGE-L Precision', 'ROUGE-L Recall', 'ROUGE-L F1']\n",
    "df = pd.DataFrame(columns=columns)\n",
    "\n",
    "for i in range(len(abstract)):\n",
    "\n",
    "    sentences = get_Sentences(introduction[i])\n",
    "    tokens = preprocessing(introduction[i])\n",
    "    word_freq, total_words = get_word_freq(tokens)\n",
    "    word_pd = get_word_pd(word_freq, total_words)\n",
    "    sentence_scores = KL(sentences, word_pd)\n",
    "    summary = get_Summary(sentence_scores, 6)\n",
    "    # print(summary)\n",
    "    gold_summary = abstract[i].lower()\n",
    "    # print(i)\n",
    "    scores = get_rouge_score(preprocessing_summaries(summary), preprocessing_summaries(gold_summary))\n",
    "    all_scores = {\n",
    "        'summary': summary,\n",
    "        'gold_summary': gold_summary,\n",
    "        'ROUGE-1 Precision': scores[0]['rouge-1']['p'],\n",
    "        'ROUGE-1 Recall': scores[0]['rouge-1']['r'],\n",
    "        'ROUGE-1 F1': scores[0]['rouge-1']['f'],\n",
    "        'ROUGE-L Precision': scores[0]['rouge-l']['p'],\n",
    "        'ROUGE-L Recall': scores[0]['rouge-l']['r'],\n",
    "        'ROUGE-L F1': scores[0]['rouge-l']['f']}\n",
    "    new_row = pd.DataFrame(all_scores, index=[0])\n",
    "    df = pd.concat([df, new_row], ignore_index=True)\n"
   ]
  },
  {
   "cell_type": "code",
   "execution_count": 48,
   "metadata": {},
   "outputs": [
    {
     "data": {
      "text/html": [
       "<div>\n",
       "<style scoped>\n",
       "    .dataframe tbody tr th:only-of-type {\n",
       "        vertical-align: middle;\n",
       "    }\n",
       "\n",
       "    .dataframe tbody tr th {\n",
       "        vertical-align: top;\n",
       "    }\n",
       "\n",
       "    .dataframe thead th {\n",
       "        text-align: right;\n",
       "    }\n",
       "</style>\n",
       "<table border=\"1\" class=\"dataframe\">\n",
       "  <thead>\n",
       "    <tr style=\"text-align: right;\">\n",
       "      <th></th>\n",
       "      <th>summary</th>\n",
       "      <th>gold_summary</th>\n",
       "      <th>ROUGE-1 Precision</th>\n",
       "      <th>ROUGE-1 Recall</th>\n",
       "      <th>ROUGE-1 F1</th>\n",
       "      <th>ROUGE-L Precision</th>\n",
       "      <th>ROUGE-L Recall</th>\n",
       "      <th>ROUGE-L F1</th>\n",
       "    </tr>\n",
       "  </thead>\n",
       "  <tbody>\n",
       "    <tr>\n",
       "      <th>17285</th>\n",
       "      <td>police say a maryland teenager eating a pot brownie in class panicked when his teacher asked him for a piece of the treat, and that he is now charged for obliging. anne arundel county police said ...</td>\n",
       "      <td>student gave teacher a piece when asked for a bite of the treat .\\nanne arundel county police said tuesday that the 17-year-old didn't tell the teacher that the brownie contained marijuana .\\nteac...</td>\n",
       "      <td>0.632653</td>\n",
       "      <td>0.911765</td>\n",
       "      <td>0.746988</td>\n",
       "      <td>0.612245</td>\n",
       "      <td>0.882353</td>\n",
       "      <td>0.722892</td>\n",
       "    </tr>\n",
       "    <tr>\n",
       "      <th>4361</th>\n",
       "      <td>scroll down for video . the baby died at its home in fort plains on tuesday and when it was found unresponsive it was taken to the hospital and pronounced dead. abc reports that police say the dea...</td>\n",
       "      <td>the baby died at its home in fort plains on tuesday and when it was found unresponsive it was taken to the hospital and pronounced dead .\\npolice say the death was a 'tragic accident' and that no ...</td>\n",
       "      <td>0.557377</td>\n",
       "      <td>0.971429</td>\n",
       "      <td>0.708333</td>\n",
       "      <td>0.557377</td>\n",
       "      <td>0.971429</td>\n",
       "      <td>0.708333</td>\n",
       "    </tr>\n",
       "    <tr>\n",
       "      <th>19765</th>\n",
       "      <td>it shows a ‘worryingly vast variation’ in access to advanced mri scanning and the latest radiotherapy techniques. four out of five radiation centres in england do not offer brachytherapy – which u...</td>\n",
       "      <td>reports shows a ‘worryingly vast variation’ in access to advanced mri scanning and the latest radiotherapy techniques .\\nfour out of five radiation centres in england do not offer brachytherapy .\\...</td>\n",
       "      <td>0.561404</td>\n",
       "      <td>0.941176</td>\n",
       "      <td>0.703297</td>\n",
       "      <td>0.561404</td>\n",
       "      <td>0.941176</td>\n",
       "      <td>0.703297</td>\n",
       "    </tr>\n",
       "    <tr>\n",
       "      <th>7028</th>\n",
       "      <td>a french physician who treated michael schumacher for nearly six months after the formula one champion struck his head in a ski accident says he is no longer in a coma and predicted a possible rec...</td>\n",
       "      <td>michael schumacher is no longer in a coma, says french physician who treated him for nearly six months .\\nschumacher was with his 14-year-old son in the french alps when he fell, hitting the side ...</td>\n",
       "      <td>0.592593</td>\n",
       "      <td>0.864865</td>\n",
       "      <td>0.703297</td>\n",
       "      <td>0.537037</td>\n",
       "      <td>0.783784</td>\n",
       "      <td>0.637363</td>\n",
       "    </tr>\n",
       "    <tr>\n",
       "      <th>13039</th>\n",
       "      <td>ex-nba star michael jordan advised  tom watson on his approach to team usa's afternoon foursomes at gleneagles. watson compared the morning of the opening day to the first quarter of a basketball ...</td>\n",
       "      <td>the chicago bulls star has been supporting team usa in scotland .\\nthe six-time nba champion gave his advice to tom watson .\\nthe team usa captain compared the morning fourballs to the first quart...</td>\n",
       "      <td>0.568182</td>\n",
       "      <td>0.806452</td>\n",
       "      <td>0.666667</td>\n",
       "      <td>0.568182</td>\n",
       "      <td>0.806452</td>\n",
       "      <td>0.666667</td>\n",
       "    </tr>\n",
       "  </tbody>\n",
       "</table>\n",
       "</div>"
      ],
      "text/plain": [
       "                                                                                                                                                                                                       summary  \\\n",
       "17285  police say a maryland teenager eating a pot brownie in class panicked when his teacher asked him for a piece of the treat, and that he is now charged for obliging. anne arundel county police said ...   \n",
       "4361   scroll down for video . the baby died at its home in fort plains on tuesday and when it was found unresponsive it was taken to the hospital and pronounced dead. abc reports that police say the dea...   \n",
       "19765  it shows a ‘worryingly vast variation’ in access to advanced mri scanning and the latest radiotherapy techniques. four out of five radiation centres in england do not offer brachytherapy – which u...   \n",
       "7028   a french physician who treated michael schumacher for nearly six months after the formula one champion struck his head in a ski accident says he is no longer in a coma and predicted a possible rec...   \n",
       "13039  ex-nba star michael jordan advised  tom watson on his approach to team usa's afternoon foursomes at gleneagles. watson compared the morning of the opening day to the first quarter of a basketball ...   \n",
       "\n",
       "                                                                                                                                                                                                  gold_summary  \\\n",
       "17285  student gave teacher a piece when asked for a bite of the treat .\\nanne arundel county police said tuesday that the 17-year-old didn't tell the teacher that the brownie contained marijuana .\\nteac...   \n",
       "4361   the baby died at its home in fort plains on tuesday and when it was found unresponsive it was taken to the hospital and pronounced dead .\\npolice say the death was a 'tragic accident' and that no ...   \n",
       "19765  reports shows a ‘worryingly vast variation’ in access to advanced mri scanning and the latest radiotherapy techniques .\\nfour out of five radiation centres in england do not offer brachytherapy .\\...   \n",
       "7028   michael schumacher is no longer in a coma, says french physician who treated him for nearly six months .\\nschumacher was with his 14-year-old son in the french alps when he fell, hitting the side ...   \n",
       "13039  the chicago bulls star has been supporting team usa in scotland .\\nthe six-time nba champion gave his advice to tom watson .\\nthe team usa captain compared the morning fourballs to the first quart...   \n",
       "\n",
       "       ROUGE-1 Precision  ROUGE-1 Recall  ROUGE-1 F1  ROUGE-L Precision  \\\n",
       "17285           0.632653        0.911765    0.746988           0.612245   \n",
       "4361            0.557377        0.971429    0.708333           0.557377   \n",
       "19765           0.561404        0.941176    0.703297           0.561404   \n",
       "7028            0.592593        0.864865    0.703297           0.537037   \n",
       "13039           0.568182        0.806452    0.666667           0.568182   \n",
       "\n",
       "       ROUGE-L Recall  ROUGE-L F1  \n",
       "17285        0.882353    0.722892  \n",
       "4361         0.971429    0.708333  \n",
       "19765        0.941176    0.703297  \n",
       "7028         0.783784    0.637363  \n",
       "13039        0.806452    0.666667  "
      ]
     },
     "execution_count": 48,
     "metadata": {},
     "output_type": "execute_result"
    }
   ],
   "source": [
    "sorted_df = df.sort_values(by=['ROUGE-1 F1'], ascending=False)\n",
    "sorted_df.reset_index(drop=True)\n",
    "\n",
    "top_5_rows = sorted_df.head(5)\n",
    "\n",
    "top_5_rows"
   ]
  },
  {
   "cell_type": "code",
   "execution_count": 49,
   "metadata": {},
   "outputs": [],
   "source": [
    "df_train = pd.read_csv(\"train.csv\")"
   ]
  },
  {
   "cell_type": "code",
   "execution_count": 50,
   "metadata": {},
   "outputs": [
    {
     "data": {
      "text/plain": [
       "\"Student gave teacher a piece when asked for a bite of the treat .\\nAnne Arundel County police said Tuesday that the 17-year-old didn't tell the teacher that the brownie contained marijuana .\\nTeacher began feeling ill and acting disoriented, and was brought to the nurse's office at Broadneck High School in Annapolis on Monday .\""
      ]
     },
     "execution_count": 50,
     "metadata": {},
     "output_type": "execute_result"
    }
   ],
   "source": [
    "df_train['highlights'][17285]"
   ]
  },
  {
   "cell_type": "code",
   "execution_count": 51,
   "metadata": {},
   "outputs": [
    {
     "data": {
      "text/plain": [
       "\"Police say a Maryland teenager eating a pot brownie in class panicked when his teacher asked him for a piece of the treat, and that he is now charged for obliging. Anne Arundel County police said Tuesday that the 17-year-old didn't tell the teacher that the brownie contained marijuana. She began feeling ill and acting disoriented, and was brought to the nurse's office at Broadneck High School in Annapolis on Monday. Police say a Maryland teenager eating a pot brownie in class at Broadneck High School panicked when his teacher asked him for a piece of the treat, and that he is now charged for obliging . The teacher told police that the student had given her the brownie during third period and that she suspected it contained marijuana. The student, from nearby Arnold, was charged with juvenile counts of administering a dangerous substance, assault and reckless endangerment. Police did not release his name, and they say he was released to a guardian. The school is taking action through its own Code of Conduct separately. 'Possession and use of drugs can have very, very serious consequences,' schools spokesman Bob Mosier told The Capital Gazette.\\xa0'The very thought that a student would give a teacher something laced with drugs is, quite frankly, appalling.'\""
      ]
     },
     "execution_count": 51,
     "metadata": {},
     "output_type": "execute_result"
    }
   ],
   "source": [
    "df_train['article'][17285]"
   ]
  },
  {
   "cell_type": "code",
   "execution_count": 52,
   "metadata": {},
   "outputs": [],
   "source": [
    "avg_precision = df['ROUGE-1 Precision'].mean()\n",
    "avg_recall = df['ROUGE-1 Recall'].mean()\n",
    "avg_f1 = df['ROUGE-1 F1'].mean()\n",
    "avg_l_precision = df['ROUGE-L Precision'].mean()\n",
    "avg_l_recall = df['ROUGE-L Recall'].mean()\n",
    "avg_l_f1 = df['ROUGE-L F1'].mean()"
   ]
  },
  {
   "cell_type": "code",
   "execution_count": 53,
   "metadata": {},
   "outputs": [
    {
     "name": "stdout",
     "output_type": "stream",
     "text": [
      "Average ROUGE-1 Precision:  0.12669262565910583\n",
      "Average ROUGE-1 Recall:  0.28255943973188136\n",
      "Average ROUGE-1 F1:  0.16890732459726168\n",
      "Average ROUGE-L Precision:  0.11899136619421562\n",
      "Average ROUGE-L Recall:  0.2651460122346853\n",
      "Average ROUGE-L F1:  0.1585721431085248\n"
     ]
    }
   ],
   "source": [
    "# Print the results\n",
    "print(\"Average ROUGE-1 Precision: \", avg_precision)\n",
    "print(\"Average ROUGE-1 Recall: \", avg_recall)\n",
    "print(\"Average ROUGE-1 F1: \", avg_f1)\n",
    "print(\"Average ROUGE-L Precision: \", avg_l_precision)\n",
    "print(\"Average ROUGE-L Recall: \", avg_l_recall)\n",
    "print(\"Average ROUGE-L F1: \", avg_l_f1)"
   ]
  },
  {
   "cell_type": "code",
   "execution_count": 54,
   "metadata": {},
   "outputs": [
    {
     "data": {
      "text/plain": [
       "\"police say a maryland teenager eating a pot brownie in class panicked when his teacher asked him for a piece of the treat, and that he is now charged for obliging. anne arundel county police said tuesday that the 17-year-old didn't tell the teacher that the brownie contained marijuana. she began feeling ill and acting disoriented, and was brought to the nurse's office at broadneck high school in annapolis on monday. police say a maryland teenager eating a pot brownie in class at broadneck high school panicked when his teacher asked him for a piece of the treat, and that he is now charged for obliging . police did not release his name, and they say he was released to a guardian. the school is taking action through its own code of conduct separately.\""
      ]
     },
     "execution_count": 54,
     "metadata": {},
     "output_type": "execute_result"
    }
   ],
   "source": [
    "top_5_rows['summary'][17285]"
   ]
  },
  {
   "cell_type": "code",
   "execution_count": 55,
   "metadata": {},
   "outputs": [
    {
     "data": {
      "text/plain": [
       "\"student gave teacher a piece when asked for a bite of the treat .\\nanne arundel county police said tuesday that the 17-year-old didn't tell the teacher that the brownie contained marijuana .\\nteacher began feeling ill and acting disoriented, and was brought to the nurse's office at broadneck high school in annapolis on monday .\""
      ]
     },
     "execution_count": 55,
     "metadata": {},
     "output_type": "execute_result"
    }
   ],
   "source": [
    "top_5_rows['gold_summary'][17285]"
   ]
  },
  {
   "cell_type": "code",
   "execution_count": 56,
   "metadata": {},
   "outputs": [
    {
     "data": {
      "text/plain": [
       "[{'rouge-1': {'r': 0.9090909090909091,\n",
       "   'p': 0.5633802816901409,\n",
       "   'f': 0.6956521691886579},\n",
       "  'rouge-2': {'r': 0.7647058823529411,\n",
       "   'p': 0.3939393939393939,\n",
       "   'f': 0.5199999955119999},\n",
       "  'rouge-l': {'r': 0.8863636363636364,\n",
       "   'p': 0.5492957746478874,\n",
       "   'f': 0.6782608648408318}}]"
      ]
     },
     "execution_count": 56,
     "metadata": {},
     "output_type": "execute_result"
    }
   ],
   "source": [
    "get_rouge_score(top_5_rows['summary'][17285], top_5_rows['gold_summary'][17285])"
   ]
  },
  {
   "cell_type": "code",
   "execution_count": 57,
   "metadata": {},
   "outputs": [
    {
     "data": {
      "text/plain": [
       "\"Police say a Maryland teenager eating a pot brownie in class panicked when his teacher asked him for a piece of the treat, and that he is now charged for obliging. Anne Arundel County police said Tuesday that the 17-year-old didn't tell the teacher that the brownie contained marijuana. She began feeling ill and acting disoriented, and was brought to the nurse's office at Broadneck High School in Annapolis on Monday. Police say a Maryland teenager eating a pot brownie in class at Broadneck High School panicked when his teacher asked him for a piece of the treat, and that he is now charged for obliging . The teacher told police that the student had given her the brownie during third period and that she suspected it contained marijuana. The student, from nearby Arnold, was charged with juvenile counts of administering a dangerous substance, assault and reckless endangerment. Police did not release his name, and they say he was released to a guardian. The school is taking action through its own Code of Conduct separately. 'Possession and use of drugs can have very, very serious consequences,' schools spokesman Bob Mosier told The Capital Gazette.\\xa0'The very thought that a student would give a teacher something laced with drugs is, quite frankly, appalling.'\""
      ]
     },
     "execution_count": 57,
     "metadata": {},
     "output_type": "execute_result"
    }
   ],
   "source": [
    "introduction[17285]"
   ]
  },
  {
   "cell_type": "markdown",
   "metadata": {},
   "source": [
    "## Test Data"
   ]
  },
  {
   "cell_type": "code",
   "execution_count": 58,
   "metadata": {},
   "outputs": [
    {
     "data": {
      "text/html": [
       "<div>\n",
       "<style scoped>\n",
       "    .dataframe tbody tr th:only-of-type {\n",
       "        vertical-align: middle;\n",
       "    }\n",
       "\n",
       "    .dataframe tbody tr th {\n",
       "        vertical-align: top;\n",
       "    }\n",
       "\n",
       "    .dataframe thead th {\n",
       "        text-align: right;\n",
       "    }\n",
       "</style>\n",
       "<table border=\"1\" class=\"dataframe\">\n",
       "  <thead>\n",
       "    <tr style=\"text-align: right;\">\n",
       "      <th></th>\n",
       "      <th>id</th>\n",
       "      <th>article</th>\n",
       "      <th>highlights</th>\n",
       "    </tr>\n",
       "  </thead>\n",
       "  <tbody>\n",
       "    <tr>\n",
       "      <th>0</th>\n",
       "      <td>92c514c913c0bdfe25341af9fd72b29db544099b</td>\n",
       "      <td>Ever noticed how plane seats appear to be getting smaller and smaller? With increasing numbers of people taking to the skies, some experts are questioning if having such packed out planes is putti...</td>\n",
       "      <td>Experts question if  packed out planes are putting passengers at risk .\\nU.S consumer advisory group says minimum space must be stipulated .\\nSafety tests conducted on planes with more leg room th...</td>\n",
       "    </tr>\n",
       "    <tr>\n",
       "      <th>1</th>\n",
       "      <td>2003841c7dc0e7c5b1a248f9cd536d727f27a45a</td>\n",
       "      <td>A drunk teenage boy had to be rescued by security after jumping into a lions' enclosure at a zoo in western India. Rahul Kumar, 17, clambered over the enclosure fence at the Kamla Nehru Zoological...</td>\n",
       "      <td>Drunk teenage boy climbed into lion enclosure at zoo in west India .\\nRahul Kumar, 17, ran towards animals shouting 'Today I kill a lion!'\\nFortunately he fell into a moat before reaching lions an...</td>\n",
       "    </tr>\n",
       "    <tr>\n",
       "      <th>2</th>\n",
       "      <td>91b7d2311527f5c2b63a65ca98d21d9c92485149</td>\n",
       "      <td>Dougie Freedman is on the verge of agreeing a new two-year deal to remain at Nottingham Forest. Freedman has stabilised Forest since he replaced cult hero Stuart Pearce and the club's owners are p...</td>\n",
       "      <td>Nottingham Forest are close to extending Dougie Freedman's contract .\\nThe Forest boss took over from former manager Stuart Pearce in February .\\nFreedman has since lead the club to ninth in the C...</td>\n",
       "    </tr>\n",
       "    <tr>\n",
       "      <th>3</th>\n",
       "      <td>caabf9cbdf96eb1410295a673e953d304391bfbb</td>\n",
       "      <td>Liverpool target Neto is also wanted by PSG and clubs in Spain as Brendan Rodgers faces stiff competition to land the Fiorentina goalkeeper, according to the Brazilian's agent Stefano Castagna. Th...</td>\n",
       "      <td>Fiorentina goalkeeper Neto has been linked with Liverpool and Arsenal .\\nNeto joined Firoentina from Brazilian outfit Atletico Paranaense in 2011 .\\nHe is also wanted by PSG and Spanish clubs, acc...</td>\n",
       "    </tr>\n",
       "    <tr>\n",
       "      <th>4</th>\n",
       "      <td>3da746a7d9afcaa659088c8366ef6347fe6b53ea</td>\n",
       "      <td>Bruce Jenner will break his silence in a two-hour interview with Diane Sawyer later this month. The former Olympian and reality TV star, 65, will speak in a 'far-ranging' interview with Sawyer for...</td>\n",
       "      <td>Tell-all interview with the reality TV star, 69, will air on Friday April 24 .\\nIt comes amid continuing speculation about his transition to a woman and following his involvement in a deadly car c...</td>\n",
       "    </tr>\n",
       "    <tr>\n",
       "      <th>...</th>\n",
       "      <td>...</td>\n",
       "      <td>...</td>\n",
       "      <td>...</td>\n",
       "    </tr>\n",
       "    <tr>\n",
       "      <th>11485</th>\n",
       "      <td>ed8674cc15b29a87d8df8de1efee353d71122272</td>\n",
       "      <td>Our young Earth may have collided with a body similar to the planet Mercury, says a new paper. The dramatic event could explain why our planet has a hot core that gives it its magnetic field. And ...</td>\n",
       "      <td>Oxford scientists say a Mercury-like body struck the young Earth .\\nThe Mars-sized object would have been the heat source for our planet .\\nThe same object could have been responsible for creating...</td>\n",
       "    </tr>\n",
       "    <tr>\n",
       "      <th>11486</th>\n",
       "      <td>2f58d1a99e9c47914e4b1c31613e3a041cd9011e</td>\n",
       "      <td>A man facing trial for helping his former lover strangle a woman during a sexual encounter, told the court his former flame had a 'twisted desire to kill' and that he had only dug the victim's cru...</td>\n",
       "      <td>Man accused of helping former lover kill woman during a sexual encounter .\\nMicheal John Duffy pleaded not guilty to murdering Colleen Deborah Ayers .\\nThe court heard he  strangled Ms Ayers, 33, ...</td>\n",
       "    </tr>\n",
       "    <tr>\n",
       "      <th>11487</th>\n",
       "      <td>411f6d57825161c3a037b4742baccd6cd227c0c3</td>\n",
       "      <td>A dozen or more metal implements are arranged in neat rows on the table next to the bed. They look like something Frankenstein might have had applied to his monster's neck. I begin to feel nervous...</td>\n",
       "      <td>Marianne Power tried the tuning fork facial at Hale Clinic in London .\\nUtilises tuning forks that make different pitched sounds when struck .\\nSays afterwards her skin looks plumper and pink, rat...</td>\n",
       "    </tr>\n",
       "    <tr>\n",
       "      <th>11488</th>\n",
       "      <td>b5683ef8342056b17b068e0d59bdbe87e3fe44ea</td>\n",
       "      <td>Brook Lopez dominated twin brother Robin with 32 points and nine rebounds as the Brooklyn Nets beat a weakened Portland Trail Blazers on Monday in the only game on the NBA schedule. The Trail Blaz...</td>\n",
       "      <td>Brooklyn Nets beat the Portland Trail Blazers 106-96 in New York .\\nBrook Lopez scored 32 points for the Nets as they moved into seventh .\\nTrail Blazers were without LaMarcus Aldridge and a numbe...</td>\n",
       "    </tr>\n",
       "    <tr>\n",
       "      <th>11489</th>\n",
       "      <td>a6a5491edb0c96c4391b6a8c4504416b3572b3a1</td>\n",
       "      <td>A Chinese hospital is being painstakingly moved just eight metres a day on 1,000 metal rollers  to prevent it from being demolished to make way for a new road. The building, which was built in the...</td>\n",
       "      <td>Chinese hospital marked for demolition because of road expansion project .\\nBosses asked team of engineers to put two-storey building on 'wheels'\\nMore than 1,000 rollers have been placed under th...</td>\n",
       "    </tr>\n",
       "  </tbody>\n",
       "</table>\n",
       "<p>11490 rows × 3 columns</p>\n",
       "</div>"
      ],
      "text/plain": [
       "                                             id  \\\n",
       "0      92c514c913c0bdfe25341af9fd72b29db544099b   \n",
       "1      2003841c7dc0e7c5b1a248f9cd536d727f27a45a   \n",
       "2      91b7d2311527f5c2b63a65ca98d21d9c92485149   \n",
       "3      caabf9cbdf96eb1410295a673e953d304391bfbb   \n",
       "4      3da746a7d9afcaa659088c8366ef6347fe6b53ea   \n",
       "...                                         ...   \n",
       "11485  ed8674cc15b29a87d8df8de1efee353d71122272   \n",
       "11486  2f58d1a99e9c47914e4b1c31613e3a041cd9011e   \n",
       "11487  411f6d57825161c3a037b4742baccd6cd227c0c3   \n",
       "11488  b5683ef8342056b17b068e0d59bdbe87e3fe44ea   \n",
       "11489  a6a5491edb0c96c4391b6a8c4504416b3572b3a1   \n",
       "\n",
       "                                                                                                                                                                                                       article  \\\n",
       "0      Ever noticed how plane seats appear to be getting smaller and smaller? With increasing numbers of people taking to the skies, some experts are questioning if having such packed out planes is putti...   \n",
       "1      A drunk teenage boy had to be rescued by security after jumping into a lions' enclosure at a zoo in western India. Rahul Kumar, 17, clambered over the enclosure fence at the Kamla Nehru Zoological...   \n",
       "2      Dougie Freedman is on the verge of agreeing a new two-year deal to remain at Nottingham Forest. Freedman has stabilised Forest since he replaced cult hero Stuart Pearce and the club's owners are p...   \n",
       "3      Liverpool target Neto is also wanted by PSG and clubs in Spain as Brendan Rodgers faces stiff competition to land the Fiorentina goalkeeper, according to the Brazilian's agent Stefano Castagna. Th...   \n",
       "4      Bruce Jenner will break his silence in a two-hour interview with Diane Sawyer later this month. The former Olympian and reality TV star, 65, will speak in a 'far-ranging' interview with Sawyer for...   \n",
       "...                                                                                                                                                                                                        ...   \n",
       "11485  Our young Earth may have collided with a body similar to the planet Mercury, says a new paper. The dramatic event could explain why our planet has a hot core that gives it its magnetic field. And ...   \n",
       "11486  A man facing trial for helping his former lover strangle a woman during a sexual encounter, told the court his former flame had a 'twisted desire to kill' and that he had only dug the victim's cru...   \n",
       "11487  A dozen or more metal implements are arranged in neat rows on the table next to the bed. They look like something Frankenstein might have had applied to his monster's neck. I begin to feel nervous...   \n",
       "11488  Brook Lopez dominated twin brother Robin with 32 points and nine rebounds as the Brooklyn Nets beat a weakened Portland Trail Blazers on Monday in the only game on the NBA schedule. The Trail Blaz...   \n",
       "11489  A Chinese hospital is being painstakingly moved just eight metres a day on 1,000 metal rollers  to prevent it from being demolished to make way for a new road. The building, which was built in the...   \n",
       "\n",
       "                                                                                                                                                                                                    highlights  \n",
       "0      Experts question if  packed out planes are putting passengers at risk .\\nU.S consumer advisory group says minimum space must be stipulated .\\nSafety tests conducted on planes with more leg room th...  \n",
       "1      Drunk teenage boy climbed into lion enclosure at zoo in west India .\\nRahul Kumar, 17, ran towards animals shouting 'Today I kill a lion!'\\nFortunately he fell into a moat before reaching lions an...  \n",
       "2      Nottingham Forest are close to extending Dougie Freedman's contract .\\nThe Forest boss took over from former manager Stuart Pearce in February .\\nFreedman has since lead the club to ninth in the C...  \n",
       "3      Fiorentina goalkeeper Neto has been linked with Liverpool and Arsenal .\\nNeto joined Firoentina from Brazilian outfit Atletico Paranaense in 2011 .\\nHe is also wanted by PSG and Spanish clubs, acc...  \n",
       "4      Tell-all interview with the reality TV star, 69, will air on Friday April 24 .\\nIt comes amid continuing speculation about his transition to a woman and following his involvement in a deadly car c...  \n",
       "...                                                                                                                                                                                                        ...  \n",
       "11485  Oxford scientists say a Mercury-like body struck the young Earth .\\nThe Mars-sized object would have been the heat source for our planet .\\nThe same object could have been responsible for creating...  \n",
       "11486  Man accused of helping former lover kill woman during a sexual encounter .\\nMicheal John Duffy pleaded not guilty to murdering Colleen Deborah Ayers .\\nThe court heard he  strangled Ms Ayers, 33, ...  \n",
       "11487  Marianne Power tried the tuning fork facial at Hale Clinic in London .\\nUtilises tuning forks that make different pitched sounds when struck .\\nSays afterwards her skin looks plumper and pink, rat...  \n",
       "11488  Brooklyn Nets beat the Portland Trail Blazers 106-96 in New York .\\nBrook Lopez scored 32 points for the Nets as they moved into seventh .\\nTrail Blazers were without LaMarcus Aldridge and a numbe...  \n",
       "11489  Chinese hospital marked for demolition because of road expansion project .\\nBosses asked team of engineers to put two-storey building on 'wheels'\\nMore than 1,000 rollers have been placed under th...  \n",
       "\n",
       "[11490 rows x 3 columns]"
      ]
     },
     "execution_count": 58,
     "metadata": {},
     "output_type": "execute_result"
    }
   ],
   "source": [
    "df_test = pd.read_csv(\"test.csv\")\n",
    "\n",
    "df_test"
   ]
  },
  {
   "cell_type": "code",
   "execution_count": 59,
   "metadata": {},
   "outputs": [
    {
     "data": {
      "text/plain": [
       "\"Cristiano Ronaldo and Lionel Messi will go head-to-head once more in the race to be this season's top scorer in the Champions League – although Luiz Adriano threatens to spoil the party. Both Barcelona and Real Madrid booked their spots in the semi-finals this week with victories over Paris Saint-Germain and Atletico Madrid respectively. The planet's best footballers have scored eight times in Europe this season. But Shakhtar Donetsk’s Adriano, courted by Arsenal and Liverpool, has netted on nine occasions this term. Cristiano Ronaldo, in action against Atletico Madrid on Wednesday evening, has scored eight goals in Europe . Lionel Messi also has eight goals in the Champions League this term; one fewer than Luiz Adriano . Ronaldo and Messi will both play at least two more times after Real Madrid and Barcelona reached the last four . Adriano, who moved to Donetsk in 2007, scored five against BATE Borsiov in the group stages. His performance that night made history, with the 27-year-old becoming only the second player to score five times in a Champions League game. The other was Messi for Barcelona against Bayer Leverkusen in 2012. He also scored the third quickest hat-trick in the competition's history (12 minutes) as the Ukrainian side, knocked out by Bayern Munich in the round of 16, racked up the biggest-ever half-time lead (6-0) in Europe's premier tournament. ‘I am in a good moment of my career and we'll do what will be best for me and for the club,’ said Adriano last month when quizzed over his future. Adriano, who netted five times against BATE Borisov in the group, has scored more goals than any other player in the Champions League... he is out of contract in December and could move to the Premier League . ‘With my contract set to expire and many good performances, it'll be difficult to stay in Ukraine.’ Arsenal have sent scouts to watch Adriano in recent months, while Liverpool are also keen on the Brazilian. His contract with Shakhtar Donetsk runs out at the end of the year. Ronaldo and Messi however, remain in pole-position to top the scoring charts with Barcelona and Real Madrid both in the hat for the two-legged semi-finals to be played next month. Of the teams still in the pot, Neymar and Luis Suarez of Barcelona, Real Madrid's Karim Benzema and former Manchester United and City striker Carlos Tevez, now plying his trade for Juventus, each have six goals. The draw for the last four will take place on Friday.\""
      ]
     },
     "execution_count": 59,
     "metadata": {},
     "output_type": "execute_result"
    }
   ],
   "source": [
    "df_test['article'][1000]"
   ]
  },
  {
   "cell_type": "code",
   "execution_count": 60,
   "metadata": {},
   "outputs": [],
   "source": [
    "number_doc = 30000\n",
    "abstract = []\n",
    "introduction = []\n",
    "cnt = 0\n",
    "\n",
    "for index, row in df_test.iterrows():\n",
    "    cnt += 1\n",
    "    abstract.append(row['highlights'])\n",
    "    introduction.append(row['article'])\n",
    "    if cnt == number_doc:\n",
    "        break\n",
    "\n",
    "abstract = np.array(abstract)\n",
    "introduction = np.array(introduction)"
   ]
  },
  {
   "cell_type": "code",
   "execution_count": 61,
   "metadata": {},
   "outputs": [],
   "source": [
    "import warnings\n",
    "import pandas as pd  # Make sure to import pandas\n",
    "\n",
    "warnings.filterwarnings('ignore')\n",
    "\n",
    "columns = ['summary', 'gold_summary', 'ROUGE-1 Precision', 'ROUGE-1 Recall', 'ROUGE-1 F1', 'ROUGE-L Precision', 'ROUGE-L Recall', 'ROUGE-L F1']\n",
    "df = pd.DataFrame(columns=columns)\n",
    "\n",
    "for i in range(len(abstract)):\n",
    "\n",
    "    sentences = get_Sentences(introduction[i])\n",
    "    tokens = preprocessing(introduction[i])\n",
    "    word_freq, total_words = get_word_freq(tokens)\n",
    "    word_pd = get_word_pd(word_freq, total_words)\n",
    "    sentence_scores = KL(sentences, word_pd)\n",
    "    summary = get_Summary(sentence_scores, 6)\n",
    "    # print(summary)\n",
    "    gold_summary = abstract[i].lower()\n",
    "    # print(i)\n",
    "    scores = get_rouge_score(preprocessing_summaries(summary), preprocessing_summaries(gold_summary))\n",
    "    all_scores = {\n",
    "        'summary': summary,\n",
    "        'gold_summary': gold_summary,\n",
    "        'ROUGE-1 Precision': scores[0]['rouge-1']['p'],\n",
    "        'ROUGE-1 Recall': scores[0]['rouge-1']['r'],\n",
    "        'ROUGE-1 F1': scores[0]['rouge-1']['f'],\n",
    "        'ROUGE-L Precision': scores[0]['rouge-l']['p'],\n",
    "        'ROUGE-L Recall': scores[0]['rouge-l']['r'],\n",
    "        'ROUGE-L F1': scores[0]['rouge-l']['f']}\n",
    "    new_row = pd.DataFrame(all_scores, index=[0])\n",
    "    df = pd.concat([df, new_row], ignore_index=True)"
   ]
  },
  {
   "cell_type": "code",
   "execution_count": 62,
   "metadata": {},
   "outputs": [
    {
     "data": {
      "text/html": [
       "<div>\n",
       "<style scoped>\n",
       "    .dataframe tbody tr th:only-of-type {\n",
       "        vertical-align: middle;\n",
       "    }\n",
       "\n",
       "    .dataframe tbody tr th {\n",
       "        vertical-align: top;\n",
       "    }\n",
       "\n",
       "    .dataframe thead th {\n",
       "        text-align: right;\n",
       "    }\n",
       "</style>\n",
       "<table border=\"1\" class=\"dataframe\">\n",
       "  <thead>\n",
       "    <tr style=\"text-align: right;\">\n",
       "      <th></th>\n",
       "      <th>summary</th>\n",
       "      <th>gold_summary</th>\n",
       "      <th>ROUGE-1 Precision</th>\n",
       "      <th>ROUGE-1 Recall</th>\n",
       "      <th>ROUGE-1 F1</th>\n",
       "      <th>ROUGE-L Precision</th>\n",
       "      <th>ROUGE-L Recall</th>\n",
       "      <th>ROUGE-L F1</th>\n",
       "    </tr>\n",
       "  </thead>\n",
       "  <tbody>\n",
       "    <tr>\n",
       "      <th>0</th>\n",
       "      <td>ever noticed how plane seats appear to be getting smaller and smaller? with increasing numbers of people taking to the skies, some experts are questioning if having such packed out planes is putti...</td>\n",
       "      <td>experts question if  packed out planes are putting passengers at risk .\\nu.s consumer advisory group says minimum space must be stipulated .\\nsafety tests conducted on planes with more leg room th...</td>\n",
       "      <td>0.191781</td>\n",
       "      <td>0.583333</td>\n",
       "      <td>0.288660</td>\n",
       "      <td>0.178082</td>\n",
       "      <td>0.541667</td>\n",
       "      <td>0.268041</td>\n",
       "    </tr>\n",
       "    <tr>\n",
       "      <th>1</th>\n",
       "      <td>a zoo spokesman said: 'guards had earlier spotted him close to the enclosure but had no idea he was planing to enter it. 'we then handed him over to the police.' brave fool: fortunately, mr kumar ...</td>\n",
       "      <td>drunk teenage boy climbed into lion enclosure at zoo in west india .\\nrahul kumar, 17, ran towards animals shouting 'today i kill a lion!'\\nfortunately he fell into a moat before reaching lions an...</td>\n",
       "      <td>0.205882</td>\n",
       "      <td>0.538462</td>\n",
       "      <td>0.297872</td>\n",
       "      <td>0.132353</td>\n",
       "      <td>0.346154</td>\n",
       "      <td>0.191489</td>\n",
       "    </tr>\n",
       "    <tr>\n",
       "      <th>2</th>\n",
       "      <td>dougie freedman is on the verge of agreeing a new two-year deal to remain at nottingham forest. freedman has stabilised forest since he replaced cult hero stuart pearce and the club's owners are p...</td>\n",
       "      <td>nottingham forest are close to extending dougie freedman's contract .\\nthe forest boss took over from former manager stuart pearce in february .\\nfreedman has since lead the club to ninth in the c...</td>\n",
       "      <td>0.234043</td>\n",
       "      <td>0.550000</td>\n",
       "      <td>0.328358</td>\n",
       "      <td>0.212766</td>\n",
       "      <td>0.500000</td>\n",
       "      <td>0.298507</td>\n",
       "    </tr>\n",
       "    <tr>\n",
       "      <th>3</th>\n",
       "      <td>neto rushes from his goal as juan iturbe bears down on him during fiorentina's clash with roma in march . it had been reported that neto had a verbal agreement to join serie a champions juventus a...</td>\n",
       "      <td>fiorentina goalkeeper neto has been linked with liverpool and arsenal .\\nneto joined firoentina from brazilian outfit atletico paranaense in 2011 .\\nhe is also wanted by psg and spanish clubs, acc...</td>\n",
       "      <td>0.127660</td>\n",
       "      <td>0.260870</td>\n",
       "      <td>0.171429</td>\n",
       "      <td>0.106383</td>\n",
       "      <td>0.217391</td>\n",
       "      <td>0.142857</td>\n",
       "    </tr>\n",
       "    <tr>\n",
       "      <th>4</th>\n",
       "      <td>scroll down for video . 'bruce had silicone breast implants put in a few weeks ago,' a source told radaronline. according to radar, jenner wants to have all surgeries completed in time to make his...</td>\n",
       "      <td>tell-all interview with the reality tv star, 69, will air on friday april 24 .\\nit comes amid continuing speculation about his transition to a woman and following his involvement in a deadly car c...</td>\n",
       "      <td>0.092308</td>\n",
       "      <td>0.176471</td>\n",
       "      <td>0.121212</td>\n",
       "      <td>0.092308</td>\n",
       "      <td>0.176471</td>\n",
       "      <td>0.121212</td>\n",
       "    </tr>\n",
       "    <tr>\n",
       "      <th>...</th>\n",
       "      <td>...</td>\n",
       "      <td>...</td>\n",
       "      <td>...</td>\n",
       "      <td>...</td>\n",
       "      <td>...</td>\n",
       "      <td>...</td>\n",
       "      <td>...</td>\n",
       "      <td>...</td>\n",
       "    </tr>\n",
       "    <tr>\n",
       "      <th>11485</th>\n",
       "      <td>the dramatic event could explain why our planet has a hot core that gives it its magnetic field. oxford scientists say a mercury-like body struck the young earth (artist's illustration shown). the...</td>\n",
       "      <td>oxford scientists say a mercury-like body struck the young earth .\\nthe mars-sized object would have been the heat source for our planet .\\nthe same object could have been responsible for creating...</td>\n",
       "      <td>0.404255</td>\n",
       "      <td>0.826087</td>\n",
       "      <td>0.542857</td>\n",
       "      <td>0.404255</td>\n",
       "      <td>0.826087</td>\n",
       "      <td>0.542857</td>\n",
       "    </tr>\n",
       "    <tr>\n",
       "      <th>11486</th>\n",
       "      <td>a man facing trial for helping his former lover strangle a woman during a sexual encounter, told the court his former flame had a 'twisted desire to kill' and that he had only dug the victim's cru...</td>\n",
       "      <td>man accused of helping former lover kill woman during a sexual encounter .\\nmicheal john duffy pleaded not guilty to murdering colleen deborah ayers .\\nthe court heard he  strangled ms ayers, 33, ...</td>\n",
       "      <td>0.324324</td>\n",
       "      <td>0.500000</td>\n",
       "      <td>0.393443</td>\n",
       "      <td>0.310811</td>\n",
       "      <td>0.479167</td>\n",
       "      <td>0.377049</td>\n",
       "    </tr>\n",
       "    <tr>\n",
       "      <th>11487</th>\n",
       "      <td>what on earth have i got myself into? offered at the upmarket hale clinic in london and other clinics nationwide, the scary sounding tuning forks are pieces of metal that make different pitched so...</td>\n",
       "      <td>marianne power tried the tuning fork facial at hale clinic in london .\\nutilises tuning forks that make different pitched sounds when struck .\\nsays afterwards her skin looks plumper and pink, rat...</td>\n",
       "      <td>0.144737</td>\n",
       "      <td>0.440000</td>\n",
       "      <td>0.217822</td>\n",
       "      <td>0.144737</td>\n",
       "      <td>0.440000</td>\n",
       "      <td>0.217822</td>\n",
       "    </tr>\n",
       "    <tr>\n",
       "      <th>11488</th>\n",
       "      <td>brook lopez dominated twin brother robin with 32 points and nine rebounds as the brooklyn nets beat a weakened portland trail blazers on monday in the only game on the nba schedule. the trail blaz...</td>\n",
       "      <td>brooklyn nets beat the portland trail blazers 106-96 in new york .\\nbrook lopez scored 32 points for the nets as they moved into seventh .\\ntrail blazers were without lamarcus aldridge and a numbe...</td>\n",
       "      <td>0.214286</td>\n",
       "      <td>0.750000</td>\n",
       "      <td>0.333333</td>\n",
       "      <td>0.200000</td>\n",
       "      <td>0.700000</td>\n",
       "      <td>0.311111</td>\n",
       "    </tr>\n",
       "    <tr>\n",
       "      <th>11489</th>\n",
       "      <td>one of the engineers working on the project secures the metal sheeting and rollers which are being used . it will take three days of careful and slow rolling to move the hospital building 17.5m to...</td>\n",
       "      <td>chinese hospital marked for demolition because of road expansion project .\\nbosses asked team of engineers to put two-storey building on 'wheels'\\nmore than 1,000 rollers have been placed under th...</td>\n",
       "      <td>0.166667</td>\n",
       "      <td>0.296296</td>\n",
       "      <td>0.213333</td>\n",
       "      <td>0.166667</td>\n",
       "      <td>0.296296</td>\n",
       "      <td>0.213333</td>\n",
       "    </tr>\n",
       "  </tbody>\n",
       "</table>\n",
       "<p>11490 rows × 8 columns</p>\n",
       "</div>"
      ],
      "text/plain": [
       "                                                                                                                                                                                                       summary  \\\n",
       "0      ever noticed how plane seats appear to be getting smaller and smaller? with increasing numbers of people taking to the skies, some experts are questioning if having such packed out planes is putti...   \n",
       "1      a zoo spokesman said: 'guards had earlier spotted him close to the enclosure but had no idea he was planing to enter it. 'we then handed him over to the police.' brave fool: fortunately, mr kumar ...   \n",
       "2      dougie freedman is on the verge of agreeing a new two-year deal to remain at nottingham forest. freedman has stabilised forest since he replaced cult hero stuart pearce and the club's owners are p...   \n",
       "3      neto rushes from his goal as juan iturbe bears down on him during fiorentina's clash with roma in march . it had been reported that neto had a verbal agreement to join serie a champions juventus a...   \n",
       "4      scroll down for video . 'bruce had silicone breast implants put in a few weeks ago,' a source told radaronline. according to radar, jenner wants to have all surgeries completed in time to make his...   \n",
       "...                                                                                                                                                                                                        ...   \n",
       "11485  the dramatic event could explain why our planet has a hot core that gives it its magnetic field. oxford scientists say a mercury-like body struck the young earth (artist's illustration shown). the...   \n",
       "11486  a man facing trial for helping his former lover strangle a woman during a sexual encounter, told the court his former flame had a 'twisted desire to kill' and that he had only dug the victim's cru...   \n",
       "11487  what on earth have i got myself into? offered at the upmarket hale clinic in london and other clinics nationwide, the scary sounding tuning forks are pieces of metal that make different pitched so...   \n",
       "11488  brook lopez dominated twin brother robin with 32 points and nine rebounds as the brooklyn nets beat a weakened portland trail blazers on monday in the only game on the nba schedule. the trail blaz...   \n",
       "11489  one of the engineers working on the project secures the metal sheeting and rollers which are being used . it will take three days of careful and slow rolling to move the hospital building 17.5m to...   \n",
       "\n",
       "                                                                                                                                                                                                  gold_summary  \\\n",
       "0      experts question if  packed out planes are putting passengers at risk .\\nu.s consumer advisory group says minimum space must be stipulated .\\nsafety tests conducted on planes with more leg room th...   \n",
       "1      drunk teenage boy climbed into lion enclosure at zoo in west india .\\nrahul kumar, 17, ran towards animals shouting 'today i kill a lion!'\\nfortunately he fell into a moat before reaching lions an...   \n",
       "2      nottingham forest are close to extending dougie freedman's contract .\\nthe forest boss took over from former manager stuart pearce in february .\\nfreedman has since lead the club to ninth in the c...   \n",
       "3      fiorentina goalkeeper neto has been linked with liverpool and arsenal .\\nneto joined firoentina from brazilian outfit atletico paranaense in 2011 .\\nhe is also wanted by psg and spanish clubs, acc...   \n",
       "4      tell-all interview with the reality tv star, 69, will air on friday april 24 .\\nit comes amid continuing speculation about his transition to a woman and following his involvement in a deadly car c...   \n",
       "...                                                                                                                                                                                                        ...   \n",
       "11485  oxford scientists say a mercury-like body struck the young earth .\\nthe mars-sized object would have been the heat source for our planet .\\nthe same object could have been responsible for creating...   \n",
       "11486  man accused of helping former lover kill woman during a sexual encounter .\\nmicheal john duffy pleaded not guilty to murdering colleen deborah ayers .\\nthe court heard he  strangled ms ayers, 33, ...   \n",
       "11487  marianne power tried the tuning fork facial at hale clinic in london .\\nutilises tuning forks that make different pitched sounds when struck .\\nsays afterwards her skin looks plumper and pink, rat...   \n",
       "11488  brooklyn nets beat the portland trail blazers 106-96 in new york .\\nbrook lopez scored 32 points for the nets as they moved into seventh .\\ntrail blazers were without lamarcus aldridge and a numbe...   \n",
       "11489  chinese hospital marked for demolition because of road expansion project .\\nbosses asked team of engineers to put two-storey building on 'wheels'\\nmore than 1,000 rollers have been placed under th...   \n",
       "\n",
       "       ROUGE-1 Precision  ROUGE-1 Recall  ROUGE-1 F1  ROUGE-L Precision  \\\n",
       "0               0.191781        0.583333    0.288660           0.178082   \n",
       "1               0.205882        0.538462    0.297872           0.132353   \n",
       "2               0.234043        0.550000    0.328358           0.212766   \n",
       "3               0.127660        0.260870    0.171429           0.106383   \n",
       "4               0.092308        0.176471    0.121212           0.092308   \n",
       "...                  ...             ...         ...                ...   \n",
       "11485           0.404255        0.826087    0.542857           0.404255   \n",
       "11486           0.324324        0.500000    0.393443           0.310811   \n",
       "11487           0.144737        0.440000    0.217822           0.144737   \n",
       "11488           0.214286        0.750000    0.333333           0.200000   \n",
       "11489           0.166667        0.296296    0.213333           0.166667   \n",
       "\n",
       "       ROUGE-L Recall  ROUGE-L F1  \n",
       "0            0.541667    0.268041  \n",
       "1            0.346154    0.191489  \n",
       "2            0.500000    0.298507  \n",
       "3            0.217391    0.142857  \n",
       "4            0.176471    0.121212  \n",
       "...               ...         ...  \n",
       "11485        0.826087    0.542857  \n",
       "11486        0.479167    0.377049  \n",
       "11487        0.440000    0.217822  \n",
       "11488        0.700000    0.311111  \n",
       "11489        0.296296    0.213333  \n",
       "\n",
       "[11490 rows x 8 columns]"
      ]
     },
     "execution_count": 62,
     "metadata": {},
     "output_type": "execute_result"
    }
   ],
   "source": [
    "df"
   ]
  },
  {
   "cell_type": "code",
   "execution_count": 63,
   "metadata": {},
   "outputs": [
    {
     "data": {
      "text/html": [
       "<div>\n",
       "<style scoped>\n",
       "    .dataframe tbody tr th:only-of-type {\n",
       "        vertical-align: middle;\n",
       "    }\n",
       "\n",
       "    .dataframe tbody tr th {\n",
       "        vertical-align: top;\n",
       "    }\n",
       "\n",
       "    .dataframe thead th {\n",
       "        text-align: right;\n",
       "    }\n",
       "</style>\n",
       "<table border=\"1\" class=\"dataframe\">\n",
       "  <thead>\n",
       "    <tr style=\"text-align: right;\">\n",
       "      <th></th>\n",
       "      <th>summary</th>\n",
       "      <th>gold_summary</th>\n",
       "      <th>ROUGE-1 Precision</th>\n",
       "      <th>ROUGE-1 Recall</th>\n",
       "      <th>ROUGE-1 F1</th>\n",
       "      <th>ROUGE-L Precision</th>\n",
       "      <th>ROUGE-L Recall</th>\n",
       "      <th>ROUGE-L F1</th>\n",
       "    </tr>\n",
       "  </thead>\n",
       "  <tbody>\n",
       "    <tr>\n",
       "      <th>8472</th>\n",
       "      <td>a qantas jet bound for perth was forced to turn back to sydney airport after a safety light turned on mid-air. the airbus a330 took off soon after 11am but was back on the tarmac by 12.30pm after ...</td>\n",
       "      <td>a qantas jet bound for perth has been forced to return to sydney airport after a safety light turned on mid-air .\\nairbus a330 took off soon after 11am but was back on tarmac by 12.30pm .\\nafter a...</td>\n",
       "      <td>0.681818</td>\n",
       "      <td>0.967742</td>\n",
       "      <td>0.800000</td>\n",
       "      <td>0.681818</td>\n",
       "      <td>0.967742</td>\n",
       "      <td>0.800000</td>\n",
       "    </tr>\n",
       "    <tr>\n",
       "      <th>5211</th>\n",
       "      <td>the build-up for the blockbuster fight between floyd mayweather and manny pacquiao in las vegas on may 2 steps up a gear on tuesday night when the american holds an open workout for the media. the...</td>\n",
       "      <td>floyd mayweather holds an open media workout from 12am uk (7pm edt)\\nthe american takes on manny pacquiao in las vegas on may 2 .\\nmayweather's training is being streamed live across the world .</td>\n",
       "      <td>0.700000</td>\n",
       "      <td>0.875000</td>\n",
       "      <td>0.777778</td>\n",
       "      <td>0.533333</td>\n",
       "      <td>0.666667</td>\n",
       "      <td>0.592593</td>\n",
       "    </tr>\n",
       "    <tr>\n",
       "      <th>1132</th>\n",
       "      <td>in an adorable video posted to youtube by user jeannine s. with nearly one million views, puppy bonnie can be seen lifting her dish to bring it over to her canine friend clyde who is also scarfing...</td>\n",
       "      <td>a rescue sato named bonnie is so afraid that she will be abandoned again that she can't bear to eat alone.\\nin an adorable video posted to youtube by user jeannine s. with nearly one million views...</td>\n",
       "      <td>0.679245</td>\n",
       "      <td>0.818182</td>\n",
       "      <td>0.742268</td>\n",
       "      <td>0.679245</td>\n",
       "      <td>0.818182</td>\n",
       "      <td>0.742268</td>\n",
       "    </tr>\n",
       "    <tr>\n",
       "      <th>6750</th>\n",
       "      <td>the ten houses in australia that won't sell, despite being heavily discounted, have been revealed. a recent report, released by sqm research, found the properties across the country which haven't ...</td>\n",
       "      <td>the ten most discounted houses in australia have been revealed by sqm research .\\nsome of these properties have been on the market for up to two years .\\namong them includes a one-bedroom home in ...</td>\n",
       "      <td>0.500000</td>\n",
       "      <td>0.937500</td>\n",
       "      <td>0.652174</td>\n",
       "      <td>0.466667</td>\n",
       "      <td>0.875000</td>\n",
       "      <td>0.608696</td>\n",
       "    </tr>\n",
       "    <tr>\n",
       "      <th>3008</th>\n",
       "      <td>a 23-month-old girl in  died after her father struck her with a pickup truck when he didn't see that she was in the driveway, police have said said. police were called to the scene in the north la...</td>\n",
       "      <td>police were called to the north las vegas neighborhood at about 11.30am on thursday .\\nfather and other family members did not know toddler was in the driveway .\\nthe incident was deemed an accide...</td>\n",
       "      <td>0.500000</td>\n",
       "      <td>0.875000</td>\n",
       "      <td>0.636364</td>\n",
       "      <td>0.500000</td>\n",
       "      <td>0.875000</td>\n",
       "      <td>0.636364</td>\n",
       "    </tr>\n",
       "  </tbody>\n",
       "</table>\n",
       "</div>"
      ],
      "text/plain": [
       "                                                                                                                                                                                                      summary  \\\n",
       "8472  a qantas jet bound for perth was forced to turn back to sydney airport after a safety light turned on mid-air. the airbus a330 took off soon after 11am but was back on the tarmac by 12.30pm after ...   \n",
       "5211  the build-up for the blockbuster fight between floyd mayweather and manny pacquiao in las vegas on may 2 steps up a gear on tuesday night when the american holds an open workout for the media. the...   \n",
       "1132  in an adorable video posted to youtube by user jeannine s. with nearly one million views, puppy bonnie can be seen lifting her dish to bring it over to her canine friend clyde who is also scarfing...   \n",
       "6750  the ten houses in australia that won't sell, despite being heavily discounted, have been revealed. a recent report, released by sqm research, found the properties across the country which haven't ...   \n",
       "3008  a 23-month-old girl in  died after her father struck her with a pickup truck when he didn't see that she was in the driveway, police have said said. police were called to the scene in the north la...   \n",
       "\n",
       "                                                                                                                                                                                                 gold_summary  \\\n",
       "8472  a qantas jet bound for perth has been forced to return to sydney airport after a safety light turned on mid-air .\\nairbus a330 took off soon after 11am but was back on tarmac by 12.30pm .\\nafter a...   \n",
       "5211       floyd mayweather holds an open media workout from 12am uk (7pm edt)\\nthe american takes on manny pacquiao in las vegas on may 2 .\\nmayweather's training is being streamed live across the world .   \n",
       "1132  a rescue sato named bonnie is so afraid that she will be abandoned again that she can't bear to eat alone.\\nin an adorable video posted to youtube by user jeannine s. with nearly one million views...   \n",
       "6750  the ten most discounted houses in australia have been revealed by sqm research .\\nsome of these properties have been on the market for up to two years .\\namong them includes a one-bedroom home in ...   \n",
       "3008  police were called to the north las vegas neighborhood at about 11.30am on thursday .\\nfather and other family members did not know toddler was in the driveway .\\nthe incident was deemed an accide...   \n",
       "\n",
       "      ROUGE-1 Precision  ROUGE-1 Recall  ROUGE-1 F1  ROUGE-L Precision  \\\n",
       "8472           0.681818        0.967742    0.800000           0.681818   \n",
       "5211           0.700000        0.875000    0.777778           0.533333   \n",
       "1132           0.679245        0.818182    0.742268           0.679245   \n",
       "6750           0.500000        0.937500    0.652174           0.466667   \n",
       "3008           0.500000        0.875000    0.636364           0.500000   \n",
       "\n",
       "      ROUGE-L Recall  ROUGE-L F1  \n",
       "8472        0.967742    0.800000  \n",
       "5211        0.666667    0.592593  \n",
       "1132        0.818182    0.742268  \n",
       "6750        0.875000    0.608696  \n",
       "3008        0.875000    0.636364  "
      ]
     },
     "execution_count": 63,
     "metadata": {},
     "output_type": "execute_result"
    }
   ],
   "source": [
    "sorted_df = df.sort_values(by=['ROUGE-1 F1'], ascending=False)\n",
    "sorted_df.reset_index(drop=True)\n",
    "\n",
    "top_5_rows = sorted_df.head(5)\n",
    "\n",
    "top_5_rows"
   ]
  },
  {
   "cell_type": "code",
   "execution_count": 64,
   "metadata": {},
   "outputs": [],
   "source": [
    "avg_precision = df['ROUGE-1 Precision'].mean()\n",
    "avg_recall = df['ROUGE-1 Recall'].mean()\n",
    "avg_f1 = df['ROUGE-1 F1'].mean()\n",
    "avg_l_precision = df['ROUGE-L Precision'].mean()\n",
    "avg_l_recall = df['ROUGE-L Recall'].mean()\n",
    "avg_l_f1 = df['ROUGE-L F1'].mean()"
   ]
  },
  {
   "cell_type": "code",
   "execution_count": 65,
   "metadata": {},
   "outputs": [
    {
     "name": "stdout",
     "output_type": "stream",
     "text": [
      "Average ROUGE-1 Precision:  0.1327837982307348\n",
      "Average ROUGE-1 Recall:  0.2849546747092465\n",
      "Average ROUGE-1 F1:  0.17512222458911286\n",
      "Average ROUGE-L Precision:  0.12493777361259667\n",
      "Average ROUGE-L Recall:  0.2678899515083127\n",
      "Average ROUGE-L F1:  0.16470956075700915\n"
     ]
    }
   ],
   "source": [
    "# Print the results\n",
    "print(\"Average ROUGE-1 Precision: \", avg_precision)\n",
    "print(\"Average ROUGE-1 Recall: \", avg_recall)\n",
    "print(\"Average ROUGE-1 F1: \", avg_f1)\n",
    "print(\"Average ROUGE-L Precision: \", avg_l_precision)\n",
    "print(\"Average ROUGE-L Recall: \", avg_l_recall)\n",
    "print(\"Average ROUGE-L F1: \", avg_l_f1)"
   ]
  },
  {
   "cell_type": "markdown",
   "metadata": {},
   "source": [
    "- `ROUGE-1 Precision (0.1328):` This metric measures the proportion of overlapping unigrams (individual words) between the generated summaries and the reference summaries. A precision of 0.1328 means that, on average, only about 13.28% of the unigrams in the generated summaries are also present in the reference summaries. This suggests that the generated summaries may include a lot of extraneous or incorrect words.\n",
    "\n",
    "- `ROUGE-1 Recall (0.2850):` Recall measures the proportion of overlapping unigrams in the reference summaries that are also present in the generated summaries. A recall of 0.2850 means that, on average, the system is capturing about 28.50% of the unigrams from the reference summaries. This suggests that the generated summaries may be missing a significant portion of important information from the source articles.\n",
    "\n",
    "- `ROUGE-1 F1 Score (0.1751):` The F1 score is the harmonic mean of precision and recall. In this case, it's 0.1751, which indicates that there's a trade-off between precision and recall. The system is not achieving a good balance between capturing relevant information and avoiding irrelevant information.\n",
    "\n",
    "- `ROUGE-L Precision (0.1249):` ROUGE-L measures the longest common subsequence between the generated and reference summaries. A precision of 0.1249 suggests that, on average, only about 12.49% of the longest common subsequences in the generated summaries match those in the reference summaries. This again indicates that the generated summaries may not be effectively capturing the essence of the source articles.\n",
    "\n",
    "- `ROUGE-L Recall (0.2679):` Recall for ROUGE-L measures how much of the longest common subsequence in the reference summaries is also present in the generated summaries. A recall of 0.2679 suggests that the system is capturing about 26.79% of the longest common subsequences in the reference summaries.\n",
    "\n",
    "- `ROUGE-L F1 Score (0.1647):` The F1 score for ROUGE-L, like ROUGE-1, is low at 0.1647, indicating a suboptimal balance between precision and recall."
   ]
  },
  {
   "cell_type": "code",
   "execution_count": 66,
   "metadata": {},
   "outputs": [
    {
     "data": {
      "text/plain": [
       "\"luiz adriano scored nine times for shakhtar donetsk in europe this season .\\nthe brazilian is out of contract at the end of the year... both arsenal and liverpool are interested in signing the 27-year-old .\\ncristiano ronaldo and lionel messi have netted eight goals this season .\\nreal madrid and barcelona both in the champions league semi-finals .\\nread: our reporters have their say on who will win the champions league .\\nclick here for sportsmail's guide to the champions league final four .\""
      ]
     },
     "execution_count": 66,
     "metadata": {},
     "output_type": "execute_result"
    }
   ],
   "source": [
    "df['gold_summary'][1000]"
   ]
  },
  {
   "cell_type": "code",
   "execution_count": 67,
   "metadata": {},
   "outputs": [
    {
     "data": {
      "text/plain": [
       "\"Cristiano Ronaldo and Lionel Messi will go head-to-head once more in the race to be this season's top scorer in the Champions League – although Luiz Adriano threatens to spoil the party. Both Barcelona and Real Madrid booked their spots in the semi-finals this week with victories over Paris Saint-Germain and Atletico Madrid respectively. The planet's best footballers have scored eight times in Europe this season. But Shakhtar Donetsk’s Adriano, courted by Arsenal and Liverpool, has netted on nine occasions this term. Cristiano Ronaldo, in action against Atletico Madrid on Wednesday evening, has scored eight goals in Europe . Lionel Messi also has eight goals in the Champions League this term; one fewer than Luiz Adriano . Ronaldo and Messi will both play at least two more times after Real Madrid and Barcelona reached the last four . Adriano, who moved to Donetsk in 2007, scored five against BATE Borsiov in the group stages. His performance that night made history, with the 27-year-old becoming only the second player to score five times in a Champions League game. The other was Messi for Barcelona against Bayer Leverkusen in 2012. He also scored the third quickest hat-trick in the competition's history (12 minutes) as the Ukrainian side, knocked out by Bayern Munich in the round of 16, racked up the biggest-ever half-time lead (6-0) in Europe's premier tournament. ‘I am in a good moment of my career and we'll do what will be best for me and for the club,’ said Adriano last month when quizzed over his future. Adriano, who netted five times against BATE Borisov in the group, has scored more goals than any other player in the Champions League... he is out of contract in December and could move to the Premier League . ‘With my contract set to expire and many good performances, it'll be difficult to stay in Ukraine.’ Arsenal have sent scouts to watch Adriano in recent months, while Liverpool are also keen on the Brazilian. His contract with Shakhtar Donetsk runs out at the end of the year. Ronaldo and Messi however, remain in pole-position to top the scoring charts with Barcelona and Real Madrid both in the hat for the two-legged semi-finals to be played next month. Of the teams still in the pot, Neymar and Luis Suarez of Barcelona, Real Madrid's Karim Benzema and former Manchester United and City striker Carlos Tevez, now plying his trade for Juventus, each have six goals. The draw for the last four will take place on Friday.\""
      ]
     },
     "execution_count": 67,
     "metadata": {},
     "output_type": "execute_result"
    }
   ],
   "source": [
    "introduction[1000]"
   ]
  },
  {
   "cell_type": "markdown",
   "metadata": {},
   "source": [
    "# Iteration 3 - Seq2Seq (Run in Google Colab)"
   ]
  },
  {
   "cell_type": "markdown",
   "metadata": {},
   "source": [
    "Due to the absurdly high GPU demand, the RNN model was run in google colab with the help of GPU runtime. Access the notebook [here](https://colab.research.google.com/drive/11kJO7o52TKAnjS2fnDLYp4TWvwXJLRQ_?usp=sharing) and make a copy if you wish to use the notebook. ***WARNING*** this notebook requires a high demand of RAM to run and likely will crash if you do not have RAM up to 40GB. Please just view the notebook if you do not have the processing power to do so."
   ]
  },
  {
   "cell_type": "markdown",
   "metadata": {},
   "source": [
    "# Iteration 4 - BART out of the box model\n",
    "\n",
    "Click [here](https://huggingface.co/facebook/bart-large-cnn) for the link to the BART model\n",
    "\n",
    "## BART (large-sized model), fine-tuned on CNN Daily Mail\n",
    "BART model pre-trained on English language, and fine-tuned on CNN Daily Mail. It was introduced in the paper BART: Denoising Sequence-to-Sequence Pre-training for Natural Language Generation, Translation, and Comprehension by Lewis et al. and first released in [this repository](https://github.com/pytorch/fairseq/tree/master/examples/bart).\n",
    "\n",
    "## Model description\n",
    "- BART is a transformer encoder-encoder (seq2seq) model with a bidirectional (BERT-like) encoder and an autoregressive (GPT-like) decoder. BART is pre-trained by (1) corrupting text with an arbitrary noising function, and (2) learning a model to reconstruct the original text.\n",
    "\n",
    "- BART is particularly effective when fine-tuned for text generation (e.g. summarization, translation) but also works well for comprehension tasks (e.g. text classification, question answering). This particular checkpoint has been fine-tuned on CNN Daily Mail, a large collection of text-summary pairs.\n",
    "\n",
    "Intended uses & limitations\n",
    "You can use this model for text summarization."
   ]
  },
  {
   "cell_type": "code",
   "execution_count": 117,
   "metadata": {
    "scrolled": true
   },
   "outputs": [
    {
     "name": "stderr",
     "output_type": "stream",
     "text": [
      "Special tokens have been added in the vocabulary, make sure the associated word embeddings are fine-tuned or trained.\n"
     ]
    },
    {
     "name": "stdout",
     "output_type": "stream",
     "text": [
      "[{'summary_text': \"Cristiano Ronaldo and Lionel Messi have both scored eight Champions League goals this season. But Shakhtar Donetsk's Luiz Adriano has netted on nine occasions. Arsenal and Liverpool are interested in signing the Brazilian. Adriano is out of contract in December and could move to the Premier League. Barcelona and Real Madrid will play in the semi-finals next month. The draw for the last four will take place on Friday.\"}]\n"
     ]
    }
   ],
   "source": [
    "from transformers import pipeline\n",
    "\n",
    "summarizer = pipeline(\"summarization\", model=\"facebook/bart-large-cnn\")\n",
    "\n",
    "ARTICLE = \"\"\"Cristiano Ronaldo and Lionel Messi will go head-to-head once more in the race to be this season's top scorer in the Champions League – although Luiz Adriano threatens to spoil the party. \n",
    "            Both Barcelona and Real Madrid booked their spots in the semi-finals this week with victories over Paris Saint-Germain and Atletico Madrid respectively. \n",
    "            The planet's best footballers have scored eight times in Europe this season. But Shakhtar Donetsk’s Adriano, courted by Arsenal and Liverpool, has netted on nine occasions this term. \n",
    "            Cristiano Ronaldo, in action against Atletico Madrid on Wednesday evening, has scored eight goals in Europe . \n",
    "            Lionel Messi also has eight goals in the Champions League this term; one fewer than Luiz Adriano . \n",
    "            Ronaldo and Messi will both play at least two more times after Real Madrid and Barcelona reached the last four . \n",
    "            Adriano, who moved to Donetsk in 2007, scored five against BATE Borsiov in the group stages. \n",
    "            His performance that night made history, with the 27-year-old becoming only the second player to score five times in a Champions League game. \n",
    "            The other was Messi for Barcelona against Bayer Leverkusen in 2012. He also scored the third quickest hat-trick in the competition's history (12 minutes) as the Ukrainian side, knocked out by Bayern Munich in the round of 16, racked up the biggest-ever half-time lead (6-0) in Europe's premier tournament. \n",
    "            ‘I am in a good moment of my career and we'll do what will be best for me and for the club,’ said Adriano last month when quizzed over his future. \n",
    "            Adriano, who netted five times against BATE Borisov in the group, has scored more goals than any other player in the Champions League... he is out of contract in December and could move to the Premier League . \n",
    "            ‘With my contract set to expire and many good performances, it'll be difficult to stay in Ukraine.’ Arsenal have sent scouts to watch Adriano in recent months, while Liverpool are also keen on the Brazilian. \n",
    "            His contract with Shakhtar Donetsk runs out at the end of the year. Ronaldo and Messi however, remain in pole-position to top the scoring charts with Barcelona and Real Madrid both in the hat for the two-legged semi-finals to be played next month. \n",
    "            Of the teams still in the pot, Neymar and Luis Suarez of Barcelona, Real Madrid's Karim Benzema and former Manchester United and City striker Carlos Tevez, now plying his trade for Juventus, each have six goals. \n",
    "            The draw for the last four will take place on Friday.\"\"\"\n",
    "print(summarizer(ARTICLE, max_length=130, min_length=75, do_sample=False))\n"
   ]
  },
  {
   "cell_type": "code",
   "execution_count": null,
   "metadata": {},
   "outputs": [],
   "source": [
    "df['highlights'][1000]"
   ]
  },
  {
   "cell_type": "code",
   "execution_count": 121,
   "metadata": {},
   "outputs": [
    {
     "data": {
      "text/html": [
       "<div>\n",
       "<style scoped>\n",
       "    .dataframe tbody tr th:only-of-type {\n",
       "        vertical-align: middle;\n",
       "    }\n",
       "\n",
       "    .dataframe tbody tr th {\n",
       "        vertical-align: top;\n",
       "    }\n",
       "\n",
       "    .dataframe thead th {\n",
       "        text-align: right;\n",
       "    }\n",
       "</style>\n",
       "<table border=\"1\" class=\"dataframe\">\n",
       "  <thead>\n",
       "    <tr style=\"text-align: right;\">\n",
       "      <th></th>\n",
       "      <th>id</th>\n",
       "      <th>article</th>\n",
       "      <th>highlights</th>\n",
       "      <th>articleWordCount</th>\n",
       "      <th>highlightsWordCount</th>\n",
       "      <th>cleaned_text</th>\n",
       "      <th>cleaned_summary</th>\n",
       "    </tr>\n",
       "  </thead>\n",
       "  <tbody>\n",
       "    <tr>\n",
       "      <th>10535</th>\n",
       "      <td>dd59f434e4a4a1f30d7b0cd7fab24e027d684f49</td>\n",
       "      <td>Whether it is through Sir Bradley Wiggins, Geraint Thomas or Ian Stannard, Ireland's classics king Sean Kelly believes the time has come for Team Sky to break their duck in one of cycling's Monume...</td>\n",
       "      <td>Team Sky have never won one of cycling's five Monument races .\\nThe Tour of Flanders takes place next weekend with Ian Stannard and Geraint Thomas contenders fro Team Sky .\\nSean Kelly has backed ...</td>\n",
       "      <td>750</td>\n",
       "      <td>42</td>\n",
       "      <td>whether sir bradley wiggins geraint thomas ian stannard ireland classics king sean kelly believes time come team sky break duck one cycling monuments two major cobbled classics tour flanders paris...</td>\n",
       "      <td>team sky have never won one of cycling five monument races the tour of flanders takes place next weekend with ian stannard and geraint thomas contenders fro team sky sean kelly has backed them to ...</td>\n",
       "    </tr>\n",
       "    <tr>\n",
       "      <th>2546</th>\n",
       "      <td>baf66b1e3037de6abb57fb8611a98a5b78ee6f5d</td>\n",
       "      <td>The Ohio parents of a two-year-old child who authorities say was beaten and starved to death were indicted on aggravated murder charges Wednesday. Hamilton County's prosecutor said that the grand ...</td>\n",
       "      <td>Andrea Bradley and Glen Bates charged with aggravated murder in the beating death of their two-year-old daughter Glenara .\\nGlenara was brought to the hospital last month with bruises, belt marks ...</td>\n",
       "      <td>750</td>\n",
       "      <td>86</td>\n",
       "      <td>ohio parents two year old child authorities say beaten starved death indicted aggravated murder charges wednesday hamilton county prosecutor said grand jury also indicted andrea bradley glen bates...</td>\n",
       "      <td>andrea bradley and glen bates charged with aggravated murder in the beating death of their two year old daughter glenara glenara was brought to the hospital last month with bruises belt marks and ...</td>\n",
       "    </tr>\n",
       "    <tr>\n",
       "      <th>1647</th>\n",
       "      <td>0ad6e0e18918f8ea0c33ac3f4b07f791bfc5929b</td>\n",
       "      <td>(CNN)Feidin Santana, the man who recorded a South Carolina police officer fatally shooting a fleeing, unarmed man, told CNN on Thursday night he was told by another cop to stop using his phone to ...</td>\n",
       "      <td>Witness who took video of shooting said when he arrived officer was on top of Walter Scott .\\nFeidin Santana says Walter Scott didn't take Michael Slager's Taser .\\nSantana said he never saw offic...</td>\n",
       "      <td>750</td>\n",
       "      <td>47</td>\n",
       "      <td>feidin santana man recorded south carolina police officer fatally shooting fleeing unarmed man told cnn thursday night told another cop stop using phone capture incident one officers told stop abu...</td>\n",
       "      <td>witness who took video of shooting said when he arrived officer was on top of walter scott feidin santana says walter scott did not take michael slager taser santana said he never saw officers per...</td>\n",
       "    </tr>\n",
       "    <tr>\n",
       "      <th>7275</th>\n",
       "      <td>1f938b131d91133ce457716eeaa45cd6a91550d7</td>\n",
       "      <td>Nick Clegg today revealed he struggled with maths at school, as he prepares to launch his election manifesto which will promise to balance the nation's books 'fairly'. The Lib Dem leader told a gr...</td>\n",
       "      <td>Clegg tells pupils he was better at languages and art as a youngster .\\nLib Dem manifesto to promise to eradicate the deficit 'fairly' by 2019 .\\nClegg's wife Miriam says her priority is making su...</td>\n",
       "      <td>750</td>\n",
       "      <td>40</td>\n",
       "      <td>nick clegg today revealed struggled maths school prepares launch election manifesto promise balance nation books fairly lib dem leader told group children better languages art school use tomorrow ...</td>\n",
       "      <td>clegg tells pupils he was better at languages and art as youngster lib dem manifesto to promise to eradicate the deficit fairly by clegg wife miriam says her priority is making sure their sons are ok</td>\n",
       "    </tr>\n",
       "    <tr>\n",
       "      <th>583</th>\n",
       "      <td>e09eba54c32bb1d4ac473118b6defe9fcfb1c74f</td>\n",
       "      <td>Rodrigo Alves, who is best known as the new Human Ken Doll after reportedly spending more than than $265,000 on plastic surgery, is set to appear on the new season of the E! reality show Botched, ...</td>\n",
       "      <td>Rodrigo Alves, from London, has undergone 30 body-changing operations including four rhinoplasties, liposuction and pec implants .\\nThe 31-year-old flight attendant will appear on the US-based rea...</td>\n",
       "      <td>750</td>\n",
       "      <td>35</td>\n",
       "      <td>rodrigo alves best known new human ken doll reportedly spending plastic surgery set appear new season reality show botched time mentor another patient year old london flight attendant undergone bo...</td>\n",
       "      <td>rodrigo alves from london has undergone body changing operations including four rhinoplasties liposuction and pec implants the year old flight attendant will appear on the us based reality show bo...</td>\n",
       "    </tr>\n",
       "    <tr>\n",
       "      <th>...</th>\n",
       "      <td>...</td>\n",
       "      <td>...</td>\n",
       "      <td>...</td>\n",
       "      <td>...</td>\n",
       "      <td>...</td>\n",
       "      <td>...</td>\n",
       "      <td>...</td>\n",
       "    </tr>\n",
       "    <tr>\n",
       "      <th>8749</th>\n",
       "      <td>20779abc400c083fc8e37532cc9c1a24b7f19b28</td>\n",
       "      <td>(CNN)Justin Timberlake and Jessica Biel, welcome to parenthood. The celebrity couple announced the arrival of their son, Silas Randall Timberlake, in statements to People. \"Silas was the middle na...</td>\n",
       "      <td>Timberlake and Biel welcome son Silas Randall Timberlake .\\nThe couple announced the pregnancy in January .</td>\n",
       "      <td>73</td>\n",
       "      <td>17</td>\n",
       "      <td>justin timberlake jessica biel welcome parenthood celebrity couple announced arrival son silas randall timberlake statements people silas middle name timberlake maternal grandfather bill bomar die...</td>\n",
       "      <td>timberlake and biel welcome son silas randall timberlake the couple announced the pregnancy in january</td>\n",
       "    </tr>\n",
       "    <tr>\n",
       "      <th>9172</th>\n",
       "      <td>540b23e0ceb1d35829db2d0dfb8d38c52b21cb15</td>\n",
       "      <td>Twenty four hours after Floyd Mayweather Jnr dazzled the media with his skills, Manny Pacquiao takes his turn. The Filipino icon will be put through his paces at the iconic Wild Card gym in Los An...</td>\n",
       "      <td>Manny Pacquiao takes on Floyd Mayweather in Las Vegas on May 2 .\\nPacquiao will hold a public workout tonight in his gym in LA .\\nMayweather held his last night at the Mayweather Boxing Gym .\\nThe...</td>\n",
       "      <td>73</td>\n",
       "      <td>60</td>\n",
       "      <td>twenty four hours floyd mayweather jnr dazzled media skills manny pacquiao takes turn filipino icon put paces iconic wild card gym los angeles evening watchful eye trainer freddie roach mayweather...</td>\n",
       "      <td>manny pacquiao takes on floyd mayweather in las vegas on may pacquiao will hold public workout tonight in his gym in la mayweather held his last night at the mayweather boxing gym the fight will b...</td>\n",
       "    </tr>\n",
       "    <tr>\n",
       "      <th>1625</th>\n",
       "      <td>6c33f89876b3bd0f4edbdee9e8b572952bc26cf5</td>\n",
       "      <td>Sportsmail's boxing correspondent Jeff Powell looks ahead to Saturday's mega-fight at the MGM Grand after witnessing Floyd Mayweather and Manny Pacquiao's grand arrivals in Las Vegas. Both boxers ...</td>\n",
       "      <td>Jeff Powell looks ahead to Saturday's fight at the MGM Grand .\\nFloyd Mayweather takes on Manny Pacquiao in $300m showdown .\\nBoth fighters arrived in Las Vegas on Tuesday with public appearances ...</td>\n",
       "      <td>70</td>\n",
       "      <td>67</td>\n",
       "      <td>sportsmail boxing correspondent jeff powell looks ahead saturday mega fight mgm grand witnessing floyd mayweather manny pacquiao grand arrivals las vegas boxers made public appearances tuesday mil...</td>\n",
       "      <td>jeff powell looks ahead to saturday fight at the mgm grand floyd mayweather takes on manny pacquiao in showdown both fighters arrived in las vegas on tuesday with public appearances read mayweathe...</td>\n",
       "    </tr>\n",
       "    <tr>\n",
       "      <th>6709</th>\n",
       "      <td>6ddf76d9a7fcdbb060b394970e9558faa819eccc</td>\n",
       "      <td>MINI TEST . Audi TT Roadster 2.0 TFSI S line Quattro (230PS) Price as driven: £54,180 . Evolution: The new 2.0 TFSI S line Quattro (pictured) is fun to drive with lively acceleration that takes it...</td>\n",
       "      <td>We've enjoyed some of the highest temperatures of the year this week .\\nThe range starts at £31,995 and the Audi can cost as much as £50,000 .\\nNo matter how good, the new Audi TT still has nothin...</td>\n",
       "      <td>64</td>\n",
       "      <td>486</td>\n",
       "      <td>mini test audi tt roadster tfsi line quattro price driven evolution new tfsi line quattro fun drive lively acceleration takes rest mph good interior manual version audi soft top seen bad</td>\n",
       "      <td>we have enjoyed some of the highest temperatures of the year this week the range starts at and the audi can cost as much as no matter how good the new audi tt still has nothing on the model with t...</td>\n",
       "    </tr>\n",
       "    <tr>\n",
       "      <th>5211</th>\n",
       "      <td>417abb61e9c6f845ceb5bd73a63d479c9110d09a</td>\n",
       "      <td>The build-up for the blockbuster fight between Floyd Mayweather and Manny Pacquiao in Las Vegas on May 2 steps up a gear on Tuesday night when the American holds an open workout for the media. The...</td>\n",
       "      <td>Floyd Mayweather holds an open media workout from 12am UK (7pm EDT)\\nThe American takes on Manny Pacquiao in Las Vegas on May 2 .\\nMayweather's training is being streamed live across the world .</td>\n",
       "      <td>55</td>\n",
       "      <td>35</td>\n",
       "      <td>build blockbuster fight floyd mayweather manny pacquiao las vegas may steps gear tuesday night american holds open workout media session streamed live across world watch uk</td>\n",
       "      <td>floyd mayweather holds an open media workout from am uk the american takes on manny pacquiao in las vegas on may mayweather training is being streamed live across the world</td>\n",
       "    </tr>\n",
       "  </tbody>\n",
       "</table>\n",
       "<p>7434 rows × 7 columns</p>\n",
       "</div>"
      ],
      "text/plain": [
       "                                             id  \\\n",
       "10535  dd59f434e4a4a1f30d7b0cd7fab24e027d684f49   \n",
       "2546   baf66b1e3037de6abb57fb8611a98a5b78ee6f5d   \n",
       "1647   0ad6e0e18918f8ea0c33ac3f4b07f791bfc5929b   \n",
       "7275   1f938b131d91133ce457716eeaa45cd6a91550d7   \n",
       "583    e09eba54c32bb1d4ac473118b6defe9fcfb1c74f   \n",
       "...                                         ...   \n",
       "8749   20779abc400c083fc8e37532cc9c1a24b7f19b28   \n",
       "9172   540b23e0ceb1d35829db2d0dfb8d38c52b21cb15   \n",
       "1625   6c33f89876b3bd0f4edbdee9e8b572952bc26cf5   \n",
       "6709   6ddf76d9a7fcdbb060b394970e9558faa819eccc   \n",
       "5211   417abb61e9c6f845ceb5bd73a63d479c9110d09a   \n",
       "\n",
       "                                                                                                                                                                                                       article  \\\n",
       "10535  Whether it is through Sir Bradley Wiggins, Geraint Thomas or Ian Stannard, Ireland's classics king Sean Kelly believes the time has come for Team Sky to break their duck in one of cycling's Monume...   \n",
       "2546   The Ohio parents of a two-year-old child who authorities say was beaten and starved to death were indicted on aggravated murder charges Wednesday. Hamilton County's prosecutor said that the grand ...   \n",
       "1647   (CNN)Feidin Santana, the man who recorded a South Carolina police officer fatally shooting a fleeing, unarmed man, told CNN on Thursday night he was told by another cop to stop using his phone to ...   \n",
       "7275   Nick Clegg today revealed he struggled with maths at school, as he prepares to launch his election manifesto which will promise to balance the nation's books 'fairly'. The Lib Dem leader told a gr...   \n",
       "583    Rodrigo Alves, who is best known as the new Human Ken Doll after reportedly spending more than than $265,000 on plastic surgery, is set to appear on the new season of the E! reality show Botched, ...   \n",
       "...                                                                                                                                                                                                        ...   \n",
       "8749   (CNN)Justin Timberlake and Jessica Biel, welcome to parenthood. The celebrity couple announced the arrival of their son, Silas Randall Timberlake, in statements to People. \"Silas was the middle na...   \n",
       "9172   Twenty four hours after Floyd Mayweather Jnr dazzled the media with his skills, Manny Pacquiao takes his turn. The Filipino icon will be put through his paces at the iconic Wild Card gym in Los An...   \n",
       "1625   Sportsmail's boxing correspondent Jeff Powell looks ahead to Saturday's mega-fight at the MGM Grand after witnessing Floyd Mayweather and Manny Pacquiao's grand arrivals in Las Vegas. Both boxers ...   \n",
       "6709   MINI TEST . Audi TT Roadster 2.0 TFSI S line Quattro (230PS) Price as driven: £54,180 . Evolution: The new 2.0 TFSI S line Quattro (pictured) is fun to drive with lively acceleration that takes it...   \n",
       "5211   The build-up for the blockbuster fight between Floyd Mayweather and Manny Pacquiao in Las Vegas on May 2 steps up a gear on Tuesday night when the American holds an open workout for the media. The...   \n",
       "\n",
       "                                                                                                                                                                                                    highlights  \\\n",
       "10535  Team Sky have never won one of cycling's five Monument races .\\nThe Tour of Flanders takes place next weekend with Ian Stannard and Geraint Thomas contenders fro Team Sky .\\nSean Kelly has backed ...   \n",
       "2546   Andrea Bradley and Glen Bates charged with aggravated murder in the beating death of their two-year-old daughter Glenara .\\nGlenara was brought to the hospital last month with bruises, belt marks ...   \n",
       "1647   Witness who took video of shooting said when he arrived officer was on top of Walter Scott .\\nFeidin Santana says Walter Scott didn't take Michael Slager's Taser .\\nSantana said he never saw offic...   \n",
       "7275   Clegg tells pupils he was better at languages and art as a youngster .\\nLib Dem manifesto to promise to eradicate the deficit 'fairly' by 2019 .\\nClegg's wife Miriam says her priority is making su...   \n",
       "583    Rodrigo Alves, from London, has undergone 30 body-changing operations including four rhinoplasties, liposuction and pec implants .\\nThe 31-year-old flight attendant will appear on the US-based rea...   \n",
       "...                                                                                                                                                                                                        ...   \n",
       "8749                                                                                               Timberlake and Biel welcome son Silas Randall Timberlake .\\nThe couple announced the pregnancy in January .   \n",
       "9172   Manny Pacquiao takes on Floyd Mayweather in Las Vegas on May 2 .\\nPacquiao will hold a public workout tonight in his gym in LA .\\nMayweather held his last night at the Mayweather Boxing Gym .\\nThe...   \n",
       "1625   Jeff Powell looks ahead to Saturday's fight at the MGM Grand .\\nFloyd Mayweather takes on Manny Pacquiao in $300m showdown .\\nBoth fighters arrived in Las Vegas on Tuesday with public appearances ...   \n",
       "6709   We've enjoyed some of the highest temperatures of the year this week .\\nThe range starts at £31,995 and the Audi can cost as much as £50,000 .\\nNo matter how good, the new Audi TT still has nothin...   \n",
       "5211        Floyd Mayweather holds an open media workout from 12am UK (7pm EDT)\\nThe American takes on Manny Pacquiao in Las Vegas on May 2 .\\nMayweather's training is being streamed live across the world .   \n",
       "\n",
       "       articleWordCount  highlightsWordCount  \\\n",
       "10535               750                   42   \n",
       "2546                750                   86   \n",
       "1647                750                   47   \n",
       "7275                750                   40   \n",
       "583                 750                   35   \n",
       "...                 ...                  ...   \n",
       "8749                 73                   17   \n",
       "9172                 73                   60   \n",
       "1625                 70                   67   \n",
       "6709                 64                  486   \n",
       "5211                 55                   35   \n",
       "\n",
       "                                                                                                                                                                                                  cleaned_text  \\\n",
       "10535  whether sir bradley wiggins geraint thomas ian stannard ireland classics king sean kelly believes time come team sky break duck one cycling monuments two major cobbled classics tour flanders paris...   \n",
       "2546   ohio parents two year old child authorities say beaten starved death indicted aggravated murder charges wednesday hamilton county prosecutor said grand jury also indicted andrea bradley glen bates...   \n",
       "1647   feidin santana man recorded south carolina police officer fatally shooting fleeing unarmed man told cnn thursday night told another cop stop using phone capture incident one officers told stop abu...   \n",
       "7275   nick clegg today revealed struggled maths school prepares launch election manifesto promise balance nation books fairly lib dem leader told group children better languages art school use tomorrow ...   \n",
       "583    rodrigo alves best known new human ken doll reportedly spending plastic surgery set appear new season reality show botched time mentor another patient year old london flight attendant undergone bo...   \n",
       "...                                                                                                                                                                                                        ...   \n",
       "8749   justin timberlake jessica biel welcome parenthood celebrity couple announced arrival son silas randall timberlake statements people silas middle name timberlake maternal grandfather bill bomar die...   \n",
       "9172   twenty four hours floyd mayweather jnr dazzled media skills manny pacquiao takes turn filipino icon put paces iconic wild card gym los angeles evening watchful eye trainer freddie roach mayweather...   \n",
       "1625   sportsmail boxing correspondent jeff powell looks ahead saturday mega fight mgm grand witnessing floyd mayweather manny pacquiao grand arrivals las vegas boxers made public appearances tuesday mil...   \n",
       "6709                mini test audi tt roadster tfsi line quattro price driven evolution new tfsi line quattro fun drive lively acceleration takes rest mph good interior manual version audi soft top seen bad   \n",
       "5211                              build blockbuster fight floyd mayweather manny pacquiao las vegas may steps gear tuesday night american holds open workout media session streamed live across world watch uk   \n",
       "\n",
       "                                                                                                                                                                                               cleaned_summary  \n",
       "10535  team sky have never won one of cycling five monument races the tour of flanders takes place next weekend with ian stannard and geraint thomas contenders fro team sky sean kelly has backed them to ...  \n",
       "2546   andrea bradley and glen bates charged with aggravated murder in the beating death of their two year old daughter glenara glenara was brought to the hospital last month with bruises belt marks and ...  \n",
       "1647   witness who took video of shooting said when he arrived officer was on top of walter scott feidin santana says walter scott did not take michael slager taser santana said he never saw officers per...  \n",
       "7275   clegg tells pupils he was better at languages and art as youngster lib dem manifesto to promise to eradicate the deficit fairly by clegg wife miriam says her priority is making sure their sons are ok  \n",
       "583    rodrigo alves from london has undergone body changing operations including four rhinoplasties liposuction and pec implants the year old flight attendant will appear on the us based reality show bo...  \n",
       "...                                                                                                                                                                                                        ...  \n",
       "8749                                                                                                    timberlake and biel welcome son silas randall timberlake the couple announced the pregnancy in january  \n",
       "9172   manny pacquiao takes on floyd mayweather in las vegas on may pacquiao will hold public workout tonight in his gym in la mayweather held his last night at the mayweather boxing gym the fight will b...  \n",
       "1625   jeff powell looks ahead to saturday fight at the mgm grand floyd mayweather takes on manny pacquiao in showdown both fighters arrived in las vegas on tuesday with public appearances read mayweathe...  \n",
       "6709   we have enjoyed some of the highest temperatures of the year this week the range starts at and the audi can cost as much as no matter how good the new audi tt still has nothing on the model with t...  \n",
       "5211                              floyd mayweather holds an open media workout from am uk the american takes on manny pacquiao in las vegas on may mayweather training is being streamed live across the world  \n",
       "\n",
       "[7434 rows x 7 columns]"
      ]
     },
     "execution_count": 121,
     "metadata": {},
     "output_type": "execute_result"
    }
   ],
   "source": [
    "df_bart = df[df['articleWordCount'] <= 750]\n",
    "df_bart.sort_values('articleWordCount', ascending=False)"
   ]
  },
  {
   "cell_type": "code",
   "execution_count": null,
   "metadata": {},
   "outputs": [
    {
     "name": "stderr",
     "output_type": "stream",
     "text": [
      "Special tokens have been added in the vocabulary, make sure the associated word embeddings are fine-tuned or trained.\n"
     ]
    }
   ],
   "source": [
    "from transformers import pipeline\n",
    "\n",
    "# Create the summarizer pipeline\n",
    "summarizer = pipeline(\"summarization\", model=\"facebook/bart-large-cnn\")\n",
    "\n",
    "# Define a function to summarize an article\n",
    "def summarize_article(article):\n",
    "    summary = summarizer(article, max_length=130, min_length=75, do_sample=False)\n",
    "    return summary[0]['summary_text']\n",
    "\n",
    "# Assuming you have a DataFrame named df with an \"article\" column\n",
    "df_bart['bart_summary'] = df_bart['article'].apply(summarize_article)\n",
    "\n",
    "# Now, the \"bart_summary\" column in your DataFrame will contain the summaries\n",
    "df_bart.head()"
   ]
  },
  {
   "cell_type": "code",
   "execution_count": null,
   "metadata": {},
   "outputs": [],
   "source": []
  }
 ],
 "metadata": {
  "kernelspec": {
   "display_name": "Python 3",
   "language": "python",
   "name": "python3"
  },
  "language_info": {
   "codemirror_mode": {
    "name": "ipython",
    "version": 3
   },
   "file_extension": ".py",
   "mimetype": "text/x-python",
   "name": "python",
   "nbconvert_exporter": "python",
   "pygments_lexer": "ipython3",
   "version": "3.8.5"
  }
 },
 "nbformat": 4,
 "nbformat_minor": 4
}
